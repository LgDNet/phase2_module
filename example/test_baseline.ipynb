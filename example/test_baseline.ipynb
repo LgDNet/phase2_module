{
 "cells": [
  {
   "cell_type": "code",
   "execution_count": 1,
   "id": "ac03d968-9f5b-40af-bcf2-2191b15178a4",
   "metadata": {},
   "outputs": [
    {
     "name": "stdout",
     "output_type": "stream",
     "text": [
      "/Users/kangjiwon/Desktop/LG Aimers\n"
     ]
    },
    {
     "name": "stderr",
     "output_type": "stream",
     "text": [
      "/Library/Frameworks/Python.framework/Versions/3.10/lib/python3.10/site-packages/IPython/core/magics/osm.py:417: UserWarning: using dhist requires you to install the `pickleshare` library.\n",
      "  self.shell.db['dhist'] = compress_dhist(dhist)[-100:]\n"
     ]
    }
   ],
   "source": [
    "cd .."
   ]
  },
  {
   "cell_type": "code",
   "execution_count": 2,
   "id": "db275d8b",
   "metadata": {
    "scrolled": true
   },
   "outputs": [],
   "source": [
    "# %rm -rf phase2_module\n",
    "# !git clone https://github.com/LgDNet/phase2_module.git\n",
    "# !cd phase2_module && make copy"
   ]
  },
  {
   "cell_type": "code",
   "execution_count": 3,
   "id": "d1148052",
   "metadata": {},
   "outputs": [],
   "source": [
    "from phase2_module.src.utils.dataset import Data\n",
    "from phase2_module.src.models.classification.models import Model\n",
    "from phase2_module.src.base import BasePiepline\n",
    "# from phase2_module.src.hyper_parameters.params_optimization import xgboost_opt, set_params_optimization_data\n",
    "from phase2_module.src.utils.set_seed import seed_everything\n",
    "from phase2_module.src.utils.top_score_instance import check_the_score\n",
    "\n",
    "from phase2_module.src.utils.manage_pkl_files import PickleManager as pkl_manager\n",
    "from phase2_module.src import preprocess\n",
    "seed_everything()  # NOTE: default 42\n",
    "_model = Model()"
   ]
  },
  {
   "cell_type": "code",
   "execution_count": 4,
   "id": "7a70301f",
   "metadata": {},
   "outputs": [],
   "source": [
    "import pandas as pd\n",
    "import numpy as np\n",
    "import re, pickle\n",
    "import warnings\n",
    "from tqdm import tqdm\n",
    "warnings.filterwarnings(action='ignore')\n",
    "def set_up(mode= None):\n",
    "    pd.set_option('display.max_columns', mode)\n",
    "set_up()"
   ]
  },
  {
   "cell_type": "code",
   "execution_count": 5,
   "id": "114e0c52-c71a-46c8-a5c7-fb1aca107f9b",
   "metadata": {},
   "outputs": [],
   "source": [
    "from sklearn.feature_selection import RFECV \n",
    "from sklearn.tree import DecisionTreeClassifier "
   ]
  },
  {
   "cell_type": "markdown",
   "id": "cd7808f8",
   "metadata": {},
   "source": [
    "# Preprocessing"
   ]
  },
  {
   "cell_type": "code",
   "execution_count": 6,
   "id": "0b3afe0a-018c-4d7d-8f41-0b33126f977a",
   "metadata": {},
   "outputs": [],
   "source": [
    "basic = preprocess.Basic\n",
    "country = preprocess.Country\n",
    "customer = preprocess.Customer\n",
    "inquiry = preprocess.Inquiry\n",
    "product_category = preprocess.ProductCategory\n",
    "convert_ratio = preprocess.Convert_ratio"
   ]
  },
  {
   "cell_type": "markdown",
   "id": "f710021d",
   "metadata": {},
   "source": [
    "# Main"
   ]
  },
  {
   "cell_type": "code",
   "execution_count": 7,
   "id": "eee4817a",
   "metadata": {
    "scrolled": true
   },
   "outputs": [],
   "source": [
    "pkls = pkl_manager.map(pkl_manager.loads, pkl_manager.metadata_directory)\n",
    "\n",
    "runtime_instance = {\n",
    "    \"Train\": Data.train,\n",
    "    \"Test\": Data.test,\n",
    "    \"Instances\":[\n",
    "        {\"instance\": basic, \"method\": ['drop_duplicated'], \"params\": False},\n",
    "        {\"instance\": country, \"method\": ['apply'], \"params\": pkls.get(\"country\")},\n",
    "        {\"instance\": inquiry, \"method\": [\"apply\"], \"params\": False},\n",
    "        {\"instance\": product_category, \"method\": [\"apply\"], \"params\": {**pkls.get(\"product_category\"), **pkls.get(\"product_subcategory\")}},\n",
    "        {\"instance\": customer, \"method\": [\"apply\"], \"params\": pkls.get(\"customer\")},\n",
    "        {\"instance\": convert_ratio, \"method\": [\"lead_owner\",\"customer_idx\",'lead_owner_customer_idx_means'], \"params\": {**pkls.get(\"lead_owner\"), **pkls.get(\"customer_idx\")}}\n",
    "    ]\n",
    "}"
   ]
  },
  {
   "cell_type": "markdown",
   "id": "da5e2f4f",
   "metadata": {},
   "source": [
    "## preprocessing"
   ]
  },
  {
   "cell_type": "code",
   "execution_count": 14,
   "id": "2050a8a3",
   "metadata": {
    "scrolled": true
   },
   "outputs": [],
   "source": [
    "df_train = preprocess.runner('Train',**runtime_instance)\n",
    "df_test = preprocess.runner('Test',**runtime_instance)"
   ]
  },
  {
   "cell_type": "markdown",
   "id": "0d5afcab",
   "metadata": {},
   "source": [
    "## encoding"
   ]
  },
  {
   "cell_type": "code",
   "execution_count": 15,
   "id": "9bc01b31",
   "metadata": {},
   "outputs": [],
   "source": [
    "from sklearn.preprocessing import LabelEncoder\n",
    "class Encode:\n",
    "    def __init__(self):\n",
    "        pass\n",
    "    def label_encoder(self,df,columns):\n",
    "        if not encoding_zip['label']:\n",
    "            for col in columns: # train\n",
    "                encoder = LabelEncoder()\n",
    "                try:\n",
    "                    df.loc[:,col] = encoder.fit_transform(df[col])\n",
    "                except Exception as e:\n",
    "                    print(e)\n",
    "                    print(col)\n",
    "                # 인코더 저장\n",
    "                encoding_zip['label'].append(encoder)\n",
    "        else: # test\n",
    "            for idx, col in enumerate(columns):\n",
    "                encoder = encoding_zip['label'][idx]\n",
    "                \n",
    "                for label in np.sort(df[col].unique()):\n",
    "                    if label not in encoder.classes_:\n",
    "                        encoder.classes_ = np.append(encoder.classes_,label)\n",
    "                df.loc[:,col] = encoder.transform(df[col])\n",
    "            \n",
    "        return df"
   ]
  },
  {
   "cell_type": "code",
   "execution_count": 16,
   "id": "46038ade",
   "metadata": {},
   "outputs": [],
   "source": [
    "encode = Encode()\n",
    "encoding_zip = {\"label\":[], \"onehot\":[]}"
   ]
  },
  {
   "cell_type": "code",
   "execution_count": 17,
   "id": "6190c81f",
   "metadata": {},
   "outputs": [],
   "source": [
    "exisiting_columns = [\n",
    "                     'business_area','business_subarea','business_unit',\n",
    "                        'enterprise',\n",
    "#                         'response_corporate',\"customer_country\", # country\n",
    "#                         'customer_type','customer_job','customer_position', #customer\n",
    "#                         'inquiry_type','expected_timeline', # inquiry\n",
    "#                         'product_subcategory','product_category','product_modelname' # product_category\n",
    "                       ] \n",
    "preprocess_columns = [\n",
    "                     'country','continent', # country\n",
    "                     'customer_type2','job_function','seniority_level', # customer\n",
    "                     'new_inquiry_type','new_expected_timeline', # inquiry\n",
    "                     'category_1','category_2','category_3' # product_category\n",
    "                     ]"
   ]
  },
  {
   "cell_type": "code",
   "execution_count": 18,
   "id": "93a07f9f",
   "metadata": {},
   "outputs": [],
   "source": [
    "label_encode_columns = exisiting_columns + preprocess_columns"
   ]
  },
  {
   "cell_type": "code",
   "execution_count": 19,
   "id": "93051fc7",
   "metadata": {
    "scrolled": true
   },
   "outputs": [],
   "source": [
    "# 결측치 채우기\n",
    "def fillna(df):\n",
    "    for col in df.columns:\n",
    "        if df[col].isna().sum():\n",
    "            if df[col].dtypes =='O':\n",
    "                df[col].fillna('ETC', inplace = True)\n",
    "            else:\n",
    "                df[col].fillna(0,inplace = True)\n",
    "    return df\n",
    "df_train = fillna(df_train)\n",
    "df_test = fillna(df_test)"
   ]
  },
  {
   "cell_type": "code",
   "execution_count": 20,
   "id": "2db70014",
   "metadata": {},
   "outputs": [],
   "source": [
    "df_trian = encode.label_encoder(df_train,label_encode_columns)\n",
    "df_test = encode.label_encoder(df_test,label_encode_columns)"
   ]
  },
  {
   "cell_type": "code",
   "execution_count": 46,
   "id": "8cad07fd-de84-439a-81a7-684f0fdc42e2",
   "metadata": {},
   "outputs": [],
   "source": [
    "X = df_train.drop([\"is_converted\"],axis = 1)\n",
    "Y = df_train['is_converted']"
   ]
  },
  {
   "cell_type": "code",
   "execution_count": 67,
   "id": "0e32000c-1663-4c0e-bae4-e955a6d8ba9f",
   "metadata": {},
   "outputs": [
    {
     "name": "stdout",
     "output_type": "stream",
     "text": [
      "Optimal number of features: 20\n",
      "Selected features: [ True  True  True  True  True  True False False False  True  True  True\n",
      "  True  True False  True  True  True False  True  True  True  True  True\n",
      " False  True]\n"
     ]
    }
   ],
   "source": [
    "  # Create a decision tree classifier \n",
    "dict_ = {'criterion': 'log_loss', 'max_depth': 11, 'min_samples_split': 7, 'min_samples_leaf': 2, 'random_state': 42}\n",
    "estimator = DecisionTreeClassifier() \n",
    "estimator.set_params(**dict_)\n",
    "  \n",
    "# Use RFE with cross-validation to  \n",
    "# find the optimal number of features \n",
    "selector = RFECV(estimator, step=1, cv=5, min_features_to_select=20)\n",
    "selector = selector.fit(X, Y) \n",
    "  \n",
    "# Print the optimal number of features \n",
    "print(\"Optimal number of features: %d\" % selector.n_features_) \n",
    "  \n",
    "# Print the selected features \n",
    "print(\"Selected features: %s\" % selector.support_) "
   ]
  },
  {
   "cell_type": "code",
   "execution_count": 68,
   "id": "21c6fb63-a78b-4053-942a-30dbba613d41",
   "metadata": {},
   "outputs": [],
   "source": [
    "feature_importances = selector.support_"
   ]
  },
  {
   "cell_type": "code",
   "execution_count": 69,
   "id": "900e611c-366b-45b1-b4ea-b44e0ee6706e",
   "metadata": {},
   "outputs": [],
   "source": [
    "feature_names = X.columns"
   ]
  },
  {
   "cell_type": "code",
   "execution_count": 70,
   "id": "8b9220fc-ca83-499a-a85e-4116b44528bf",
   "metadata": {},
   "outputs": [
    {
     "name": "stdout",
     "output_type": "stream",
     "text": [
      "bant_submit: True\n",
      "business_unit: True\n",
      "com_reg_ver_win_rate: True\n",
      "enterprise: True\n",
      "historical_existing_cnt: True\n",
      "lead_desc_length: True\n",
      "business_area: True\n",
      "business_subarea: True\n",
      "lead_owner: True\n",
      "country: True\n",
      "continent: True\n",
      "new_expected_timeline: True\n",
      "customer_interest: True\n",
      "category_1: True\n",
      "category_3: True\n",
      "customer_type2: True\n",
      "job_function: True\n",
      "seniority_level: True\n",
      "lead_owner_converted_ratio: True\n",
      "customer_idx_group: True\n",
      "ver_cus: False\n",
      "ver_win_rate_x: False\n",
      "ver_win_ratio_per_bu: False\n",
      "new_inquiry_type: False\n",
      "category_2: False\n",
      "lead_owner_customer_idx_mean: False\n"
     ]
    }
   ],
   "source": [
    "feature_importance_dict = dict(zip(feature_names, feature_importances))\n",
    "\n",
    "sorted_importance_dict = {k: v for k, v in sorted(feature_importance_dict.items(), key=lambda item: item[1], reverse=True)}\n",
    "for feature_name, importance in sorted_importance_dict.items():\n",
    "    print(f\"{feature_name}: {importance}\")"
   ]
  },
  {
   "cell_type": "markdown",
   "id": "e08c93b6",
   "metadata": {},
   "source": [
    "# Modeling"
   ]
  },
  {
   "cell_type": "markdown",
   "id": "ec3008eb",
   "metadata": {},
   "source": [
    "## drop column\n",
    "모델링 전이 column을 drop하면서 다루기가 쉽다고 판단하였음"
   ]
  },
  {
   "cell_type": "code",
   "execution_count": 40,
   "id": "fa725c95-6571-4d94-bc97-8c6f12ad2269",
   "metadata": {},
   "outputs": [
    {
     "data": {
      "text/plain": [
       "'/Users/kangjiwon/Desktop/LG Aimers'"
      ]
     },
     "execution_count": 40,
     "metadata": {},
     "output_type": "execute_result"
    }
   ],
   "source": [
    "pwd"
   ]
  },
  {
   "cell_type": "code",
   "execution_count": 44,
   "id": "41efc7fe-fa97-4339-aef7-3f277366684f",
   "metadata": {},
   "outputs": [],
   "source": [
    "df_train = pd.read_csv('phase2_module/data/best_score_train.csv')"
   ]
  },
  {
   "cell_type": "code",
   "execution_count": 45,
   "id": "48a0edcb",
   "metadata": {},
   "outputs": [
    {
     "ename": "KeyError",
     "evalue": "\"['id_strategic_ver', 'it_strategic_ver', 'customer_country.1', 'response_corporate', 'customer_country', 'customer_type', 'customer_job', 'customer_position', 'inquiry_type', 'expected_timeline', 'product_subcategory', 'product_category', 'product_modelname', 'customer_idx', 'customer_idx_converted_ratio', 'idit_strategic_ver', 'ver_pro'] not found in axis\"",
     "output_type": "error",
     "traceback": [
      "\u001b[0;31m---------------------------------------------------------------------------\u001b[0m",
      "\u001b[0;31mKeyError\u001b[0m                                  Traceback (most recent call last)",
      "Cell \u001b[0;32mIn[45], line 17\u001b[0m\n\u001b[1;32m      1\u001b[0m drop_col \u001b[38;5;241m=\u001b[39m [\n\u001b[1;32m      2\u001b[0m             \u001b[38;5;124m'\u001b[39m\u001b[38;5;124mid_strategic_ver\u001b[39m\u001b[38;5;124m'\u001b[39m,\u001b[38;5;124m'\u001b[39m\u001b[38;5;124mit_strategic_ver\u001b[39m\u001b[38;5;124m'\u001b[39m,\n\u001b[1;32m      3\u001b[0m             \u001b[38;5;124m'\u001b[39m\u001b[38;5;124mcustomer_country.1\u001b[39m\u001b[38;5;124m'\u001b[39m,\n\u001b[0;32m   (...)\u001b[0m\n\u001b[1;32m     15\u001b[0m             \u001b[38;5;124m'\u001b[39m\u001b[38;5;124midit_strategic_ver\u001b[39m\u001b[38;5;124m'\u001b[39m,\u001b[38;5;124m'\u001b[39m\u001b[38;5;124mver_pro\u001b[39m\u001b[38;5;124m'\u001b[39m \u001b[38;5;66;03m# test\u001b[39;00m\n\u001b[1;32m     16\u001b[0m             ]\n\u001b[0;32m---> 17\u001b[0m \u001b[43mdf_train\u001b[49m\u001b[38;5;241;43m.\u001b[39;49m\u001b[43mdrop\u001b[49m\u001b[43m(\u001b[49m\u001b[43mdrop_col\u001b[49m\u001b[43m,\u001b[49m\u001b[43maxis\u001b[49m\u001b[43m \u001b[49m\u001b[38;5;241;43m=\u001b[39;49m\u001b[43m \u001b[49m\u001b[38;5;241;43m1\u001b[39;49m\u001b[43m,\u001b[49m\u001b[43m \u001b[49m\u001b[43minplace\u001b[49m\u001b[43m \u001b[49m\u001b[38;5;241;43m=\u001b[39;49m\u001b[43m \u001b[49m\u001b[38;5;28;43;01mTrue\u001b[39;49;00m\u001b[43m)\u001b[49m\n\u001b[1;32m     19\u001b[0m \u001b[38;5;66;03m# df_test.drop(drop_col,axis = 1, inplace = True)\u001b[39;00m\n",
      "File \u001b[0;32m/Library/Frameworks/Python.framework/Versions/3.10/lib/python3.10/site-packages/pandas/core/frame.py:5258\u001b[0m, in \u001b[0;36mDataFrame.drop\u001b[0;34m(self, labels, axis, index, columns, level, inplace, errors)\u001b[0m\n\u001b[1;32m   5110\u001b[0m \u001b[38;5;28;01mdef\u001b[39;00m \u001b[38;5;21mdrop\u001b[39m(\n\u001b[1;32m   5111\u001b[0m     \u001b[38;5;28mself\u001b[39m,\n\u001b[1;32m   5112\u001b[0m     labels: IndexLabel \u001b[38;5;241m=\u001b[39m \u001b[38;5;28;01mNone\u001b[39;00m,\n\u001b[0;32m   (...)\u001b[0m\n\u001b[1;32m   5119\u001b[0m     errors: IgnoreRaise \u001b[38;5;241m=\u001b[39m \u001b[38;5;124m\"\u001b[39m\u001b[38;5;124mraise\u001b[39m\u001b[38;5;124m\"\u001b[39m,\n\u001b[1;32m   5120\u001b[0m ) \u001b[38;5;241m-\u001b[39m\u001b[38;5;241m>\u001b[39m DataFrame \u001b[38;5;241m|\u001b[39m \u001b[38;5;28;01mNone\u001b[39;00m:\n\u001b[1;32m   5121\u001b[0m \u001b[38;5;250m    \u001b[39m\u001b[38;5;124;03m\"\"\"\u001b[39;00m\n\u001b[1;32m   5122\u001b[0m \u001b[38;5;124;03m    Drop specified labels from rows or columns.\u001b[39;00m\n\u001b[1;32m   5123\u001b[0m \n\u001b[0;32m   (...)\u001b[0m\n\u001b[1;32m   5256\u001b[0m \u001b[38;5;124;03m            weight  1.0     0.8\u001b[39;00m\n\u001b[1;32m   5257\u001b[0m \u001b[38;5;124;03m    \"\"\"\u001b[39;00m\n\u001b[0;32m-> 5258\u001b[0m     \u001b[38;5;28;01mreturn\u001b[39;00m \u001b[38;5;28;43msuper\u001b[39;49m\u001b[43m(\u001b[49m\u001b[43m)\u001b[49m\u001b[38;5;241;43m.\u001b[39;49m\u001b[43mdrop\u001b[49m\u001b[43m(\u001b[49m\n\u001b[1;32m   5259\u001b[0m \u001b[43m        \u001b[49m\u001b[43mlabels\u001b[49m\u001b[38;5;241;43m=\u001b[39;49m\u001b[43mlabels\u001b[49m\u001b[43m,\u001b[49m\n\u001b[1;32m   5260\u001b[0m \u001b[43m        \u001b[49m\u001b[43maxis\u001b[49m\u001b[38;5;241;43m=\u001b[39;49m\u001b[43maxis\u001b[49m\u001b[43m,\u001b[49m\n\u001b[1;32m   5261\u001b[0m \u001b[43m        \u001b[49m\u001b[43mindex\u001b[49m\u001b[38;5;241;43m=\u001b[39;49m\u001b[43mindex\u001b[49m\u001b[43m,\u001b[49m\n\u001b[1;32m   5262\u001b[0m \u001b[43m        \u001b[49m\u001b[43mcolumns\u001b[49m\u001b[38;5;241;43m=\u001b[39;49m\u001b[43mcolumns\u001b[49m\u001b[43m,\u001b[49m\n\u001b[1;32m   5263\u001b[0m \u001b[43m        \u001b[49m\u001b[43mlevel\u001b[49m\u001b[38;5;241;43m=\u001b[39;49m\u001b[43mlevel\u001b[49m\u001b[43m,\u001b[49m\n\u001b[1;32m   5264\u001b[0m \u001b[43m        \u001b[49m\u001b[43minplace\u001b[49m\u001b[38;5;241;43m=\u001b[39;49m\u001b[43minplace\u001b[49m\u001b[43m,\u001b[49m\n\u001b[1;32m   5265\u001b[0m \u001b[43m        \u001b[49m\u001b[43merrors\u001b[49m\u001b[38;5;241;43m=\u001b[39;49m\u001b[43merrors\u001b[49m\u001b[43m,\u001b[49m\n\u001b[1;32m   5266\u001b[0m \u001b[43m    \u001b[49m\u001b[43m)\u001b[49m\n",
      "File \u001b[0;32m/Library/Frameworks/Python.framework/Versions/3.10/lib/python3.10/site-packages/pandas/core/generic.py:4549\u001b[0m, in \u001b[0;36mNDFrame.drop\u001b[0;34m(self, labels, axis, index, columns, level, inplace, errors)\u001b[0m\n\u001b[1;32m   4547\u001b[0m \u001b[38;5;28;01mfor\u001b[39;00m axis, labels \u001b[38;5;129;01min\u001b[39;00m axes\u001b[38;5;241m.\u001b[39mitems():\n\u001b[1;32m   4548\u001b[0m     \u001b[38;5;28;01mif\u001b[39;00m labels \u001b[38;5;129;01mis\u001b[39;00m \u001b[38;5;129;01mnot\u001b[39;00m \u001b[38;5;28;01mNone\u001b[39;00m:\n\u001b[0;32m-> 4549\u001b[0m         obj \u001b[38;5;241m=\u001b[39m \u001b[43mobj\u001b[49m\u001b[38;5;241;43m.\u001b[39;49m\u001b[43m_drop_axis\u001b[49m\u001b[43m(\u001b[49m\u001b[43mlabels\u001b[49m\u001b[43m,\u001b[49m\u001b[43m \u001b[49m\u001b[43maxis\u001b[49m\u001b[43m,\u001b[49m\u001b[43m \u001b[49m\u001b[43mlevel\u001b[49m\u001b[38;5;241;43m=\u001b[39;49m\u001b[43mlevel\u001b[49m\u001b[43m,\u001b[49m\u001b[43m \u001b[49m\u001b[43merrors\u001b[49m\u001b[38;5;241;43m=\u001b[39;49m\u001b[43merrors\u001b[49m\u001b[43m)\u001b[49m\n\u001b[1;32m   4551\u001b[0m \u001b[38;5;28;01mif\u001b[39;00m inplace:\n\u001b[1;32m   4552\u001b[0m     \u001b[38;5;28mself\u001b[39m\u001b[38;5;241m.\u001b[39m_update_inplace(obj)\n",
      "File \u001b[0;32m/Library/Frameworks/Python.framework/Versions/3.10/lib/python3.10/site-packages/pandas/core/generic.py:4591\u001b[0m, in \u001b[0;36mNDFrame._drop_axis\u001b[0;34m(self, labels, axis, level, errors, only_slice)\u001b[0m\n\u001b[1;32m   4589\u001b[0m         new_axis \u001b[38;5;241m=\u001b[39m axis\u001b[38;5;241m.\u001b[39mdrop(labels, level\u001b[38;5;241m=\u001b[39mlevel, errors\u001b[38;5;241m=\u001b[39merrors)\n\u001b[1;32m   4590\u001b[0m     \u001b[38;5;28;01melse\u001b[39;00m:\n\u001b[0;32m-> 4591\u001b[0m         new_axis \u001b[38;5;241m=\u001b[39m \u001b[43maxis\u001b[49m\u001b[38;5;241;43m.\u001b[39;49m\u001b[43mdrop\u001b[49m\u001b[43m(\u001b[49m\u001b[43mlabels\u001b[49m\u001b[43m,\u001b[49m\u001b[43m \u001b[49m\u001b[43merrors\u001b[49m\u001b[38;5;241;43m=\u001b[39;49m\u001b[43merrors\u001b[49m\u001b[43m)\u001b[49m\n\u001b[1;32m   4592\u001b[0m     indexer \u001b[38;5;241m=\u001b[39m axis\u001b[38;5;241m.\u001b[39mget_indexer(new_axis)\n\u001b[1;32m   4594\u001b[0m \u001b[38;5;66;03m# Case for non-unique axis\u001b[39;00m\n\u001b[1;32m   4595\u001b[0m \u001b[38;5;28;01melse\u001b[39;00m:\n",
      "File \u001b[0;32m/Library/Frameworks/Python.framework/Versions/3.10/lib/python3.10/site-packages/pandas/core/indexes/base.py:6699\u001b[0m, in \u001b[0;36mIndex.drop\u001b[0;34m(self, labels, errors)\u001b[0m\n\u001b[1;32m   6697\u001b[0m \u001b[38;5;28;01mif\u001b[39;00m mask\u001b[38;5;241m.\u001b[39many():\n\u001b[1;32m   6698\u001b[0m     \u001b[38;5;28;01mif\u001b[39;00m errors \u001b[38;5;241m!=\u001b[39m \u001b[38;5;124m\"\u001b[39m\u001b[38;5;124mignore\u001b[39m\u001b[38;5;124m\"\u001b[39m:\n\u001b[0;32m-> 6699\u001b[0m         \u001b[38;5;28;01mraise\u001b[39;00m \u001b[38;5;167;01mKeyError\u001b[39;00m(\u001b[38;5;124mf\u001b[39m\u001b[38;5;124m\"\u001b[39m\u001b[38;5;132;01m{\u001b[39;00m\u001b[38;5;28mlist\u001b[39m(labels[mask])\u001b[38;5;132;01m}\u001b[39;00m\u001b[38;5;124m not found in axis\u001b[39m\u001b[38;5;124m\"\u001b[39m)\n\u001b[1;32m   6700\u001b[0m     indexer \u001b[38;5;241m=\u001b[39m indexer[\u001b[38;5;241m~\u001b[39mmask]\n\u001b[1;32m   6701\u001b[0m \u001b[38;5;28;01mreturn\u001b[39;00m \u001b[38;5;28mself\u001b[39m\u001b[38;5;241m.\u001b[39mdelete(indexer)\n",
      "\u001b[0;31mKeyError\u001b[0m: \"['id_strategic_ver', 'it_strategic_ver', 'customer_country.1', 'response_corporate', 'customer_country', 'customer_type', 'customer_job', 'customer_position', 'inquiry_type', 'expected_timeline', 'product_subcategory', 'product_category', 'product_modelname', 'customer_idx', 'customer_idx_converted_ratio', 'idit_strategic_ver', 'ver_pro'] not found in axis\""
     ]
    }
   ],
   "source": [
    "drop_col = [\n",
    "            'id_strategic_ver','it_strategic_ver',\n",
    "            'customer_country.1',\n",
    "    \n",
    "            'response_corporate',\"customer_country\", # country\n",
    "            'customer_type','customer_job','customer_position', # customer\n",
    "            'inquiry_type', 'expected_timeline', #inquiry\n",
    "            'product_subcategory','product_category','product_modelname', # product_category\n",
    "#             'cate_is_nan', # product_category\n",
    "    \n",
    "#             'com_reg_ver_win_rate','idit_strategic_ver','ver_cus',\n",
    "#             'ver_pro','ver_win_rate_x','ver_win_ratio_per_bu',\n",
    "            'customer_idx',\n",
    "            'customer_idx_converted_ratio', # ratio\n",
    "            'idit_strategic_ver','ver_pro' # test\n",
    "            ]\n",
    "df_train.drop(drop_col,axis = 1, inplace = True)\n",
    "\n",
    "# df_test.drop(drop_col,axis = 1, inplace = True)"
   ]
  },
  {
   "cell_type": "markdown",
   "id": "7c21bdbc",
   "metadata": {},
   "source": [
    "## Scaler"
   ]
  },
  {
   "cell_type": "code",
   "execution_count": 290,
   "id": "40c5a6d7",
   "metadata": {},
   "outputs": [],
   "source": [
    "from sklearn.preprocessing import StandardScaler\n",
    "scaler = StandardScaler()\n",
    "df_train[['lead_owner_converted_ratio','lead_owner_customer_idx_mean']] = scaler.fit_transform(df_train[['lead_owner_converted_ratio','lead_owner_customer_idx_mean']])\n",
    "df_test[['lead_owner_converted_ratio','lead_owner_customer_idx_mean']] = scaler.transform(df_test[['lead_owner_converted_ratio','lead_owner_customer_idx_mean']])\n",
    "# df_test['lead_desc_length'] = scale.transform(df_test['lead_desc_length'].values.reshape(-1, 1))"
   ]
  },
  {
   "cell_type": "markdown",
   "id": "9bb16055",
   "metadata": {},
   "source": [
    "## train"
   ]
  },
  {
   "cell_type": "code",
   "execution_count": 335,
   "id": "4eccb5b0",
   "metadata": {},
   "outputs": [],
   "source": [
    "model = _model.decision_tree"
   ]
  },
  {
   "cell_type": "code",
   "execution_count": 336,
   "id": "f4693bc1",
   "metadata": {},
   "outputs": [],
   "source": [
    "from sklearn.ensemble import RandomForestClassifier"
   ]
  },
  {
   "cell_type": "code",
   "execution_count": 337,
   "id": "ab24c7c0",
   "metadata": {},
   "outputs": [
    {
     "data": {
      "text/html": [
       "<style>#sk-container-id-13 {color: black;background-color: white;}#sk-container-id-13 pre{padding: 0;}#sk-container-id-13 div.sk-toggleable {background-color: white;}#sk-container-id-13 label.sk-toggleable__label {cursor: pointer;display: block;width: 100%;margin-bottom: 0;padding: 0.3em;box-sizing: border-box;text-align: center;}#sk-container-id-13 label.sk-toggleable__label-arrow:before {content: \"▸\";float: left;margin-right: 0.25em;color: #696969;}#sk-container-id-13 label.sk-toggleable__label-arrow:hover:before {color: black;}#sk-container-id-13 div.sk-estimator:hover label.sk-toggleable__label-arrow:before {color: black;}#sk-container-id-13 div.sk-toggleable__content {max-height: 0;max-width: 0;overflow: hidden;text-align: left;background-color: #f0f8ff;}#sk-container-id-13 div.sk-toggleable__content pre {margin: 0.2em;color: black;border-radius: 0.25em;background-color: #f0f8ff;}#sk-container-id-13 input.sk-toggleable__control:checked~div.sk-toggleable__content {max-height: 200px;max-width: 100%;overflow: auto;}#sk-container-id-13 input.sk-toggleable__control:checked~label.sk-toggleable__label-arrow:before {content: \"▾\";}#sk-container-id-13 div.sk-estimator input.sk-toggleable__control:checked~label.sk-toggleable__label {background-color: #d4ebff;}#sk-container-id-13 div.sk-label input.sk-toggleable__control:checked~label.sk-toggleable__label {background-color: #d4ebff;}#sk-container-id-13 input.sk-hidden--visually {border: 0;clip: rect(1px 1px 1px 1px);clip: rect(1px, 1px, 1px, 1px);height: 1px;margin: -1px;overflow: hidden;padding: 0;position: absolute;width: 1px;}#sk-container-id-13 div.sk-estimator {font-family: monospace;background-color: #f0f8ff;border: 1px dotted black;border-radius: 0.25em;box-sizing: border-box;margin-bottom: 0.5em;}#sk-container-id-13 div.sk-estimator:hover {background-color: #d4ebff;}#sk-container-id-13 div.sk-parallel-item::after {content: \"\";width: 100%;border-bottom: 1px solid gray;flex-grow: 1;}#sk-container-id-13 div.sk-label:hover label.sk-toggleable__label {background-color: #d4ebff;}#sk-container-id-13 div.sk-serial::before {content: \"\";position: absolute;border-left: 1px solid gray;box-sizing: border-box;top: 0;bottom: 0;left: 50%;z-index: 0;}#sk-container-id-13 div.sk-serial {display: flex;flex-direction: column;align-items: center;background-color: white;padding-right: 0.2em;padding-left: 0.2em;position: relative;}#sk-container-id-13 div.sk-item {position: relative;z-index: 1;}#sk-container-id-13 div.sk-parallel {display: flex;align-items: stretch;justify-content: center;background-color: white;position: relative;}#sk-container-id-13 div.sk-item::before, #sk-container-id-13 div.sk-parallel-item::before {content: \"\";position: absolute;border-left: 1px solid gray;box-sizing: border-box;top: 0;bottom: 0;left: 50%;z-index: -1;}#sk-container-id-13 div.sk-parallel-item {display: flex;flex-direction: column;z-index: 1;position: relative;background-color: white;}#sk-container-id-13 div.sk-parallel-item:first-child::after {align-self: flex-end;width: 50%;}#sk-container-id-13 div.sk-parallel-item:last-child::after {align-self: flex-start;width: 50%;}#sk-container-id-13 div.sk-parallel-item:only-child::after {width: 0;}#sk-container-id-13 div.sk-dashed-wrapped {border: 1px dashed gray;margin: 0 0.4em 0.5em 0.4em;box-sizing: border-box;padding-bottom: 0.4em;background-color: white;}#sk-container-id-13 div.sk-label label {font-family: monospace;font-weight: bold;display: inline-block;line-height: 1.2em;}#sk-container-id-13 div.sk-label-container {text-align: center;}#sk-container-id-13 div.sk-container {/* jupyter's `normalize.less` sets `[hidden] { display: none; }` but bootstrap.min.css set `[hidden] { display: none !important; }` so we also need the `!important` here to be able to override the default hidden behavior on the sphinx rendered scikit-learn.org. See: https://github.com/scikit-learn/scikit-learn/issues/21755 */display: inline-block !important;position: relative;}#sk-container-id-13 div.sk-text-repr-fallback {display: none;}</style><div id=\"sk-container-id-13\" class=\"sk-top-container\"><div class=\"sk-text-repr-fallback\"><pre>DecisionTreeClassifier(random_state=42)</pre><b>In a Jupyter environment, please rerun this cell to show the HTML representation or trust the notebook. <br />On GitHub, the HTML representation is unable to render, please try loading this page with nbviewer.org.</b></div><div class=\"sk-container\" hidden><div class=\"sk-item\"><div class=\"sk-estimator sk-toggleable\"><input class=\"sk-toggleable__control sk-hidden--visually\" id=\"sk-estimator-id-13\" type=\"checkbox\" checked><label for=\"sk-estimator-id-13\" class=\"sk-toggleable__label sk-toggleable__label-arrow\">DecisionTreeClassifier</label><div class=\"sk-toggleable__content\"><pre>DecisionTreeClassifier(random_state=42)</pre></div></div></div></div></div>"
      ],
      "text/plain": [
       "DecisionTreeClassifier(random_state=42)"
      ]
     },
     "execution_count": 337,
     "metadata": {},
     "output_type": "execute_result"
    }
   ],
   "source": [
    "model.set_params(random_state=42)#, min_samples_leaf=5, max_depth = 10)"
   ]
  },
  {
   "cell_type": "code",
   "execution_count": 338,
   "id": "c14a6274",
   "metadata": {},
   "outputs": [],
   "source": [
    "X = df_train.drop([\"is_converted\"],axis = 1)\n",
    "Y = df_train['is_converted']"
   ]
  },
  {
   "cell_type": "code",
   "execution_count": 339,
   "id": "32fae0f3",
   "metadata": {},
   "outputs": [
    {
     "name": "stderr",
     "output_type": "stream",
     "text": [
      "5it [00:01,  2.91it/s]"
     ]
    },
    {
     "name": "stdout",
     "output_type": "stream",
     "text": [
      "----[K-Fold Train Score]-----\n",
      "f1 score : 0.9843 / STD: (+/- 0.0003)\n",
      "precision score : 0.9736 / STD: (+/- 0.0019)\n",
      "recall score : 0.9951 / STD: (+/- 0.0014)\n",
      "roc_auc_score score : 0.9964 / STD: (+/- 0.0006)\n",
      "----[K-Fold Validation Score]-----\n",
      "f1 score : 0.6417 / STD: (+/- 0.0101)\n",
      "precision score : 0.6377 / STD: (+/- 0.0153)\n",
      "recall score : 0.6462 / STD: (+/- 0.0136)\n",
      "roc_auc_score score : 0.8068 / STD: (+/- 0.0069)\n"
     ]
    },
    {
     "name": "stderr",
     "output_type": "stream",
     "text": [
      "\n"
     ]
    }
   ],
   "source": [
    "from sklearn.metrics import roc_auc_score, confusion_matrix, auc\n",
    "from sklearn.model_selection import StratifiedKFold\n",
    "stratkfold = StratifiedKFold(n_splits=5, shuffle=True, random_state=42)\n",
    "result = {\"f1\":[], \"precision\":[], \"recall\":[],'roc_auc_score':[]}\n",
    "train_result = {\"f1\":[], \"precision\":[], \"recall\":[],'roc_auc_score':[]}\n",
    "\n",
    "# k-fold\n",
    "for train_idx, test_idx in tqdm(stratkfold.split(X,Y)):\n",
    "    x_train, x_test = X.iloc[train_idx], X.iloc[test_idx]\n",
    "    y_train, y_test = Y[train_idx], Y[test_idx]\n",
    "\n",
    "    # 모델 훈련\n",
    "    model.fit(x_train, y_train)\n",
    "    \n",
    "    train_pred = model.predict(x_train)\n",
    "    predict = model.predict(x_test)\n",
    "    \n",
    "    score_result = check_the_score(train_pred, y_train)\n",
    "    for name, score in score_result.items():\n",
    "        train_result[name].append(score)\n",
    "        \n",
    "    score_result = check_the_score(predict, y_test)\n",
    "    \n",
    "#     for i,j in zip(predict, y_test):\n",
    "        \n",
    "    for name, score in score_result.items():\n",
    "        result[name].append(score)\n",
    "        \n",
    "print('----[K-Fold Train Score]-----')\n",
    "for name, score_list in train_result.items():\n",
    "    print(f'{name} score : {np.mean(score_list):.4f} / STD: (+/- {np.std(score_list):.4f})')\n",
    "    \n",
    "print('----[K-Fold Validation Score]-----')\n",
    "for name, score_list in result.items():\n",
    "    print(f'{name} score : {np.mean(score_list):.4f} / STD: (+/- {np.std(score_list):.4f})')"
   ]
  },
  {
   "cell_type": "code",
   "execution_count": 317,
   "id": "14881c5b",
   "metadata": {
    "scrolled": true
   },
   "outputs": [
    {
     "name": "stdout",
     "output_type": "stream",
     "text": [
      "lead_owner_converted_ratio: 0.3766756623601492\n",
      "customer_idx: 0.3752871553806524\n",
      "lead_desc_length: 0.03913853320652947\n",
      "customer_type2: 0.025983912440296412\n",
      "lead_owner: 0.025193189381263564\n",
      "job_function: 0.018949077375517608\n",
      "business_subarea: 0.018780395458546907\n",
      "seniority_level: 0.013583074041902538\n",
      "category_3: 0.012487755802031283\n",
      "country: 0.011026955910926567\n",
      "historical_existing_cnt: 0.01065736904861266\n",
      "bant_submit: 0.00906398477750914\n",
      "com_reg_ver_win_rate: 0.008199327244543753\n",
      "new_expected_timeline: 0.008167698380358052\n",
      "continent: 0.007067369888900143\n",
      "lead_owner_customer_idx_mean: 0.006928559044672509\n",
      "category_2: 0.006562150335444641\n",
      "enterprise: 0.0059110422724759845\n",
      "ver_win_rate_x: 0.003772253623530848\n",
      "business_area: 0.003318642346996751\n",
      "business_unit: 0.002943025921724158\n",
      "customer_interest: 0.0025773413458897764\n",
      "ver_cus: 0.002121992204650687\n",
      "ver_win_ratio_per_bu: 0.0016928120855966358\n",
      "new_inquiry_type: 0.0014531013965146322\n",
      "category_1: 0.0012723506227941043\n",
      "idit_strategic_ver: 0.0010243525633691064\n",
      "ver_pro: 0.00016091553860056988\n"
     ]
    }
   ],
   "source": [
    "feature_importances = model.feature_importances_\n",
    "feature_names = x_train.columns\n",
    "feature_importance_dict = dict(zip(feature_names, feature_importances))\n",
    "sorted_importance_dict = {k: v for k, v in sorted(feature_importance_dict.items(), key=lambda item: item[1], reverse=True)}\n",
    "for feature_name, importance in sorted_importance_dict.items():\n",
    "    print(f\"{feature_name}: {importance}\")"
   ]
  },
  {
   "cell_type": "markdown",
   "id": "3b0d2a17",
   "metadata": {},
   "source": [
    "## test & submission"
   ]
  },
  {
   "cell_type": "code",
   "execution_count": 340,
   "id": "93d7019c",
   "metadata": {},
   "outputs": [],
   "source": [
    "test_drop = df_test.drop(['id','is_converted'],axis = 1)"
   ]
  },
  {
   "cell_type": "code",
   "execution_count": 341,
   "id": "05379c6c",
   "metadata": {},
   "outputs": [],
   "source": [
    "pred = model.predict(test_drop)\n",
    "pred = np.where(pred == 0, False, True)"
   ]
  },
  {
   "cell_type": "code",
   "execution_count": 342,
   "id": "b675b263",
   "metadata": {
    "scrolled": true
   },
   "outputs": [
    {
     "data": {
      "text/plain": [
       "881"
      ]
     },
     "execution_count": 342,
     "metadata": {},
     "output_type": "execute_result"
    }
   ],
   "source": [
    "sum(pred)"
   ]
  },
  {
   "cell_type": "code",
   "execution_count": 344,
   "id": "aaefaa96",
   "metadata": {},
   "outputs": [
    {
     "data": {
      "text/plain": [
       "635"
      ]
     },
     "execution_count": 344,
     "metadata": {},
     "output_type": "execute_result"
    }
   ],
   "source": [
    "su = 0\n",
    "for i,j in zip(pred1,pred2):\n",
    "    if i != j:\n",
    "        su +=1\n",
    "su"
   ]
  },
  {
   "cell_type": "code",
   "execution_count": null,
   "id": "ac40b2d4",
   "metadata": {},
   "outputs": [],
   "source": [
    "# customer_idx 유무 차이\n",
    "- > 635"
   ]
  },
  {
   "cell_type": "code",
   "execution_count": 148,
   "id": "c8b3c4ab",
   "metadata": {},
   "outputs": [],
   "source": [
    "df_test['is_converted'] = pred\n",
    "df_test.to_csv(\"submission.csv\",index = False)"
   ]
  },
  {
   "cell_type": "code",
   "execution_count": 108,
   "id": "5600a6df",
   "metadata": {},
   "outputs": [],
   "source": [
    "# df_train.to_csv(\"preprocessing_derivation_train.csv\",index = False)"
   ]
  },
  {
   "cell_type": "code",
   "execution_count": 109,
   "id": "1e286df7",
   "metadata": {},
   "outputs": [],
   "source": [
    "# df_test.to_csv(\"preprocessing_derivation_test.csv\",index = False)"
   ]
  },
  {
   "cell_type": "code",
   "execution_count": null,
   "id": "c18ed9c8",
   "metadata": {},
   "outputs": [],
   "source": []
  }
 ],
 "metadata": {
  "kernelspec": {
   "display_name": "Python 3 (ipykernel)",
   "language": "python",
   "name": "python3"
  },
  "language_info": {
   "codemirror_mode": {
    "name": "ipython",
    "version": 3
   },
   "file_extension": ".py",
   "mimetype": "text/x-python",
   "name": "python",
   "nbconvert_exporter": "python",
   "pygments_lexer": "ipython3",
   "version": "3.10.4"
  }
 },
 "nbformat": 4,
 "nbformat_minor": 5
}

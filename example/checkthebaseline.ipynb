{
 "cells": [
  {
   "cell_type": "code",
   "execution_count": 8,
   "metadata": {},
   "outputs": [
    {
     "name": "stdout",
     "output_type": "stream",
     "text": [
      "/Users/kangjiwon/Desktop/LG Aimers\n"
     ]
    }
   ],
   "source": [
    "cd .."
   ]
  },
  {
   "cell_type": "code",
   "execution_count": 9,
   "metadata": {},
   "outputs": [
    {
     "name": "stderr",
     "output_type": "stream",
     "text": [
      "5it [00:26,  5.22s/it]"
     ]
    },
    {
     "name": "stdout",
     "output_type": "stream",
     "text": [
      "----[K-Fold Train Score]-----\n",
      "f1 score : 0.9982 / STD: (+/- 0.0001)\n",
      "precision score : 0.9968 / STD: (+/- 0.0002)\n",
      "recall score : 0.9996 / STD: (+/- 0.0003)\n",
      "----[K-Fold Validation Score]-----\n",
      "f1 score : 0.7790 / STD: (+/- 0.0100)\n",
      "precision score : 0.7858 / STD: (+/- 0.0101)\n",
      "recall score : 0.7725 / STD: (+/- 0.0127)\n"
     ]
    },
    {
     "name": "stderr",
     "output_type": "stream",
     "text": [
      "\n"
     ]
    }
   ],
   "source": [
    "import pandas as pd\n",
    "import numpy as np\n",
    "import xgboost as xgb\n",
    "from xgboost.sklearn import XGBClassifier\n",
    "from sklearn.metrics import (\n",
    "    accuracy_score,\n",
    "    confusion_matrix,\n",
    "    f1_score,\n",
    "    precision_score,\n",
    "    recall_score,\n",
    ")\n",
    "from sklearn.model_selection import train_test_split\n",
    "from sklearn.tree import DecisionTreeClassifier\n",
    "from sklearn.model_selection import StratifiedKFold\n",
    "from phase2_module.src.utils.top_score_instance import check_the_score\n",
    "from tqdm import tqdm\n",
    "\n",
    "# 레이블 인코딩할 칼럼들\n",
    "df_train_data = pd.read_csv(\"phase2_module/data/train.csv\") # 학습용 데이터\n",
    "df_test_data = pd.read_csv(\"phase2_module/data/submission.csv\") # 테스트 데이터(제출파일의 데이터\n",
    "\n",
    "drop_columns =['customer_country.1']\n",
    "df_train_data = df_train_data.drop(columns=drop_columns)\n",
    "df_test_data=df_test_data.drop(columns=drop_columns)\n",
    "\n",
    "def label_encoding(series: pd.Series) -> pd.Series:\n",
    "    \"\"\"범주형 데이터를 시리즈 형태로 받아 숫자형 데이터로 변환합니다.\"\"\"\n",
    "    my_dict = {}\n",
    "    # 모든 요소를 문자열로 변환\n",
    "    series = series.astype(str)\n",
    "    for idx, value in enumerate(sorted(series.unique())):\n",
    "        my_dict[value] = idx\n",
    "    series = series.map(my_dict)\n",
    "\n",
    "    return series\n",
    "\n",
    "label_columns = [\n",
    "    \"customer_country\",\n",
    "    \"business_subarea\",\n",
    "    \"business_area\",\n",
    "    \"business_unit\",\n",
    "    \"customer_type\",\n",
    "    \"enterprise\",\n",
    "    \"customer_job\",\n",
    "    \"inquiry_type\",\n",
    "    \"product_category\",\n",
    "    \"product_subcategory\",\n",
    "    \"product_modelname\",\n",
    "    \"customer_position\",\n",
    "    \"response_corporate\",\n",
    "    \"expected_timeline\",\n",
    "]\n",
    "\n",
    "df_all = pd.concat([df_train_data[label_columns], df_test_data[label_columns]])\n",
    "\n",
    "for col in label_columns:\n",
    "    df_all[col] = label_encoding(df_all[col])\n",
    "for col in label_columns:  \n",
    "    df_train_data[col] = df_all.iloc[: len(df_train_data)][col]\n",
    "    df_test_data[col] = df_all.iloc[len(df_train_data) :][col]\n",
    "    \n",
    "stratkfold = StratifiedKFold(n_splits=5, shuffle=True, random_state=42)\n",
    "result = {\"f1\":[], \"precision\":[], \"recall\":[]}\n",
    "train_result = {\"f1\":[], \"precision\":[], \"recall\":[]}\n",
    "X = df_train_data.fillna(0).drop([\"is_converted\"],axis = 1)\n",
    "Y = df_train_data['is_converted']\n",
    "\n",
    "model = DecisionTreeClassifier(random_state=42)\n",
    "\n",
    "# k-fold\n",
    "for train_idx, test_idx in tqdm(stratkfold.split(X,Y)):\n",
    "    x_train, x_test = X.iloc[train_idx], X.iloc[test_idx]\n",
    "    y_train, y_test = Y[train_idx], Y[test_idx]\n",
    "    # 모델 훈련\n",
    "    model.fit(x_train, y_train)\n",
    "    \n",
    "    train_pred = model.predict(x_train)\n",
    "    predict = model.predict(x_test)\n",
    "    \n",
    "    score_result = check_the_score(train_pred, y_train)\n",
    "    for name, score in score_result.items():\n",
    "        train_result[name].append(score)\n",
    "        \n",
    "    score_result = check_the_score(predict, y_test)\n",
    "    for name, score in score_result.items():\n",
    "        result[name].append(score)\n",
    "        \n",
    "print('----[K-Fold Train Score]-----')\n",
    "for name, score_list in train_result.items():\n",
    "    print(f'{name} score : {np.mean(score_list):.4f} / STD: (+/- {np.std(score_list):.4f})')\n",
    "    \n",
    "print('----[K-Fold Validation Score]-----')\n",
    "for name, score_list in result.items():\n",
    "    print(f'{name} score : {np.mean(score_list):.4f} / STD: (+/- {np.std(score_list):.4f})')"
   ]
  },
  {
   "cell_type": "code",
   "execution_count": 10,
   "metadata": {},
   "outputs": [
    {
     "name": "stdout",
     "output_type": "stream",
     "text": [
      "customer_idx: 0.5284349080982401\n",
      "lead_owner: 0.11676529865031672\n",
      "lead_desc_length: 0.04782433640436715\n",
      "customer_type: 0.04295820353600521\n",
      "customer_country: 0.03891264580650572\n",
      "com_reg_ver_win_rate: 0.03655791155500188\n",
      "product_category: 0.022758172346068646\n",
      "response_corporate: 0.020160156828262613\n",
      "bant_submit: 0.018394058562625284\n",
      "customer_job: 0.01812934296392605\n",
      "customer_position: 0.015276883292120326\n",
      "business_subarea: 0.013214868625233665\n",
      "historical_existing_cnt: 0.012114080646206244\n",
      "product_modelname: 0.00977153827076376\n",
      "product_subcategory: 0.008799407107261221\n",
      "inquiry_type: 0.00864669847195783\n",
      "enterprise: 0.0075829013822340564\n",
      "business_unit: 0.006206096394642415\n",
      "ver_win_rate_x: 0.00555303710758885\n",
      "expected_timeline: 0.0050151021855335915\n",
      "ver_win_ratio_per_bu: 0.004892115944352633\n",
      "business_area: 0.004771741819409024\n",
      "id_strategic_ver: 0.00365716281460252\n",
      "ver_pro: 0.00205120172963358\n",
      "ver_cus: 0.0011300514420388313\n",
      "it_strategic_ver: 0.00021103900755106914\n",
      "idit_strategic_ver: 0.00021103900755106914\n"
     ]
    }
   ],
   "source": [
    "feature_importances = model.feature_importances_\n",
    "\n",
    "# Get feature names\n",
    "feature_names = x_train.columns\n",
    "\n",
    "# Create a dictionary to map feature names to their importance scores\n",
    "feature_importance_dict = dict(zip(feature_names, feature_importances))\n",
    "\n",
    "sorted_importance_dict = {k: v for k, v in sorted(feature_importance_dict.items(), key=lambda item: item[1], reverse=True)}\n",
    "\n",
    "# Print feature names along with their importance scores after sorting\n",
    "for feature_name, importance in sorted_importance_dict.items():\n",
    "    print(f\"{feature_name}: {importance}\")"
   ]
  },
  {
   "cell_type": "markdown",
   "metadata": {},
   "source": [
    "## 점수 확인\n",
    "* customer_country.1만 제거\n",
    "* 중복 제거 안함."
   ]
  },
  {
   "cell_type": "code",
   "execution_count": 11,
   "metadata": {},
   "outputs": [
    {
     "data": {
      "text/plain": [
       "0.4222704266088214"
      ]
     },
     "execution_count": 11,
     "metadata": {},
     "output_type": "execute_result"
    }
   ],
   "source": [
    "s = df_test_data.drop(['id','is_converted'],axis = 1)\n",
    "pred = model.predict(s.fillna(0))\n",
    "df_test_data['is_converted'] = pred\n",
    "df_test_data.to_csv(\"submission.csv\",index = False)\n",
    "0.4222704266088214"
   ]
  },
  {
   "cell_type": "code",
   "execution_count": 20,
   "metadata": {
    "scrolled": true
   },
   "outputs": [
    {
     "name": "stderr",
     "output_type": "stream",
     "text": [
      "5it [00:16,  3.21s/it]"
     ]
    },
    {
     "name": "stdout",
     "output_type": "stream",
     "text": [
      "----[K-Fold Train Score]-----\n",
      "f1 score : 0.9982 / STD: (+/- 0.0001)\n",
      "precision score : 0.9968 / STD: (+/- 0.0002)\n",
      "recall score : 0.9996 / STD: (+/- 0.0003)\n",
      "----[K-Fold Validation Score]-----\n",
      "f1 score : 0.7837 / STD: (+/- 0.0071)\n",
      "precision score : 0.7889 / STD: (+/- 0.0101)\n",
      "recall score : 0.7787 / STD: (+/- 0.0082)\n"
     ]
    },
    {
     "name": "stderr",
     "output_type": "stream",
     "text": [
      "\n"
     ]
    }
   ],
   "source": [
    "import pandas as pd\n",
    "import numpy as np\n",
    "import xgboost as xgb\n",
    "from xgboost.sklearn import XGBClassifier\n",
    "from sklearn.metrics import (\n",
    "    accuracy_score,\n",
    "    confusion_matrix,\n",
    "    f1_score,\n",
    "    precision_score,\n",
    "    recall_score,\n",
    ")\n",
    "from sklearn.model_selection import train_test_split\n",
    "from sklearn.tree import DecisionTreeClassifier\n",
    "from sklearn.model_selection import StratifiedKFold\n",
    "from phase2_module.src.utils.top_score_instance import check_the_score\n",
    "from tqdm import tqdm\n",
    "# 레이블 인코딩할 칼럼들\n",
    "df_train_data = pd.read_csv(\"phase2_module/data/train.csv\") # 학습용 데이터\n",
    "df_test_data = pd.read_csv(\"phase2_module/data/submission.csv\") # 테스트 데이터(제출파일의 데이터)\n",
    "drop_columns=['com_reg_ver_win_rate', 'id_strategic_ver', 'idit_strategic_ver', 'it_strategic_ver', 'ver_cus', 'ver_pro', 'ver_win_rate_x','customer_country.1', 'ver_win_ratio_per_bu']\n",
    "# drop_columns=['customer_country.1']\n",
    "\n",
    "df_train_data = df_train_data.drop(columns=drop_columns)\n",
    "df_test_data=df_test_data.drop(columns=drop_columns)\n",
    "def label_encoding(series: pd.Series) -> pd.Series:\n",
    "    \"\"\"범주형 데이터를 시리즈 형태로 받아 숫자형 데이터로 변환합니다.\"\"\"\n",
    "\n",
    "    my_dict = {}\n",
    "\n",
    "    # 모든 요소를 문자열로 변환\n",
    "    series = series.astype(str)\n",
    "\n",
    "    for idx, value in enumerate(sorted(series.unique())):\n",
    "        my_dict[value] = idx\n",
    "    series = series.map(my_dict)\n",
    "\n",
    "    return series\n",
    "\n",
    "label_columns = [\n",
    "    \"customer_country\",\n",
    "    \"business_subarea\",\n",
    "    \"business_area\",\n",
    "    \"business_unit\",\n",
    "    \"customer_type\",\n",
    "    \"enterprise\",\n",
    "    \"customer_job\",\n",
    "    \"inquiry_type\",\n",
    "    \"product_category\",\n",
    "    \"product_subcategory\",\n",
    "    \"product_modelname\",\n",
    "    \"customer_position\",\n",
    "    \"response_corporate\",\n",
    "    \"expected_timeline\",\n",
    "]\n",
    "\n",
    "df_all = pd.concat([df_train_data[label_columns], df_test_data[label_columns]])\n",
    "\n",
    "for col in label_columns:\n",
    "    df_all[col] = label_encoding(df_all[col])\n",
    "for col in label_columns:  \n",
    "    df_train_data[col] = df_all.iloc[: len(df_train_data)][col]\n",
    "    df_test_data[col] = df_all.iloc[len(df_train_data) :][col]\n",
    "    \n",
    "stratkfold = StratifiedKFold(n_splits=5, shuffle=True, random_state=42)\n",
    "result = {\"f1\":[], \"precision\":[], \"recall\":[]}\n",
    "train_result = {\"f1\":[], \"precision\":[], \"recall\":[]}\n",
    "X = df_train_data.fillna(0).drop([\"is_converted\"],axis = 1)\n",
    "Y = df_train_data['is_converted']\n",
    "\n",
    "model = DecisionTreeClassifier(random_state=42)\n",
    "\n",
    "# k-fold\n",
    "for train_idx, test_idx in tqdm(stratkfold.split(X,Y)):\n",
    "    x_train, x_test = X.iloc[train_idx], X.iloc[test_idx]\n",
    "    y_train, y_test = Y[train_idx], Y[test_idx]\n",
    "    # 모델 훈련\n",
    "    model.fit(x_train, y_train)\n",
    "    \n",
    "    train_pred = model.predict(x_train)\n",
    "    predict = model.predict(x_test)\n",
    "    \n",
    "    score_result = check_the_score(train_pred, y_train)\n",
    "    for name, score in score_result.items():\n",
    "        train_result[name].append(score)\n",
    "        \n",
    "    score_result = check_the_score(predict, y_test)\n",
    "    for name, score in score_result.items():\n",
    "        result[name].append(score)\n",
    "        \n",
    "print('----[K-Fold Train Score]-----')\n",
    "for name, score_list in train_result.items():\n",
    "    print(f'{name} score : {np.mean(score_list):.4f} / STD: (+/- {np.std(score_list):.4f})')\n",
    "    \n",
    "print('----[K-Fold Validation Score]-----')\n",
    "for name, score_list in result.items():\n",
    "    print(f'{name} score : {np.mean(score_list):.4f} / STD: (+/- {np.std(score_list):.4f})')"
   ]
  },
  {
   "cell_type": "code",
   "execution_count": 21,
   "metadata": {},
   "outputs": [
    {
     "name": "stdout",
     "output_type": "stream",
     "text": [
      "customer_idx: 0.5420492282792219\n",
      "lead_owner: 0.12957421076979964\n",
      "lead_desc_length: 0.051995787512886846\n",
      "customer_country: 0.04166531594002793\n",
      "customer_type: 0.037832918923516395\n",
      "bant_submit: 0.02759772340612355\n",
      "business_subarea: 0.02568629919835567\n",
      "response_corporate: 0.02105373896597311\n",
      "product_category: 0.019419654113029237\n",
      "customer_position: 0.01679706307603553\n",
      "customer_job: 0.014514290882399482\n",
      "historical_existing_cnt: 0.013736292425566343\n",
      "business_area: 0.012490003645075725\n",
      "product_subcategory: 0.011738092305499447\n",
      "expected_timeline: 0.007337918724218197\n",
      "business_unit: 0.0072213442597620576\n",
      "inquiry_type: 0.006689552653840972\n",
      "product_modelname: 0.00640886751575654\n",
      "enterprise: 0.006191697402911627\n"
     ]
    }
   ],
   "source": [
    "feature_importances = model.feature_importances_\n",
    "\n",
    "# Get feature names\n",
    "feature_names = x_train.columns\n",
    "\n",
    "# Create a dictionary to map feature names to their importance scores\n",
    "feature_importance_dict = dict(zip(feature_names, feature_importances))\n",
    "\n",
    "sorted_importance_dict = {k: v for k, v in sorted(feature_importance_dict.items(), key=lambda item: item[1], reverse=True)}\n",
    "\n",
    "# Print feature names along with their importance scores after sorting\n",
    "for feature_name, importance in sorted_importance_dict.items():\n",
    "    print(f\"{feature_name}: {importance}\")"
   ]
  },
  {
   "cell_type": "markdown",
   "metadata": {},
   "source": [
    "## 점수 확인 \n",
    "* 파생 변수 컬럼 제거\n",
    "* 중복 제거 안함"
   ]
  },
  {
   "cell_type": "code",
   "execution_count": 14,
   "metadata": {},
   "outputs": [
    {
     "data": {
      "text/plain": [
       "0.44951590594744123"
      ]
     },
     "execution_count": 14,
     "metadata": {},
     "output_type": "execute_result"
    }
   ],
   "source": [
    "s = df_test_data.drop(['id','is_converted'],axis = 1)\n",
    "pred = model.predict(s.fillna(0))\n",
    "df_test_data['is_converted'] = pred\n",
    "df_test_data.to_csv(\"submission.csv\",index = False)\n",
    "0.44951590594744123"
   ]
  },
  {
   "cell_type": "code",
   "execution_count": 15,
   "metadata": {},
   "outputs": [],
   "source": [
    "def label_rows(row):\n",
    "    if row['product_modelname'] is np.nan and row['product_subcategory'] is np.nan and row['product_category'] is np.nan:\n",
    "        return 8\n",
    "    elif row['product_modelname'] is np.nan and row['product_subcategory'] is np.nan:\n",
    "        return 7\n",
    "    elif row['product_modelname'] is np.nan and row['product_category'] is np.nan:\n",
    "        return 6\n",
    "    elif row['product_subcategory'] is np.nan and row['product_category'] is np.nan:\n",
    "        return 5\n",
    "    elif row['product_modelname'] is np.nan:\n",
    "        return 4\n",
    "    elif row['product_subcategory'] is np.nan:\n",
    "        return 3\n",
    "    elif row['product_category'] is np.nan:\n",
    "        return 2\n",
    "    else:\n",
    "        return 1"
   ]
  },
  {
   "cell_type": "code",
   "execution_count": 16,
   "metadata": {},
   "outputs": [
    {
     "name": "stderr",
     "output_type": "stream",
     "text": [
      "5it [00:24,  4.86s/it]"
     ]
    },
    {
     "name": "stdout",
     "output_type": "stream",
     "text": [
      "----[K-Fold Train Score]-----\n",
      "f1 score : 0.9982 / STD: (+/- 0.0001)\n",
      "precision score : 0.9968 / STD: (+/- 0.0002)\n",
      "recall score : 0.9996 / STD: (+/- 0.0003)\n",
      "----[K-Fold Validation Score]-----\n",
      "f1 score : 0.7847 / STD: (+/- 0.0065)\n",
      "precision score : 0.7905 / STD: (+/- 0.0077)\n",
      "recall score : 0.7790 / STD: (+/- 0.0076)\n"
     ]
    },
    {
     "name": "stderr",
     "output_type": "stream",
     "text": [
      "\n"
     ]
    }
   ],
   "source": [
    "import pandas as pd\n",
    "import numpy as np\n",
    "import xgboost as xgb\n",
    "from xgboost.sklearn import XGBClassifier\n",
    "from sklearn.metrics import (\n",
    "    accuracy_score,\n",
    "    confusion_matrix,\n",
    "    f1_score,\n",
    "    precision_score,\n",
    "    recall_score,\n",
    ")\n",
    "from sklearn.model_selection import train_test_split\n",
    "from sklearn.tree import DecisionTreeClassifier\n",
    "from sklearn.model_selection import StratifiedKFold\n",
    "from phase2_module.src.utils.top_score_instance import check_the_score\n",
    "from tqdm import tqdm\n",
    "# 레이블 인코딩할 칼럼들\n",
    "df_train_data = pd.read_csv(\"phase2_module/data/train.csv\") # 학습용 데이터\n",
    "df_test_data = pd.read_csv(\"phase2_module/data/submission.csv\") # 테스트 데이터(제출파일의 데이터)\n",
    "drop_columns=['com_reg_ver_win_rate', 'id_strategic_ver', 'idit_strategic_ver', 'it_strategic_ver', 'ver_cus', 'ver_pro', 'ver_win_rate_x','customer_country.1', 'ver_win_ratio_per_bu']\n",
    "\n",
    "df_train_data = df_train_data.drop(columns=drop_columns)\n",
    "df_test_data=df_test_data.drop(columns=drop_columns)\n",
    "def label_encoding(series: pd.Series) -> pd.Series:\n",
    "    \"\"\"범주형 데이터를 시리즈 형태로 받아 숫자형 데이터로 변환합니다.\"\"\"\n",
    "\n",
    "    my_dict = {}\n",
    "\n",
    "    # 모든 요소를 문자열로 변환\n",
    "    series = series.astype(str)\n",
    "\n",
    "    for idx, value in enumerate(sorted(series.unique())):\n",
    "        my_dict[value] = idx\n",
    "    series = series.map(my_dict)\n",
    "\n",
    "    return series\n",
    "\n",
    "label_columns = [\n",
    "    \"customer_country\",\n",
    "    \"business_subarea\",\n",
    "    \"business_area\",\n",
    "    \"business_unit\",\n",
    "    \"customer_type\",\n",
    "    \"enterprise\",\n",
    "    \"customer_job\",\n",
    "    \"inquiry_type\",\n",
    "    \"product_category\",\n",
    "    \"product_subcategory\",\n",
    "    \"product_modelname\",\n",
    "    \"customer_position\",\n",
    "    \"response_corporate\",\n",
    "    \"expected_timeline\",\n",
    "]\n",
    "\n",
    "df_all = pd.concat([df_train_data[label_columns], df_test_data[label_columns]])\n",
    "df_all['customer_interest'] = df_all.apply(lambda row: label_rows(row), axis=1)\n",
    "label_columns.append('customer_interest')\n",
    "for col in label_columns:\n",
    "    df_all[col] = label_encoding(df_all[col])\n",
    "for col in label_columns:  \n",
    "    df_train_data[col] = df_all.iloc[: len(df_train_data)][col]\n",
    "    df_test_data[col] = df_all.iloc[len(df_train_data) :][col]\n",
    "    \n",
    "stratkfold = StratifiedKFold(n_splits=5, shuffle=True, random_state=42)\n",
    "result = {\"f1\":[], \"precision\":[], \"recall\":[]}\n",
    "train_result = {\"f1\":[], \"precision\":[], \"recall\":[]}\n",
    "X = df_train_data.fillna(0).drop([\"is_converted\"],axis = 1)\n",
    "Y = df_train_data['is_converted']\n",
    "\n",
    "model = DecisionTreeClassifier(random_state=42)\n",
    "\n",
    "# k-fold\n",
    "for train_idx, test_idx in tqdm(stratkfold.split(X,Y)):\n",
    "    x_train, x_test = X.iloc[train_idx], X.iloc[test_idx]\n",
    "    y_train, y_test = Y[train_idx], Y[test_idx]\n",
    "    # 모델 훈련\n",
    "    model.fit(x_train, y_train)\n",
    "    \n",
    "    train_pred = model.predict(x_train)\n",
    "    predict = model.predict(x_test)\n",
    "    \n",
    "    score_result = check_the_score(train_pred, y_train)\n",
    "    for name, score in score_result.items():\n",
    "        train_result[name].append(score)\n",
    "        \n",
    "    score_result = check_the_score(predict, y_test)\n",
    "    for name, score in score_result.items():\n",
    "        result[name].append(score)\n",
    "        \n",
    "print('----[K-Fold Train Score]-----')\n",
    "for name, score_list in train_result.items():\n",
    "    print(f'{name} score : {np.mean(score_list):.4f} / STD: (+/- {np.std(score_list):.4f})')\n",
    "    \n",
    "print('----[K-Fold Validation Score]-----')\n",
    "for name, score_list in result.items():\n",
    "    print(f'{name} score : {np.mean(score_list):.4f} / STD: (+/- {np.std(score_list):.4f})')"
   ]
  },
  {
   "cell_type": "code",
   "execution_count": 17,
   "metadata": {},
   "outputs": [
    {
     "name": "stdout",
     "output_type": "stream",
     "text": [
      "customer_idx: 0.5426479921557874\n",
      "lead_owner: 0.12800054844507605\n",
      "lead_desc_length: 0.047177182228063275\n",
      "customer_country: 0.041271783491993674\n",
      "customer_type: 0.038949949918249425\n",
      "bant_submit: 0.027810358473246734\n",
      "business_subarea: 0.025864190394024728\n",
      "product_category: 0.01960355791229521\n",
      "response_corporate: 0.01956826069394689\n",
      "customer_position: 0.01668685200951661\n",
      "customer_job: 0.01605349020889173\n",
      "product_subcategory: 0.013846460086039566\n",
      "historical_existing_cnt: 0.012894582341740655\n",
      "business_area: 0.011632683531470806\n",
      "business_unit: 0.009661826487110045\n",
      "product_modelname: 0.007644534598434496\n",
      "enterprise: 0.007253161220654581\n",
      "expected_timeline: 0.006557154026449545\n",
      "inquiry_type: 0.004662674587390821\n",
      "customer_interest: 0.0022127571896177075\n"
     ]
    }
   ],
   "source": [
    "feature_importances = model.feature_importances_\n",
    "\n",
    "# Get feature names\n",
    "feature_names = x_train.columns\n",
    "\n",
    "# Create a dictionary to map feature names to their importance scores\n",
    "feature_importance_dict = dict(zip(feature_names, feature_importances))\n",
    "\n",
    "sorted_importance_dict = {k: v for k, v in sorted(feature_importance_dict.items(), key=lambda item: item[1], reverse=True)}\n",
    "\n",
    "# Print feature names along with their importance scores after sorting\n",
    "for feature_name, importance in sorted_importance_dict.items():\n",
    "    print(f\"{feature_name}: {importance}\")"
   ]
  },
  {
   "cell_type": "markdown",
   "metadata": {},
   "source": [
    "## 점수 확인\n",
    "* 내 Customer interest만 추가\n",
    "* 이것도 제출했다 생각했는데 사실 추가하지 않은 상태로 제출되었음."
   ]
  },
  {
   "cell_type": "code",
   "execution_count": 18,
   "metadata": {},
   "outputs": [
    {
     "data": {
      "text/plain": [
       "0.44951590594744123"
      ]
     },
     "execution_count": 18,
     "metadata": {},
     "output_type": "execute_result"
    }
   ],
   "source": [
    "s = df_test_data.drop(['id','is_converted'],axis = 1)\n",
    "pred = model.predict(s.fillna(0))\n",
    "df_test_data['is_converted'] = pred\n",
    "df_test_data.to_csv(\"submission.csv\",index = False)\n",
    "0.44951590594744123"
   ]
  },
  {
   "cell_type": "code",
   "execution_count": 19,
   "metadata": {},
   "outputs": [
    {
     "name": "stdout",
     "output_type": "stream",
     "text": [
      "customer_idx: 0.5426479921557874\n",
      "lead_owner: 0.12800054844507605\n",
      "lead_desc_length: 0.047177182228063275\n",
      "customer_country: 0.041271783491993674\n",
      "customer_type: 0.038949949918249425\n",
      "bant_submit: 0.027810358473246734\n",
      "business_subarea: 0.025864190394024728\n",
      "product_category: 0.01960355791229521\n",
      "response_corporate: 0.01956826069394689\n",
      "customer_position: 0.01668685200951661\n",
      "customer_job: 0.01605349020889173\n",
      "product_subcategory: 0.013846460086039566\n",
      "historical_existing_cnt: 0.012894582341740655\n",
      "business_area: 0.011632683531470806\n",
      "business_unit: 0.009661826487110045\n",
      "product_modelname: 0.007644534598434496\n",
      "enterprise: 0.007253161220654581\n",
      "expected_timeline: 0.006557154026449545\n",
      "inquiry_type: 0.004662674587390821\n",
      "customer_interest: 0.0022127571896177075\n"
     ]
    }
   ],
   "source": [
    "feature_importances = model.feature_importances_\n",
    "\n",
    "# Get feature names\n",
    "feature_names = x_train.columns\n",
    "\n",
    "# Create a dictionary to map feature names to their importance scores\n",
    "feature_importance_dict = dict(zip(feature_names, feature_importances))\n",
    "\n",
    "sorted_importance_dict = {k: v for k, v in sorted(feature_importance_dict.items(), key=lambda item: item[1], reverse=True)}\n",
    "\n",
    "# Print feature names along with their importance scores after sorting\n",
    "for feature_name, importance in sorted_importance_dict.items():\n",
    "    print(f\"{feature_name}: {importance}\")"
   ]
  },
  {
   "cell_type": "code",
   "execution_count": null,
   "metadata": {},
   "outputs": [],
   "source": []
  },
  {
   "cell_type": "code",
   "execution_count": null,
   "metadata": {},
   "outputs": [],
   "source": []
  },
  {
   "cell_type": "code",
   "execution_count": null,
   "metadata": {},
   "outputs": [],
   "source": []
  }
 ],
 "metadata": {
  "kernelspec": {
   "display_name": "Python 3 (ipykernel)",
   "language": "python",
   "name": "python3"
  },
  "language_info": {
   "codemirror_mode": {
    "name": "ipython",
    "version": 3
   },
   "file_extension": ".py",
   "mimetype": "text/x-python",
   "name": "python",
   "nbconvert_exporter": "python",
   "pygments_lexer": "ipython3",
   "version": "3.10.4"
  }
 },
 "nbformat": 4,
 "nbformat_minor": 4
}

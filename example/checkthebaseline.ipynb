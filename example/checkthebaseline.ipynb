{
 "cells": [
  {
   "cell_type": "code",
   "execution_count": 3,
   "metadata": {},
   "outputs": [
    {
     "data": {
      "text/plain": [
       "'c:\\\\Users\\\\승범 pc\\\\Desktop\\\\공부\\\\딥러닝\\\\엘지에이머스'"
      ]
     },
     "execution_count": 3,
     "metadata": {},
     "output_type": "execute_result"
    }
   ],
   "source": [
    "pwd"
   ]
  },
  {
   "cell_type": "code",
   "execution_count": 18,
   "metadata": {},
   "outputs": [
    {
     "name": "stdout",
     "output_type": "stream",
     "text": [
      "bant_submit                float64\n",
      "customer_country             int64\n",
      "business_unit                int64\n",
      "com_reg_ver_win_rate       float64\n",
      "customer_idx                 int64\n",
      "customer_type                int64\n",
      "enterprise                   int64\n",
      "historical_existing_cnt    float64\n",
      "id_strategic_ver           float64\n",
      "it_strategic_ver           float64\n",
      "idit_strategic_ver         float64\n",
      "customer_job                 int64\n",
      "lead_desc_length             int64\n",
      "inquiry_type                 int64\n",
      "product_category             int64\n",
      "product_subcategory          int64\n",
      "product_modelname            int64\n",
      "customer_position            int64\n",
      "response_corporate           int64\n",
      "expected_timeline            int64\n",
      "ver_cus                      int64\n",
      "ver_pro                      int64\n",
      "ver_win_rate_x             float64\n",
      "ver_win_ratio_per_bu       float64\n",
      "business_area                int64\n",
      "business_subarea             int64\n",
      "lead_owner                   int64\n",
      "dtype: object\n"
     ]
    },
    {
     "name": "stderr",
     "output_type": "stream",
     "text": [
      "5it [00:01,  2.62it/s]"
     ]
    },
    {
     "name": "stdout",
     "output_type": "stream",
     "text": [
      "----[K-Fold Train Score]-----\n",
      "f1 score : 0.9982 / STD: (+/- 0.0001)\n",
      "precision score : 0.9968 / STD: (+/- 0.0002)\n",
      "recall score : 0.9996 / STD: (+/- 0.0003)\n",
      "----[K-Fold Validation Score]-----\n",
      "f1 score : 0.7790 / STD: (+/- 0.0100)\n",
      "precision score : 0.7858 / STD: (+/- 0.0101)\n",
      "recall score : 0.7725 / STD: (+/- 0.0127)\n"
     ]
    },
    {
     "name": "stderr",
     "output_type": "stream",
     "text": [
      "\n"
     ]
    }
   ],
   "source": [
    "import pandas as pd\n",
    "import numpy as np\n",
    "import xgboost as xgb\n",
    "from xgboost.sklearn import XGBClassifier\n",
    "from sklearn.metrics import (\n",
    "    accuracy_score,\n",
    "    confusion_matrix,\n",
    "    f1_score,\n",
    "    precision_score,\n",
    "    recall_score,\n",
    ")\n",
    "from sklearn.model_selection import train_test_split\n",
    "from sklearn.tree import DecisionTreeClassifier\n",
    "from sklearn.model_selection import StratifiedKFold\n",
    "from phase2_module.src.utils.top_score_instance import check_the_score\n",
    "from tqdm import tqdm\n",
    "# 레이블 인코딩할 칼럼들\n",
    "df_train_data = pd.read_csv(\"phase2_module/data/train.csv\") # 학습용 데이터\n",
    "df_test_data = pd.read_csv(\"phase2_module/data/test.csv\") # 테스트 데이터(제출파일의 데이터)\n",
    "drop_columns =['customer_country.1']\n",
    "df_train_data = df_train_data.drop(columns=drop_columns)\n",
    "df_test_data=df_test_data.drop(columns=drop_columns)\n",
    "def label_encoding(series: pd.Series) -> pd.Series:\n",
    "    \"\"\"범주형 데이터를 시리즈 형태로 받아 숫자형 데이터로 변환합니다.\"\"\"\n",
    "\n",
    "    my_dict = {}\n",
    "\n",
    "    # 모든 요소를 문자열로 변환\n",
    "    series = series.astype(str)\n",
    "\n",
    "    for idx, value in enumerate(sorted(series.unique())):\n",
    "        my_dict[value] = idx\n",
    "    series = series.map(my_dict)\n",
    "\n",
    "    return series\n",
    "\n",
    "label_columns = [\n",
    "    \"customer_country\",\n",
    "    \"business_subarea\",\n",
    "    \"business_area\",\n",
    "    \"business_unit\",\n",
    "    \"customer_type\",\n",
    "    \"enterprise\",\n",
    "    \"customer_job\",\n",
    "    \"inquiry_type\",\n",
    "    \"product_category\",\n",
    "    \"product_subcategory\",\n",
    "    \"product_modelname\",\n",
    "    \"customer_position\",\n",
    "    \"response_corporate\",\n",
    "    \"expected_timeline\",\n",
    "]\n",
    "\n",
    "df_all = pd.concat([df_train_data[label_columns], df_test_data[label_columns]])\n",
    "\n",
    "for col in label_columns:\n",
    "    df_all[col] = label_encoding(df_all[col])\n",
    "for col in label_columns:  \n",
    "    df_train_data[col] = df_all.iloc[: len(df_train_data)][col]\n",
    "    df_test_data[col] = df_all.iloc[len(df_train_data) :][col]\n",
    "    \n",
    "stratkfold = StratifiedKFold(n_splits=5, shuffle=True, random_state=42)\n",
    "result = {\"f1\":[], \"precision\":[], \"recall\":[]}\n",
    "train_result = {\"f1\":[], \"precision\":[], \"recall\":[]}\n",
    "X = df_train_data.fillna(0).drop([\"is_converted\"],axis = 1)\n",
    "Y = df_train_data['is_converted']\n",
    "\n",
    "model = DecisionTreeClassifier(random_state=42)\n",
    "\n",
    "# k-fold\n",
    "for train_idx, test_idx in tqdm(stratkfold.split(X,Y)):\n",
    "    x_train, x_test = X.iloc[train_idx], X.iloc[test_idx]\n",
    "    y_train, y_test = Y[train_idx], Y[test_idx]\n",
    "    # 모델 훈련\n",
    "    model.fit(x_train, y_train)\n",
    "    \n",
    "    train_pred = model.predict(x_train)\n",
    "    predict = model.predict(x_test)\n",
    "    \n",
    "    score_result = check_the_score(train_pred, y_train)\n",
    "    for name, score in score_result.items():\n",
    "        train_result[name].append(score)\n",
    "        \n",
    "    score_result = check_the_score(predict, y_test)\n",
    "    for name, score in score_result.items():\n",
    "        result[name].append(score)\n",
    "        \n",
    "print('----[K-Fold Train Score]-----')\n",
    "for name, score_list in train_result.items():\n",
    "    print(f'{name} score : {np.mean(score_list):.4f} / STD: (+/- {np.std(score_list):.4f})')\n",
    "    \n",
    "print('----[K-Fold Validation Score]-----')\n",
    "for name, score_list in result.items():\n",
    "    print(f'{name} score : {np.mean(score_list):.4f} / STD: (+/- {np.std(score_list):.4f})')"
   ]
  },
  {
   "cell_type": "markdown",
   "metadata": {},
   "source": [
    "## 점수 확인\n",
    "* customer_country.1만 제거\n",
    "* 중복 제거 안함."
   ]
  },
  {
   "cell_type": "code",
   "execution_count": 25,
   "metadata": {},
   "outputs": [],
   "source": [
    "s = df_test_data.drop(['id','is_converted'],axis = 1)\n",
    "pred = model.predict(s.fillna(0))\n",
    "df_test_data['is_converted'] = pred\n",
    "df_test_data.to_csv(\"submission.csv\",index = False)\n",
    "0.4222704266088214"
   ]
  },
  {
   "cell_type": "code",
   "execution_count": 27,
   "metadata": {},
   "outputs": [
    {
     "name": "stderr",
     "output_type": "stream",
     "text": [
      "5it [00:01,  3.12it/s]"
     ]
    },
    {
     "name": "stdout",
     "output_type": "stream",
     "text": [
      "----[K-Fold Train Score]-----\n",
      "f1 score : 0.9982 / STD: (+/- 0.0001)\n",
      "precision score : 0.9968 / STD: (+/- 0.0002)\n",
      "recall score : 0.9996 / STD: (+/- 0.0003)\n",
      "----[K-Fold Validation Score]-----\n",
      "f1 score : 0.7837 / STD: (+/- 0.0071)\n",
      "precision score : 0.7889 / STD: (+/- 0.0101)\n",
      "recall score : 0.7787 / STD: (+/- 0.0082)\n"
     ]
    },
    {
     "name": "stderr",
     "output_type": "stream",
     "text": [
      "\n"
     ]
    }
   ],
   "source": [
    "import pandas as pd\n",
    "import numpy as np\n",
    "import xgboost as xgb\n",
    "from xgboost.sklearn import XGBClassifier\n",
    "from sklearn.metrics import (\n",
    "    accuracy_score,\n",
    "    confusion_matrix,\n",
    "    f1_score,\n",
    "    precision_score,\n",
    "    recall_score,\n",
    ")\n",
    "from sklearn.model_selection import train_test_split\n",
    "from sklearn.tree import DecisionTreeClassifier\n",
    "from sklearn.model_selection import StratifiedKFold\n",
    "from phase2_module.src.utils.top_score_instance import check_the_score\n",
    "from tqdm import tqdm\n",
    "# 레이블 인코딩할 칼럼들\n",
    "df_train_data = pd.read_csv(\"phase2_module/data/train.csv\") # 학습용 데이터\n",
    "df_test_data = pd.read_csv(\"phase2_module/data/test.csv\") # 테스트 데이터(제출파일의 데이터)\n",
    "drop_columns=['com_reg_ver_win_rate', 'id_strategic_ver', 'idit_strategic_ver', 'it_strategic_ver', 'ver_cus', 'ver_pro', 'ver_win_rate_x','customer_country.1', 'ver_win_ratio_per_bu']\n",
    "\n",
    "df_train_data = df_train_data.drop(columns=drop_columns)\n",
    "df_test_data=df_test_data.drop(columns=drop_columns)\n",
    "def label_encoding(series: pd.Series) -> pd.Series:\n",
    "    \"\"\"범주형 데이터를 시리즈 형태로 받아 숫자형 데이터로 변환합니다.\"\"\"\n",
    "\n",
    "    my_dict = {}\n",
    "\n",
    "    # 모든 요소를 문자열로 변환\n",
    "    series = series.astype(str)\n",
    "\n",
    "    for idx, value in enumerate(sorted(series.unique())):\n",
    "        my_dict[value] = idx\n",
    "    series = series.map(my_dict)\n",
    "\n",
    "    return series\n",
    "\n",
    "label_columns = [\n",
    "    \"customer_country\",\n",
    "    \"business_subarea\",\n",
    "    \"business_area\",\n",
    "    \"business_unit\",\n",
    "    \"customer_type\",\n",
    "    \"enterprise\",\n",
    "    \"customer_job\",\n",
    "    \"inquiry_type\",\n",
    "    \"product_category\",\n",
    "    \"product_subcategory\",\n",
    "    \"product_modelname\",\n",
    "    \"customer_position\",\n",
    "    \"response_corporate\",\n",
    "    \"expected_timeline\",\n",
    "]\n",
    "\n",
    "df_all = pd.concat([df_train_data[label_columns], df_test_data[label_columns]])\n",
    "\n",
    "for col in label_columns:\n",
    "    df_all[col] = label_encoding(df_all[col])\n",
    "for col in label_columns:  \n",
    "    df_train_data[col] = df_all.iloc[: len(df_train_data)][col]\n",
    "    df_test_data[col] = df_all.iloc[len(df_train_data) :][col]\n",
    "    \n",
    "stratkfold = StratifiedKFold(n_splits=5, shuffle=True, random_state=42)\n",
    "result = {\"f1\":[], \"precision\":[], \"recall\":[]}\n",
    "train_result = {\"f1\":[], \"precision\":[], \"recall\":[]}\n",
    "X = df_train_data.fillna(0).drop([\"is_converted\"],axis = 1)\n",
    "Y = df_train_data['is_converted']\n",
    "\n",
    "model = DecisionTreeClassifier(random_state=42)\n",
    "\n",
    "# k-fold\n",
    "for train_idx, test_idx in tqdm(stratkfold.split(X,Y)):\n",
    "    x_train, x_test = X.iloc[train_idx], X.iloc[test_idx]\n",
    "    y_train, y_test = Y[train_idx], Y[test_idx]\n",
    "    # 모델 훈련\n",
    "    model.fit(x_train, y_train)\n",
    "    \n",
    "    train_pred = model.predict(x_train)\n",
    "    predict = model.predict(x_test)\n",
    "    \n",
    "    score_result = check_the_score(train_pred, y_train)\n",
    "    for name, score in score_result.items():\n",
    "        train_result[name].append(score)\n",
    "        \n",
    "    score_result = check_the_score(predict, y_test)\n",
    "    for name, score in score_result.items():\n",
    "        result[name].append(score)\n",
    "        \n",
    "print('----[K-Fold Train Score]-----')\n",
    "for name, score_list in train_result.items():\n",
    "    print(f'{name} score : {np.mean(score_list):.4f} / STD: (+/- {np.std(score_list):.4f})')\n",
    "    \n",
    "print('----[K-Fold Validation Score]-----')\n",
    "for name, score_list in result.items():\n",
    "    print(f'{name} score : {np.mean(score_list):.4f} / STD: (+/- {np.std(score_list):.4f})')"
   ]
  },
  {
   "cell_type": "markdown",
   "metadata": {},
   "source": [
    "## 점수 확인 \n",
    "* 파생 변수 컬럼 제거\n",
    "* 중복 제거 안함"
   ]
  },
  {
   "cell_type": "code",
   "execution_count": 28,
   "metadata": {},
   "outputs": [],
   "source": [
    "s = df_test_data.drop(['id','is_converted'],axis = 1)\n",
    "pred = model.predict(s.fillna(0))\n",
    "df_test_data['is_converted'] = pred\n",
    "df_test_data.to_csv(\"submission.csv\",index = False)\n",
    "0.44951590594744123"
   ]
  },
  {
   "cell_type": "code",
   "execution_count": 29,
   "metadata": {},
   "outputs": [],
   "source": [
    "def label_rows(row):\n",
    "    if row['product_modelname'] is np.nan and row['product_subcategory'] is np.nan and row['product_category'] is np.nan:\n",
    "        return 8\n",
    "    elif row['product_modelname'] is np.nan and row['product_subcategory'] is np.nan:\n",
    "        return 7\n",
    "    elif row['product_modelname'] is np.nan and row['product_category'] is np.nan:\n",
    "        return 6\n",
    "    elif row['product_subcategory'] is np.nan and row['product_category'] is np.nan:\n",
    "        return 5\n",
    "    elif row['product_modelname'] is np.nan:\n",
    "        return 4\n",
    "    elif row['product_subcategory'] is np.nan:\n",
    "        return 3\n",
    "    elif row['product_category'] is np.nan:\n",
    "        return 2\n",
    "    else:\n",
    "        return 1"
   ]
  },
  {
   "cell_type": "code",
   "execution_count": 46,
   "metadata": {},
   "outputs": [
    {
     "name": "stderr",
     "output_type": "stream",
     "text": [
      "5it [00:01,  2.96it/s]"
     ]
    },
    {
     "name": "stdout",
     "output_type": "stream",
     "text": [
      "----[K-Fold Train Score]-----\n",
      "f1 score : 0.9982 / STD: (+/- 0.0001)\n",
      "precision score : 0.9968 / STD: (+/- 0.0002)\n",
      "recall score : 0.9996 / STD: (+/- 0.0003)\n",
      "----[K-Fold Validation Score]-----\n",
      "f1 score : 0.7847 / STD: (+/- 0.0065)\n",
      "precision score : 0.7905 / STD: (+/- 0.0077)\n",
      "recall score : 0.7790 / STD: (+/- 0.0076)\n"
     ]
    },
    {
     "name": "stderr",
     "output_type": "stream",
     "text": [
      "\n"
     ]
    }
   ],
   "source": [
    "import pandas as pd\n",
    "import numpy as np\n",
    "import xgboost as xgb\n",
    "from xgboost.sklearn import XGBClassifier\n",
    "from sklearn.metrics import (\n",
    "    accuracy_score,\n",
    "    confusion_matrix,\n",
    "    f1_score,\n",
    "    precision_score,\n",
    "    recall_score,\n",
    ")\n",
    "from sklearn.model_selection import train_test_split\n",
    "from sklearn.tree import DecisionTreeClassifier\n",
    "from sklearn.model_selection import StratifiedKFold\n",
    "from phase2_module.src.utils.top_score_instance import check_the_score\n",
    "from tqdm import tqdm\n",
    "# 레이블 인코딩할 칼럼들\n",
    "df_train_data = pd.read_csv(\"phase2_module/data/train.csv\") # 학습용 데이터\n",
    "df_test_data = pd.read_csv(\"phase2_module/data/test.csv\") # 테스트 데이터(제출파일의 데이터)\n",
    "drop_columns=['com_reg_ver_win_rate', 'id_strategic_ver', 'idit_strategic_ver', 'it_strategic_ver', 'ver_cus', 'ver_pro', 'ver_win_rate_x','customer_country.1', 'ver_win_ratio_per_bu']\n",
    "\n",
    "df_train_data = df_train_data.drop(columns=drop_columns)\n",
    "df_test_data=df_test_data.drop(columns=drop_columns)\n",
    "def label_encoding(series: pd.Series) -> pd.Series:\n",
    "    \"\"\"범주형 데이터를 시리즈 형태로 받아 숫자형 데이터로 변환합니다.\"\"\"\n",
    "\n",
    "    my_dict = {}\n",
    "\n",
    "    # 모든 요소를 문자열로 변환\n",
    "    series = series.astype(str)\n",
    "\n",
    "    for idx, value in enumerate(sorted(series.unique())):\n",
    "        my_dict[value] = idx\n",
    "    series = series.map(my_dict)\n",
    "\n",
    "    return series\n",
    "\n",
    "label_columns = [\n",
    "    \"customer_country\",\n",
    "    \"business_subarea\",\n",
    "    \"business_area\",\n",
    "    \"business_unit\",\n",
    "    \"customer_type\",\n",
    "    \"enterprise\",\n",
    "    \"customer_job\",\n",
    "    \"inquiry_type\",\n",
    "    \"product_category\",\n",
    "    \"product_subcategory\",\n",
    "    \"product_modelname\",\n",
    "    \"customer_position\",\n",
    "    \"response_corporate\",\n",
    "    \"expected_timeline\",\n",
    "]\n",
    "\n",
    "df_all = pd.concat([df_train_data[label_columns], df_test_data[label_columns]])\n",
    "df_all['customer_interest'] = df_all.apply(lambda row: label_rows(row), axis=1)\n",
    "label_columns.append('customer_interest')\n",
    "for col in label_columns:\n",
    "    df_all[col] = label_encoding(df_all[col])\n",
    "for col in label_columns:  \n",
    "    df_train_data[col] = df_all.iloc[: len(df_train_data)][col]\n",
    "    df_test_data[col] = df_all.iloc[len(df_train_data) :][col]\n",
    "    \n",
    "stratkfold = StratifiedKFold(n_splits=5, shuffle=True, random_state=42)\n",
    "result = {\"f1\":[], \"precision\":[], \"recall\":[]}\n",
    "train_result = {\"f1\":[], \"precision\":[], \"recall\":[]}\n",
    "X = df_train_data.fillna(0).drop([\"is_converted\"],axis = 1)\n",
    "Y = df_train_data['is_converted']\n",
    "\n",
    "model = DecisionTreeClassifier(random_state=42)\n",
    "\n",
    "# k-fold\n",
    "for train_idx, test_idx in tqdm(stratkfold.split(X,Y)):\n",
    "    x_train, x_test = X.iloc[train_idx], X.iloc[test_idx]\n",
    "    y_train, y_test = Y[train_idx], Y[test_idx]\n",
    "    # 모델 훈련\n",
    "    model.fit(x_train, y_train)\n",
    "    \n",
    "    train_pred = model.predict(x_train)\n",
    "    predict = model.predict(x_test)\n",
    "    \n",
    "    score_result = check_the_score(train_pred, y_train)\n",
    "    for name, score in score_result.items():\n",
    "        train_result[name].append(score)\n",
    "        \n",
    "    score_result = check_the_score(predict, y_test)\n",
    "    for name, score in score_result.items():\n",
    "        result[name].append(score)\n",
    "        \n",
    "print('----[K-Fold Train Score]-----')\n",
    "for name, score_list in train_result.items():\n",
    "    print(f'{name} score : {np.mean(score_list):.4f} / STD: (+/- {np.std(score_list):.4f})')\n",
    "    \n",
    "print('----[K-Fold Validation Score]-----')\n",
    "for name, score_list in result.items():\n",
    "    print(f'{name} score : {np.mean(score_list):.4f} / STD: (+/- {np.std(score_list):.4f})')"
   ]
  },
  {
   "cell_type": "markdown",
   "metadata": {},
   "source": [
    "## 점수 확인\n",
    "* 내 Customer interest만 추가\n",
    "* 이것도 제출했다 생각했는데 사실 추가하지 않은 상태로 제출되었음."
   ]
  },
  {
   "cell_type": "code",
   "execution_count": 45,
   "metadata": {},
   "outputs": [
    {
     "data": {
      "text/plain": [
       "0.44951590594744123"
      ]
     },
     "execution_count": 45,
     "metadata": {},
     "output_type": "execute_result"
    }
   ],
   "source": [
    "s = df_test_data.drop(['id','is_converted'],axis = 1)\n",
    "pred = model.predict(s.fillna(0))\n",
    "df_test_data['is_converted'] = pred\n",
    "df_test_data.to_csv(\"submission.csv\",index = False)\n",
    "0.44951590594744123"
   ]
  },
  {
   "cell_type": "code",
   "execution_count": null,
   "metadata": {},
   "outputs": [],
   "source": []
  }
 ],
 "metadata": {
  "kernelspec": {
   "display_name": "Python 3",
   "language": "python",
   "name": "python3"
  },
  "language_info": {
   "codemirror_mode": {
    "name": "ipython",
    "version": 3
   },
   "file_extension": ".py",
   "mimetype": "text/x-python",
   "name": "python",
   "nbconvert_exporter": "python",
   "pygments_lexer": "ipython3",
   "version": "3.11.8"
  }
 },
 "nbformat": 4,
 "nbformat_minor": 2
}

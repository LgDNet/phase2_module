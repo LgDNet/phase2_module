{
 "cells": [
  {
   "cell_type": "code",
   "execution_count": 14,
   "id": "db275d8b",
   "metadata": {},
   "outputs": [
    {
     "name": "stdout",
     "output_type": "stream",
     "text": [
      "Cloning into 'phase2_module'...\n",
      "remote: Enumerating objects: 287, done.\u001b[K\n",
      "remote: Counting objects: 100% (287/287), done.\u001b[K\n",
      "remote: Compressing objects: 100% (194/194), done.\u001b[K\n",
      "remote: Total 287 (delta 129), reused 224 (delta 69), pack-reused 0\u001b[K\n",
      "Receiving objects: 100% (287/287), 1.16 MiB | 3.97 MiB/s, done.\n",
      "Resolving deltas: 100% (129/129), done.\n",
      "sh ./scripts/copy_data\n",
      "transfering data train, test\n"
     ]
    }
   ],
   "source": [
    "# %rm -rf phase2_module\n",
    "# !git clone https://github.com/LgDNet/phase2_module.git\n",
    "# !cd phase2_module && make copy"
   ]
  },
  {
   "cell_type": "code",
   "execution_count": 87,
   "id": "d1148052",
   "metadata": {},
   "outputs": [],
   "source": [
    "from phase2_module.src.utils.dataset import Data\n",
    "from phase2_module.src.models.classification.models import Model\n",
    "from phase2_module.src.base import BasePiepline\n",
    "# from phase2_module.src.hyper_parameters.params_optimization import xgboost_opt, set_params_optimization_data\n",
    "from phase2_module.src.utils.set_seed import seed_everything\n",
    "from phase2_module.src.utils.top_score_instance import check_the_score\n",
    "\n",
    "from phase2_module.src.utils.manage_pkl_files import PickleManager as pkl_manager\n",
    "from phase2_module.src import preprocess\n",
    "seed_everything()  # NOTE: default 42\n",
    "_model = Model()"
   ]
  },
  {
   "cell_type": "code",
   "execution_count": 88,
   "id": "7a70301f",
   "metadata": {},
   "outputs": [],
   "source": [
    "import pandas as pd\n",
    "import numpy as np\n",
    "import re, pickle\n",
    "import warnings\n",
    "from tqdm import tqdm\n",
    "warnings.filterwarnings(action='ignore')\n",
    "def set_up(mode= None):\n",
    "    pd.set_option('display.max_columns', mode)\n",
    "set_up()"
   ]
  },
  {
   "cell_type": "markdown",
   "id": "cd7808f8",
   "metadata": {},
   "source": [
    "# Preprocessing"
   ]
  },
  {
   "cell_type": "code",
   "execution_count": 89,
   "id": "0b3afe0a-018c-4d7d-8f41-0b33126f977a",
   "metadata": {},
   "outputs": [],
   "source": [
    "basic = preprocess.Basic\n",
    "country = preprocess.Country\n",
    "customer = preprocess.Customer\n",
    "inquiry = preprocess.Inquiry\n",
    "product_category = preprocess.ProductCategory"
   ]
  },
  {
   "cell_type": "markdown",
   "id": "f710021d",
   "metadata": {},
   "source": [
    "# Main"
   ]
  },
  {
   "cell_type": "code",
   "execution_count": 95,
   "id": "eee4817a",
   "metadata": {
    "scrolled": true
   },
   "outputs": [],
   "source": [
    "pkls = pkl_manager.map(pkl_manager.loads, pkl_manager.metadata_directory)\n",
    "\n",
    "runtime_instance = {\n",
    "    \"Train\": Data.train,\n",
    "    \"Test\": Data.test,\n",
    "    \"Instances\":[\n",
    "        {\"instance\": basic, \"method\": ['drop_duplicated'], \"params\": False},\n",
    "        {\"instance\": country, \"method\": ['apply'], \"params\": pkls.get(\"country\")},\n",
    "        {\"instance\": inquiry, \"method\": [\"apply\"], \"params\": False},\n",
    "        {\"instance\": product_category, \"method\": [\"apply\"], \"params\": pkls.get(\"product_category\")},\n",
    "        {\"instance\": customer, \"method\": [\"apply\"], \"params\": pkls.get(\"customer\")},\n",
    "    ]\n",
    "}"
   ]
  },
  {
   "cell_type": "markdown",
   "id": "da5e2f4f",
   "metadata": {},
   "source": [
    "## preprocessing"
   ]
  },
  {
   "cell_type": "code",
   "execution_count": 96,
   "id": "2050a8a3",
   "metadata": {},
   "outputs": [],
   "source": [
    "df_train = preprocess.runner('Train',**runtime_instance)\n",
    "df_test = preprocess.runner('Test',**runtime_instance)"
   ]
  },
  {
   "cell_type": "markdown",
   "id": "0d5afcab",
   "metadata": {},
   "source": [
    "## encoding"
   ]
  },
  {
   "cell_type": "code",
   "execution_count": 97,
   "id": "9bc01b31",
   "metadata": {},
   "outputs": [],
   "source": [
    "from sklearn.preprocessing import LabelEncoder\n",
    "class Encode:\n",
    "    def __init__(self):\n",
    "        pass\n",
    "    def label_encoder(self,df,columns):\n",
    "        if not encoding_zip['label']:\n",
    "            for col in columns: # train\n",
    "                encoder = LabelEncoder()\n",
    "                try:\n",
    "                    df.loc[:,col] = encoder.fit_transform(df[col])\n",
    "                except Exception as e:\n",
    "                    print(e)\n",
    "                    print(col)\n",
    "                # 인코더 저장\n",
    "                encoding_zip['label'].append(encoder)\n",
    "        else: # test\n",
    "            for idx, col in enumerate(columns):\n",
    "                encoder = encoding_zip['label'][idx]\n",
    "                \n",
    "                for label in np.sort(df[col].unique()):\n",
    "                    if label not in encoder.classes_:\n",
    "                        encoder.classes_ = np.append(encoder.classes_,label)\n",
    "                df.loc[:,col] = encoder.transform(df[col])\n",
    "            \n",
    "        return df"
   ]
  },
  {
   "cell_type": "code",
   "execution_count": 98,
   "id": "46038ade",
   "metadata": {},
   "outputs": [],
   "source": [
    "encode = Encode()\n",
    "encoding_zip = {\"label\":[], \"onehot\":[]}"
   ]
  },
  {
   "cell_type": "code",
   "execution_count": 99,
   "id": "6190c81f",
   "metadata": {},
   "outputs": [],
   "source": [
    "exisiting_columns = ['business_area','business_subarea','business_unit',\n",
    "#                         'customer_type','customer_job','customer_position'\n",
    "#                         'inquiry_type','expected_timeline',\n",
    "                        'enterprise',\n",
    "#                         'response_corporate',\"customer_country\"\n",
    "#                         'product_subcategory','product_category',\n",
    "                       ] \n",
    "preprocess_columns = ['category_1','category_2', # product_category\n",
    "                      'new_inquiry_type','new_expected_timeline', # inquiry\n",
    "                     'country','continent', # country\n",
    "                     'customer_type2','job_function','seniority_level' # customer\n",
    "                     ]"
   ]
  },
  {
   "cell_type": "code",
   "execution_count": 100,
   "id": "93a07f9f",
   "metadata": {},
   "outputs": [],
   "source": [
    "label_encode_columns = exisiting_columns + preprocess_columns"
   ]
  },
  {
   "cell_type": "code",
   "execution_count": 101,
   "id": "93051fc7",
   "metadata": {},
   "outputs": [],
   "source": [
    "# 결측치 채우기\n",
    "def fillna(df):\n",
    "    for col in df.columns:\n",
    "        if df[col].isna().sum():\n",
    "            if df[col].dtypes =='O':\n",
    "                df[col].fillna('ETC', inplace = True)\n",
    "            else:\n",
    "                df[col].fillna(0,inplace = True)\n",
    "    return df\n",
    "df_train = fillna(df_train)\n",
    "df_test = fillna(df_test)"
   ]
  },
  {
   "cell_type": "code",
   "execution_count": 103,
   "id": "2db70014",
   "metadata": {},
   "outputs": [],
   "source": [
    "df_trian = encode.label_encoder(df_train,label_encode_columns)\n",
    "df_test = encode.label_encoder(df_test,label_encode_columns)"
   ]
  },
  {
   "cell_type": "markdown",
   "id": "e08c93b6",
   "metadata": {},
   "source": [
    "# Modeling"
   ]
  },
  {
   "cell_type": "markdown",
   "id": "ec3008eb",
   "metadata": {},
   "source": [
    "## drop column\n",
    "모델링 전이 column을 drop하면서 다루기가 쉽다고 판단하였음"
   ]
  },
  {
   "cell_type": "code",
   "execution_count": 104,
   "id": "48a0edcb",
   "metadata": {},
   "outputs": [],
   "source": [
    "drop_col = ['id_strategic_ver','it_strategic_ver',\n",
    "            'customer_country.1','response_corporate',\"customer_country\", # country\n",
    "            'customer_type','customer_job','customer_position', # customer\n",
    "            'inquiry_type', 'expected_timeline', #inquiry\n",
    "            'product_subcategory','product_category','product_modelname', # product_category\n",
    "            'category_3','cate_is_nan','mapped', # product_category\n",
    "#            'historical_existing_cnt',\n",
    "            ]\n",
    "df_train.drop(drop_col,axis = 1, inplace = True)\n",
    "\n",
    "df_test.drop(drop_col,axis = 1, inplace = True)"
   ]
  },
  {
   "cell_type": "markdown",
   "id": "9bb16055",
   "metadata": {},
   "source": [
    "## train"
   ]
  },
  {
   "cell_type": "code",
   "execution_count": 106,
   "id": "4eccb5b0",
   "metadata": {},
   "outputs": [],
   "source": [
    "model = _model.decision_tree"
   ]
  },
  {
   "cell_type": "code",
   "execution_count": 107,
   "id": "c14a6274",
   "metadata": {},
   "outputs": [],
   "source": [
    "X = df_train.drop([\"is_converted\"],axis = 1)\n",
    "Y = df_train['is_converted']"
   ]
  },
  {
   "cell_type": "code",
   "execution_count": 111,
   "id": "84c237e5",
   "metadata": {},
   "outputs": [],
   "source": [
    "X.reset_index(drop = True, inplace = True)\n",
    "Y.reset_index(drop = True, inplace = True)"
   ]
  },
  {
   "cell_type": "code",
   "execution_count": 112,
   "id": "32fae0f3",
   "metadata": {},
   "outputs": [
    {
     "name": "stderr",
     "output_type": "stream",
     "text": [
      "5it [00:02,  1.71it/s]"
     ]
    },
    {
     "name": "stdout",
     "output_type": "stream",
     "text": [
      "----[K-Fold Train Score]-----\n",
      "f1 score : 0.9979 / STD: (+/- 0.0003)\n",
      "precision score : 0.9961 / STD: (+/- 0.0007)\n",
      "recall score : 0.9997 / STD: (+/- 0.0003)\n",
      "----[K-Fold Validation Score]-----\n",
      "f1 score : 0.7719 / STD: (+/- 0.0054)\n",
      "precision score : 0.7818 / STD: (+/- 0.0120)\n",
      "recall score : 0.7625 / STD: (+/- 0.0085)\n"
     ]
    },
    {
     "name": "stderr",
     "output_type": "stream",
     "text": [
      "\n"
     ]
    }
   ],
   "source": [
    "from sklearn.model_selection import StratifiedKFold\n",
    "stratkfold = StratifiedKFold(n_splits=5, shuffle=True, random_state=42)\n",
    "result = {\"f1\":[], \"precision\":[], \"recall\":[]}\n",
    "train_result = {\"f1\":[], \"precision\":[], \"recall\":[]}\n",
    "\n",
    "# k-fold\n",
    "for train_idx, test_idx in tqdm(stratkfold.split(X,Y)):\n",
    "    x_train, x_test = X.iloc[train_idx], X.iloc[test_idx]\n",
    "    y_train, y_test = Y[train_idx], Y[test_idx]\n",
    "\n",
    "    # 모델 훈련\n",
    "    model.fit(x_train, y_train)\n",
    "    \n",
    "    train_pred = model.predict(x_train)\n",
    "    predict = model.predict(x_test)\n",
    "    \n",
    "    score_result = check_the_score(train_pred, y_train)\n",
    "    for name, score in score_result.items():\n",
    "        train_result[name].append(score)\n",
    "        \n",
    "    score_result = check_the_score(predict, y_test)\n",
    "    for name, score in score_result.items():\n",
    "        result[name].append(score)\n",
    "        \n",
    "print('----[K-Fold Train Score]-----')\n",
    "for name, score_list in train_result.items():\n",
    "    print(f'{name} score : {np.mean(score_list):.4f} / STD: (+/- {np.std(score_list):.4f})')\n",
    "    \n",
    "print('----[K-Fold Validation Score]-----')\n",
    "for name, score_list in result.items():\n",
    "    print(f'{name} score : {np.mean(score_list):.4f} / STD: (+/- {np.std(score_list):.4f})')"
   ]
  },
  {
   "cell_type": "markdown",
   "id": "3b0d2a17",
   "metadata": {},
   "source": [
    "## test & submission"
   ]
  },
  {
   "cell_type": "code",
   "execution_count": 113,
   "id": "93d7019c",
   "metadata": {},
   "outputs": [],
   "source": [
    "test_drop = df_test.drop(['id','is_converted'],axis = 1)"
   ]
  },
  {
   "cell_type": "code",
   "execution_count": 114,
   "id": "05379c6c",
   "metadata": {},
   "outputs": [],
   "source": [
    "pred = model.predict(test_drop)\n",
    "pred = np.where(pred == 0, False, True)"
   ]
  },
  {
   "cell_type": "code",
   "execution_count": 122,
   "id": "c8b3c4ab",
   "metadata": {},
   "outputs": [],
   "source": [
    "df_test['is_converted'] = pred"
   ]
  },
  {
   "cell_type": "code",
   "execution_count": 123,
   "id": "789017b4",
   "metadata": {},
   "outputs": [],
   "source": [
    "df_test.to_csv(\"submission.csv\",index = False)"
   ]
  },
  {
   "cell_type": "code",
   "execution_count": null,
   "id": "44d4a223",
   "metadata": {},
   "outputs": [],
   "source": []
  },
  {
   "cell_type": "code",
   "execution_count": null,
   "id": "c18ed9c8",
   "metadata": {},
   "outputs": [],
   "source": []
  }
 ],
 "metadata": {
  "kernelspec": {
   "display_name": "Python 3 (ipykernel)",
   "language": "python",
   "name": "python3"
  },
  "language_info": {
   "codemirror_mode": {
    "name": "ipython",
    "version": 3
   },
   "file_extension": ".py",
   "mimetype": "text/x-python",
   "name": "python",
   "nbconvert_exporter": "python",
   "pygments_lexer": "ipython3",
   "version": "3.10.13"
  }
 },
 "nbformat": 4,
 "nbformat_minor": 5
}

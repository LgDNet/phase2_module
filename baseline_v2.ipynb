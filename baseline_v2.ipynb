{
 "cells": [
  {
   "cell_type": "code",
   "execution_count": null,
   "id": "db275d8b",
   "metadata": {},
   "outputs": [],
   "source": [
    "# %rm -rf phase2_module\n",
    "# !git clone https://github.com/LgDNet/phase2_module.git\n",
    "# !cd phase2_module && make copy"
   ]
  },
  {
   "cell_type": "code",
   "execution_count": 1,
   "id": "22be91d3-373e-45af-bfef-2735a5a2a828",
   "metadata": {},
   "outputs": [
    {
     "name": "stdout",
     "output_type": "stream",
     "text": [
      "c:\\Users\\승범 pc\\Desktop\\공부\\딥러닝\\엘지에이머스\n"
     ]
    }
   ],
   "source": [
    "cd .."
   ]
  },
  {
   "cell_type": "code",
   "execution_count": 72,
   "id": "d1148052",
   "metadata": {},
   "outputs": [],
   "source": [
    "from phase2_module.src.utils.dataset import Data\n",
    "from phase2_module.src.models.classification.models import Model\n",
    "from phase2_module.src.base import BasePiepline\n",
    "# from phase2_module.src.hyper_parameters.params_optimization import xgboost_opt, set_params_optimization_data\n",
    "from phase2_module.src.utils.set_seed import seed_everything\n",
    "from phase2_module.src.utils.top_score_instance import check_the_score\n",
    "from phase2_module.src.utils.manage_pkl_files import PickleManager as pkl_manager\n",
    "from phase2_module.src import preprocess\n",
    "from sklearn.preprocessing import StandardScaler\n",
    "seed_everything()  # NOTE: default 42\n",
    "_model = Model()"
   ]
  },
  {
   "cell_type": "code",
   "execution_count": 73,
   "id": "7a70301f",
   "metadata": {},
   "outputs": [],
   "source": [
    "import pandas as pd\n",
    "import numpy as np\n",
    "import re, pickle\n",
    "import warnings\n",
    "from tqdm import tqdm\n",
    "warnings.filterwarnings(action='ignore')\n",
    "def set_up(mode= None):\n",
    "    pd.set_option('display.max_columns', mode)\n",
    "set_up()"
   ]
  },
  {
   "cell_type": "markdown",
   "id": "cd7808f8",
   "metadata": {},
   "source": [
    "# Preprocessing"
   ]
  },
  {
   "cell_type": "code",
   "execution_count": 165,
   "id": "0b3afe0a-018c-4d7d-8f41-0b33126f977a",
   "metadata": {},
   "outputs": [],
   "source": [
    "basic = preprocess.Basic\n",
    "country = preprocess.Country\n",
    "customer = preprocess.Customer\n",
    "inquiry = preprocess.Inquiry\n",
    "product_category = preprocess.ProductCategory"
   ]
  },
  {
   "cell_type": "markdown",
   "id": "f710021d",
   "metadata": {},
   "source": [
    "# Main"
   ]
  },
  {
   "cell_type": "code",
   "execution_count": 166,
   "id": "eee4817a",
   "metadata": {
    "scrolled": true
   },
   "outputs": [],
   "source": [
    "pkls = pkl_manager.map(pkl_manager.loads, pkl_manager.metadata_directory)\n",
    "\n",
    "runtime_instance = {\n",
    "    \"Train\": Data.train,\n",
    "    \"Test\": Data.test,\n",
    "    \"Instances\":[\n",
    "        {\"instance\": basic, \"method\": ['drop_duplicated'], \"params\": False},\n",
    "        {\"instance\": country, \"method\": ['apply'], \"params\": pkls.get(\"country\")},\n",
    "        {\"instance\": inquiry, \"method\": [\"apply\"], \"params\": False},\n",
    "        {\"instance\": product_category, \"method\": [\"apply\"], \"params\": pkls.get(\"product_category\")},\n",
    "        {\"instance\": customer, \"method\": [\"apply\"], \"params\": pkls.get(\"customer\")},\n",
    "    ]\n",
    "}"
   ]
  },
  {
   "cell_type": "markdown",
   "id": "da5e2f4f",
   "metadata": {},
   "source": [
    "## preprocessing"
   ]
  },
  {
   "cell_type": "code",
   "execution_count": 172,
   "id": "2050a8a3",
   "metadata": {},
   "outputs": [],
   "source": [
    "df_train = preprocess.runner('Train',**runtime_instance)\n",
    "df_test = preprocess.runner('Test',**runtime_instance)"
   ]
  },
  {
   "cell_type": "markdown",
   "id": "0d5afcab",
   "metadata": {},
   "source": [
    "## encoding"
   ]
  },
  {
   "cell_type": "code",
   "execution_count": 173,
   "id": "9bc01b31",
   "metadata": {},
   "outputs": [],
   "source": [
    "from sklearn.preprocessing import LabelEncoder\n",
    "class Encode:\n",
    "    def __init__(self):\n",
    "        pass\n",
    "    def label_encoder(self,df,columns):\n",
    "        if not encoding_zip['label']:\n",
    "            for col in columns: # train\n",
    "                encoder = LabelEncoder()\n",
    "                try:\n",
    "                    df.loc[:,col] = encoder.fit_transform(df[col])\n",
    "                except Exception as e:\n",
    "                    print(e)\n",
    "                    print(col)\n",
    "                # 인코더 저장\n",
    "                encoding_zip['label'].append(encoder)\n",
    "        else: # test\n",
    "            for idx, col in enumerate(columns):\n",
    "                encoder = encoding_zip['label'][idx]\n",
    "                \n",
    "                for label in np.sort(df[col].unique()):\n",
    "                    if label not in encoder.classes_:\n",
    "                        encoder.classes_ = np.append(encoder.classes_,label)\n",
    "                df.loc[:,col] = encoder.transform(df[col])\n",
    "            \n",
    "        return df"
   ]
  },
  {
   "cell_type": "code",
   "execution_count": 174,
   "id": "46038ade",
   "metadata": {},
   "outputs": [],
   "source": [
    "encode = Encode()\n",
    "encoding_zip = {\"label\":[], \"onehot\":[]}"
   ]
  },
  {
   "cell_type": "code",
   "execution_count": 175,
   "id": "6190c81f",
   "metadata": {},
   "outputs": [],
   "source": [
    "exisiting_columns = [\n",
    "                    'business_area','business_subarea','business_unit',\n",
    "#                         'customer_type','customer_job','customer_position'\n",
    "#                         'inquiry_type','expected_timeline',\n",
    "                        'enterprise',\n",
    "#                         'response_corporate',\"customer_country\"\n",
    "#                         'product_subcategory','product_category',\n",
    "] \n",
    "preprocess_columns = [\n",
    "                    'category_1','category_2', 'category_3', # product_category\n",
    "                    'new_inquiry_type','new_expected_timeline', # inquiry\n",
    "                    'country','continent', # country\n",
    "                    'customer_type2','job_function','seniority_level' # customer\n",
    "]"
   ]
  },
  {
   "cell_type": "code",
   "execution_count": 176,
   "id": "93a07f9f",
   "metadata": {},
   "outputs": [],
   "source": [
    "label_encode_columns = exisiting_columns + preprocess_columns"
   ]
  },
  {
   "cell_type": "code",
   "execution_count": 177,
   "id": "93051fc7",
   "metadata": {},
   "outputs": [],
   "source": [
    "# 결측치 채우기\n",
    "def fillna(df):\n",
    "    for col in df.columns:\n",
    "        if df[col].isna().sum():\n",
    "            if df[col].dtypes =='O':\n",
    "                df[col].fillna('ETC', inplace = True)\n",
    "            else:\n",
    "                df[col].fillna(0,inplace = True)\n",
    "    return df\n",
    "df_train = fillna(df_train)\n",
    "df_test = fillna(df_test)"
   ]
  },
  {
   "cell_type": "code",
   "execution_count": 135,
   "id": "2faef877",
   "metadata": {},
   "outputs": [],
   "source": [
    "# 스캐일러 사용.\n",
    "#scale = StandardScaler()\n",
    "#df_train['lead_desc_length'] = scale.fit_transform(df_train['lead_desc_length'].values.reshape(-1, 1))\n",
    "#df_test['lead_desc_length'] = scale.transform(df_test['lead_desc_length'].values.reshape(-1, 1))"
   ]
  },
  {
   "cell_type": "code",
   "execution_count": 178,
   "id": "2db70014",
   "metadata": {},
   "outputs": [],
   "source": [
    "df_train = encode.label_encoder(df_train,label_encode_columns)\n",
    "df_test = encode.label_encoder(df_test,label_encode_columns)"
   ]
  },
  {
   "cell_type": "markdown",
   "id": "e08c93b6",
   "metadata": {},
   "source": [
    "# Modeling"
   ]
  },
  {
   "cell_type": "markdown",
   "id": "ec3008eb",
   "metadata": {},
   "source": [
    "## drop column\n",
    "모델링 전이 column을 drop하면서 다루기가 쉽다고 판단하였음"
   ]
  },
  {
   "cell_type": "code",
   "execution_count": 179,
   "id": "48a0edcb",
   "metadata": {},
   "outputs": [],
   "source": [
    "drop_col = ['id_strategic_ver','it_strategic_ver',\n",
    "            'customer_country.1','response_corporate',\"customer_country\", # country\n",
    "            'customer_type','customer_job','customer_position', # customer\n",
    "            'inquiry_type', 'expected_timeline', #inquiry\n",
    "            'product_subcategory','product_category','product_modelname', # product_category\n",
    "            'cate_is_nan','category_3' # product_category\n",
    "#            'historical_existing_cnt',\n",
    "            ]\n",
    "df_train.drop(drop_col,axis = 1, inplace = True)\n",
    "df_test.drop(drop_col,axis = 1, inplace = True)"
   ]
  },
  {
   "cell_type": "code",
   "execution_count": 180,
   "id": "928b3be4",
   "metadata": {},
   "outputs": [],
   "source": [
    "# train\n",
    "customer_idx_counts = df_train['customer_idx'].value_counts()\n",
    "bins = [0, 2, 10, 100, 1000, 10000]\n",
    "df_counts = pd.cut(customer_idx_counts, bins=bins, labels=False, right=False)\n",
    "df_train['customer_idx'] = df_train['customer_idx'].map(df_counts)\n",
    "# test\n",
    "customer_idx_counts = df_test['customer_idx'].value_counts()\n",
    "bins = [0, 2, 10, 100, 1000, 10000]\n",
    "df_counts = pd.cut(customer_idx_counts, bins=bins, labels=False, right=False)\n",
    "df_test['customer_idx'] = df_test['customer_idx'].map(df_counts)"
   ]
  },
  {
   "cell_type": "code",
   "execution_count": 155,
   "id": "44ba0b68",
   "metadata": {},
   "outputs": [
    {
     "name": "stdout",
     "output_type": "stream",
     "text": [
      "55792\n",
      "51584\n"
     ]
    }
   ],
   "source": [
    "# 중복제거\n",
    "#print(len(df_train))\n",
    "#df_train = df_train.drop_duplicates()\n",
    "#print(len(df_train))\n"
   ]
  },
  {
   "cell_type": "markdown",
   "id": "9bb16055",
   "metadata": {},
   "source": [
    "## train"
   ]
  },
  {
   "cell_type": "code",
   "execution_count": 156,
   "id": "4eccb5b0",
   "metadata": {},
   "outputs": [],
   "source": [
    "model = _model.decision_tree"
   ]
  },
  {
   "cell_type": "code",
   "execution_count": 183,
   "id": "05b367a3",
   "metadata": {},
   "outputs": [
    {
     "data": {
      "text/plain": [
       "Index(['bant_submit', 'business_unit', 'com_reg_ver_win_rate', 'customer_idx',\n",
       "       'enterprise', 'historical_existing_cnt', 'idit_strategic_ver',\n",
       "       'lead_desc_length', 'ver_cus', 'ver_pro', 'ver_win_rate_x',\n",
       "       'ver_win_ratio_per_bu', 'business_area', 'business_subarea',\n",
       "       'lead_owner', 'is_converted', 'country', 'continent',\n",
       "       'new_inquiry_type', 'new_expected_timeline', 'customer_interest',\n",
       "       'category_1', 'category_2', 'customer_type2', 'job_function',\n",
       "       'seniority_level'],\n",
       "      dtype='object')"
      ]
     },
     "execution_count": 183,
     "metadata": {},
     "output_type": "execute_result"
    }
   ],
   "source": [
    "df_train.columns"
   ]
  },
  {
   "cell_type": "code",
   "execution_count": 181,
   "id": "c14a6274",
   "metadata": {},
   "outputs": [],
   "source": [
    "X = df_train.drop([\"is_converted\"],axis = 1)\n",
    "Y = df_train['is_converted']"
   ]
  },
  {
   "cell_type": "code",
   "execution_count": 182,
   "id": "84c237e5",
   "metadata": {},
   "outputs": [],
   "source": [
    "X.reset_index(drop = True, inplace = True)\n",
    "Y.reset_index(drop = True, inplace = True)"
   ]
  },
  {
   "cell_type": "code",
   "execution_count": 184,
   "id": "32fae0f3",
   "metadata": {},
   "outputs": [
    {
     "name": "stderr",
     "output_type": "stream",
     "text": [
      "5it [00:01,  4.01it/s]"
     ]
    },
    {
     "name": "stdout",
     "output_type": "stream",
     "text": [
      "----[K-Fold Train Score]-----\n",
      "f1 score : 0.9881 / STD: (+/- 0.0002)\n",
      "precision score : 0.9806 / STD: (+/- 0.0011)\n",
      "recall score : 0.9957 / STD: (+/- 0.0013)\n",
      "roc_auc_score score : 0.9970 / STD: (+/- 0.0006)\n",
      "----[K-Fold Validation Score]-----\n",
      "f1 score : 0.7845 / STD: (+/- 0.0048)\n",
      "precision score : 0.7903 / STD: (+/- 0.0126)\n",
      "recall score : 0.7791 / STD: (+/- 0.0107)\n",
      "roc_auc_score score : 0.8801 / STD: (+/- 0.0050)\n"
     ]
    },
    {
     "name": "stderr",
     "output_type": "stream",
     "text": [
      "\n"
     ]
    }
   ],
   "source": [
    "from sklearn.model_selection import StratifiedKFold\n",
    "from collections import defaultdict\n",
    "stratkfold = StratifiedKFold(n_splits=5, shuffle=True, random_state=42)\n",
    "result = defaultdict(list)\n",
    "train_result = defaultdict(list)\n",
    "\n",
    "# k-fold\n",
    "for train_idx, test_idx in tqdm(stratkfold.split(X,Y)):\n",
    "    x_train, x_test = X.iloc[train_idx], X.iloc[test_idx]\n",
    "    y_train, y_test = Y[train_idx], Y[test_idx]\n",
    "\n",
    "    # 모델 훈련\n",
    "    model.fit(x_train, y_train)\n",
    "    \n",
    "    train_pred = model.predict(x_train)\n",
    "    predict = model.predict(x_test)\n",
    "    \n",
    "    score_result = check_the_score(train_pred, y_train)\n",
    "    for name, score in score_result.items():\n",
    "        train_result[name].append(score)\n",
    "        \n",
    "    score_result = check_the_score(predict, y_test)\n",
    "    for name, score in score_result.items():\n",
    "        result[name].append(score)\n",
    "        \n",
    "print('----[K-Fold Train Score]-----')\n",
    "for name, score_list in train_result.items():\n",
    "    print(f'{name} score : {np.mean(score_list):.4f} / STD: (+/- {np.std(score_list):.4f})')\n",
    "    \n",
    "print('----[K-Fold Validation Score]-----')\n",
    "for name, score_list in result.items():\n",
    "    print(f'{name} score : {np.mean(score_list):.4f} / STD: (+/- {np.std(score_list):.4f})')"
   ]
  },
  {
   "cell_type": "markdown",
   "id": "3b0d2a17",
   "metadata": {},
   "source": [
    "## test & submission"
   ]
  },
  {
   "cell_type": "code",
   "execution_count": 191,
   "id": "afdc22d5",
   "metadata": {},
   "outputs": [
    {
     "data": {
      "text/plain": [
       "array([0.01179212, 0.0078893 , 0.04298346, 0.10441303, 0.01766558,\n",
       "       0.42473824, 0.00104566, 0.06843767, 0.00792245, 0.00120848,\n",
       "       0.00524577, 0.0165652 , 0.0091973 , 0.01494967, 0.11924774,\n",
       "       0.02303771, 0.01139486, 0.00258305, 0.01304036, 0.00854027,\n",
       "       0.00591273, 0.0107316 , 0.02049794, 0.030273  , 0.02068682])"
      ]
     },
     "execution_count": 191,
     "metadata": {},
     "output_type": "execute_result"
    }
   ],
   "source": [
    "model.feature_importances_"
   ]
  },
  {
   "cell_type": "code",
   "execution_count": 185,
   "id": "93d7019c",
   "metadata": {},
   "outputs": [],
   "source": [
    "test_drop = df_test.drop(['id','is_converted'],axis = 1)"
   ]
  },
  {
   "cell_type": "code",
   "execution_count": 186,
   "id": "05379c6c",
   "metadata": {},
   "outputs": [],
   "source": [
    "pred = model.predict(test_drop)\n",
    "pred = np.where(pred == 0, False, True)"
   ]
  },
  {
   "cell_type": "code",
   "execution_count": 187,
   "id": "c8b3c4ab",
   "metadata": {},
   "outputs": [
    {
     "data": {
      "text/plain": [
       "False    4125\n",
       "True     1146\n",
       "Name: is_converted, dtype: int64"
      ]
     },
     "execution_count": 187,
     "metadata": {},
     "output_type": "execute_result"
    }
   ],
   "source": [
    "df_test['is_converted'] = pred\n",
    "df_test['is_converted'].value_counts()"
   ]
  },
  {
   "cell_type": "code",
   "execution_count": 188,
   "id": "789017b4",
   "metadata": {},
   "outputs": [],
   "source": [
    "df_test.to_csv(\"submission.csv\",index = False)"
   ]
  },
  {
   "cell_type": "code",
   "execution_count": null,
   "id": "44d4a223",
   "metadata": {},
   "outputs": [],
   "source": []
  },
  {
   "cell_type": "code",
   "execution_count": null,
   "id": "c18ed9c8",
   "metadata": {},
   "outputs": [],
   "source": []
  }
 ],
 "metadata": {
  "kernelspec": {
   "display_name": "Python 3 (ipykernel)",
   "language": "python",
   "name": "python3"
  },
  "language_info": {
   "codemirror_mode": {
    "name": "ipython",
    "version": 3
   },
   "file_extension": ".py",
   "mimetype": "text/x-python",
   "name": "python",
   "nbconvert_exporter": "python",
   "pygments_lexer": "ipython3",
   "version": "3.11.8"
  }
 },
 "nbformat": 4,
 "nbformat_minor": 5
}

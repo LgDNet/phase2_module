{
 "cells": [
  {
   "cell_type": "code",
   "execution_count": 15,
   "id": "db275d8b",
   "metadata": {
    "scrolled": true
   },
   "outputs": [],
   "source": [
    "# %rm -rf phase2_module\n",
    "# !git clone https://github.com/LgDNet/phase2_module.git\n",
    "# !cd phase2_module && make copy"
   ]
  },
  {
   "cell_type": "code",
   "execution_count": 57,
   "id": "d1148052",
   "metadata": {},
   "outputs": [],
   "source": [
    "from phase2_module.src.utils.dataset import Data\n",
    "from phase2_module.src.models.classification.models import Model\n",
    "from phase2_module.src.base import BasePiepline\n",
    "# from phase2_module.src.hyper_parameters.params_optimization import xgboost_opt, set_params_optimization_data\n",
    "from phase2_module.src.utils.set_seed import seed_everything\n",
    "from phase2_module.src.utils.top_score_instance import check_the_score\n",
    "\n",
    "from phase2_module.src.utils.manage_pkl_files import PickleManager as pkl_manager\n",
    "from phase2_module.src import preprocess\n",
    "seed_everything()  # NOTE: default 42\n",
    "_model = Model()"
   ]
  },
  {
   "cell_type": "code",
   "execution_count": 58,
   "id": "7a70301f",
   "metadata": {},
   "outputs": [],
   "source": [
    "import pandas as pd\n",
    "import numpy as np\n",
    "import re, pickle\n",
    "import warnings\n",
    "from tqdm import tqdm\n",
    "warnings.filterwarnings(action='ignore')\n",
    "def set_up(mode= None):\n",
    "    pd.set_option('display.max_columns', mode)\n",
    "set_up()"
   ]
  },
  {
   "cell_type": "markdown",
   "id": "cd7808f8",
   "metadata": {},
   "source": [
    "# Preprocessing"
   ]
  },
  {
   "cell_type": "code",
   "execution_count": 59,
   "id": "0b3afe0a-018c-4d7d-8f41-0b33126f977a",
   "metadata": {},
   "outputs": [],
   "source": [
    "basic = preprocess.Basic\n",
    "country = preprocess.Country\n",
    "customer = preprocess.Customer\n",
    "inquiry = preprocess.Inquiry\n",
    "product_category = preprocess.ProductCategory\n",
    "convert_ratio = preprocess.Convert_ratio"
   ]
  },
  {
   "cell_type": "markdown",
   "id": "f710021d",
   "metadata": {},
   "source": [
    "# Main"
   ]
  },
  {
   "cell_type": "code",
   "execution_count": 60,
   "id": "eee4817a",
   "metadata": {
    "scrolled": true
   },
   "outputs": [],
   "source": [
    "pkls = pkl_manager.map(pkl_manager.loads, pkl_manager.metadata_directory)\n",
    "\n",
    "runtime_instance = {\n",
    "    \"Train\": Data.train,\n",
    "    \"Test\": Data.test,\n",
    "    \"Instances\":[\n",
    "        {\"instance\": basic, \"method\": ['drop_duplicated'], \"params\": False},\n",
    "        {\"instance\": country, \"method\": ['apply'], \"params\": pkls.get(\"country\")},\n",
    "        {\"instance\": inquiry, \"method\": [\"apply\"], \"params\": False},\n",
    "        {\"instance\": product_category, \"method\": [\"apply\"], \"params\": {**pkls.get(\"product_category\"), **pkls.get(\"product_subcategory\")}},\n",
    "        {\"instance\": customer, \"method\": [\"apply\"], \"params\": pkls.get(\"customer\")},\n",
    "        {\"instance\": convert_ratio, \"method\": [\"lead_owner\",\"customer_idx\",'lead_owner_customer_idx_means'], \"params\": {**pkls.get(\"lead_owner\"), **pkls.get(\"customer_idx\")}}\n",
    "    ]\n",
    "}"
   ]
  },
  {
   "cell_type": "markdown",
   "id": "da5e2f4f",
   "metadata": {},
   "source": [
    "## preprocessing"
   ]
  },
  {
   "cell_type": "code",
   "execution_count": 61,
   "id": "2050a8a3",
   "metadata": {
    "scrolled": true
   },
   "outputs": [],
   "source": [
    "df_train = preprocess.runner('Train',**runtime_instance)\n",
    "df_test = preprocess.runner('Test',**runtime_instance)"
   ]
  },
  {
   "cell_type": "code",
   "execution_count": 62,
   "id": "c7a7a900",
   "metadata": {},
   "outputs": [],
   "source": [
    "customer_idx_counts = df_train['customer_idx'].value_counts()\n",
    "bins = [0, 2, 10, 100, 1000, 10000]\n",
    "df_counts = pd.cut(customer_idx_counts, bins=bins, labels=False, right=False)\n",
    "df_train['customer_idx_group'] = df_train['customer_idx'].map(df_counts)\n",
    "\n",
    "customer_idx_counts = df_test['customer_idx'].value_counts()\n",
    "bins = [0, 2, 10, 100, 1000, 10000]\n",
    "df_counts = pd.cut(customer_idx_counts, bins=bins, labels=False, right=False)\n",
    "df_test['customer_idx_group'] = df_test['customer_idx'].map(df_counts)"
   ]
  },
  {
   "cell_type": "markdown",
   "id": "0d5afcab",
   "metadata": {},
   "source": [
    "## encoding"
   ]
  },
  {
   "cell_type": "code",
   "execution_count": 66,
   "id": "9bc01b31",
   "metadata": {},
   "outputs": [],
   "source": [
    "from sklearn.preprocessing import LabelEncoder, OneHotEncoder\n",
    "class Encode:\n",
    "    def __init__(self):\n",
    "        pass\n",
    "    \n",
    "    def label_encoder(self,df,columns):\n",
    "        if not encoding_zip['label']:\n",
    "            for col in columns: # train\n",
    "                encoder = LabelEncoder()\n",
    "                try:\n",
    "                    df.loc[:,col] = encoder.fit_transform(df[col])\n",
    "                except Exception as e:\n",
    "                    print(e)\n",
    "                    print(col)\n",
    "                # 인코더 저장\n",
    "                encoding_zip['label'].append(encoder)\n",
    "        else: # test\n",
    "            for idx, col in enumerate(columns):\n",
    "                encoder = encoding_zip['label'][idx]\n",
    "                \n",
    "                for label in np.sort(df[col].unique()):\n",
    "                    if label not in encoder.classes_:\n",
    "                        encoder.classes_ = np.append(encoder.classes_,label)\n",
    "                df.loc[:,col] = encoder.transform(df[col])\n",
    "        return df\n",
    "    \n",
    "    def convert_dataframe(self,df, onehot_arr, category_list, col_):\n",
    "        col_list = np.concatenate([i.flatten() for i in category_list])    \n",
    "        onehot_df = pd.DataFrame(onehot_arr, columns=[f\"OneHot_{col_name}\"\\\n",
    "                                          for col_name in col_list])\n",
    "        df = pd.concat([df,onehot_df],axis = 1)\n",
    "        df.drop(col_,axis = 1, inplace = True)\n",
    "        return df\n",
    "    \n",
    "    def onehot_encoder(self,df,columns):\n",
    "        if not encoding_zip['onehot']:\n",
    "            encoder = OneHotEncoder(sparse=False)\n",
    "            try:\n",
    "                onehot_arr = encoder.fit_transform(df[columns])\n",
    "                df = self.convert_dataframe(df,onehot_arr,encoder.categories_,columns)\n",
    "            except Exception as e:\n",
    "                print(e, col)\n",
    "            # 인코더 저장\n",
    "            encoding_zip['onehot'].append(encoder)\n",
    "        else:\n",
    "            encoder = encoding_zip['onehot'][0]\n",
    "            onehot_arr = encoder.transform(df[columns])\n",
    "            df = self.convert_dataframe(df,onehot_arr,encoder.categories_,columns)\n",
    "        return df"
   ]
  },
  {
   "cell_type": "code",
   "execution_count": 67,
   "id": "46038ade",
   "metadata": {},
   "outputs": [],
   "source": [
    "encode = Encode()\n",
    "encoding_zip = {\"label\":[], \"onehot\":[]}"
   ]
  },
  {
   "cell_type": "code",
   "execution_count": 68,
   "id": "6190c81f",
   "metadata": {},
   "outputs": [],
   "source": [
    "exisiting_columns = [\n",
    "                     'business_area','business_subarea','business_unit',\n",
    "                        'enterprise',\n",
    "#                         'response_corporate',\"customer_country\", # country\n",
    "#                         'customer_type','customer_job','customer_position', #customer\n",
    "#                         'inquiry_type','expected_timeline', # inquiry\n",
    "#                         'product_subcategory','product_category','product_modelname' # product_category\n",
    "                       ] \n",
    "preprocess_columns = [\n",
    "                     'country','continent', # country\n",
    "                     'customer_type2','job_function','seniority_level', # customer\n",
    "                     'new_expected_timeline', 'new_inquiry_type',# inquiry\n",
    "                     'category_1','category_2','category_3', # product_category\n",
    "#                      'test2'\n",
    "                     ]"
   ]
  },
  {
   "cell_type": "code",
   "execution_count": 69,
   "id": "93a07f9f",
   "metadata": {},
   "outputs": [],
   "source": [
    "label_encode_columns = exisiting_columns + preprocess_columns"
   ]
  },
  {
   "cell_type": "code",
   "execution_count": 70,
   "id": "93051fc7",
   "metadata": {
    "scrolled": true
   },
   "outputs": [],
   "source": [
    "# 결측치 채우기\n",
    "def fillna(df):\n",
    "    for col in df.columns:\n",
    "        if df[col].isna().sum():\n",
    "            if df[col].dtypes =='O':\n",
    "                df[col].fillna('Space', inplace = True)\n",
    "            else:\n",
    "                df[col].fillna(0,inplace = True)\n",
    "    return df\n",
    "df_train = fillna(df_train)\n",
    "df_test = fillna(df_test)"
   ]
  },
  {
   "cell_type": "code",
   "execution_count": 71,
   "id": "72354c9e",
   "metadata": {},
   "outputs": [
    {
     "ename": "NameError",
     "evalue": "name 'onehot_encode_columns' is not defined",
     "output_type": "error",
     "traceback": [
      "\u001b[0;31m---------------------------------------------------------------------------\u001b[0m",
      "\u001b[0;31mNameError\u001b[0m                                 Traceback (most recent call last)",
      "Cell \u001b[0;32mIn[71], line 2\u001b[0m\n\u001b[1;32m      1\u001b[0m \u001b[38;5;66;03m# onehot_encode_columns = ['new_inquiry_type']\u001b[39;00m\n\u001b[0;32m----> 2\u001b[0m df_train \u001b[38;5;241m=\u001b[39m encode\u001b[38;5;241m.\u001b[39monehot_encoder(df_train,\u001b[43monehot_encode_columns\u001b[49m)\n\u001b[1;32m      3\u001b[0m df_test \u001b[38;5;241m=\u001b[39m encode\u001b[38;5;241m.\u001b[39monehot_encoder(df_test,onehot_encode_columns)\n",
      "\u001b[0;31mNameError\u001b[0m: name 'onehot_encode_columns' is not defined"
     ]
    }
   ],
   "source": [
    "# one-hot encoding\n",
    "# onehot_encode_columns = ['new_inquiry_type']\n",
    "# df_train = encode.onehot_encoder(df_train,onehot_encode_columns)\n",
    "# df_test = encode.onehot_encoder(df_test,onehot_encode_columns)"
   ]
  },
  {
   "cell_type": "code",
   "execution_count": null,
   "id": "b67d1263",
   "metadata": {},
   "outputs": [],
   "source": [
    "# label encoding\n",
    "df_train = encode.label_encoder(df_train,label_encode_columns)\n",
    "df_test = encode.label_encoder(df_test,label_encode_columns)"
   ]
  },
  {
   "cell_type": "markdown",
   "id": "e08c93b6",
   "metadata": {},
   "source": [
    "# Modeling"
   ]
  },
  {
   "cell_type": "markdown",
   "id": "ec3008eb",
   "metadata": {},
   "source": [
    "## drop column\n",
    "모델링 전이 column을 drop하면서 다루기가 쉽다고 판단하였음"
   ]
  },
  {
   "cell_type": "code",
   "execution_count": 14,
   "id": "48a0edcb",
   "metadata": {
    "scrolled": true
   },
   "outputs": [],
   "source": [
    "drop_col = [\n",
    "            'id_strategic_ver','it_strategic_ver',\n",
    "            'customer_country.1',\n",
    "    \n",
    "            'response_corporate',\"customer_country\", # country\n",
    "            'customer_type','customer_job','customer_position', # customer\n",
    "            'inquiry_type', 'expected_timeline', #inquiry\n",
    "            'product_subcategory','product_category','product_modelname', # product_category\n",
    "#             'cate_is_nan', # product_category\n",
    "    \n",
    "#             'com_reg_ver_win_rate','idit_strategic_ver','ver_cus',\n",
    "#             'ver_pro','ver_win_rate_x','ver_win_ratio_per_bu',\n",
    "            'customer_idx',\n",
    "            'customer_idx_converted_ratio', # ratio\n",
    "            'idit_strategic_ver','ver_pro', # test\n",
    "            ]\n",
    "df_train.drop(drop_col,axis = 1, inplace = True)\n",
    "\n",
    "df_test.drop(drop_col,axis = 1, inplace = True)"
   ]
  },
  {
   "cell_type": "markdown",
   "id": "7c21bdbc",
   "metadata": {},
   "source": [
    "## Scaler"
   ]
  },
  {
   "cell_type": "code",
   "execution_count": 15,
   "id": "521f3342",
   "metadata": {},
   "outputs": [],
   "source": [
    "import numpy as np\n",
    "# log 변환\n",
    "df_train['lead_desc_length'] = np.log1p(df_train['lead_desc_length'])\n",
    "df_test['lead_desc_length'] = np.log1p(df_test['lead_desc_length'])"
   ]
  },
  {
   "cell_type": "code",
   "execution_count": 16,
   "id": "40c5a6d7",
   "metadata": {
    "scrolled": true
   },
   "outputs": [],
   "source": [
    "from sklearn.preprocessing import StandardScaler\n",
    "scaler = StandardScaler()\n",
    "df_train[['lead_owner_converted_ratio','lead_owner_customer_idx_mean']] = scaler.fit_transform(df_train[['lead_owner_converted_ratio','lead_owner_customer_idx_mean']])\n",
    "df_test[['lead_owner_converted_ratio','lead_owner_customer_idx_mean']] = scaler.transform(df_test[['lead_owner_converted_ratio','lead_owner_customer_idx_mean']])\n",
    "# df_test['lead_desc_length'] = scale.transform(df_test['lead_desc_length'].values.reshape(-1, 1))"
   ]
  },
  {
   "cell_type": "markdown",
   "id": "9bb16055",
   "metadata": {},
   "source": [
    "## train"
   ]
  },
  {
   "cell_type": "code",
   "execution_count": 17,
   "id": "4eccb5b0",
   "metadata": {},
   "outputs": [],
   "source": [
    "model = _model.decision_tree"
   ]
  },
  {
   "cell_type": "code",
   "execution_count": 154,
   "id": "e5809cc6",
   "metadata": {},
   "outputs": [],
   "source": [
    "# dict_ = {'criterion': 'entropy', 'max_depth': 14, 'min_samples_split': 17, 'min_samples_leaf': 4, 'random_state': 42}"
   ]
  },
  {
   "cell_type": "code",
   "execution_count": 18,
   "id": "51622100",
   "metadata": {},
   "outputs": [],
   "source": [
    "dict_ = {'criterion': 'log_loss', 'max_depth': 20, 'min_samples_split': 7, 'min_samples_leaf': 2, 'random_state': 42}"
   ]
  },
  {
   "cell_type": "code",
   "execution_count": 19,
   "id": "ab24c7c0",
   "metadata": {},
   "outputs": [
    {
     "data": {
      "text/html": [
       "<style>#sk-container-id-1 {color: black;background-color: white;}#sk-container-id-1 pre{padding: 0;}#sk-container-id-1 div.sk-toggleable {background-color: white;}#sk-container-id-1 label.sk-toggleable__label {cursor: pointer;display: block;width: 100%;margin-bottom: 0;padding: 0.3em;box-sizing: border-box;text-align: center;}#sk-container-id-1 label.sk-toggleable__label-arrow:before {content: \"▸\";float: left;margin-right: 0.25em;color: #696969;}#sk-container-id-1 label.sk-toggleable__label-arrow:hover:before {color: black;}#sk-container-id-1 div.sk-estimator:hover label.sk-toggleable__label-arrow:before {color: black;}#sk-container-id-1 div.sk-toggleable__content {max-height: 0;max-width: 0;overflow: hidden;text-align: left;background-color: #f0f8ff;}#sk-container-id-1 div.sk-toggleable__content pre {margin: 0.2em;color: black;border-radius: 0.25em;background-color: #f0f8ff;}#sk-container-id-1 input.sk-toggleable__control:checked~div.sk-toggleable__content {max-height: 200px;max-width: 100%;overflow: auto;}#sk-container-id-1 input.sk-toggleable__control:checked~label.sk-toggleable__label-arrow:before {content: \"▾\";}#sk-container-id-1 div.sk-estimator input.sk-toggleable__control:checked~label.sk-toggleable__label {background-color: #d4ebff;}#sk-container-id-1 div.sk-label input.sk-toggleable__control:checked~label.sk-toggleable__label {background-color: #d4ebff;}#sk-container-id-1 input.sk-hidden--visually {border: 0;clip: rect(1px 1px 1px 1px);clip: rect(1px, 1px, 1px, 1px);height: 1px;margin: -1px;overflow: hidden;padding: 0;position: absolute;width: 1px;}#sk-container-id-1 div.sk-estimator {font-family: monospace;background-color: #f0f8ff;border: 1px dotted black;border-radius: 0.25em;box-sizing: border-box;margin-bottom: 0.5em;}#sk-container-id-1 div.sk-estimator:hover {background-color: #d4ebff;}#sk-container-id-1 div.sk-parallel-item::after {content: \"\";width: 100%;border-bottom: 1px solid gray;flex-grow: 1;}#sk-container-id-1 div.sk-label:hover label.sk-toggleable__label {background-color: #d4ebff;}#sk-container-id-1 div.sk-serial::before {content: \"\";position: absolute;border-left: 1px solid gray;box-sizing: border-box;top: 0;bottom: 0;left: 50%;z-index: 0;}#sk-container-id-1 div.sk-serial {display: flex;flex-direction: column;align-items: center;background-color: white;padding-right: 0.2em;padding-left: 0.2em;position: relative;}#sk-container-id-1 div.sk-item {position: relative;z-index: 1;}#sk-container-id-1 div.sk-parallel {display: flex;align-items: stretch;justify-content: center;background-color: white;position: relative;}#sk-container-id-1 div.sk-item::before, #sk-container-id-1 div.sk-parallel-item::before {content: \"\";position: absolute;border-left: 1px solid gray;box-sizing: border-box;top: 0;bottom: 0;left: 50%;z-index: -1;}#sk-container-id-1 div.sk-parallel-item {display: flex;flex-direction: column;z-index: 1;position: relative;background-color: white;}#sk-container-id-1 div.sk-parallel-item:first-child::after {align-self: flex-end;width: 50%;}#sk-container-id-1 div.sk-parallel-item:last-child::after {align-self: flex-start;width: 50%;}#sk-container-id-1 div.sk-parallel-item:only-child::after {width: 0;}#sk-container-id-1 div.sk-dashed-wrapped {border: 1px dashed gray;margin: 0 0.4em 0.5em 0.4em;box-sizing: border-box;padding-bottom: 0.4em;background-color: white;}#sk-container-id-1 div.sk-label label {font-family: monospace;font-weight: bold;display: inline-block;line-height: 1.2em;}#sk-container-id-1 div.sk-label-container {text-align: center;}#sk-container-id-1 div.sk-container {/* jupyter's `normalize.less` sets `[hidden] { display: none; }` but bootstrap.min.css set `[hidden] { display: none !important; }` so we also need the `!important` here to be able to override the default hidden behavior on the sphinx rendered scikit-learn.org. See: https://github.com/scikit-learn/scikit-learn/issues/21755 */display: inline-block !important;position: relative;}#sk-container-id-1 div.sk-text-repr-fallback {display: none;}</style><div id=\"sk-container-id-1\" class=\"sk-top-container\"><div class=\"sk-text-repr-fallback\"><pre>DecisionTreeClassifier(criterion=&#x27;log_loss&#x27;, max_depth=20, min_samples_leaf=2,\n",
       "                       min_samples_split=7, random_state=42)</pre><b>In a Jupyter environment, please rerun this cell to show the HTML representation or trust the notebook. <br />On GitHub, the HTML representation is unable to render, please try loading this page with nbviewer.org.</b></div><div class=\"sk-container\" hidden><div class=\"sk-item\"><div class=\"sk-estimator sk-toggleable\"><input class=\"sk-toggleable__control sk-hidden--visually\" id=\"sk-estimator-id-1\" type=\"checkbox\" checked><label for=\"sk-estimator-id-1\" class=\"sk-toggleable__label sk-toggleable__label-arrow\">DecisionTreeClassifier</label><div class=\"sk-toggleable__content\"><pre>DecisionTreeClassifier(criterion=&#x27;log_loss&#x27;, max_depth=20, min_samples_leaf=2,\n",
       "                       min_samples_split=7, random_state=42)</pre></div></div></div></div></div>"
      ],
      "text/plain": [
       "DecisionTreeClassifier(criterion='log_loss', max_depth=20, min_samples_leaf=2,\n",
       "                       min_samples_split=7, random_state=42)"
      ]
     },
     "execution_count": 19,
     "metadata": {},
     "output_type": "execute_result"
    }
   ],
   "source": [
    "model.set_params(**dict_)"
   ]
  },
  {
   "cell_type": "code",
   "execution_count": 20,
   "id": "c14a6274",
   "metadata": {},
   "outputs": [],
   "source": [
    "X = df_train.drop([\"is_converted\"],axis = 1)\n",
    "Y = df_train['is_converted']"
   ]
  },
  {
   "cell_type": "code",
   "execution_count": 21,
   "id": "28153031",
   "metadata": {},
   "outputs": [
    {
     "name": "stderr",
     "output_type": "stream",
     "text": [
      "5it [00:01,  3.78it/s]"
     ]
    },
    {
     "name": "stdout",
     "output_type": "stream",
     "text": [
      "----[K-Fold Train Score]-----\n",
      "f1 score : 0.9353 / STD: (+/- 0.0025)\n",
      "precision score : 0.9107 / STD: (+/- 0.0034)\n",
      "recall score : 0.9613 / STD: (+/- 0.0057)\n",
      "roc_auc_score score : 0.9766 / STD: (+/- 0.0028)\n",
      "----[K-Fold Validation Score]-----\n",
      "f1 score : 0.8164 / STD: (+/- 0.0047)\n",
      "precision score : 0.7981 / STD: (+/- 0.0030)\n",
      "recall score : 0.8356 / STD: (+/- 0.0091)\n",
      "roc_auc_score score : 0.9087 / STD: (+/- 0.0046)\n"
     ]
    },
    {
     "name": "stderr",
     "output_type": "stream",
     "text": [
      "\n"
     ]
    }
   ],
   "source": [
    "from sklearn.model_selection import StratifiedKFold\n",
    "stratkfold = StratifiedKFold(n_splits=3, shuffle=True, random_state=42)\n",
    "result = {\"f1\":[], \"precision\":[], \"recall\":[],'roc_auc_score':[]}\n",
    "train_result = {\"f1\":[], \"precision\":[], \"recall\":[],'roc_auc_score':[]}\n",
    "models = [] # 모델을 저장할 리스트\n",
    "\n",
    "# k-fold\n",
    "for train_idx, test_idx in tqdm(stratkfold.split(X,Y)):\n",
    "    x_train, x_test = X.iloc[train_idx], X.iloc[test_idx]\n",
    "    y_train, y_test = Y[train_idx], Y[test_idx]\n",
    "\n",
    "    # 모델 훈련\n",
    "    model.fit(x_train, y_train)\n",
    "    models.append(model) # 훈련된 모델을 리스트에 추가\n",
    "    train_pred = model.predict(x_train)\n",
    "    predict = model.predict(x_test)\n",
    "\n",
    "    score_result = check_the_score(train_pred, y_train)\n",
    "    for name, score in score_result.items():\n",
    "        train_result[name].append(score)\n",
    "\n",
    "    score_result = check_the_score(predict, y_test)\n",
    "    for name, score in score_result.items():\n",
    "        result[name].append(score)\n",
    "\n",
    "print('----[K-Fold Train Score]-----')\n",
    "for name, score_list in train_result.items():\n",
    "    print(f'{name} score : {np.mean(score_list):.4f} / STD: (+/- {np.std(score_list):.4f})')\n",
    "\n",
    "print('----[K-Fold Validation Score]-----')\n",
    "for name, score_list in result.items():\n",
    "    print(f'{name} score : {np.mean(score_list):.4f} / STD: (+/- {np.std(score_list):.4f})')"
   ]
  },
  {
   "cell_type": "code",
   "execution_count": null,
   "id": "ae0d24a9",
   "metadata": {},
   "outputs": [],
   "source": [
    "# customer_idx 없을 때\n",
    "----[K-Fold Train Score]-----\n",
    "f1 score : 0.8873 / STD: (+/- 0.0056)\n",
    "precision score : 0.8529 / STD: (+/- 0.0046)\n",
    "recall score : 0.9247 / STD: (+/- 0.0096)\n",
    "roc_auc_score score : 0.9557 / STD: (+/- 0.0049)\n",
    "----[K-Fold Validation Score]-----\n",
    "f1 score : 0.6427 / STD: (+/- 0.0162)\n",
    "precision score : 0.6208 / STD: (+/- 0.0200)\n",
    "recall score : 0.6665 / STD: (+/- 0.0139)\n",
    "roc_auc_score score : 0.8162 / STD: (+/- 0.0076)\n",
    "# 있고 범주화 할 때\n",
    "----[K-Fold Train Score]-----\n",
    "f1 score : 0.9353 / STD: (+/- 0.0025)\n",
    "precision score : 0.9107 / STD: (+/- 0.0034)\n",
    "recall score : 0.9613 / STD: (+/- 0.0057)\n",
    "roc_auc_score score : 0.9766 / STD: (+/- 0.0028)\n",
    "----[K-Fold Validation Score]-----\n",
    "f1 score : 0.8165 / STD: (+/- 0.0042)\n",
    "precision score : 0.7987 / STD: (+/- 0.0030)\n",
    "recall score : 0.8351 / STD: (+/- 0.0089)\n",
    "roc_auc_score score : 0.9085 / STD: (+/- 0.0044)"
   ]
  },
  {
   "cell_type": "code",
   "execution_count": 22,
   "id": "14881c5b",
   "metadata": {
    "scrolled": true
   },
   "outputs": [
    {
     "name": "stdout",
     "output_type": "stream",
     "text": [
      "lead_owner_converted_ratio: 0.46197724754689223\n",
      "historical_existing_cnt: 0.18956320807548532\n",
      "customer_idx_group: 0.1050286291456926\n",
      "lead_desc_length: 0.03618786410715335\n",
      "customer_type2: 0.027376297886678242\n",
      "lead_owner_customer_idx_mean: 0.023367490925963474\n",
      "business_subarea: 0.020690323174166858\n",
      "lead_owner: 0.015898539762671127\n",
      "job_function: 0.015177007724198915\n",
      "enterprise: 0.011936021766097215\n",
      "seniority_level: 0.011136260497499328\n",
      "country: 0.01098848356238286\n",
      "category_3: 0.010007004918218222\n",
      "com_reg_ver_win_rate: 0.008355111564064235\n",
      "customer_interest: 0.007845818405747017\n",
      "bant_submit: 0.007327869077312415\n",
      "category_2: 0.0064443994749919025\n",
      "new_expected_timeline: 0.005003023412746248\n",
      "business_area: 0.004523153304656697\n",
      "business_unit: 0.004397153554186661\n",
      "ver_win_rate_x: 0.004257659003341533\n",
      "continent: 0.004018362132046825\n",
      "ver_win_ratio_per_bu: 0.0033383156871584717\n",
      "category_1: 0.002432031694874875\n",
      "ver_cus: 0.0018816615994445495\n",
      "new_inquiry_type: 0.0008410619963286626\n"
     ]
    }
   ],
   "source": [
    "feature_importances = model.feature_importances_\n",
    "feature_names = x_train.columns\n",
    "feature_importance_dict = dict(zip(feature_names, feature_importances))\n",
    "sorted_importance_dict = {k: v for k, v in sorted(feature_importance_dict.items(), key=lambda item: item[1], reverse=True)}\n",
    "for feature_name, importance in sorted_importance_dict.items():\n",
    "    print(f\"{feature_name}: {importance}\")"
   ]
  },
  {
   "cell_type": "markdown",
   "id": "3b0d2a17",
   "metadata": {},
   "source": [
    "## test & submission"
   ]
  },
  {
   "cell_type": "code",
   "execution_count": 53,
   "id": "93d7019c",
   "metadata": {},
   "outputs": [],
   "source": [
    "test_drop = df_test.drop(['id','is_converted'],axis = 1)"
   ]
  },
  {
   "cell_type": "code",
   "execution_count": 54,
   "id": "05379c6c",
   "metadata": {},
   "outputs": [],
   "source": [
    "# pred = model.predict(test_drop)\n",
    "# pred = np.where(pred == 0, False, True)"
   ]
  },
  {
   "cell_type": "code",
   "execution_count": 31,
   "id": "0f63239e",
   "metadata": {
    "scrolled": true
   },
   "outputs": [
    {
     "data": {
      "text/plain": [
       "True"
      ]
     },
     "execution_count": 31,
     "metadata": {},
     "output_type": "execute_result"
    }
   ],
   "source": [
    "# \n",
    "final_predictions = np.array([model.predict(test_drop) for model in models])\n",
    "final_prediction = np.round(final_predictions.mean(axis=0))\n",
    "pred = np.where(final_prediction == 0, False, True)"
   ]
  },
  {
   "cell_type": "code",
   "execution_count": 51,
   "id": "b675b263",
   "metadata": {
    "scrolled": true
   },
   "outputs": [
    {
     "data": {
      "text/plain": [
       "900"
      ]
     },
     "execution_count": 51,
     "metadata": {},
     "output_type": "execute_result"
    }
   ],
   "source": [
    "sum(pred)"
   ]
  },
  {
   "cell_type": "code",
   "execution_count": 55,
   "id": "264dc09d",
   "metadata": {},
   "outputs": [],
   "source": [
    "pred1 = pred  #pred1 903 | 986"
   ]
  },
  {
   "cell_type": "code",
   "execution_count": 56,
   "id": "aaefaa96",
   "metadata": {},
   "outputs": [
    {
     "data": {
      "text/plain": [
       "0"
      ]
     },
     "execution_count": 56,
     "metadata": {},
     "output_type": "execute_result"
    }
   ],
   "source": [
    "su = 0\n",
    "for i,j in zip(pred1,pred2):\n",
    "    if i != j:\n",
    "        su +=1\n",
    "su"
   ]
  },
  {
   "cell_type": "code",
   "execution_count": 238,
   "id": "c8b3c4ab",
   "metadata": {},
   "outputs": [],
   "source": [
    "df_test['is_converted'] = pred\n",
    "df_test.to_csv(\"submission.csv\",index = False)"
   ]
  }
 ],
 "metadata": {
  "kernelspec": {
   "display_name": "Python 3 (ipykernel)",
   "language": "python",
   "name": "python3"
  },
  "language_info": {
   "codemirror_mode": {
    "name": "ipython",
    "version": 3
   },
   "file_extension": ".py",
   "mimetype": "text/x-python",
   "name": "python",
   "nbconvert_exporter": "python",
   "pygments_lexer": "ipython3",
   "version": "3.11.5"
  }
 },
 "nbformat": 4,
 "nbformat_minor": 5
}

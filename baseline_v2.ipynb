{
 "cells": [
  {
   "cell_type": "code",
   "execution_count": null,
   "id": "db275d8b",
   "metadata": {
    "scrolled": true
   },
   "outputs": [],
   "source": [
    "# %rm -rf phase2_module\n",
    "# !git clone https://github.com/LgDNet/phase2_module.git\n",
    "# !cd phase2_module && make copy"
   ]
  },
  {
   "cell_type": "code",
   "execution_count": 1,
   "id": "b9fa7c89",
   "metadata": {},
   "outputs": [
    {
     "name": "stdout",
     "output_type": "stream",
     "text": [
      "/home/elicer\n"
     ]
    },
    {
     "name": "stderr",
     "output_type": "stream",
     "text": [
      "/home/elicer/.local/lib/python3.10/site-packages/IPython/core/magics/osm.py:417: UserWarning: using dhist requires you to install the `pickleshare` library.\n",
      "  self.shell.db['dhist'] = compress_dhist(dhist)[-100:]\n"
     ]
    }
   ],
   "source": [
    "cd .."
   ]
  },
  {
   "cell_type": "code",
   "execution_count": 2,
   "id": "d1148052",
   "metadata": {},
   "outputs": [],
   "source": [
    "from phase2_module.src.utils.dataset import Data\n",
    "from phase2_module.src.models.classification.models import Model\n",
    "from phase2_module.src.base import BasePiepline\n",
    "# from phase2_module.src.hyper_parameters.params_optimization import xgboost_opt, set_params_optimization_data\n",
    "from phase2_module.src.utils.set_seed import seed_everything\n",
    "from phase2_module.src.utils.top_score_instance import check_the_score\n",
    "from phase2_module.src.encoder.encoders import Encode\n",
    "\n",
    "from phase2_module.src.utils.manage_pkl_files import PickleManager as pkl_manager\n",
    "from phase2_module.src import preprocess\n",
    "seed_everything()  # NOTE: default 42\n",
    "_model = Model()"
   ]
  },
  {
   "cell_type": "code",
   "execution_count": 3,
   "id": "7a70301f",
   "metadata": {},
   "outputs": [],
   "source": [
    "import pandas as pd\n",
    "import numpy as np\n",
    "import re, pickle\n",
    "import warnings\n",
    "from tqdm import tqdm\n",
    "warnings.filterwarnings(action='ignore')\n",
    "def set_up(mode= None):\n",
    "    pd.set_option('display.max_columns', mode)\n",
    "set_up()"
   ]
  },
  {
   "cell_type": "markdown",
   "id": "cd7808f8",
   "metadata": {},
   "source": [
    "# Preprocessing"
   ]
  },
  {
   "cell_type": "code",
   "execution_count": 4,
   "id": "0b3afe0a-018c-4d7d-8f41-0b33126f977a",
   "metadata": {},
   "outputs": [],
   "source": [
    "basic = preprocess.Basic\n",
    "country = preprocess.Country\n",
    "customer = preprocess.Customer\n",
    "inquiry = preprocess.Inquiry\n",
    "product_category = preprocess.ProductCategory\n",
    "convert_ratio = preprocess.Convert_ratio\n",
    "customer2 = preprocess.Customer2"
   ]
  },
  {
   "cell_type": "markdown",
   "id": "f710021d",
   "metadata": {},
   "source": [
    "# Main"
   ]
  },
  {
   "cell_type": "code",
   "execution_count": 9,
   "id": "d7dfcfa0",
   "metadata": {},
   "outputs": [],
   "source": [
    "pkls = pkl_manager.map(pkl_manager.loads, pkl_manager.metadata_directory)\n",
    "\n",
    "runtime_instance = {\n",
    "    \"Train\": Data.train,\n",
    "    \"Test\": Data.test,\n",
    "    \"Instances\":[\n",
    "        {\"instance\": basic, \"method\": ['drop_duplicated'], \"params\": False},\n",
    "        {\"instance\": country, \"method\": ['apply'], \"params\": pkls.get(\"country\")},\n",
    "        {\"instance\": inquiry, \"method\": [\"apply\"], \"params\": False},\n",
    "        {\"instance\": product_category, \"method\": [\"product_categories\", 'fill_odds'], \"params\": {**pkls.get(\"product_category\"), **pkls.get(\"product_subcategory\")}},\n",
    "        {\"instance\": customer, \"method\": [\"apply\"], \"params\": pkls.get(\"customer\")},\n",
    "        {\"instance\": convert_ratio, \"method\": [\"lead_owner\",\"customer_idx\",'lead_owner_customer_idx_means','convert_all_true'], \"params\": {**pkls.get(\"lead_owner\"), **pkls.get(\"customer_idx\")}},\n",
    "        {\"instance\": basic, \"method\": ['cusotmer_idx_categorization','customer_idx_merge_enterprise'], \"params\": False},\n",
    "        {\"instance\": customer2, \"method\": ['seniority_level'], \"params\": pkls.get(\"customer2\")},\n",
    "    ]\n",
    "}"
   ]
  },
  {
   "cell_type": "markdown",
   "id": "da5e2f4f",
   "metadata": {},
   "source": [
    "## preprocessing"
   ]
  },
  {
   "cell_type": "code",
   "execution_count": 10,
   "id": "2050a8a3",
   "metadata": {
    "scrolled": true
   },
   "outputs": [],
   "source": [
    "df_train = preprocess.runner('Train',**runtime_instance)\n",
    "df_test = preprocess.runner('Test',**runtime_instance)"
   ]
  },
  {
   "cell_type": "code",
   "execution_count": 14,
   "id": "0a34cdb0",
   "metadata": {},
   "outputs": [],
   "source": [
    "# # prev column도 영향이 그렇게 많지는 않다. 뺴고 historical 그대로 사용하는 방법..?\n",
    "\n",
    "# cond = df_train['historical_existing_cnt']> 0 \n",
    "# df_train.loc[cond,\"prev\"] = 1\n",
    "# df_train['prev'] = df_train['prev'].fillna(0)\n",
    "\n",
    "# cond = df_test['historical_existing_cnt']> 0 \n",
    "# df_test.loc[cond,\"prev\"] = 1\n",
    "# df_test['prev'] = df_test['prev'].fillna(0)"
   ]
  },
  {
   "cell_type": "code",
   "execution_count": 15,
   "id": "b09cf670",
   "metadata": {},
   "outputs": [],
   "source": [
    "# # lead_owner_converted_ratio 구간화, 별로 안좋은 것 같다.\n",
    "\n",
    "# # bin = [0.0001,10.0001,20.0001,30.0001,40.0001,50.0001,60.0001,70.0001,80.0001,90.0001,100.00,100.001]\n",
    "# bin = [0.0001,10.0001,30.0001,50.0001,70.0001,90.0001,100.00,100.001]\n",
    "# df_train.loc[:,'lead_owner_converted_ratio'] = pd.cut(df_train['lead_owner_converted_ratio'], bins=bin, right = False,labels= False)\n",
    "# df_train['lead_owner_converted_ratio'] = df_train['lead_owner_converted_ratio']+1\n",
    "# df_train['lead_owner_converted_ratio'].fillna(0.0,axis = 0, inplace  = True)\n",
    "# # bin = [0.0001,10.0001,20.0001,30.0001,40.0001,50.0001,60.0001,70.0001,80.0001,90.0001,100.00,100.001]\n",
    "# bin = [0.0001,10.0001,30.0001,50.0001,70.0001,90.0001,100.00,100.001]\n",
    "# df_test.loc[:,'lead_owner_converted_ratio'] = pd.cut(df_test['lead_owner_converted_ratio'], bins=bin, right = False,labels= False)\n",
    "# df_test['lead_owner_converted_ratio'] = df_test['lead_owner_converted_ratio']+1\n",
    "# df_test['lead_owner_converted_ratio'].fillna(0.0,axis = 0, inplace  = True)"
   ]
  },
  {
   "cell_type": "markdown",
   "id": "0d5afcab",
   "metadata": {},
   "source": [
    "## encoding"
   ]
  },
  {
   "cell_type": "code",
   "execution_count": 16,
   "id": "46038ade",
   "metadata": {},
   "outputs": [],
   "source": [
    "encode = Encode()"
   ]
  },
  {
   "cell_type": "code",
   "execution_count": 17,
   "id": "6190c81f",
   "metadata": {},
   "outputs": [],
   "source": [
    "exisiting_columns = [\n",
    "                     'business_area','business_subarea','business_unit',\n",
    "                        'enterprise',\n",
    "#                         'response_corporate',\"customer_country\", # country\n",
    "#                         'customer_type','customer_job','customer_position', #customer\n",
    "#                         'inquiry_type','expected_timeline', # inquiry\n",
    "#                         'product_subcategory','product_category','product_modelname' # product_category\n",
    "                       ] \n",
    "preprocess_columns = [\n",
    "                     'country','continent', # country\n",
    "                     'customer_type2','job_function','seniority_level', # customer\n",
    "                     'new_expected_timeline', 'new_inquiry_type',# inquiry\n",
    "                     'category_2','category_3','category_1', # product_category\n",
    "#                      'test2'\n",
    "                     ]\n",
    "\n",
    "label_encode_columns = exisiting_columns + preprocess_columns"
   ]
  },
  {
   "cell_type": "code",
   "execution_count": 18,
   "id": "93051fc7",
   "metadata": {
    "scrolled": true
   },
   "outputs": [],
   "source": [
    "# 결측치 채우기\n",
    "df_train = preprocess.fillna(df_train)\n",
    "df_test = preprocess.fillna(df_test)"
   ]
  },
  {
   "cell_type": "code",
   "execution_count": 19,
   "id": "72354c9e",
   "metadata": {},
   "outputs": [],
   "source": [
    "# # one-hot encoding\n",
    "# onehot_encode_columns = ['category_1']\n",
    "# df_train = encode.onehot_encoder(df_train,onehot_encode_columns)\n",
    "# df_test = encode.onehot_encoder(df_test,onehot_encode_columns)"
   ]
  },
  {
   "cell_type": "code",
   "execution_count": 20,
   "id": "e08c93b6",
   "metadata": {},
   "outputs": [],
   "source": [
    "# label encoding\n",
    "df_train = encode.label_encoder(df_train,label_encode_columns)\n",
    "df_test = encode.label_encoder(df_test,label_encode_columns)"
   ]
  },
  {
   "cell_type": "markdown",
   "id": "ec3008eb",
   "metadata": {},
   "source": [
    "# Modeling"
   ]
  },
  {
   "cell_type": "markdown",
   "id": "2b5bd1c9",
   "metadata": {},
   "source": [
    "## drop column\n",
    "모델링 전이 column을 drop하면서 다루기가 쉽다고 판단하였음"
   ]
  },
  {
   "cell_type": "code",
   "execution_count": 21,
   "id": "7c21bdbc",
   "metadata": {},
   "outputs": [],
   "source": [
    "drop_col = [\n",
    "            'id_strategic_ver','it_strategic_ver','idit_strategic_ver','ver_pro',\n",
    "            'customer_country.1',\n",
    "            'response_corporate',\"customer_country\", # country\n",
    "            'customer_type','customer_job','customer_position', # customer\n",
    "            'inquiry_type', 'expected_timeline', #inquiry\n",
    "            'product_subcategory','product_category','product_modelname', # product_category\n",
    "#             'cate_is_nan', # product_category\n",
    "    \n",
    "#             'com_reg_ver_win_rate','idit_strategic_ver','ver_cus',\n",
    "#             'ver_pro','ver_win_rate_x','ver_win_ratio_per_bu',\n",
    "            'customer_idx',\n",
    "            'customer_idx_converted_ratio', # ratio\n",
    "            'new_expected_timeline'\n",
    "            #'business_unit',\n",
    "#             'historical_existing_cnt',\n",
    "            #'lead_owner', 'lead_owner_converted_ratio', 'lead_owner_customer_idx_mean', # lead_owner\n",
    "            ]\n",
    "df_train.drop(drop_col,axis = 1, inplace = True)\n",
    "df_test.drop(drop_col,axis = 1, inplace = True)"
   ]
  },
  {
   "cell_type": "markdown",
   "id": "d6a4f413",
   "metadata": {},
   "source": [
    "## Scaler"
   ]
  },
  {
   "cell_type": "code",
   "execution_count": 22,
   "id": "521f3342",
   "metadata": {},
   "outputs": [],
   "source": [
    "import numpy as np\n",
    "# log 변환\n",
    "df_train['lead_desc_length'] = np.log1p(df_train['lead_desc_length'])\n",
    "df_test['lead_desc_length'] = np.log1p(df_test['lead_desc_length'])"
   ]
  },
  {
   "cell_type": "code",
   "execution_count": 23,
   "id": "9bb16055",
   "metadata": {},
   "outputs": [],
   "source": [
    "from sklearn.preprocessing import StandardScaler\n",
    "scaler = StandardScaler()\n",
    "df_train[['lead_owner_converted_ratio','lead_owner_customer_idx_mean']] = scaler.fit_transform(df_train[['lead_owner_converted_ratio','lead_owner_customer_idx_mean']])\n",
    "df_test[['lead_owner_converted_ratio','lead_owner_customer_idx_mean']] = scaler.transform(df_test[['lead_owner_converted_ratio','lead_owner_customer_idx_mean']])"
   ]
  },
  {
   "cell_type": "markdown",
   "id": "a81e3032",
   "metadata": {},
   "source": [
    "## train"
   ]
  },
  {
   "cell_type": "code",
   "execution_count": 24,
   "id": "29aabbd7",
   "metadata": {},
   "outputs": [
    {
     "data": {
      "text/html": [
       "<style>#sk-container-id-1 {color: black;background-color: white;}#sk-container-id-1 pre{padding: 0;}#sk-container-id-1 div.sk-toggleable {background-color: white;}#sk-container-id-1 label.sk-toggleable__label {cursor: pointer;display: block;width: 100%;margin-bottom: 0;padding: 0.3em;box-sizing: border-box;text-align: center;}#sk-container-id-1 label.sk-toggleable__label-arrow:before {content: \"▸\";float: left;margin-right: 0.25em;color: #696969;}#sk-container-id-1 label.sk-toggleable__label-arrow:hover:before {color: black;}#sk-container-id-1 div.sk-estimator:hover label.sk-toggleable__label-arrow:before {color: black;}#sk-container-id-1 div.sk-toggleable__content {max-height: 0;max-width: 0;overflow: hidden;text-align: left;background-color: #f0f8ff;}#sk-container-id-1 div.sk-toggleable__content pre {margin: 0.2em;color: black;border-radius: 0.25em;background-color: #f0f8ff;}#sk-container-id-1 input.sk-toggleable__control:checked~div.sk-toggleable__content {max-height: 200px;max-width: 100%;overflow: auto;}#sk-container-id-1 input.sk-toggleable__control:checked~label.sk-toggleable__label-arrow:before {content: \"▾\";}#sk-container-id-1 div.sk-estimator input.sk-toggleable__control:checked~label.sk-toggleable__label {background-color: #d4ebff;}#sk-container-id-1 div.sk-label input.sk-toggleable__control:checked~label.sk-toggleable__label {background-color: #d4ebff;}#sk-container-id-1 input.sk-hidden--visually {border: 0;clip: rect(1px 1px 1px 1px);clip: rect(1px, 1px, 1px, 1px);height: 1px;margin: -1px;overflow: hidden;padding: 0;position: absolute;width: 1px;}#sk-container-id-1 div.sk-estimator {font-family: monospace;background-color: #f0f8ff;border: 1px dotted black;border-radius: 0.25em;box-sizing: border-box;margin-bottom: 0.5em;}#sk-container-id-1 div.sk-estimator:hover {background-color: #d4ebff;}#sk-container-id-1 div.sk-parallel-item::after {content: \"\";width: 100%;border-bottom: 1px solid gray;flex-grow: 1;}#sk-container-id-1 div.sk-label:hover label.sk-toggleable__label {background-color: #d4ebff;}#sk-container-id-1 div.sk-serial::before {content: \"\";position: absolute;border-left: 1px solid gray;box-sizing: border-box;top: 0;bottom: 0;left: 50%;z-index: 0;}#sk-container-id-1 div.sk-serial {display: flex;flex-direction: column;align-items: center;background-color: white;padding-right: 0.2em;padding-left: 0.2em;position: relative;}#sk-container-id-1 div.sk-item {position: relative;z-index: 1;}#sk-container-id-1 div.sk-parallel {display: flex;align-items: stretch;justify-content: center;background-color: white;position: relative;}#sk-container-id-1 div.sk-item::before, #sk-container-id-1 div.sk-parallel-item::before {content: \"\";position: absolute;border-left: 1px solid gray;box-sizing: border-box;top: 0;bottom: 0;left: 50%;z-index: -1;}#sk-container-id-1 div.sk-parallel-item {display: flex;flex-direction: column;z-index: 1;position: relative;background-color: white;}#sk-container-id-1 div.sk-parallel-item:first-child::after {align-self: flex-end;width: 50%;}#sk-container-id-1 div.sk-parallel-item:last-child::after {align-self: flex-start;width: 50%;}#sk-container-id-1 div.sk-parallel-item:only-child::after {width: 0;}#sk-container-id-1 div.sk-dashed-wrapped {border: 1px dashed gray;margin: 0 0.4em 0.5em 0.4em;box-sizing: border-box;padding-bottom: 0.4em;background-color: white;}#sk-container-id-1 div.sk-label label {font-family: monospace;font-weight: bold;display: inline-block;line-height: 1.2em;}#sk-container-id-1 div.sk-label-container {text-align: center;}#sk-container-id-1 div.sk-container {/* jupyter's `normalize.less` sets `[hidden] { display: none; }` but bootstrap.min.css set `[hidden] { display: none !important; }` so we also need the `!important` here to be able to override the default hidden behavior on the sphinx rendered scikit-learn.org. See: https://github.com/scikit-learn/scikit-learn/issues/21755 */display: inline-block !important;position: relative;}#sk-container-id-1 div.sk-text-repr-fallback {display: none;}</style><div id=\"sk-container-id-1\" class=\"sk-top-container\"><div class=\"sk-text-repr-fallback\"><pre>DecisionTreeClassifier(criterion=&#x27;log_loss&#x27;, max_depth=20, min_samples_leaf=2,\n",
       "                       min_samples_split=7, random_state=42)</pre><b>In a Jupyter environment, please rerun this cell to show the HTML representation or trust the notebook. <br />On GitHub, the HTML representation is unable to render, please try loading this page with nbviewer.org.</b></div><div class=\"sk-container\" hidden><div class=\"sk-item\"><div class=\"sk-estimator sk-toggleable\"><input class=\"sk-toggleable__control sk-hidden--visually\" id=\"sk-estimator-id-1\" type=\"checkbox\" checked><label for=\"sk-estimator-id-1\" class=\"sk-toggleable__label sk-toggleable__label-arrow\">DecisionTreeClassifier</label><div class=\"sk-toggleable__content\"><pre>DecisionTreeClassifier(criterion=&#x27;log_loss&#x27;, max_depth=20, min_samples_leaf=2,\n",
       "                       min_samples_split=7, random_state=42)</pre></div></div></div></div></div>"
      ],
      "text/plain": [
       "DecisionTreeClassifier(criterion='log_loss', max_depth=20, min_samples_leaf=2,\n",
       "                       min_samples_split=7, random_state=42)"
      ]
     },
     "execution_count": 24,
     "metadata": {},
     "output_type": "execute_result"
    }
   ],
   "source": [
    "dict_ = {'criterion': 'log_loss', 'max_depth': 20, 'min_samples_split': 7, 'min_samples_leaf': 2, 'random_state': 42}\n",
    "model = _model.decision_tree\n",
    "model.set_params(**dict_)"
   ]
  },
  {
   "cell_type": "code",
   "execution_count": 25,
   "id": "bd6d3cbf",
   "metadata": {},
   "outputs": [],
   "source": [
    "# model = _model.xgboost\n",
    "# model.set_params(random_state =42)"
   ]
  },
  {
   "cell_type": "code",
   "execution_count": 26,
   "id": "c14a6274",
   "metadata": {},
   "outputs": [],
   "source": [
    "X = df_train.drop([\"is_converted\"],axis = 1)\n",
    "Y = df_train['is_converted']"
   ]
  },
  {
   "cell_type": "code",
   "execution_count": 27,
   "id": "bd25a053",
   "metadata": {},
   "outputs": [
    {
     "name": "stderr",
     "output_type": "stream",
     "text": [
      "5it [00:00,  6.18it/s]"
     ]
    },
    {
     "name": "stdout",
     "output_type": "stream",
     "text": [
      "----[K-Fold Train Score]-----\n",
      "f1 score : 0.9906 / STD: (+/- 0.0006)\n",
      "precision score : 0.9873 / STD: (+/- 0.0016)\n",
      "recall score : 0.9938 / STD: (+/- 0.0015)\n",
      "roc_auc_score score : 0.9964 / STD: (+/- 0.0007)\n",
      "----[K-Fold Validation Score]-----\n",
      "f1 score : 0.9729 / STD: (+/- 0.0018)\n",
      "precision score : 0.9706 / STD: (+/- 0.0046)\n",
      "recall score : 0.9752 / STD: (+/- 0.0028)\n",
      "roc_auc_score score : 0.9863 / STD: (+/- 0.0013)\n"
     ]
    },
    {
     "name": "stderr",
     "output_type": "stream",
     "text": [
      "\n"
     ]
    }
   ],
   "source": [
    "from sklearn.model_selection import StratifiedKFold\n",
    "stratkfold = StratifiedKFold(n_splits=5, shuffle=True, random_state=42)\n",
    "result = {\"f1\":[], \"precision\":[], \"recall\":[],'roc_auc_score':[]}\n",
    "train_result = {\"f1\":[], \"precision\":[], \"recall\":[],'roc_auc_score':[]}\n",
    "models = [] # 모델을 저장할 리스트\n",
    "\n",
    "# k-fold\n",
    "for train_idx, test_idx in tqdm(stratkfold.split(X,Y)):\n",
    "    x_train, x_test = X.iloc[train_idx], X.iloc[test_idx]\n",
    "    y_train, y_test = Y[train_idx], Y[test_idx]\n",
    "\n",
    "    # 모델 훈련\n",
    "    model.fit(x_train, y_train)\n",
    "    models.append(model) # 훈련된 모델을 리스트에 추가\n",
    "    train_pred = model.predict(x_train)\n",
    "    predict = model.predict(x_test)\n",
    "\n",
    "    score_result = check_the_score(train_pred, y_train)\n",
    "    for name, score in score_result.items():\n",
    "        train_result[name].append(score)\n",
    "\n",
    "    score_result = check_the_score(predict, y_test)\n",
    "    for name, score in score_result.items():\n",
    "        result[name].append(score)\n",
    "\n",
    "print('----[K-Fold Train Score]-----')\n",
    "for name, score_list in train_result.items():\n",
    "    print(f'{name} score : {np.mean(score_list):.4f} / STD: (+/- {np.std(score_list):.4f})')\n",
    "\n",
    "print('----[K-Fold Validation Score]-----')\n",
    "for name, score_list in result.items():\n",
    "    print(f'{name} score : {np.mean(score_list):.4f} / STD: (+/- {np.std(score_list):.4f})')"
   ]
  },
  {
   "cell_type": "code",
   "execution_count": 28,
   "id": "3b0d2a17",
   "metadata": {
    "scrolled": true
   },
   "outputs": [
    {
     "name": "stdout",
     "output_type": "stream",
     "text": [
      "convert_all_true: 0.47939585903705617\n",
      "enterprise: 0.30062112616379855\n",
      "customer_idx_group: 0.13683121305265583\n",
      "lead_owner_converted_ratio: 0.05194450236791924\n",
      "historical_existing_cnt: 0.006775920751503432\n",
      "lead_desc_length: 0.005680259699628416\n",
      "customer_type2: 0.0045151077008649294\n",
      "lead_owner: 0.0037165872352531793\n",
      "country: 0.0019335939093374586\n",
      "bant_submit: 0.0017877107736668052\n",
      "job_function: 0.0009763263659493259\n",
      "ver_win_rate_x: 0.0008269351195158931\n",
      "category_1: 0.0007492342707613597\n",
      "business_subarea: 0.0007315662400073251\n",
      "customer_interest: 0.0007024568452354531\n",
      "ver_win_ratio_per_bu: 0.0006948290936560926\n",
      "category_3: 0.0006822550206611132\n",
      "lead_owner_customer_idx_mean: 0.0004482423475191079\n",
      "new_inquiry_type: 0.0002983959920866073\n",
      "category_2: 0.0002114426078341586\n",
      "less_timeline: 0.0002027985742583001\n",
      "business_area: 0.00012180515240499469\n",
      "ver_cus: 7.885473994300878e-05\n",
      "seniority_level: 7.297693848325198e-05\n",
      "business_unit: 0.0\n",
      "com_reg_ver_win_rate: 0.0\n",
      "continent: 0.0\n"
     ]
    }
   ],
   "source": [
    "feature_importances = model.feature_importances_\n",
    "feature_names = x_train.columns\n",
    "feature_importance_dict = dict(zip(feature_names, feature_importances))\n",
    "sorted_importance_dict = {k: v for k, v in sorted(feature_importance_dict.items(), key=lambda item: item[1], reverse=True)}\n",
    "for feature_name, importance in sorted_importance_dict.items():\n",
    "    print(f\"{feature_name}: {importance}\")"
   ]
  },
  {
   "cell_type": "markdown",
   "id": "62e8552a",
   "metadata": {},
   "source": [
    "## test & submission"
   ]
  },
  {
   "cell_type": "code",
   "execution_count": 29,
   "id": "93d7019c",
   "metadata": {},
   "outputs": [],
   "source": [
    "test_drop = df_test.drop(['id','is_converted'],axis = 1)"
   ]
  },
  {
   "cell_type": "code",
   "execution_count": 30,
   "id": "05379c6c",
   "metadata": {
    "scrolled": true
   },
   "outputs": [],
   "source": [
    "pred = model.predict(test_drop)\n",
    "pred = np.where(pred == 0, False, True)"
   ]
  },
  {
   "cell_type": "code",
   "execution_count": 31,
   "id": "971c8042",
   "metadata": {
    "scrolled": true
   },
   "outputs": [],
   "source": [
    "# final_predictions = np.array([model.predict(test_drop) for model in models])\n",
    "# final_prediction = np.round(final_predictions.mean(axis=0))\n",
    "# pred = np.where(final_prediction == 0, False, True)"
   ]
  },
  {
   "cell_type": "code",
   "execution_count": 32,
   "id": "b675b263",
   "metadata": {
    "scrolled": true
   },
   "outputs": [
    {
     "data": {
      "text/plain": [
       "283"
      ]
     },
     "execution_count": 32,
     "metadata": {},
     "output_type": "execute_result"
    }
   ],
   "source": [
    "sum(pred)"
   ]
  },
  {
   "cell_type": "code",
   "execution_count": null,
   "id": "264dc09d",
   "metadata": {},
   "outputs": [],
   "source": [
    "pred2 = pred  #pred1 1000 | pred2 919 | pred3 820"
   ]
  },
  {
   "cell_type": "code",
   "execution_count": null,
   "id": "aaefaa96",
   "metadata": {},
   "outputs": [],
   "source": [
    "su = 0\n",
    "for i,j in zip(pred2, pred1):\n",
    "    if i != j:\n",
    "        su +=1\n",
    "su"
   ]
  },
  {
   "cell_type": "code",
   "execution_count": null,
   "id": "1762e5f5",
   "metadata": {},
   "outputs": [],
   "source": [
    "len(df_test)"
   ]
  },
  {
   "cell_type": "code",
   "execution_count": null,
   "id": "1aa53a4e",
   "metadata": {},
   "outputs": [],
   "source": [
    "pred1_ = pred1.reshape(-1,1)\n",
    "pred2_ = pred2.reshape(-1,1)\n",
    "pred3_ = pred3.reshape(-1,1)\n",
    "combine = np.hstack((pred1_, pred2_, pred3_))\n",
    "combine_ = np.round(combine.mean(axis=1))"
   ]
  },
  {
   "cell_type": "code",
   "execution_count": null,
   "id": "c8b3c4ab",
   "metadata": {},
   "outputs": [],
   "source": [
    "pred = np.where(pred == 0, False, True)\n",
    "df_test['is_converted'] = pred\n",
    "df_test.to_csv(\"submission.csv\",index = False)"
   ]
  },
  {
   "cell_type": "code",
   "execution_count": null,
   "id": "f8fe37db",
   "metadata": {},
   "outputs": [],
   "source": []
  }
 ],
 "metadata": {
  "kernelspec": {
   "display_name": "Python 3 (ipykernel)",
   "language": "python",
   "name": "python3"
  },
  "language_info": {
   "codemirror_mode": {
    "name": "ipython",
    "version": 3
   },
   "file_extension": ".py",
   "mimetype": "text/x-python",
   "name": "python",
   "nbconvert_exporter": "python",
   "pygments_lexer": "ipython3",
   "version": "3.10.4"
  }
 },
 "nbformat": 4,
 "nbformat_minor": 5
}

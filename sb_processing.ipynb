{
 "cells": [
  {
   "cell_type": "markdown",
   "metadata": {},
   "source": [
    "# Personal preprocessing\n",
    "* product_category\n",
    "* product_subcategory \n",
    "* product_modelname "
   ]
  },
  {
   "cell_type": "code",
   "execution_count": 300,
   "metadata": {},
   "outputs": [],
   "source": [
    "def set_up(mode= None):\n",
    "    pd.set_option('display.max_rows', mode)\n",
    "# pd.options.display.max_rows = 60\n",
    "set_up()"
   ]
  },
  {
   "cell_type": "code",
   "execution_count": 301,
   "metadata": {},
   "outputs": [
    {
     "data": {
      "text/plain": [
       "(59299, 5271)"
      ]
     },
     "execution_count": 301,
     "metadata": {},
     "output_type": "execute_result"
    }
   ],
   "source": [
    "import pandas as pd\n",
    "import seaborn as sns\n",
    "import numpy as np\n",
    "import matplotlib.pyplot as plt\n",
    "df_train = pd.read_csv(\"../train.csv\") # 학습용 데이터\n",
    "df_test = pd.read_csv(\"../submission.csv\") # 테스트 데이터(제출파일의 데이터)\n",
    "\n",
    "# 데이터 계수 파악\n",
    "len(df_train), len(df_test)"
   ]
  },
  {
   "cell_type": "markdown",
   "metadata": {},
   "source": [
    "## 신규 Columns 추가\n",
    "---\n",
    "* 밴 다이어그램을 통한 분류화\n",
    "* 사람의 관심도를 표현하기 위해서 `customer_interest`로 명명.\n"
   ]
  },
  {
   "cell_type": "code",
   "execution_count": 302,
   "metadata": {},
   "outputs": [],
   "source": [
    "def label_rows(row):\n",
    "    if row['product_modelname'] is np.nan and row['product_subcategory'] is np.nan and row['product_category'] is np.nan:\n",
    "        return 8\n",
    "    elif row['product_modelname'] is np.nan and row['product_subcategory'] is np.nan:\n",
    "        return 7\n",
    "    elif row['product_modelname'] is np.nan and row['product_category'] is np.nan:\n",
    "        return 6\n",
    "    elif row['product_subcategory'] is np.nan and row['product_category'] is np.nan:\n",
    "        return 5\n",
    "    elif row['product_modelname'] is np.nan:\n",
    "        return 4\n",
    "    elif row['product_subcategory'] is np.nan:\n",
    "        return 3\n",
    "    elif row['product_category'] is np.nan:\n",
    "        return 2\n",
    "    else:\n",
    "        return 1\n",
    "\n",
    "df_train['customer_interest'] = df_train.apply(lambda row: label_rows(row), axis=1)\n",
    "df_train[['product_modelname', 'product_subcategory', 'product_category']] = df_train[['product_modelname', 'product_subcategory', 'product_category']].fillna('Unknown') # 그 후 널값 채우기"
   ]
  },
  {
   "cell_type": "markdown",
   "metadata": {},
   "source": [
    "## 결과"
   ]
  },
  {
   "cell_type": "code",
   "execution_count": 303,
   "metadata": {},
   "outputs": [
    {
     "data": {
      "text/plain": [
       "customer_interest\n",
       "1    0.147267\n",
       "2    0.087719\n",
       "3    0.102041\n",
       "4    0.145729\n",
       "5    0.005242\n",
       "6    0.117021\n",
       "7    0.076323\n",
       "8    0.064555\n",
       "Name: is_converted, dtype: float64"
      ]
     },
     "execution_count": 303,
     "metadata": {},
     "output_type": "execute_result"
    }
   ],
   "source": [
    "df_train.groupby('customer_interest')['is_converted'].mean()"
   ]
  },
  {
   "cell_type": "code",
   "execution_count": 304,
   "metadata": {},
   "outputs": [
    {
     "data": {
      "image/png": "[encoded data removed]",
      "text/plain": [
       "<Figure size 720x432 with 1 Axes>"
      ]
     },
     "metadata": {
      "needs_background": "light"
     },
     "output_type": "display_data"
    }
   ],
   "source": [
    "label_converted_count = df_train.groupby('customer_interest')['is_converted'].mean().reset_index()\n",
    "\n",
    "# 막대그래프 그리기\n",
    "plt.figure(figsize=(10, 6))\n",
    "sns.barplot(x='customer_interest', y='is_converted', data=label_converted_count)\n",
    "plt.xlabel('customer_interest')\n",
    "plt.ylabel('Count of is_converted')\n",
    "plt.title('Count of is_converted by Label')\n",
    "plt.show()"
   ]
  },
  {
   "cell_type": "markdown",
   "metadata": {},
   "source": [
    "## product_category 정리\n",
    "* LG BTB 마케팅의 입력 양식을 참고\n",
    "* 종류"
   ]
  },
  {
   "cell_type": "code",
   "execution_count": 305,
   "metadata": {
    "editable": true,
    "scrolled": true,
    "slideshow": {
     "slide_type": ""
    },
    "tags": []
   },
   "outputs": [],
   "source": [
    "df_train['product_category'] = df_train['product_category'].str.lower().str.strip()"
   ]
  },
  {
   "cell_type": "code",
   "execution_count": 306,
   "metadata": {},
   "outputs": [],
   "source": [
    "# washing machine 추가\n",
    "mask = df_train['product_category'] == 'commercial tv,projector'\n",
    "copy_df = df_train[mask].copy()\n",
    "copy_df['product_category'] = 'projector'\n",
    "# 원본 데이터 프레임에 데이터 추가 \n",
    "df_train = pd.concat([df_train, copy_df])\n",
    "\n",
    "# dryer 추가\n",
    "mask = df_train['product_category'] == 'commercial tv,projector'\n",
    "copy_df = df_train[mask].copy()\n",
    "copy_df['product_category'] = 'commercial tv'\n",
    "df_train = pd.concat([df_train, copy_df])\n",
    "\n",
    "# 원본데이터 삭제.\n",
    "df_train = df_train[df_train['product_category'] != 'commercial tv,projector']"
   ]
  },
  {
   "cell_type": "code",
   "execution_count": 307,
   "metadata": {},
   "outputs": [],
   "source": [
    "# washing machine 추가\n",
    "mask = df_train['product_category'] == 'washing machine,dryer'\n",
    "copy_df = df_train[mask].copy()\n",
    "copy_df['product_category'] = 'washing machine'\n",
    "# 원본 데이터 프레임에 데이터 추가 \n",
    "df_train = pd.concat([df_train, copy_df])\n",
    "\n",
    "# dryer 추가\n",
    "mask = df_train['product_category'] == 'washing machine,dryer'\n",
    "copy_df = df_train[mask].copy()\n",
    "copy_df['product_category'] = 'dryer'\n",
    "df_train = pd.concat([df_train, copy_df])\n",
    "\n",
    "# 원본데이터 삭제.\n",
    "df_train = df_train[df_train['product_category'] != 'washing machine,dryer']"
   ]
  },
  {
   "cell_type": "code",
   "execution_count": 308,
   "metadata": {},
   "outputs": [],
   "source": [
    "def set_up(mode= None):\n",
    "    pd.set_option('display.max_rows', mode)\n",
    "# pd.options.display.max_rows = 60\n",
    "set_up()"
   ]
  },
  {
   "cell_type": "code",
   "execution_count": 309,
   "metadata": {
    "editable": true,
    "scrolled": true,
    "slideshow": {
     "slide_type": ""
    },
    "tags": []
   },
   "outputs": [],
   "source": [
    "replacement_dict = {\n",
    "    'interactive signage': 'interactive digital board',\n",
    "    'education createboard': 'interactive digital board',\n",
    "    '互動式顯示屏': 'interactive digital board',\n",
    "    'multi inverter': 'multi-split',\n",
    "    'multi split' : 'multi-split',\n",
    "    'video wall': 'video wall signage',\n",
    "    'videowall_rmk': 'video wall signage',\n",
    "    '43us660h0sd.awz': 'hotel tv',\n",
    "    'high brightness': 'high brightness signage',\n",
    "    'residential air conditioner': 'rac',\n",
    "    'aire acondicionado residencial': 'rac',\n",
    "    'ar condicionado residencial' : 'rac',\n",
    "    'all lg vrf systems': 'vrf',\n",
    "    'ur640': 'ur640s',\n",
    "    'idb': 'interactive digital board',\n",
    "    'id': 'interactive digital board',\n",
    "    'others': 'etc.',\n",
    "    'other': 'etc.',\n",
    "    'lainnya': 'etc.',\n",
    "    'otros': 'etc.',\n",
    "    'sales inquiry': 'etc.',\n",
    "    'commercial tv,tv': 'commercial tv',\n",
    "    'monitor signage,commercial tv': 'commercial tv',\n",
    "    'onequick series': 'one:quick',\n",
    "    'lg one:quick': 'one:quick',\n",
    "    'led 顯示屏': 'led signage',\n",
    "    '32lq621cbsb.awz': 'smart tv signage',\n",
    "    'monitor signage,commercial tv,monior/monitor tv': 'monitor signage,monior/monitor tv',\n",
    "    'monior/monitor tv,tv': 'monitor signage,monior/monitor tv',\n",
    "    'monitor signage,tv': 'monitor signage,monior/monitor tv',\n",
    "    'monior/monitor tv,pc': 'monitor signage,monior/monitor tv',\n",
    "    'monitor signage,pc': 'monitor signage,monior/monitor tv',\n",
    "    'isıtma': 'heating',\n",
    "    'calefacción': 'heating',\n",
    "    'ogrzewanie (pompy ciepła)' : 'heating',\n",
    "    'standalone': 'commercial tv',\n",
    "    'system ac': 'single-split',\n",
    "    'vrf,single-split': 'vrf',\n",
    "    'system ac,chiller': 'single-split',\n",
    "    'điều hòa trung tâm multi': 'single-split',\n",
    "    'sac' : 'single-split',\n",
    "    'fhd series': 'standard signage',\n",
    "    'tv signage': 'standard signage',\n",
    "    'oled 顯示屏': 'oled signage',\n",
    "    'מזגנים למקום מגורים': 'rac',\n",
    "    'htv': 'commercial tv',\n",
    "    'multi v5 vrf': 'multi v 5 air',\n",
    "    'led': 'led signage',\n",
    "    'chiller,aircare': 'chiller',\n",
    "    'vrf,multi-split,single-split,chiller': 'chiller',\n",
    "    'vrf,chiller': 'chiller',\n",
    "    'vrf,multi-split,single-split': 'multi-split',\n",
    "    'vrf,multi-split': 'multi-split',\n",
    "    'single split': 'single-split',\n",
    "    'soğutucu': 'single-split',\n",
    "    '標準顯示屏': 'led signage',\n",
    "    'monitor signage,monior/monitor tv' : 'monitor',\n",
    "    'teto ou cassete inverter' : 'single-split',\n",
    "    'one quick:flex' : 'one:quick',\n",
    "    'تكييف وتبريد' : 'single-split',\n",
    "    'comercial tv' : 'commercial tv',\n",
    "    'تكييفات' : 'single-split',\n",
    "    'مبرد (تشيلر)' : 'single-split',\n",
    "    'חימום' : 'heating',\n",
    "    'ฯลฯ' : 'etc.',\n",
    "    'vb.' : 'etc.',\n",
    "    'videwall' : 'video wall signage',\n",
    "    'videowall signage' : 'video wall signage',\n",
    "    'hospitality' : 'hotel tv',\n",
    "    'signage' : 'etc.',\n",
    "    \n",
    "}\n",
    "\n",
    "df_train['product_category'] = df_train['product_category'].replace(replacement_dict)\n",
    "df_train['product_category'] = df_train['product_category'].str.replace('solar,', '')"
   ]
  },
  {
   "cell_type": "code",
   "execution_count": null,
   "metadata": {},
   "outputs": [],
   "source": [
    "# 필터 안에 순서가 매우 중요.\n",
    "filter1 = {\n",
    "    'interactive' : 'interactive digital board',\n",
    "    'vrf' : 'vrf',\n",
    "    'multi-split' : 'multi-split',\n",
    "    'video wall' : 'video wall signage',\n",
    "    'single' : 'single-split',\n",
    "    'air conditioner' : 'single-split',\n",
    "    'chiller' : 'chiller',\n",
    "    'hotel tv' : 'hotel tv',\n",
    "    'hospital tv' : 'hospital tv',\n",
    "    'smart tv signage' : 'smart tv signage',\n",
    "    'smart' : 'smart tv signage',\n",
    "    'standard' : 'standard signage',\n",
    "    'one:quick' : 'one:quick',\n",
    "    'medical' : 'medical display',\n",
    "    'system ac' : 'single-split',\n",
    "    'commercial tv' : 'commercial tv',\n",
    "    'multi v' : 'multi v',\n",
    "    'monitor' : 'monitor',\n",
    "    'projector' : 'projector',\n",
    "    'cloud' : 'cloud device',\n",
    "    'ess' : 'ess',\n",
    "    'energy' : 'ess',\n",
    "    'robot' : 'robot',\n",
    "    'pc' : 'pc',\n",
    "    'tv' : 'tv',\n",
    "    'air' : 'single-split'\n",
    "}\n",
    "\n",
    "df_train['mapped_key'] = df_train['product_category'].apply(lambda x: next((v for k, v in filter1.items() if k in x), x))\n",
    "df_train['mapped_key'].value_counts()"
   ]
  },
  {
   "cell_type": "markdown",
   "metadata": {},
   "source": [
    "* interactive signage = interactive digitalborad\n",
    "* rac가 안보이니깐 일단 패스\n",
    "* accessories : 일일히 분해 필요.\n",
    "* technical support\t: 기술적 지원...? 그리고 services 비슷한 국가에서 행동,"
   ]
  },
  {
   "cell_type": "markdown",
   "metadata": {},
   "source": [
    "## 같은 Category의 경우 대체"
   ]
  },
  {
   "cell_type": "code",
   "execution_count": 311,
   "metadata": {},
   "outputs": [
    {
     "data": {
      "text/plain": [
       "unknown                              19374\n",
       "interactive digital board             8079\n",
       "vrf                                   5725\n",
       "multi-split                           3944\n",
       "etc.                                  2411\n",
       "video wall signage                    2146\n",
       "led signage                           1922\n",
       "single-split                          1916\n",
       "rac                                   1755\n",
       "oled signage                          1356\n",
       "hotel tv                              1135\n",
       "chiller                               1073\n",
       "standard signage                      1012\n",
       "medical display                        962\n",
       "monitor                                796\n",
       "lg one:quick series                    768\n",
       "heating                                709\n",
       "high brightness signage                696\n",
       "one:quick series                       668\n",
       "ventilation                            420\n",
       "control                                263\n",
       "software solution                      191\n",
       "accessories                            179\n",
       "special signage                        172\n",
       "hospital tv                            153\n",
       "webos                                  144\n",
       "pc                                     114\n",
       "pro:centric                            112\n",
       "ur640s                                 108\n",
       "projector                               89\n",
       "commercial display                      74\n",
       "commercial tv                           74\n",
       "smart tv signage                        64\n",
       "multi v 5 air                           58\n",
       "outros                                  55\n",
       "signage care solution                   54\n",
       "technical support                       50\n",
       "cloud device                            46\n",
       "medical displays                        42\n",
       "laptop                                  41\n",
       "a thermodynamic water heater            37\n",
       "uhd signage                             34\n",
       "virtual production                      30\n",
       "one:quick                               28\n",
       "monitor signage,monior/monitor tv       26\n",
       "digital signage                         22\n",
       "ess                                     21\n",
       "ledallinone                             21\n",
       "services                                20\n",
       "monitor & pc                            19\n",
       "tv                                      14\n",
       "28mq780                                 14\n",
       "multi v water 5                         13\n",
       "system ac                               10\n",
       "dryer                                    9\n",
       "system ac,aircare                        8\n",
       "aircare                                  8\n",
       "washing machine                          8\n",
       "allinone_rmk                             7\n",
       "leadallin                                6\n",
       "robots                                   6\n",
       "Name: product_category, dtype: int64"
      ]
     },
     "execution_count": 311,
     "metadata": {},
     "output_type": "execute_result"
    }
   ],
   "source": [
    "category_counts = df_train['product_category'].value_counts()\n",
    "categories_to_replace = category_counts[category_counts < 6].index\n",
    "df_train.loc[df_train['product_category'].isin(categories_to_replace), 'product_category'] = 'etc.'\n",
    "df_train['product_category'].value_counts()"
   ]
  },
  {
   "cell_type": "code",
   "execution_count": 312,
   "metadata": {},
   "outputs": [],
   "source": [
    "cate_num_dict = {\n",
    "    0 : 'commercial_display',\n",
    "    1 : 'hvac',\n",
    "    2 : 'it_products',\n",
    "    3 : 'commercial_laundry',\n",
    "    4 : 'robot',\n",
    "    -1 : 'non_serviced',\n",
    "}\n",
    "\n",
    "\n",
    "cate_dict  = {\n",
    "    'interactive digital board' : 0,\n",
    "    'vrf' : 1,\n",
    "    'multi-split' : 1,\n",
    "    'video wall signage': 0,\n",
    "    'led signage' : 0,\n",
    "    'single-split' : 1,\n",
    "    'oled signage' : 0,\n",
    "    'hotel tv' : 0,\n",
    "    'chiller' : 1,\n",
    "    'standard signage' : 0,\n",
    "    'medical display' : 2,\n",
    "    'one:quick' : 0,\n",
    "    'heating' : 1,\n",
    "    'high brightness signage' : 0,\n",
    "    'ventilation' : 0,\n",
    "    'control' : -1,\n",
    "    'aircare' : -1,\n",
    "    'rac' : 1,\n",
    "    'software solution' : 0,\n",
    "    'special signage' : 0,\n",
    "    'hospital tv' : 0,\n",
    "    'webos' : 0,\n",
    "    'pc' : 2,\n",
    "    'pro:centric' : 0,\n",
    "    'projector' : 2,\n",
    "    'commercial display' : 0,\n",
    "    'ur640s' : 0,\n",
    "    'outros' : 1,\n",
    "    'signage care solution' : 0,\n",
    "    'multi v' : 1,\n",
    "    'smart tv signage' : 0,\n",
    "    'cloud device' : 2,\n",
    "    'medical displays' : 2,\n",
    "    'laptop' : 2,\n",
    "    'a thermodynamic water heater' : 1,\n",
    "    'monitor' : 2,\n",
    "    'uhd signage' : 0,\n",
    "    'virtual production' :  0,\n",
    "    'ogrzewanie (pompy ciepła)' : 1,\n",
    "    'commercial tv' : 0,\n",
    "    'digital signage' : 0,\n",
    "    'ess': 1,\n",
    "    'ledallinone' : 0,\n",
    "    '28mq780' : 2,\n",
    "    'tv' : 0,\n",
    "    'washing machine' : 3,\n",
    "    'dryer' : 3,\n",
    "    'aircare' : -1,\n",
    "    'robots' : 4,\n",
    "    'error' : -1,\n",
    "    '' : -1,\n",
    "    'signage' : 0,\n",
    "    'transparent oled' : 0,\n",
    "    \n",
    "}\n",
    "\n",
    "subcate_dict = {\n",
    "    'interactive digital board' : 'digital_signage',\n",
    "    'vrf' : 'commercial_solutions',\n",
    "    'multi-split' : 'multi_split',\n",
    "    'video wall signage' : 'digital_signage',\n",
    "    'led signage' : 'led_signage',\n",
    "    'single-split' : 'commercial_solutions',\n",
    "    'oled signage' : 'oled_signage',\n",
    "    'hotel tv' : 'commercial_tv',\n",
    "    'chiller' : 'commercial_solutions',\n",
    "    'standard signage' : 'digital_signage',\n",
    "    'medical display' : 'medical_display',\n",
    "    'one:quick' : 'digital_signage',\n",
    "    'heating': 'residential_solutions',\n",
    "    'high brightness signage' : 'digital_signage',\n",
    "    'ventilation' : 'commercial_solutions',\n",
    "    'control' : 'non_serviced',\n",
    "    'rac' : 'residential_solutions',\n",
    "    'software solution' : 'software',\n",
    "    'special signage' : 'digital_signage',\n",
    "    'hospital tv' : 'commercial_tv',\n",
    "    'webos' : 'software',\n",
    "    'pro:centric': 'commercial_tv',\n",
    "    'projector' : 'projector',\n",
    "    'ur640s' : 'digital_signage',\n",
    "    'outros' : 'residential_solutions',\n",
    "    'signage care solution' : 'software',\n",
    "    'smart tv signage' : 'commercial_tv',\n",
    "    'cloud device' : 'cloud_device',\n",
    "    'medical displays' : 'medical displays',\n",
    "    'laptop' : 'laptop',\n",
    "    'a thermodynamic water heater' : 'residential_solutions',\n",
    "    'monitor' : 'monitor',\n",
    "    'uhd signage' : 'digital_signage',\n",
    "    'virtual production' : 'led_signage',\n",
    "    'commercial tv' : 'commercial_tv',\n",
    "    'digital signage' : 'digital_signage',\n",
    "    'ess' : 'ess',\n",
    "    'ledallinone' : 'led_signage',\n",
    "    '28mq780' : 'monitor',\n",
    "    'multi v' : 'commercial_solutions',\n",
    "    'washing machine' : 'washer',\n",
    "    'dryer' : 'dryer',\n",
    "    'transparent oled' : 'oled_Signage'\n",
    "}\n",
    "\n",
    "subsubcate_dict = {\n",
    "    'interactive digital board' : 'interactive',\n",
    "    'video wall signage' : 'video_wall',\n",
    "    'single split' : 'single_split',\n",
    "    'chiller' : 'chiller',\n",
    "    'standard signage' : 'standard',\n",
    "    'one:quick' : 'one:quick',\n",
    "    'ventilation' : 'ventilation_solution(erv)',\n",
    "    'control' : 'non_serviced',\n",
    "    'software solution' : 'supersign_software',\n",
    "    'special signage' : 'special',\n",
    "    'hotel tv' : 'hospitality_tv',\n",
    "    'hospital tv' : 'hospitality_tv',\n",
    "    'webos' : 'webos',\n",
    "    'pro:centric' : 'hospitality_tv',\n",
    "    'ur640s' : 'standard',\n",
    "    'signage care solution' : 'signage_care_solution',\n",
    "    'smart tv signage' : 'hospitality_tv',\n",
    "    'uhd signage' : 'uhd_sinange',\n",
    "    'virtual production' : 'virtual_production',\n",
    "    'multi v' : 'vrf_system',\n",
    "    'vrf' : 'vrf_system',\n",
    "    'outros' : 'air_to_water_heat_pumps',\n",
    "    'laptop' : 'gram',\n",
    "    'ogrzewanie (pompy ciepła)' : 'air_to_water_heat_pumps',\n",
    "    'ledallinone' : 'all_in_one',\n",
    "    '28mq780' : 'ultrawide',\n",
    "    'heating': 'air_to_water_heat_pumps',\n",
    "    'a thermodynamic water heater' : 'water_heater',\n",
    "    'transparent oled' : 'transparent_oled'\n",
    "}\n",
    "\n",
    "df_train['category_1'] = df_train['product_category'].map(cate_dict)\n",
    "df_train['category_1'] = df_train['category_1'].map(cate_num_dict)\n",
    "df_train['category_2'] = df_train['product_category'].map(subcate_dict)\n",
    "df_train['category_3'] = df_train['product_category'].map(subsubcate_dict)\n",
    "df_train = df_train.drop('product_category', axis=1)"
   ]
  },
  {
   "cell_type": "markdown",
   "metadata": {},
   "source": [
    "## 중간 확인\n",
    "* 실행 안시켜도 됨.\n"
   ]
  },
  {
   "cell_type": "code",
   "execution_count": 270,
   "metadata": {},
   "outputs": [
    {
     "data": {
      "text/html": [
       "<div>\n",
       "<style scoped>\n",
       "    .dataframe tbody tr th:only-of-type {\n",
       "        vertical-align: middle;\n",
       "    }\n",
       "\n",
       "    .dataframe tbody tr th {\n",
       "        vertical-align: top;\n",
       "    }\n",
       "\n",
       "    .dataframe thead th {\n",
       "        text-align: right;\n",
       "    }\n",
       "</style>\n",
       "<table border=\"1\" class=\"dataframe\">\n",
       "  <thead>\n",
       "    <tr style=\"text-align: right;\">\n",
       "      <th></th>\n",
       "      <th>customer_country</th>\n",
       "      <th>product_category</th>\n",
       "      <th>product_subcategory</th>\n",
       "      <th>product_modelname</th>\n",
       "      <th>is_converted</th>\n",
       "    </tr>\n",
       "  </thead>\n",
       "  <tbody>\n",
       "  </tbody>\n",
       "</table>\n",
       "</div>"
      ],
      "text/plain": [
       "Empty DataFrame\n",
       "Columns: [customer_country, product_category, product_subcategory, product_modelname, is_converted]\n",
       "Index: []"
      ]
     },
     "execution_count": 270,
     "metadata": {},
     "output_type": "execute_result"
    }
   ],
   "source": [
    "cond1 = (df_train['product_category'] == 'not specified')# & (df_train['product_subcategory'] != 'Unknown')\n",
    "df_train[cond1][['customer_country','product_category', 'product_subcategory', 'product_modelname', 'is_converted']]"
   ]
  },
  {
   "cell_type": "code",
   "execution_count": null,
   "metadata": {},
   "outputs": [],
   "source": []
  }
 ],
 "metadata": {
  "kernelspec": {
   "display_name": "Python 3 (ipykernel)",
   "language": "python",
   "name": "python3"
  },
  "language_info": {
   "codemirror_mode": {
    "name": "ipython",
    "version": 3
   },
   "file_extension": ".py",
   "mimetype": "text/x-python",
   "name": "python",
   "nbconvert_exporter": "python",
   "pygments_lexer": "ipython3",
   "version": "3.9.7"
  }
 },
 "nbformat": 4,
 "nbformat_minor": 4
}

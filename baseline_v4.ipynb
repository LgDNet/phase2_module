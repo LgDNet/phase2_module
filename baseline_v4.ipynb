{
 "cells": [
  {
   "cell_type": "code",
   "execution_count": null,
   "id": "db275d8b",
   "metadata": {
    "scrolled": true
   },
   "outputs": [],
   "source": [
    "# %rm -rf phase2_module\n",
    "# !git clone https://github.com/LgDNet/phase2_module.git\n",
    "# !cd phase2_module && make copy"
   ]
  },
  {
   "cell_type": "code",
   "execution_count": 1,
   "id": "b9fa7c89",
   "metadata": {
    "scrolled": true
   },
   "outputs": [
    {
     "name": "stdout",
     "output_type": "stream",
     "text": [
      "/home/elicer\n"
     ]
    },
    {
     "name": "stderr",
     "output_type": "stream",
     "text": [
      "/home/elicer/.local/lib/python3.10/site-packages/IPython/core/magics/osm.py:417: UserWarning: using dhist requires you to install the `pickleshare` library.\n",
      "  self.shell.db['dhist'] = compress_dhist(dhist)[-100:]\n"
     ]
    }
   ],
   "source": [
    "cd .."
   ]
  },
  {
   "cell_type": "code",
   "execution_count": 2,
   "id": "d1148052",
   "metadata": {},
   "outputs": [],
   "source": [
    "from phase2_module.src.utils.dataset import Data\n",
    "from phase2_module.src.models.classification.models import Model\n",
    "from phase2_module.src.base import BasePiepline\n",
    "# from phase2_module.src.hyper_parameters.params_optimization import xgboost_opt, set_params_optimization_data\n",
    "from phase2_module.src.utils.set_seed import seed_everything\n",
    "from phase2_module.src.utils.top_score_instance import check_the_score\n",
    "from phase2_module.src.encoder.encoders import Encode\n",
    "\n",
    "from phase2_module.src.utils.manage_pkl_files import PickleManager as pkl_manager\n",
    "from phase2_module.src import preprocess\n",
    "seed_everything()  # NOTE: default 42\n",
    "_model = Model()"
   ]
  },
  {
   "cell_type": "code",
   "execution_count": 3,
   "id": "7a70301f",
   "metadata": {},
   "outputs": [],
   "source": [
    "import pandas as pd\n",
    "import numpy as np\n",
    "import re, pickle\n",
    "import warnings\n",
    "from tqdm import tqdm\n",
    "warnings.filterwarnings(action='ignore')\n",
    "def set_up(mode= None):\n",
    "    pd.set_option('display.max_columns', mode)\n",
    "set_up()"
   ]
  },
  {
   "cell_type": "markdown",
   "id": "cd7808f8",
   "metadata": {},
   "source": [
    "# Preprocessing"
   ]
  },
  {
   "cell_type": "code",
   "execution_count": 4,
   "id": "0b3afe0a-018c-4d7d-8f41-0b33126f977a",
   "metadata": {},
   "outputs": [],
   "source": [
    "basic = preprocess.Basic\n",
    "country = preprocess.Country\n",
    "customer = preprocess.Customer\n",
    "inquiry = preprocess.Inquiry\n",
    "product_category = preprocess.ProductCategory\n",
    "convert_ratio = preprocess.Convert_ratio\n",
    "customer2 = preprocess.Customer2\n",
    "category = preprocess.Categorization"
   ]
  },
  {
   "cell_type": "markdown",
   "id": "f710021d",
   "metadata": {},
   "source": [
    "# Main"
   ]
  },
  {
   "cell_type": "code",
   "execution_count": 5,
   "id": "d7dfcfa0",
   "metadata": {},
   "outputs": [],
   "source": [
    "pkls = pkl_manager.map(pkl_manager.loads, pkl_manager.metadata_directory)\n",
    "\n",
    "runtime_instance = {\n",
    "    \"Train\": Data.train,\n",
    "    \"Test\": Data.test,\n",
    "    \"Instances\":[\n",
    "        {\"instance\": basic, \"method\": ['drop_duplicated'], \"params\": False},\n",
    "        {\"instance\": country, \"method\": ['apply'], \"params\": pkls.get(\"country\")},\n",
    "        {\"instance\": inquiry, \"method\": [\"apply\"], \"params\": False},\n",
    "        {\"instance\": product_category, \"method\": [\"product_categories\", 'fill_odds'], \"params\": {**pkls.get(\"product_category\"), **pkls.get(\"product_subcategory\")}},\n",
    "        {\"instance\": customer, \"method\": [\"apply\"], \"params\": pkls.get(\"customer\")},\n",
    "        {\"instance\": convert_ratio, \"method\": [\"lead_owner\"], \"params\": {**pkls.get(\"lead_owner\"), **pkls.get(\"customer_idx\")}},\n",
    "#         {\"instance\": basic, \"method\": ['customer_idx_merge_enterprise'], \"params\": False},\n",
    "        {\"instance\": customer2, \"method\": ['seniority_level', 'job_function', 'customer_type'], \"params\": pkls.get(\"customer2\")},\n",
    "        {\"instance\": category, \"method\": ['cat_customer_idx','customer_idx_merge_enterprise','historical_cnt_mean'], \"params\": False},\n",
    "    ]\n",
    "}"
   ]
  },
  {
   "cell_type": "markdown",
   "id": "da5e2f4f",
   "metadata": {},
   "source": [
    "## preprocessing"
   ]
  },
  {
   "cell_type": "code",
   "execution_count": 19,
   "id": "2050a8a3",
   "metadata": {
    "scrolled": true
   },
   "outputs": [],
   "source": [
    "df_train = preprocess.runner('Train',**runtime_instance)\n",
    "df_test = preprocess.runner('Test',**runtime_instance)"
   ]
  },
  {
   "cell_type": "code",
   "execution_count": 21,
   "id": "0e24cd32",
   "metadata": {},
   "outputs": [],
   "source": [
    "cond = df_train['is_converted'] == True\n",
    "true_num = df_train[cond]['lead_desc_length'].mean()\n",
    "cond1 = df_train['lead_desc_length'] > true_num\n",
    "df_train.loc[cond1,'less_timeline'] += 1"
   ]
  },
  {
   "cell_type": "markdown",
   "id": "0d5afcab",
   "metadata": {},
   "source": [
    "## encoding"
   ]
  },
  {
   "cell_type": "code",
   "execution_count": 24,
   "id": "46038ade",
   "metadata": {},
   "outputs": [],
   "source": [
    "encode = Encode()"
   ]
  },
  {
   "cell_type": "code",
   "execution_count": 25,
   "id": "6190c81f",
   "metadata": {},
   "outputs": [],
   "source": [
    "exisiting_columns = [\n",
    "                     'business_area','business_subarea','business_unit',\n",
    "                        'enterprise',\n",
    "#                         'response_corporate',#\"customer_country\", # country\n",
    "#                         'customer_type','customer_job','customer_position', #customer\n",
    "#                         'inquiry_type','expected_timeline', # inquiry\n",
    "#                         'product_subcategory','product_category','product_modelname' # product_category\n",
    "                       ] \n",
    "preprocess_columns = [\n",
    "                     'country','continent', # country\n",
    "                     'customer_type2','job_function','seniority_level', # customer\n",
    "                     'new_expected_timeline', 'new_inquiry_type',# inquiry\n",
    "                     'category_2','category_3','category_1',\n",
    "                     'new_customer_type1','new_customer_type2' # product_category\n",
    "#                      'test2'\n",
    "                     ]\n",
    "\n",
    "label_encode_columns = exisiting_columns + preprocess_columns"
   ]
  },
  {
   "cell_type": "code",
   "execution_count": 26,
   "id": "93051fc7",
   "metadata": {
    "scrolled": true
   },
   "outputs": [],
   "source": [
    "# 결측치 채우기\n",
    "df_train = preprocess.fillna(df_train)\n",
    "df_test = preprocess.fillna(df_test)"
   ]
  },
  {
   "cell_type": "code",
   "execution_count": 27,
   "id": "72354c9e",
   "metadata": {},
   "outputs": [],
   "source": [
    "# # one-hot encoding\n",
    "# onehot_encode_columns = ['category_1']\n",
    "# df_train = encode.onehot_encoder(df_train,onehot_encode_columns)\n",
    "# df_test = encode.onehot_encoder(df_test,onehot_encode_columns)"
   ]
  },
  {
   "cell_type": "code",
   "execution_count": 28,
   "id": "e08c93b6",
   "metadata": {
    "scrolled": true
   },
   "outputs": [],
   "source": [
    "# label encoding\n",
    "encode.set_up() # 전역 변수 초기화\n",
    "df_train = encode.label_encoder(df_train,label_encode_columns)\n",
    "df_test = encode.label_encoder(df_test,label_encode_columns)"
   ]
  },
  {
   "cell_type": "markdown",
   "id": "ec3008eb",
   "metadata": {},
   "source": [
    "# Modeling"
   ]
  },
  {
   "cell_type": "markdown",
   "id": "2b5bd1c9",
   "metadata": {},
   "source": [
    "## drop column\n",
    "모델링 전이 column을 drop하면서 다루기가 쉽다고 판단하였음"
   ]
  },
  {
   "cell_type": "code",
   "execution_count": 29,
   "id": "7c21bdbc",
   "metadata": {
    "scrolled": true
   },
   "outputs": [],
   "source": [
    "drop_col = [\n",
    "            'id_strategic_ver','it_strategic_ver','idit_strategic_ver','ver_pro','ver_cus',\n",
    "            'customer_country.1',\n",
    "            \"customer_country\",#'response_corporate' # country\n",
    "            'customer_type','customer_job','customer_position', # customer\n",
    "            'inquiry_type', 'expected_timeline', #inquiry\n",
    "            'product_subcategory','product_category','product_modelname', # product_category\n",
    "#             'cate_is_nan', # product_category\n",
    "    \n",
    "#             'com_reg_ver_win_rate','idit_strategic_ver','ver_cus',\n",
    "#             'ver_pro','ver_win_rate_x','ver_win_ratio_per_bu',\n",
    "            'customer_idx',\n",
    "            'lead_owner','historial_existing_mean','response_corporate',#'new_customer_idx'\n",
    "            'customer_type2',\n",
    "#             'customer_idx_converted_ratio', # ratio\n",
    "            #'lead_owner', 'lead_owner_converted_ratio', 'lead_owner_customer_idx_mean', # lead_owner\n",
    "            ]\n",
    "df_train.drop(drop_col,axis = 1, inplace = True)\n",
    "df_test.drop(drop_col,axis = 1, inplace = True)"
   ]
  },
  {
   "cell_type": "markdown",
   "id": "d6a4f413",
   "metadata": {},
   "source": [
    "## Scaler"
   ]
  },
  {
   "cell_type": "code",
   "execution_count": 30,
   "id": "521f3342",
   "metadata": {},
   "outputs": [],
   "source": [
    "import numpy as np\n",
    "# log 변환\n",
    "df_train['lead_desc_length'] = np.log1p(df_train['lead_desc_length'])\n",
    "df_test['lead_desc_length'] = np.log1p(df_test['lead_desc_length'])"
   ]
  },
  {
   "cell_type": "code",
   "execution_count": 31,
   "id": "9bb16055",
   "metadata": {},
   "outputs": [],
   "source": [
    "from sklearn.preprocessing import StandardScaler\n",
    "scaler = StandardScaler()\n",
    "df_train[['lead_owner_converted_ratio']] = scaler.fit_transform(df_train[['lead_owner_converted_ratio']])\n",
    "df_test[['lead_owner_converted_ratio']] = scaler.transform(df_test[['lead_owner_converted_ratio']])"
   ]
  },
  {
   "cell_type": "markdown",
   "id": "752739e2",
   "metadata": {},
   "source": [
    "## type"
   ]
  },
  {
   "cell_type": "code",
   "execution_count": null,
   "id": "d014f1ec",
   "metadata": {},
   "outputs": [],
   "source": [
    "df_train['new_customer_idx'] = df_train['new_customer_idx'].astype(int)\n",
    "df_test['new_customer_idx'] = df_test['new_customer_idx'].astype(int)"
   ]
  },
  {
   "cell_type": "markdown",
   "id": "a81e3032",
   "metadata": {},
   "source": [
    "## train"
   ]
  },
  {
   "cell_type": "markdown",
   "id": "e8856a69",
   "metadata": {},
   "source": [
    "### catboost"
   ]
  },
  {
   "cell_type": "code",
   "execution_count": 32,
   "id": "704abe84",
   "metadata": {},
   "outputs": [],
   "source": [
    "import math\n",
    "from six.moves import xrange\n",
    "\n",
    "class LoglossObjective(object):\n",
    "    def calc_ders_range(self, approxes, targets, weights):\n",
    "        assert len(approxes) == len(targets)\n",
    "        if weights is not None:\n",
    "            assert len(weights) == len(approxes)\n",
    "        \n",
    "        result = []\n",
    "        for index in range(len(targets)):\n",
    "            e = np.exp(approxes[index])\n",
    "            p = e / (1 + e)\n",
    "            der1 = targets[index] - p\n",
    "            der2 = -p * (1 - p)\n",
    "            \n",
    "\n",
    "            if (targets[index] == 0.0) & (p<0.5):\n",
    "                #( True Negative )\n",
    "                der1 = (p)*(targets[index] - p)\n",
    "                der2 = (1-2*p)*(-p * (1 - p))\n",
    "                \n",
    "            elif (targets[index] == 0.0) & (p>=0.5):\n",
    "                # 타겟값이 노말 유저인데,fraud 라고 예측한 경우 ( False Positive )\n",
    "                der1 = 3*(p)*(targets[index] - p)\n",
    "                der2 = 3*(1-2*p)*(-p * (1 - p))\n",
    "\n",
    "            elif (targets[index] > 0.0) :\n",
    "                # 타겟 값이 fraud 이라면 p값이 높을수록 (정답에 가까울수록) 페널티가 적도록 세팅. 추가로 3배 페널티\n",
    "                der1 = 3*(1-p)*(targets[index] - p)\n",
    "                der2 = 3*(2*p-1)*(-p * (1 - p))\n",
    "                \n",
    "            if weights is not None:\n",
    "                der1 *= weights[index]\n",
    "                der2 *= weights[index]\n",
    "\n",
    "            result.append((der1, der2))\n",
    "        return result"
   ]
  },
  {
   "cell_type": "code",
   "execution_count": 33,
   "id": "50838b25",
   "metadata": {},
   "outputs": [
    {
     "data": {
      "text/plain": [
       "<catboost.core.CatBoostClassifier at 0x7f14ac6f1960>"
      ]
     },
     "execution_count": 33,
     "metadata": {},
     "output_type": "execute_result"
    }
   ],
   "source": [
    "model = _model.catboost\n",
    "model.set_params(iterations=5000,\n",
    "                depth=12,\n",
    "                thread_count=3,\n",
    "                learning_rate=1e-3,\n",
    "                loss_function=LoglossObjective(),\n",
    "                eval_metric='PRAUC',\n",
    "                early_stopping_rounds=400,\n",
    "                verbose=1000)"
   ]
  },
  {
   "cell_type": "markdown",
   "id": "7d7dd105",
   "metadata": {},
   "source": [
    "### decision_tree"
   ]
  },
  {
   "cell_type": "code",
   "execution_count": 318,
   "id": "29aabbd7",
   "metadata": {},
   "outputs": [
    {
     "data": {
      "text/html": [
       "<style>#sk-container-id-6 {color: black;background-color: white;}#sk-container-id-6 pre{padding: 0;}#sk-container-id-6 div.sk-toggleable {background-color: white;}#sk-container-id-6 label.sk-toggleable__label {cursor: pointer;display: block;width: 100%;margin-bottom: 0;padding: 0.3em;box-sizing: border-box;text-align: center;}#sk-container-id-6 label.sk-toggleable__label-arrow:before {content: \"▸\";float: left;margin-right: 0.25em;color: #696969;}#sk-container-id-6 label.sk-toggleable__label-arrow:hover:before {color: black;}#sk-container-id-6 div.sk-estimator:hover label.sk-toggleable__label-arrow:before {color: black;}#sk-container-id-6 div.sk-toggleable__content {max-height: 0;max-width: 0;overflow: hidden;text-align: left;background-color: #f0f8ff;}#sk-container-id-6 div.sk-toggleable__content pre {margin: 0.2em;color: black;border-radius: 0.25em;background-color: #f0f8ff;}#sk-container-id-6 input.sk-toggleable__control:checked~div.sk-toggleable__content {max-height: 200px;max-width: 100%;overflow: auto;}#sk-container-id-6 input.sk-toggleable__control:checked~label.sk-toggleable__label-arrow:before {content: \"▾\";}#sk-container-id-6 div.sk-estimator input.sk-toggleable__control:checked~label.sk-toggleable__label {background-color: #d4ebff;}#sk-container-id-6 div.sk-label input.sk-toggleable__control:checked~label.sk-toggleable__label {background-color: #d4ebff;}#sk-container-id-6 input.sk-hidden--visually {border: 0;clip: rect(1px 1px 1px 1px);clip: rect(1px, 1px, 1px, 1px);height: 1px;margin: -1px;overflow: hidden;padding: 0;position: absolute;width: 1px;}#sk-container-id-6 div.sk-estimator {font-family: monospace;background-color: #f0f8ff;border: 1px dotted black;border-radius: 0.25em;box-sizing: border-box;margin-bottom: 0.5em;}#sk-container-id-6 div.sk-estimator:hover {background-color: #d4ebff;}#sk-container-id-6 div.sk-parallel-item::after {content: \"\";width: 100%;border-bottom: 1px solid gray;flex-grow: 1;}#sk-container-id-6 div.sk-label:hover label.sk-toggleable__label {background-color: #d4ebff;}#sk-container-id-6 div.sk-serial::before {content: \"\";position: absolute;border-left: 1px solid gray;box-sizing: border-box;top: 0;bottom: 0;left: 50%;z-index: 0;}#sk-container-id-6 div.sk-serial {display: flex;flex-direction: column;align-items: center;background-color: white;padding-right: 0.2em;padding-left: 0.2em;position: relative;}#sk-container-id-6 div.sk-item {position: relative;z-index: 1;}#sk-container-id-6 div.sk-parallel {display: flex;align-items: stretch;justify-content: center;background-color: white;position: relative;}#sk-container-id-6 div.sk-item::before, #sk-container-id-6 div.sk-parallel-item::before {content: \"\";position: absolute;border-left: 1px solid gray;box-sizing: border-box;top: 0;bottom: 0;left: 50%;z-index: -1;}#sk-container-id-6 div.sk-parallel-item {display: flex;flex-direction: column;z-index: 1;position: relative;background-color: white;}#sk-container-id-6 div.sk-parallel-item:first-child::after {align-self: flex-end;width: 50%;}#sk-container-id-6 div.sk-parallel-item:last-child::after {align-self: flex-start;width: 50%;}#sk-container-id-6 div.sk-parallel-item:only-child::after {width: 0;}#sk-container-id-6 div.sk-dashed-wrapped {border: 1px dashed gray;margin: 0 0.4em 0.5em 0.4em;box-sizing: border-box;padding-bottom: 0.4em;background-color: white;}#sk-container-id-6 div.sk-label label {font-family: monospace;font-weight: bold;display: inline-block;line-height: 1.2em;}#sk-container-id-6 div.sk-label-container {text-align: center;}#sk-container-id-6 div.sk-container {/* jupyter's `normalize.less` sets `[hidden] { display: none; }` but bootstrap.min.css set `[hidden] { display: none !important; }` so we also need the `!important` here to be able to override the default hidden behavior on the sphinx rendered scikit-learn.org. See: https://github.com/scikit-learn/scikit-learn/issues/21755 */display: inline-block !important;position: relative;}#sk-container-id-6 div.sk-text-repr-fallback {display: none;}</style><div id=\"sk-container-id-6\" class=\"sk-top-container\"><div class=\"sk-text-repr-fallback\"><pre>DecisionTreeClassifier(criterion=&#x27;log_loss&#x27;, max_depth=20, min_samples_leaf=2,\n",
       "                       min_samples_split=7, random_state=42)</pre><b>In a Jupyter environment, please rerun this cell to show the HTML representation or trust the notebook. <br />On GitHub, the HTML representation is unable to render, please try loading this page with nbviewer.org.</b></div><div class=\"sk-container\" hidden><div class=\"sk-item\"><div class=\"sk-estimator sk-toggleable\"><input class=\"sk-toggleable__control sk-hidden--visually\" id=\"sk-estimator-id-6\" type=\"checkbox\" checked><label for=\"sk-estimator-id-6\" class=\"sk-toggleable__label sk-toggleable__label-arrow\">DecisionTreeClassifier</label><div class=\"sk-toggleable__content\"><pre>DecisionTreeClassifier(criterion=&#x27;log_loss&#x27;, max_depth=20, min_samples_leaf=2,\n",
       "                       min_samples_split=7, random_state=42)</pre></div></div></div></div></div>"
      ],
      "text/plain": [
       "DecisionTreeClassifier(criterion='log_loss', max_depth=20, min_samples_leaf=2,\n",
       "                       min_samples_split=7, random_state=42)"
      ]
     },
     "execution_count": 318,
     "metadata": {},
     "output_type": "execute_result"
    }
   ],
   "source": [
    "dict_ = {'criterion': 'log_loss', 'max_depth': 20, 'min_samples_split': 7, 'min_samples_leaf': 2, 'random_state': 42}\n",
    "model = _model.decision_tree\n",
    "model.set_params(**dict_)"
   ]
  },
  {
   "cell_type": "markdown",
   "id": "b26eb8dc",
   "metadata": {},
   "source": [
    "### xgboost"
   ]
  },
  {
   "cell_type": "code",
   "execution_count": 238,
   "id": "bd6d3cbf",
   "metadata": {},
   "outputs": [
    {
     "data": {
      "text/html": [
       "<style>#sk-container-id-4 {color: black;background-color: white;}#sk-container-id-4 pre{padding: 0;}#sk-container-id-4 div.sk-toggleable {background-color: white;}#sk-container-id-4 label.sk-toggleable__label {cursor: pointer;display: block;width: 100%;margin-bottom: 0;padding: 0.3em;box-sizing: border-box;text-align: center;}#sk-container-id-4 label.sk-toggleable__label-arrow:before {content: \"▸\";float: left;margin-right: 0.25em;color: #696969;}#sk-container-id-4 label.sk-toggleable__label-arrow:hover:before {color: black;}#sk-container-id-4 div.sk-estimator:hover label.sk-toggleable__label-arrow:before {color: black;}#sk-container-id-4 div.sk-toggleable__content {max-height: 0;max-width: 0;overflow: hidden;text-align: left;background-color: #f0f8ff;}#sk-container-id-4 div.sk-toggleable__content pre {margin: 0.2em;color: black;border-radius: 0.25em;background-color: #f0f8ff;}#sk-container-id-4 input.sk-toggleable__control:checked~div.sk-toggleable__content {max-height: 200px;max-width: 100%;overflow: auto;}#sk-container-id-4 input.sk-toggleable__control:checked~label.sk-toggleable__label-arrow:before {content: \"▾\";}#sk-container-id-4 div.sk-estimator input.sk-toggleable__control:checked~label.sk-toggleable__label {background-color: #d4ebff;}#sk-container-id-4 div.sk-label input.sk-toggleable__control:checked~label.sk-toggleable__label {background-color: #d4ebff;}#sk-container-id-4 input.sk-hidden--visually {border: 0;clip: rect(1px 1px 1px 1px);clip: rect(1px, 1px, 1px, 1px);height: 1px;margin: -1px;overflow: hidden;padding: 0;position: absolute;width: 1px;}#sk-container-id-4 div.sk-estimator {font-family: monospace;background-color: #f0f8ff;border: 1px dotted black;border-radius: 0.25em;box-sizing: border-box;margin-bottom: 0.5em;}#sk-container-id-4 div.sk-estimator:hover {background-color: #d4ebff;}#sk-container-id-4 div.sk-parallel-item::after {content: \"\";width: 100%;border-bottom: 1px solid gray;flex-grow: 1;}#sk-container-id-4 div.sk-label:hover label.sk-toggleable__label {background-color: #d4ebff;}#sk-container-id-4 div.sk-serial::before {content: \"\";position: absolute;border-left: 1px solid gray;box-sizing: border-box;top: 0;bottom: 0;left: 50%;z-index: 0;}#sk-container-id-4 div.sk-serial {display: flex;flex-direction: column;align-items: center;background-color: white;padding-right: 0.2em;padding-left: 0.2em;position: relative;}#sk-container-id-4 div.sk-item {position: relative;z-index: 1;}#sk-container-id-4 div.sk-parallel {display: flex;align-items: stretch;justify-content: center;background-color: white;position: relative;}#sk-container-id-4 div.sk-item::before, #sk-container-id-4 div.sk-parallel-item::before {content: \"\";position: absolute;border-left: 1px solid gray;box-sizing: border-box;top: 0;bottom: 0;left: 50%;z-index: -1;}#sk-container-id-4 div.sk-parallel-item {display: flex;flex-direction: column;z-index: 1;position: relative;background-color: white;}#sk-container-id-4 div.sk-parallel-item:first-child::after {align-self: flex-end;width: 50%;}#sk-container-id-4 div.sk-parallel-item:last-child::after {align-self: flex-start;width: 50%;}#sk-container-id-4 div.sk-parallel-item:only-child::after {width: 0;}#sk-container-id-4 div.sk-dashed-wrapped {border: 1px dashed gray;margin: 0 0.4em 0.5em 0.4em;box-sizing: border-box;padding-bottom: 0.4em;background-color: white;}#sk-container-id-4 div.sk-label label {font-family: monospace;font-weight: bold;display: inline-block;line-height: 1.2em;}#sk-container-id-4 div.sk-label-container {text-align: center;}#sk-container-id-4 div.sk-container {/* jupyter's `normalize.less` sets `[hidden] { display: none; }` but bootstrap.min.css set `[hidden] { display: none !important; }` so we also need the `!important` here to be able to override the default hidden behavior on the sphinx rendered scikit-learn.org. See: https://github.com/scikit-learn/scikit-learn/issues/21755 */display: inline-block !important;position: relative;}#sk-container-id-4 div.sk-text-repr-fallback {display: none;}</style><div id=\"sk-container-id-4\" class=\"sk-top-container\"><div class=\"sk-text-repr-fallback\"><pre>XGBClassifier(base_score=None, booster=None, callbacks=None,\n",
       "              colsample_bylevel=0.8781042717330898,\n",
       "              colsample_bynode=0.741271661588135,\n",
       "              colsample_bytree=0.6662896237544925, device=None,\n",
       "              early_stopping_rounds=None, enable_categorical=False,\n",
       "              eval_metric=None, feature_types=None, gamma=0.16846211770550093,\n",
       "              grow_policy=None, importance_type=None,\n",
       "              interaction_constraints=None, learning_rate=0.06783336462585174,\n",
       "              max_bin=None, max_cat_threshold=None, max_cat_to_onehot=None,\n",
       "              max_delta_step=None, max_depth=16, max_leaves=None,\n",
       "              min_child_weight=2, missing=nan, monotone_constraints=None,\n",
       "              multi_strategy=None, n_estimators=2393, n_jobs=None,\n",
       "              num_parallel_tree=None, random_state=42, ...)</pre><b>In a Jupyter environment, please rerun this cell to show the HTML representation or trust the notebook. <br />On GitHub, the HTML representation is unable to render, please try loading this page with nbviewer.org.</b></div><div class=\"sk-container\" hidden><div class=\"sk-item\"><div class=\"sk-estimator sk-toggleable\"><input class=\"sk-toggleable__control sk-hidden--visually\" id=\"sk-estimator-id-4\" type=\"checkbox\" checked><label for=\"sk-estimator-id-4\" class=\"sk-toggleable__label sk-toggleable__label-arrow\">XGBClassifier</label><div class=\"sk-toggleable__content\"><pre>XGBClassifier(base_score=None, booster=None, callbacks=None,\n",
       "              colsample_bylevel=0.8781042717330898,\n",
       "              colsample_bynode=0.741271661588135,\n",
       "              colsample_bytree=0.6662896237544925, device=None,\n",
       "              early_stopping_rounds=None, enable_categorical=False,\n",
       "              eval_metric=None, feature_types=None, gamma=0.16846211770550093,\n",
       "              grow_policy=None, importance_type=None,\n",
       "              interaction_constraints=None, learning_rate=0.06783336462585174,\n",
       "              max_bin=None, max_cat_threshold=None, max_cat_to_onehot=None,\n",
       "              max_delta_step=None, max_depth=16, max_leaves=None,\n",
       "              min_child_weight=2, missing=nan, monotone_constraints=None,\n",
       "              multi_strategy=None, n_estimators=2393, n_jobs=None,\n",
       "              num_parallel_tree=None, random_state=42, ...)</pre></div></div></div></div></div>"
      ],
      "text/plain": [
       "XGBClassifier(base_score=None, booster=None, callbacks=None,\n",
       "              colsample_bylevel=0.8781042717330898,\n",
       "              colsample_bynode=0.741271661588135,\n",
       "              colsample_bytree=0.6662896237544925, device=None,\n",
       "              early_stopping_rounds=None, enable_categorical=False,\n",
       "              eval_metric=None, feature_types=None, gamma=0.16846211770550093,\n",
       "              grow_policy=None, importance_type=None,\n",
       "              interaction_constraints=None, learning_rate=0.06783336462585174,\n",
       "              max_bin=None, max_cat_threshold=None, max_cat_to_onehot=None,\n",
       "              max_delta_step=None, max_depth=16, max_leaves=None,\n",
       "              min_child_weight=2, missing=nan, monotone_constraints=None,\n",
       "              multi_strategy=None, n_estimators=2393, n_jobs=None,\n",
       "              num_parallel_tree=None, random_state=42, ...)"
      ]
     },
     "execution_count": 238,
     "metadata": {},
     "output_type": "execute_result"
    }
   ],
   "source": [
    "model = _model.xgboost\n",
    "model.set_params(**{'n_estimators': 2393,\n",
    " 'max_depth': 16,\n",
    " 'min_child_weight': 2,\n",
    " 'learning_rate': 0.06783336462585174,\n",
    " 'subsample': 0.9511145375386896,\n",
    " 'gamma': 0.16846211770550093,\n",
    " 'colsample_bytree': 0.6662896237544925,\n",
    " 'colsample_bylevel': 0.8781042717330898,\n",
    " 'colsample_bynode': 0.741271661588135,\n",
    "'random_state':42})\n",
    "# model.set_params(random_state=42)"
   ]
  },
  {
   "cell_type": "markdown",
   "id": "59792e37",
   "metadata": {},
   "source": [
    "### light_gbm"
   ]
  },
  {
   "cell_type": "code",
   "execution_count": null,
   "id": "ca750781",
   "metadata": {},
   "outputs": [],
   "source": [
    "model = _model.lightgbm\n",
    "model.set_params(\n",
    "    num_iterations = 5000,\n",
    "    objective = 'binary',\n",
    "    is_unbalance=True,\n",
    "    max_depth= -1,\n",
    "    early_stopping_rounds = 500,\n",
    "   # loss_function=LoglossObjective(),\n",
    "   # neg_bagging_fraction = 0.1,\n",
    "    #pos_bagging_fraction = 1.0,\n",
    "    verbose =0,\n",
    "    seed = 42)\n",
    "model.fit(x_train, y_train,eval_set=[(x_test, y_test)],eval_metric = LoglossObjective(),)"
   ]
  },
  {
   "cell_type": "markdown",
   "id": "8826c8d8",
   "metadata": {},
   "source": [
    "### random_state"
   ]
  },
  {
   "cell_type": "code",
   "execution_count": null,
   "id": "d2bbd86b",
   "metadata": {},
   "outputs": [],
   "source": [
    "model = _model.random_forest\n",
    "model.set_params(**{'max_depth': 19, 'max_leaf_nodes': 749, 'n_estimators': 349,'random_state':42})"
   ]
  },
  {
   "cell_type": "markdown",
   "id": "62f9e674",
   "metadata": {},
   "source": [
    "### train_"
   ]
  },
  {
   "cell_type": "code",
   "execution_count": 584,
   "id": "c14a6274",
   "metadata": {},
   "outputs": [],
   "source": [
    "X = df_train.drop([\"is_converted\"],axis = 1)\n",
    "Y = df_train['is_converted']\n",
    "# Y = np.where(Y == False, 0, 1) # catboost"
   ]
  },
  {
   "cell_type": "code",
   "execution_count": 374,
   "id": "de719fdd",
   "metadata": {
    "scrolled": true
   },
   "outputs": [],
   "source": [
    "# oversampling\n",
    "from imblearn.over_sampling import SMOTE, ADASYN\n",
    "adasyn = SMOTE(sampling_strategy=0.2,random_state=42)\n",
    "X, Y = adasyn.fit_resample(X, Y)"
   ]
  },
  {
   "cell_type": "code",
   "execution_count": 496,
   "id": "ff722755",
   "metadata": {},
   "outputs": [],
   "source": [
    "def score_print(result_dict):\n",
    "    for name, score_list in result_dict.items():\n",
    "        print(f'{name} score : {np.mean(score_list):.4f} / STD: (+/- {np.std(score_list):.4f})')"
   ]
  },
  {
   "cell_type": "code",
   "execution_count": 586,
   "id": "bd25a053",
   "metadata": {
    "scrolled": true
   },
   "outputs": [
    {
     "name": "stderr",
     "output_type": "stream",
     "text": [
      "5it [00:48,  9.63s/it]"
     ]
    },
    {
     "name": "stdout",
     "output_type": "stream",
     "text": [
      "----[K-Fold Train Score]-----\n",
      "f1 score : 0.9215 / STD: (+/- 0.0022)\n",
      "precision score : 0.8656 / STD: (+/- 0.0033)\n",
      "recall score : 0.9852 / STD: (+/- 0.0017)\n",
      "roc_auc_score score : 0.9866 / STD: (+/- 0.0009)\n",
      "----[K-Fold Validation Score]-----\n",
      "f1 score : 0.8166 / STD: (+/- 0.0072)\n",
      "precision score : 0.7301 / STD: (+/- 0.0108)\n",
      "recall score : 0.9264 / STD: (+/- 0.0059)\n",
      "roc_auc_score score : 0.9513 / STD: (+/- 0.0030)\n"
     ]
    },
    {
     "name": "stderr",
     "output_type": "stream",
     "text": [
      "\n"
     ]
    }
   ],
   "source": [
    "from collections import defaultdict\n",
    "from sklearn.model_selection import StratifiedKFold\n",
    "stratkfold = StratifiedKFold(n_splits=5, shuffle=True, random_state=42)\n",
    "train_result, valid_result = defaultdict(list), defaultdict(list) # result 리스트\n",
    "models = [] # 모델을 저장할 리스트\n",
    "\n",
    "# k-fold\n",
    "for idx,(train_idx, test_idx) in tqdm(enumerate(stratkfold.split(X,Y))):\n",
    "    x_train, x_test = X.iloc[train_idx], X.iloc[test_idx]\n",
    "    y_train, y_test = Y[train_idx], Y[test_idx]\n",
    "\n",
    "    # 모델 선언\n",
    "    model = _model.random_forest\n",
    "    model.set_params(**{'max_depth': 19, 'max_leaf_nodes': 749, 'n_estimators': 349,'random_state':42})\n",
    "    \n",
    "    # 모델 훈련\n",
    "    model.fit(x_train, y_train)\n",
    "    models.append(model) # 훈련된 모델을 리스트에 추가\n",
    "    train_pred, valid_pred = models[idx].predict(x_train), models[idx].predict(x_test)\n",
    "    \n",
    "    # store result\n",
    "    for name, score in check_the_score(train_pred, y_train).items(): # train\n",
    "        train_result[name].append(score)\n",
    "    for name, score in check_the_score(valid_pred, y_test).items():  # valid\n",
    "        valid_result[name].append(score)\n",
    "# print score\n",
    "print('----[K-Fold Train Score]-----')\n",
    "score_print(train_result)\n",
    "print('----[K-Fold Validation Score]-----')\n",
    "score_print(valid_result)"
   ]
  },
  {
   "cell_type": "code",
   "execution_count": 437,
   "id": "e51afd9e",
   "metadata": {},
   "outputs": [
    {
     "name": "stderr",
     "output_type": "stream",
     "text": [
      "2it [00:00,  9.71it/s]"
     ]
    },
    {
     "name": "stdout",
     "output_type": "stream",
     "text": [
      "[LightGBM] [Warning] seed is set=42, random_state=42 will be ignored. Current value: seed=42\n",
      "[LightGBM] [Warning] seed is set=42, random_state=42 will be ignored. Current value: seed=42\n"
     ]
    },
    {
     "name": "stderr",
     "output_type": "stream",
     "text": [
      "4it [00:00, 10.15it/s]"
     ]
    },
    {
     "name": "stdout",
     "output_type": "stream",
     "text": [
      "[LightGBM] [Warning] seed is set=42, random_state=42 will be ignored. Current value: seed=42\n",
      "[LightGBM] [Warning] seed is set=42, random_state=42 will be ignored. Current value: seed=42\n",
      "[LightGBM] [Warning] seed is set=42, random_state=42 will be ignored. Current value: seed=42\n"
     ]
    },
    {
     "name": "stderr",
     "output_type": "stream",
     "text": [
      "5it [00:00,  9.90it/s]"
     ]
    },
    {
     "name": "stdout",
     "output_type": "stream",
     "text": [
      "----[K-Fold Validation Score]-----\n",
      "f1 score : 0.8087 / STD: (+/- 0.0076)\n",
      "precision score : 0.8788 / STD: (+/- 0.0092)\n",
      "recall score : 0.7491 / STD: (+/- 0.0132)\n",
      "roc_auc_score score : 0.8690 / STD: (+/- 0.0065)\n"
     ]
    },
    {
     "name": "stderr",
     "output_type": "stream",
     "text": [
      "\n"
     ]
    }
   ],
   "source": [
    "# threshold valid\n",
    "threshold = 0.6\n",
    "valid_result = defaultdict(list) # result 리스트\n",
    "for idx, (_, test_idx) in tqdm(enumerate(stratkfold.split(X,Y))):\n",
    "    x_test, y_test = X.iloc[test_idx], Y[test_idx]\n",
    "\n",
    "    y_valid_pred = models[idx].predict_proba(x_test)[:,0]\n",
    "    y_valid_pred = np.where(y_valid_pred >= threshold, False, True)\n",
    "    \n",
    "    for name, score in check_the_score(y_valid_pred, y_test).items():  # valid\n",
    "        valid_result[name].append(score)\n",
    "        \n",
    "# print score\n",
    "print('----[K-Fold Validation Score]-----')\n",
    "score_print(valid_result)"
   ]
  },
  {
   "cell_type": "code",
   "execution_count": 486,
   "id": "3b0d2a17",
   "metadata": {
    "scrolled": true
   },
   "outputs": [
    {
     "name": "stdout",
     "output_type": "stream",
     "text": [
      "lead_owner_converted_ratio: 0.5023084695182889\n",
      "new_customer_idx: 0.23577397405783396\n",
      "lead_desc_length: 0.04716885697346108\n",
      "business_subarea: 0.028342316282734415\n",
      "new_customer_type2: 0.02173172342044822\n",
      "country: 0.019807551097815918\n",
      "ver_win_rate_x: 0.019602276085594412\n",
      "job_function: 0.018378823330094364\n",
      "category_3: 0.012795084494969126\n",
      "business_area: 0.012143367057762299\n",
      "historical_existing_cnt: 0.011712618463274309\n",
      "seniority_level: 0.011455350827059854\n",
      "com_reg_ver_win_rate: 0.010406156150770788\n",
      "category_2: 0.008063015615084525\n",
      "new_customer_type1: 0.007116987731973587\n",
      "customer_interest: 0.00601679961991281\n",
      "bant_submit: 0.005505858528743072\n",
      "new_expected_timeline: 0.004648156811388506\n",
      "ver_win_ratio_per_bu: 0.0042648867281554\n",
      "continent: 0.004211397819882915\n",
      "less_timeline: 0.003517215694104122\n",
      "business_unit: 0.0025387815219880617\n",
      "new_inquiry_type: 0.001296388812249992\n",
      "category_1: 0.0009955936014495095\n",
      "enterprise: 0.00019834975495994225\n"
     ]
    }
   ],
   "source": [
    "# feature importance\n",
    "feature_importances = model.feature_importances_\n",
    "feature_names = x_train.columns\n",
    "feature_importance_dict = dict(zip(feature_names, feature_importances))\n",
    "sorted_importance_dict = {k: v for k, v in sorted(feature_importance_dict.items(), key=lambda item: item[1], reverse=True)}\n",
    "for feature_name, importance in sorted_importance_dict.items():\n",
    "    print(f\"{feature_name}: {importance}\")"
   ]
  },
  {
   "cell_type": "markdown",
   "id": "62e8552a",
   "metadata": {},
   "source": [
    "## inference"
   ]
  },
  {
   "cell_type": "code",
   "execution_count": 587,
   "id": "859ef8a8",
   "metadata": {},
   "outputs": [],
   "source": [
    "test_drop = df_test.drop(['id','is_converted'],axis = 1)"
   ]
  },
  {
   "cell_type": "code",
   "execution_count": 588,
   "id": "bdebcba5",
   "metadata": {},
   "outputs": [],
   "source": [
    "# voting threshold\n",
    "predicts = []\n",
    "threshold = 0.9\n",
    "for model in models:\n",
    "    pred_proba = model.predict_proba(test_drop)[:,0]\n",
    "    pred = np.where(pred_proba >= threshold, False, True)\n",
    "    predicts.append(pred)"
   ]
  },
  {
   "cell_type": "code",
   "execution_count": 589,
   "id": "2d371ea2",
   "metadata": {},
   "outputs": [
    {
     "name": "stdout",
     "output_type": "stream",
     "text": [
      "1582\n",
      "1649\n",
      "1610\n",
      "1610\n",
      "1567\n"
     ]
    }
   ],
   "source": [
    "for i in predicts:\n",
    "    print(sum(i))"
   ]
  },
  {
   "cell_type": "code",
   "execution_count": 590,
   "id": "bd4cfd22",
   "metadata": {},
   "outputs": [
    {
     "data": {
      "text/plain": [
       "1770"
      ]
     },
     "execution_count": 590,
     "metadata": {},
     "output_type": "execute_result"
    }
   ],
   "source": [
    "num_threshold = 1\n",
    "pred = np.where( np.sum(predicts,axis = 0) >= num_threshold, 1, 0)\n",
    "pred = np.where(pred == 0, False, True)\n",
    "sum(pred)"
   ]
  },
  {
   "cell_type": "code",
   "execution_count": 423,
   "id": "264dc09d",
   "metadata": {},
   "outputs": [
    {
     "name": "stdout",
     "output_type": "stream",
     "text": [
      "1400\n"
     ]
    }
   ],
   "source": [
    "# difference\n",
    "pred2 = pred  #pred1 718 | pred2 1142 | pred3 820\n",
    "print(sum(pred))"
   ]
  },
  {
   "cell_type": "code",
   "execution_count": 185,
   "id": "aaefaa96",
   "metadata": {},
   "outputs": [
    {
     "data": {
      "text/plain": [
       "249"
      ]
     },
     "execution_count": 185,
     "metadata": {},
     "output_type": "execute_result"
    }
   ],
   "source": [
    "su = 0\n",
    "for i,j in zip(pred3, pred1):\n",
    "    if i != j:\n",
    "        su +=1\n",
    "su"
   ]
  },
  {
   "cell_type": "markdown",
   "id": "63873d0e",
   "metadata": {},
   "source": [
    "## ensemble"
   ]
  },
  {
   "cell_type": "code",
   "execution_count": 591,
   "id": "a8e69827",
   "metadata": {},
   "outputs": [],
   "source": [
    "pred4 = pred \n",
    "df_test['is_converted'] = pred"
   ]
  },
  {
   "cell_type": "code",
   "execution_count": null,
   "id": "79832089",
   "metadata": {},
   "outputs": [],
   "source": [
    "date='0222'"
   ]
  },
  {
   "cell_type": "code",
   "execution_count": 492,
   "id": "41561561",
   "metadata": {},
   "outputs": [],
   "source": [
    "pred1 # decision_tree: num_threshold: 1 + threshold: 0.9\n",
    "df_test.to_csv(f\"{date}_decision_tree.csv\",index = False)"
   ]
  },
  {
   "cell_type": "code",
   "execution_count": 503,
   "id": "99d42029",
   "metadata": {},
   "outputs": [],
   "source": [
    "pred2 # xgb: num_threshold: 1, threshold = 0.9\n",
    "df_test.to_csv(f\"{date}_xgb.csv\",index = False)"
   ]
  },
  {
   "cell_type": "code",
   "execution_count": 475,
   "id": "13d9c0f9",
   "metadata": {},
   "outputs": [],
   "source": [
    "pred3 # lgb: num_threshold: 1 + threshold: 0.8\n",
    "df_test.to_csv(f\"{date}_lgb.csv\",index = False)"
   ]
  },
  {
   "cell_type": "code",
   "execution_count": 592,
   "id": "2c49d4ad",
   "metadata": {},
   "outputs": [],
   "source": [
    "pred4 # ramdom_forest: num_threshold: 1 + threshold: 0.9\n",
    "df_test.to_csv(f\"{date}_random_forest.csv\",index = False)"
   ]
  },
  {
   "cell_type": "code",
   "execution_count": 597,
   "id": "c59d4f91",
   "metadata": {},
   "outputs": [],
   "source": [
    "df = pd.read_csv(f\"{date}_cat.csv\")\n",
    "pred5 = np.array(df['is_converted'])# cat: num_threshold: 1 + threshold: 0.6"
   ]
  },
  {
   "cell_type": "code",
   "execution_count": 599,
   "id": "13d7a3f5",
   "metadata": {},
   "outputs": [],
   "source": [
    "ensemble_ = np.array((pred1,pred2,pred3,pred4,pred5))"
   ]
  },
  {
   "cell_type": "code",
   "execution_count": 604,
   "id": "5bc95a22",
   "metadata": {},
   "outputs": [
    {
     "name": "stdout",
     "output_type": "stream",
     "text": [
      "1682 1446 1609 1770 1424\n"
     ]
    }
   ],
   "source": [
    "print(sum(pred1),sum(pred2),sum(pred3),sum(pred4),sum(pred5))"
   ]
  },
  {
   "cell_type": "code",
   "execution_count": 634,
   "id": "067f7083",
   "metadata": {
    "scrolled": true
   },
   "outputs": [
    {
     "data": {
      "text/plain": [
       "1523"
      ]
     },
     "execution_count": 634,
     "metadata": {},
     "output_type": "execute_result"
    }
   ],
   "source": [
    "ensemble_threshold = 3\n",
    "pred = np.where( np.sum(ensemble_,axis = 0) >= ensemble_threshold, 1, 0)\n",
    "pred = np.where(pred == 0, False, True)\n",
    "sum(pred)"
   ]
  },
  {
   "cell_type": "markdown",
   "id": "704a9a9d",
   "metadata": {},
   "source": [
    "## submission"
   ]
  },
  {
   "cell_type": "code",
   "execution_count": 630,
   "id": "c8b3c4ab",
   "metadata": {},
   "outputs": [],
   "source": [
    "df_test['is_converted'] = pred\n",
    "df_test.to_csv(\"submission.csv\",index = False)"
   ]
  },
  {
   "cell_type": "code",
   "execution_count": 622,
   "id": "7b0a51d4",
   "metadata": {},
   "outputs": [
    {
     "data": {
      "text/plain": [
       "2075"
      ]
     },
     "execution_count": 622,
     "metadata": {},
     "output_type": "execute_result"
    }
   ],
   "source": [
    "sum(pred)"
   ]
  }
 ],
 "metadata": {
  "kernelspec": {
   "display_name": "Python 3 (ipykernel)",
   "language": "python",
   "name": "python3"
  },
  "language_info": {
   "codemirror_mode": {
    "name": "ipython",
    "version": 3
   },
   "file_extension": ".py",
   "mimetype": "text/x-python",
   "name": "python",
   "nbconvert_exporter": "python",
   "pygments_lexer": "ipython3",
   "version": "3.11.5"
  }
 },
 "nbformat": 4,
 "nbformat_minor": 5
}

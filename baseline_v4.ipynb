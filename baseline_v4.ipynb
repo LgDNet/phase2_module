{
 "cells": [
  {
   "cell_type": "code",
   "execution_count": 3,
   "id": "db275d8b",
   "metadata": {
    "scrolled": true
   },
   "outputs": [],
   "source": [
    "# %rm -rf phase2_module\n",
    "# !git clone https://github.com/LgDNet/phase2_module.git\n",
    "# !cd phase2_module && make copy"
   ]
  },
  {
   "cell_type": "code",
   "execution_count": 1,
   "id": "b9fa7c89",
   "metadata": {
    "scrolled": true
   },
   "outputs": [
    {
     "name": "stdout",
     "output_type": "stream",
     "text": [
      "/home/elicer\n"
     ]
    },
    {
     "name": "stderr",
     "output_type": "stream",
     "text": [
      "/home/elicer/.local/lib/python3.10/site-packages/IPython/core/magics/osm.py:417: UserWarning: using dhist requires you to install the `pickleshare` library.\n",
      "  self.shell.db['dhist'] = compress_dhist(dhist)[-100:]\n"
     ]
    }
   ],
   "source": [
    "cd .."
   ]
  },
  {
   "cell_type": "code",
   "execution_count": 3,
   "id": "d1148052",
   "metadata": {},
   "outputs": [],
   "source": [
    "from phase2_module.src.utils.dataset import Data\n",
    "from phase2_module.src.models.classification.models import Model\n",
    "from phase2_module.src.base import BasePiepline\n",
    "# from phase2_module.src.hyper_parameters.params_optimization import xgboost_opt, set_params_optimization_data\n",
    "from phase2_module.src.utils.set_seed import seed_everything\n",
    "from phase2_module.src.utils.top_score_instance import check_the_score\n",
    "from phase2_module.src.encoder.encoders import Encode\n",
    "\n",
    "from phase2_module.src.utils.manage_pkl_files import PickleManager as pkl_manager\n",
    "from phase2_module.src import preprocess\n",
    "seed_everything()  # NOTE: default 42\n",
    "_model = Model()"
   ]
  },
  {
   "cell_type": "code",
   "execution_count": 4,
   "id": "7a70301f",
   "metadata": {},
   "outputs": [],
   "source": [
    "import pandas as pd\n",
    "import numpy as np\n",
    "import re, pickle\n",
    "import warnings\n",
    "from tqdm import tqdm\n",
    "warnings.filterwarnings(action='ignore')\n",
    "def set_up(mode= None):\n",
    "    pd.set_option('display.max_columns', mode)\n",
    "set_up()"
   ]
  },
  {
   "cell_type": "markdown",
   "id": "cd7808f8",
   "metadata": {},
   "source": [
    "# Preprocessing"
   ]
  },
  {
   "cell_type": "code",
   "execution_count": 8,
   "id": "0b3afe0a-018c-4d7d-8f41-0b33126f977a",
   "metadata": {},
   "outputs": [],
   "source": [
    "basic = preprocess.Basic\n",
    "country = preprocess.Country\n",
    "customer = preprocess.Customer\n",
    "inquiry = preprocess.Inquiry\n",
    "product_category = preprocess.ProductCategory\n",
    "convert_ratio = preprocess.Convert_ratio\n",
    "customer2 = preprocess.Customer2\n",
    "category = preprocess.Categorization\n",
    "business = preprocess.Business"
   ]
  },
  {
   "cell_type": "markdown",
   "id": "f710021d",
   "metadata": {},
   "source": [
    "# Main"
   ]
  },
  {
   "cell_type": "code",
   "execution_count": 9,
   "id": "d7dfcfa0",
   "metadata": {},
   "outputs": [],
   "source": [
    "pkls = pkl_manager.map(pkl_manager.loads, pkl_manager.metadata_directory)\n",
    "\n",
    "runtime_instance = {\n",
    "    \"Train\": Data.train,\n",
    "    \"Test\": Data.test,\n",
    "    \"Instances\":[\n",
    "        {\"instance\": basic, \"method\": ['drop_duplicated'], \"params\": False},\n",
    "        {\"instance\": country, \"method\": ['apply'], \"params\": pkls.get(\"country\")},\n",
    "        {\"instance\": inquiry, \"method\": [\"apply\"], \"params\": False},\n",
    "        {\"instance\": product_category, \"method\": [\"product_categories\", 'fill_odds'], \"params\": {**pkls.get(\"product_category\"), **pkls.get(\"product_subcategory\")}},\n",
    "        {\"instance\": customer, \"method\": [\"apply\"], \"params\": pkls.get(\"customer\")},\n",
    "        {\"instance\": category, \"method\": [\"cat_customer_idx\",'historical_cnt_mean'], \"params\": False},\n",
    "        {\"instance\": convert_ratio, \"method\": [\"lead_owner\"], \"params\": {**pkls.get(\"lead_owner\"), **pkls.get(\"customer_idx\")}},\n",
    "        #{\"instance\": basic, \"method\": ['customer_idx_merge_enterprise'], \"params\": False},\n",
    "        {\"instance\": customer2, \"method\": ['seniority_level', 'job_function', 'customer_type'], \"params\": pkls.get(\"customer2\")},\n",
    "        {\"instance\": business, \"method\": [\"apply\"], \"params\": pkls.get(\"business\")},\n",
    "        {\"instance\": category, \"method\": ['customer_idx_merge_enterprise'], \"params\": False},\n",
    "    ]\n",
    "}"
   ]
  },
  {
   "cell_type": "markdown",
   "id": "da5e2f4f",
   "metadata": {},
   "source": [
    "## preprocessing"
   ]
  },
  {
   "cell_type": "code",
   "execution_count": 42,
   "id": "2050a8a3",
   "metadata": {
    "scrolled": true
   },
   "outputs": [],
   "source": [
    "df_train = preprocess.runner('Train',**runtime_instance)\n",
    "df_test = preprocess.runner('Test',**runtime_instance)"
   ]
  },
  {
   "cell_type": "code",
   "execution_count": 44,
   "id": "a3c9060e",
   "metadata": {},
   "outputs": [
    {
     "data": {
      "text/plain": [
       "business_area\n",
       "corporate / office                26177\n",
       "education                          8304\n",
       "residential (home)                 7378\n",
       "retail                             3853\n",
       "hotel & accommodation              2859\n",
       "factory                            2494\n",
       "special purpose                    2029\n",
       "hospital & health care             1082\n",
       "government department               635\n",
       "public facility                     503\n",
       "transportation                      291\n",
       "power plant / renewable energy      108\n",
       "Space                                50\n",
       "Name: count, dtype: int64"
      ]
     },
     "execution_count": 44,
     "metadata": {},
     "output_type": "execute_result"
    }
   ],
   "source": [
    "df_train['business_area'].value_counts()"
   ]
  },
  {
   "cell_type": "code",
   "execution_count": 7,
   "id": "0e24cd32",
   "metadata": {},
   "outputs": [],
   "source": [
    "cond = df_train['is_converted'] == True\n",
    "true_num = df_train[cond]['lead_desc_length'].mean()\n",
    "cond1 = df_train['lead_desc_length'] > true_num\n",
    "df_train.loc[cond1,'less_timeline'] += 1\n",
    "cond2 = df_test['lead_desc_length'] > true_num\n",
    "df_test.loc[cond2,'less_timeline'] += 1"
   ]
  },
  {
   "cell_type": "markdown",
   "id": "0d5afcab",
   "metadata": {},
   "source": [
    "## encoding"
   ]
  },
  {
   "cell_type": "code",
   "execution_count": 45,
   "id": "46038ade",
   "metadata": {},
   "outputs": [],
   "source": [
    "encode = Encode()"
   ]
  },
  {
   "cell_type": "code",
   "execution_count": 46,
   "id": "6190c81f",
   "metadata": {},
   "outputs": [],
   "source": [
    "exisiting_columns = [\n",
    "                     'business_area','business_subarea','business_unit',\n",
    "                        'enterprise',\n",
    "#                         'response_corporate',#\"customer_country\", # country\n",
    "#                         'customer_type','customer_job','customer_position', #customer\n",
    "#                         'inquiry_type','expected_timeline', # inquiry\n",
    "#                         'product_subcategory','product_category','product_modelname' # product_category\n",
    "                       ] \n",
    "preprocess_columns = [\n",
    "                     'country','continent', # country\n",
    "                     'customer_type2','job_function','seniority_level', # customer\n",
    "                     'new_expected_timeline', 'new_inquiry_type',# inquiry\n",
    "                     'category_2','category_3','category_1',\n",
    "                     'new_customer_type1','new_customer_type2' # product_category\n",
    "#                      'test2'\n",
    "                     ]\n",
    "\n",
    "label_encode_columns = exisiting_columns + preprocess_columns"
   ]
  },
  {
   "cell_type": "code",
   "execution_count": 47,
   "id": "93051fc7",
   "metadata": {
    "scrolled": true
   },
   "outputs": [],
   "source": [
    "# 결측치 채우기\n",
    "df_train = preprocess.fillna(df_train)\n",
    "df_test = preprocess.fillna(df_test)"
   ]
  },
  {
   "cell_type": "code",
   "execution_count": 11,
   "id": "72354c9e",
   "metadata": {},
   "outputs": [],
   "source": [
    "# # one-hot encoding\n",
    "# onehot_encode_columns = ['category_1']\n",
    "# df_train = encode.onehot_encoder(df_train,onehot_encode_columns)\n",
    "# df_test = encode.onehot_encoder(df_test,onehot_encode_columns)"
   ]
  },
  {
   "cell_type": "code",
   "execution_count": 48,
   "id": "e08c93b6",
   "metadata": {
    "scrolled": true
   },
   "outputs": [],
   "source": [
    "# label encoding\n",
    "encode.set_up() # 전역 변수 초기화\n",
    "df_train = encode.label_encoder(df_train,label_encode_columns)\n",
    "df_test = encode.label_encoder(df_test,label_encode_columns)"
   ]
  },
  {
   "cell_type": "markdown",
   "id": "ec3008eb",
   "metadata": {},
   "source": [
    "# Modeling"
   ]
  },
  {
   "cell_type": "markdown",
   "id": "2b5bd1c9",
   "metadata": {},
   "source": [
    "## drop column\n",
    "모델링 전이 column을 drop하면서 다루기가 쉽다고 판단하였음"
   ]
  },
  {
   "cell_type": "code",
   "execution_count": 49,
   "id": "99a45410",
   "metadata": {},
   "outputs": [
    {
     "data": {
      "text/plain": [
       "Index(['bant_submit', 'customer_country', 'business_unit',\n",
       "       'com_reg_ver_win_rate', 'customer_idx', 'customer_type',\n",
       "       'historical_existing_cnt', 'id_strategic_ver', 'it_strategic_ver',\n",
       "       'idit_strategic_ver', 'customer_job', 'lead_desc_length',\n",
       "       'inquiry_type', 'product_category', 'product_subcategory',\n",
       "       'product_modelname', 'customer_country.1', 'customer_position',\n",
       "       'response_corporate', 'expected_timeline', 'ver_cus', 'ver_pro',\n",
       "       'ver_win_rate_x', 'ver_win_ratio_per_bu', 'business_area',\n",
       "       'business_subarea', 'lead_owner', 'is_converted', 'country',\n",
       "       'continent', 'new_inquiry_type', 'new_expected_timeline',\n",
       "       'less_timeline', 'customer_interest', 'category_1', 'category_2',\n",
       "       'category_3', 'customer_type2', 'job_function', 'seniority_level',\n",
       "       'new_customer_idx', 'historical_existing_mean',\n",
       "       'lead_owner_converted_ratio', 'enterprise', 'new_customer_type1',\n",
       "       'new_customer_type2'],\n",
       "      dtype='object')"
      ]
     },
     "execution_count": 49,
     "metadata": {},
     "output_type": "execute_result"
    }
   ],
   "source": [
    "df_train.columns"
   ]
  },
  {
   "cell_type": "code",
   "execution_count": 50,
   "id": "7c21bdbc",
   "metadata": {
    "scrolled": true
   },
   "outputs": [],
   "source": [
    "drop_col = [\n",
    "            'id_strategic_ver','it_strategic_ver','idit_strategic_ver','ver_pro','ver_cus',\n",
    "            'customer_country.1',\n",
    "            \"customer_country\",#'response_corporate' # country\n",
    "            'customer_type','customer_job','customer_position', # customer\n",
    "            'inquiry_type', 'expected_timeline', #inquiry\n",
    "            'product_subcategory','product_category','product_modelname', # product_category\n",
    "#             'cate_is_nan', # product_category\n",
    "    \n",
    "#             'com_reg_ver_win_rate','idit_strategic_ver','ver_cus',\n",
    "#             'ver_pro','ver_win_rate_x','ver_win_ratio_per_bu',\n",
    "            'customer_idx',\n",
    "            'lead_owner','historical_existing_mean','response_corporate',#'new_customer_idx'\n",
    "            'customer_type2', 'business_subarea',\n",
    "#             'customer_idx_converted_ratio', # ratio\n",
    "            #'lead_owner', 'lead_owner_converted_ratio', 'lead_owner_customer_idx_mean', # lead_owner\n",
    "            ]\n",
    "df_train.drop(drop_col,axis = 1, inplace = True)\n",
    "df_test.drop(drop_col,axis = 1, inplace = True)"
   ]
  },
  {
   "cell_type": "markdown",
   "id": "d6a4f413",
   "metadata": {},
   "source": [
    "## Scaler"
   ]
  },
  {
   "cell_type": "code",
   "execution_count": 51,
   "id": "521f3342",
   "metadata": {},
   "outputs": [],
   "source": [
    "import numpy as np\n",
    "# log 변환\n",
    "df_train['lead_desc_length'] = np.log1p(df_train['lead_desc_length'])\n",
    "df_test['lead_desc_length'] = np.log1p(df_test['lead_desc_length'])"
   ]
  },
  {
   "cell_type": "code",
   "execution_count": 52,
   "id": "9bb16055",
   "metadata": {},
   "outputs": [],
   "source": [
    "from sklearn.preprocessing import StandardScaler\n",
    "scaler = StandardScaler()\n",
    "df_train[['lead_owner_converted_ratio']] = scaler.fit_transform(df_train[['lead_owner_converted_ratio']])\n",
    "df_test[['lead_owner_converted_ratio']] = scaler.transform(df_test[['lead_owner_converted_ratio']])"
   ]
  },
  {
   "cell_type": "markdown",
   "id": "752739e2",
   "metadata": {},
   "source": [
    "## type"
   ]
  },
  {
   "cell_type": "code",
   "execution_count": 53,
   "id": "d014f1ec",
   "metadata": {},
   "outputs": [],
   "source": [
    "df_train['new_customer_idx'] = df_train['new_customer_idx'].astype(int)\n",
    "df_test['new_customer_idx'] = df_test['new_customer_idx'].astype(int)"
   ]
  },
  {
   "cell_type": "markdown",
   "id": "a81e3032",
   "metadata": {},
   "source": [
    "## train"
   ]
  },
  {
   "cell_type": "markdown",
   "id": "dc90d544",
   "metadata": {},
   "source": [
    "#### param"
   ]
  },
  {
   "cell_type": "code",
   "execution_count": 54,
   "id": "fb88686e",
   "metadata": {},
   "outputs": [],
   "source": [
    "import math\n",
    "from six.moves import xrange\n",
    "\n",
    "class LoglossObjective(object):\n",
    "    def calc_ders_range(self, approxes, targets, weights):\n",
    "        assert len(approxes) == len(targets)\n",
    "        if weights is not None:\n",
    "            assert len(weights) == len(approxes)\n",
    "        \n",
    "        result = []\n",
    "        for index in range(len(targets)):\n",
    "            e = np.exp(approxes[index])\n",
    "            p = e / (1 + e)\n",
    "            der1 = targets[index] - p\n",
    "            der2 = -p * (1 - p)\n",
    "            \n",
    "\n",
    "            if (targets[index] == 0.0) & (p<0.5):\n",
    "                #( True Negative )\n",
    "                der1 = (p)*(targets[index] - p)\n",
    "                der2 = (1-2*p)*(-p * (1 - p))\n",
    "                \n",
    "            elif (targets[index] == 0.0) & (p>=0.5):\n",
    "                # 타겟값이 노말 유저인데,fraud 라고 예측한 경우 ( False Positive )\n",
    "                der1 = 3*(p)*(targets[index] - p)\n",
    "                der2 = 3*(1-2*p)*(-p * (1 - p))\n",
    "\n",
    "            elif (targets[index] > 0.0) :\n",
    "                # 타겟 값이 fraud 이라면 p값이 높을수록 (정답에 가까울수록) 페널티가 적도록 세팅. 추가로 3배 페널티\n",
    "                der1 = 3*(1-p)*(targets[index] - p)\n",
    "                der2 = 3*(2*p-1)*(-p * (1 - p))\n",
    "                \n",
    "            if weights is not None:\n",
    "                der1 *= weights[index]\n",
    "                der2 *= weights[index]\n",
    "\n",
    "            result.append((der1, der2))\n",
    "        return result"
   ]
  },
  {
   "cell_type": "code",
   "execution_count": 55,
   "id": "2f49d5b7",
   "metadata": {},
   "outputs": [],
   "source": [
    "cat_params = {'iterations':5000, 'depth':12, 'thread_count':3, 'learning_rate':1e-3, 'loss_function':LoglossObjective(), 'eval_metric':'PRAUC', 'early_stopping_rounds':400, 'verbose':1000}\n",
    "decision_params = {'criterion': 'log_loss', 'max_depth': 20, 'min_samples_split': 7, 'min_samples_leaf': 2, 'random_state': 42}\n",
    "xgb_params = {'n_estimators': 2393, 'max_depth': 16, 'min_child_weight': 2, 'learning_rate': 0.06783336462585174, 'subsample': 0.9511145375386896, 'gamma': 0.16846211770550093, 'colsample_bytree': 0.6662896237544925, 'colsample_bylevel': 0.8781042717330898, 'colsample_bynode': 0.741271661588135, 'random_state':42}\n",
    "lgb_params = {'num_iterations' : 5000, 'objective' : 'binary', 'is_unbalance':True, 'max_depth': -1, 'early_stopping_rounds' : 500, 'verbose':0, 'seed':42}\n",
    "random_params = {'max_depth': 19, 'max_leaf_nodes': 749, 'n_estimators': 349,'random_state':42}\n",
    "gbm_params = {'n_estimators':1000, 'learning_rate' : 1e-3, 'max_depth' : 16, 'random_state' : 42,'verbose':2, }"
   ]
  },
  {
   "cell_type": "markdown",
   "id": "62f9e674",
   "metadata": {},
   "source": [
    "### train_"
   ]
  },
  {
   "cell_type": "code",
   "execution_count": 56,
   "id": "c14a6274",
   "metadata": {},
   "outputs": [],
   "source": [
    "X = df_train.drop([\"is_converted\"],axis = 1)\n",
    "Y = df_train['is_converted']\n",
    "\n",
    "#Y = np.where(Y == False, 0, 1) # catboost"
   ]
  },
  {
   "cell_type": "code",
   "execution_count": 57,
   "id": "62215810",
   "metadata": {},
   "outputs": [],
   "source": [
    "X = X.apply(pd.to_numeric)"
   ]
  },
  {
   "cell_type": "code",
   "execution_count": 52,
   "id": "de719fdd",
   "metadata": {
    "scrolled": true
   },
   "outputs": [],
   "source": [
    "# # oversampling\n",
    "# from imblearn.over_sampling import SMOTE, ADASYN\n",
    "# adasyn = SMOTE(sampling_strategy=0.2,random_state=42)\n",
    "# X, Y = adasyn.fit_resample(X, Y)"
   ]
  },
  {
   "cell_type": "code",
   "execution_count": 41,
   "id": "ff722755",
   "metadata": {},
   "outputs": [],
   "source": [
    "def score_print(result_dict):\n",
    "    for name, score_list in result_dict.items():\n",
    "        print(f'{name} score : {np.mean(score_list):.4f} / STD: (+/- {np.std(score_list):.4f})')"
   ]
  },
  {
   "cell_type": "code",
   "execution_count": 70,
   "id": "bd25a053",
   "metadata": {
    "scrolled": true
   },
   "outputs": [
    {
     "name": "stderr",
     "output_type": "stream",
     "text": [
      "5it [00:01,  3.83it/s]"
     ]
    },
    {
     "name": "stdout",
     "output_type": "stream",
     "text": [
      "----[K-Fold Train Score]-----\n",
      "f1 score : 0.9363 / STD: (+/- 0.0018)\n",
      "precision score : 0.9109 / STD: (+/- 0.0038)\n",
      "recall score : 0.9632 / STD: (+/- 0.0027)\n",
      "roc_auc_score score : 0.9776 / STD: (+/- 0.0013)\n",
      "----[K-Fold Validation Score]-----\n",
      "f1 score : 0.7819 / STD: (+/- 0.0113)\n",
      "precision score : 0.7682 / STD: (+/- 0.0109)\n",
      "recall score : 0.7962 / STD: (+/- 0.0132)\n",
      "roc_auc_score score : 0.8876 / STD: (+/- 0.0070)\n"
     ]
    },
    {
     "name": "stderr",
     "output_type": "stream",
     "text": [
      "\n"
     ]
    }
   ],
   "source": [
    "import copy\n",
    "from collections import defaultdict\n",
    "from sklearn.model_selection import StratifiedKFold\n",
    "stratkfold = StratifiedKFold(n_splits=5, shuffle=True, random_state=42)\n",
    "def kfold(fit_model, param):\n",
    "    train_result, valid_result = defaultdict(list), defaultdict(list) # result 리스트\n",
    "    models = [] # 모델을 저장할 리스트\n",
    "    # k-fold\n",
    "    for idx,(train_idx, test_idx) in tqdm(enumerate(stratkfold.split(X,Y))):\n",
    "        base_model = copy.deepcopy(fit_model)\n",
    "        \n",
    "        x_train, x_test = X.iloc[train_idx], X.iloc[test_idx]\n",
    "        y_train, y_test = Y[train_idx], Y[test_idx]\n",
    "        # 모델 선언\n",
    "        model = base_model\n",
    "        model.set_params(**param)\n",
    "        # 모델 훈련\n",
    "        if model.__class__.__name__ != 'LGBMClassifier':\n",
    "            model.fit(x_train, y_train)            \n",
    "        else:\n",
    "            model.fit(x_train, y_train,eval_set=[(x_test, y_test)],eval_metric = LoglossObjective())\n",
    "            \n",
    "        models.append(model) # 훈련된 모델을 리스트에 추가\n",
    "        train_pred, valid_pred = models[idx].predict(x_train), models[idx].predict(x_test)\n",
    "        # store result\n",
    "        for name, score in check_the_score(train_pred, y_train).items(): # train\n",
    "            train_result[name].append(score)\n",
    "        for name, score in check_the_score(valid_pred, y_test).items():  # valid\n",
    "            valid_result[name].append(score)\n",
    "    # print score\n",
    "    print(f'----[{model.__class__.__name__} K-Fold Train Score]-----')\n",
    "    score_print(train_result)\n",
    "    print(f'----[{model.__class__.__name__} K-Fold Validation Score]-----')\n",
    "    score_print(valid_result)\n",
    "    print('-'*50)\n",
    "    return models"
   ]
  },
  {
   "cell_type": "code",
   "execution_count": null,
   "id": "a5e251c3-e4b9-4652-93f3-c400b3568981",
   "metadata": {},
   "outputs": [],
   "source": [
    "model_params = {\n",
    "#                 'cat': (_model.catboost, cat_params),\n",
    "#                 'gbm': (_model.gradient_boosting, gbm_params),\n",
    "                'decision': (_model.decision_tree,decision_params),\n",
    "#                 'xgb': (_model.xgboost, xgb_params),\n",
    "                'lgb': (_model.lightgbm,lgb_params),\n",
    "#                 'random': (_model.random_forest, random_params),\n",
    "                }"
   ]
  },
  {
   "cell_type": "code",
   "execution_count": null,
   "id": "3d0d1c13-438b-4367-9f58-510c6ff98111",
   "metadata": {},
   "outputs": [],
   "source": [
    "models = defaultdict(list)\n",
    "for model_name, (model, param) in model_params.items():\n",
    "    models[model_name] = kfold(model,param)"
   ]
  },
  {
   "cell_type": "code",
   "execution_count": 32,
   "id": "e51afd9e",
   "metadata": {},
   "outputs": [
    {
     "name": "stderr",
     "output_type": "stream",
     "text": [
      "5it [00:00,  7.02it/s]"
     ]
    },
    {
     "name": "stdout",
     "output_type": "stream",
     "text": [
      "----[K-Fold Validation Score]-----\n",
      "f1 score : 0.8345 / STD: (+/- 0.0045)\n",
      "precision score : 0.8249 / STD: (+/- 0.0107)\n",
      "recall score : 0.8446 / STD: (+/- 0.0095)\n",
      "roc_auc_score score : 0.9144 / STD: (+/- 0.0045)\n"
     ]
    },
    {
     "name": "stderr",
     "output_type": "stream",
     "text": [
      "\n"
     ]
    }
   ],
   "source": [
    "# threshold valid\n",
    "threshold = 0.5\n",
    "for i, model_name in enumerate(models.keys()):\n",
    "    valid_result = defaultdict(list) # result 리스트\n",
    "    for idx, (_, test_idx) in tqdm(enumerate(stratkfold.split(X,Y))):\n",
    "        x_test, y_test = X.iloc[test_idx], Y[test_idx]\n",
    "        y_valid_pred = models[model_name][idx].predict_proba(x_test)[:,0]\n",
    "        y_valid_pred = np.where(y_valid_pred >= threshold, False, True)\n",
    "\n",
    "        for name, score in check_the_score(y_valid_pred, y_test).items():  # valid\n",
    "            valid_result[name].append(score)\n",
    "    # print score\n",
    "    print(f'{models[model_name][idx].__class__.__name__}----[K-Fold Validation Score]-----')\n",
    "    score_print(valid_result)\n",
    "    "
   ]
  },
  {
   "cell_type": "code",
   "execution_count": 59,
   "id": "3b0d2a17",
   "metadata": {},
   "outputs": [
    {
     "name": "stdout",
     "output_type": "stream",
     "text": [
      "enterprise: 0.22575248777866364\n",
      "lead_owner_converted_ratio: 0.16142994165420532\n",
      "new_customer_idx: 0.07247424870729446\n",
      "ver_win_rate_x: 0.04723936691880226\n",
      "new_customer_type1: 0.04195321351289749\n",
      "com_reg_ver_win_rate: 0.038468796759843826\n",
      "ver_win_ratio_per_bu: 0.03626057505607605\n",
      "new_customer_type2: 0.03625210374593735\n",
      "business_unit: 0.03338652104139328\n",
      "country: 0.031055809929966927\n",
      "category_2: 0.028496170416474342\n",
      "historical_existing_cnt: 0.026527803391218185\n",
      "continent: 0.020842717960476875\n",
      "category_1: 0.02007449045777321\n",
      "new_expected_timeline: 0.019922547042369843\n",
      "lead_desc_length: 0.019889118149876595\n",
      "category_3: 0.01942816935479641\n",
      "bant_submit: 0.019287889823317528\n",
      "new_inquiry_type: 0.018824564293026924\n",
      "customer_interest: 0.018071362748742104\n",
      "business_area: 0.017808780074119568\n",
      "job_function: 0.016775159165263176\n",
      "less_timeline: 0.015035528689622879\n",
      "seniority_level: 0.014742611907422543\n"
     ]
    }
   ],
   "source": [
    "# feature importance\n",
    "feature_importances = model.feature_importances_\n",
    "feature_names = x_train.columns\n",
    "feature_importance_dict = dict(zip(feature_names, feature_importances))\n",
    "sorted_importance_dict = {k: v for k, v in sorted(feature_importance_dict.items(), key=lambda item: item[1], reverse=True)}\n",
    "for feature_name, importance in sorted_importance_dict.items():\n",
    "    print(f\"{feature_name}: {importance}\")"
   ]
  },
  {
   "cell_type": "markdown",
   "id": "62e8552a",
   "metadata": {},
   "source": [
    "#### inference"
   ]
  },
  {
   "cell_type": "code",
   "execution_count": 65,
   "id": "859ef8a8",
   "metadata": {
    "scrolled": true
   },
   "outputs": [
    {
     "data": {
      "text/plain": [
       "id                              int64\n",
       "bant_submit                   float64\n",
       "business_unit                   int64\n",
       "com_reg_ver_win_rate          float64\n",
       "historical_existing_cnt       float64\n",
       "lead_desc_length              float64\n",
       "ver_win_rate_x                float64\n",
       "ver_win_ratio_per_bu          float64\n",
       "business_area                   int64\n",
       "is_converted                     bool\n",
       "country                         int64\n",
       "continent                       int64\n",
       "new_inquiry_type                int64\n",
       "new_expected_timeline           int64\n",
       "less_timeline                 float64\n",
       "customer_interest               int64\n",
       "category_1                      int64\n",
       "category_2                      int64\n",
       "category_3                      int64\n",
       "job_function                    int64\n",
       "seniority_level                 int64\n",
       "new_customer_idx                int64\n",
       "lead_owner_converted_ratio    float64\n",
       "enterprise                      int64\n",
       "new_customer_type1              int64\n",
       "new_customer_type2              int64\n",
       "dtype: object"
      ]
     },
     "execution_count": 65,
     "metadata": {},
     "output_type": "execute_result"
    }
   ],
   "source": [
    "df_test = df_test.apply(pd.to_numeric)\n",
    "test_drop = df_test.drop(['id','is_converted'],axis = 1)\n",
    "df_test.dtypes"
   ]
  },
  {
   "cell_type": "code",
   "execution_count": 66,
   "id": "bdebcba5",
   "metadata": {},
   "outputs": [],
   "source": [
    "# voting threshold\n",
    "predicts = defaultdict(list)\n",
    "threshold = 0.9\n",
    "for model_name in models.keys():\n",
    "    for model in models[model_name]:\n",
    "        pred_proba = model.predict_proba(test_drop)[:,0]\n",
    "        pred = np.where(pred_proba >= threshold, False, True)\n",
    "        predicts[model_name].append(pred)"
   ]
  },
  {
   "cell_type": "code",
   "execution_count": 67,
   "id": "2d371ea2",
   "metadata": {},
   "outputs": [
    {
     "name": "stdout",
     "output_type": "stream",
     "text": [
      "1174\n",
      "1180\n",
      "1217\n",
      "1195\n",
      "1205\n"
     ]
    }
   ],
   "source": [
    "for name in predicts.keys():\n",
    "    print(name)\n",
    "    for i in predicts[name]:\n",
    "        print(sum(i))\n",
    "    print('-'*10)"
   ]
  },
  {
   "cell_type": "code",
   "execution_count": 68,
   "id": "bd4cfd22",
   "metadata": {},
   "outputs": [
    {
     "data": {
      "text/plain": [
       "1402"
      ]
     },
     "execution_count": 68,
     "metadata": {},
     "output_type": "execute_result"
    }
   ],
   "source": [
    "final_predicts={}\n",
    "for idx, name in enumerate(predicts.keys()):\n",
    "    num_threshold = 1\n",
    "    globals()[f'pred{idx+1}'] = np.where( np.sum(predicts[name],axis = 0) >= num_threshold, 1, 0)\n",
    "    globals()[f'pred{idx+1}'] = np.where(globals()[f'pred{idx+1}'] == 0, False, True)\n",
    "    print(name)\n",
    "    print(sum(globals()[f'pred{idx+1}']))\n",
    "    final_predicts[name] = globals()[f'pred{idx+1}']"
   ]
  },
  {
   "cell_type": "markdown",
   "id": "63873d0e",
   "metadata": {},
   "source": [
    "## ensemble"
   ]
  },
  {
   "cell_type": "code",
   "execution_count": 69,
   "id": "a8e69827",
   "metadata": {},
   "outputs": [],
   "source": [
    "date='0223'\n",
    "for name, pred in final_predicts.items():\n",
    "    df_test['is_converted'] = pred\n",
    "    df_test.to_csv(f\"{date}_{name}.csv\",index = False)"
   ]
  },
  {
   "cell_type": "code",
   "execution_count": 5,
   "id": "0b5d1807",
   "metadata": {},
   "outputs": [],
   "source": [
    "\n",
    "# decision_tree: num_threshold: 1 + threshold: 0.9\n",
    "# xgb: num_threshold: 1, threshold = 0.9  -> 1402\n",
    "# lgb: num_threshold: 1 + threshold: 0.8\n",
    "# ramdom_forest: num_threshold: 1 + threshold: 0.9\n",
    "# cat: num_threshold: 1 + threshold: 0.7\n",
    "# gbm: num_threshold: 1 + threshold: 0.9\n",
    "# 1682 1446 1609 1770 1753 1688"
   ]
  },
  {
   "cell_type": "code",
   "execution_count": 21,
   "id": "2f009900",
   "metadata": {},
   "outputs": [],
   "source": [
    "# load csv\n",
    "model_list = ['decision_tree','xgb','lgb','random_forest','cat','gbm','svm']\n",
    "for idx, model_name in enumerate(model_list):\n",
    "    df = pd.read_csv(f\"{date}_{model_name}.csv\")\n",
    "    globals()[f'pred{idx+1}'] = np.array(df['is_converted'])"
   ]
  },
  {
   "cell_type": "code",
   "execution_count": 22,
   "id": "5bc95a22",
   "metadata": {},
   "outputs": [
    {
     "name": "stdout",
     "output_type": "stream",
     "text": [
      "1682 1446 1609 1770 1753 1688 1338 "
     ]
    }
   ],
   "source": [
    "for idx in range(len(model_list)):\n",
    "    print(sum(globals()[f'pred{idx+1}']), end = ' ')"
   ]
  },
  {
   "cell_type": "code",
   "execution_count": 23,
   "id": "8fc0b81e",
   "metadata": {},
   "outputs": [],
   "source": [
    "ensemble_ = np.array([globals()['pred'+ str(idx+1)] for idx in range(len(model_list))])"
   ]
  },
  {
   "cell_type": "code",
   "execution_count": 27,
   "id": "067f7083",
   "metadata": {},
   "outputs": [
    {
     "data": {
      "text/plain": [
       "1585"
      ]
     },
     "execution_count": 27,
     "metadata": {},
     "output_type": "execute_result"
    }
   ],
   "source": [
    "ensemble_threshold = 4\n",
    "pred = np.where( np.sum(ensemble_,axis = 0) >= ensemble_threshold, 1, 0)\n",
    "pred = np.where(pred == 0, False, True)\n",
    "sum(pred)"
   ]
  },
  {
   "cell_type": "markdown",
   "id": "704a9a9d",
   "metadata": {},
   "source": [
    "## submission"
   ]
  },
  {
   "cell_type": "code",
   "execution_count": 28,
   "id": "c8b3c4ab",
   "metadata": {},
   "outputs": [],
   "source": [
    "df_test['is_converted'] = pred\n",
    "df_test.to_csv(\"submission.csv\",index = False)"
   ]
  },
  {
   "cell_type": "code",
   "execution_count": 29,
   "id": "7b0a51d4",
   "metadata": {},
   "outputs": [
    {
     "data": {
      "text/plain": [
       "1585"
      ]
     },
     "execution_count": 29,
     "metadata": {},
     "output_type": "execute_result"
    }
   ],
   "source": [
    "sum(pred)"
   ]
  }
 ],
 "metadata": {
  "kernelspec": {
   "display_name": "Python 3 (ipykernel)",
   "language": "python",
   "name": "python3"
  },
  "language_info": {
   "codemirror_mode": {
    "name": "ipython",
    "version": 3
   },
   "file_extension": ".py",
   "mimetype": "text/x-python",
   "name": "python",
   "nbconvert_exporter": "python",
   "pygments_lexer": "ipython3",
   "version": "3.11.5"
  }
 },
 "nbformat": 4,
 "nbformat_minor": 5
}

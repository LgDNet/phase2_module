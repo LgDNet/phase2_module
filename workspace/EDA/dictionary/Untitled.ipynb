{
 "cells": [
  {
   "cell_type": "code",
   "execution_count": null,
   "id": "bc0437ff-0849-46a9-85a8-9b7bfcee433c",
   "metadata": {},
   "outputs": [],
   "source": []
  },
  {
   "cell_type": "code",
   "execution_count": 155,
   "id": "a702d1e9-df5d-47d4-9f54-68e786162ef0",
   "metadata": {},
   "outputs": [],
   "source": [
    "business_area = {\n",
    "    \"Food & Beverage\":[\n",
    "        \"Food\"\n",
    "        \"Beverage\",\n",
    "    ],\n",
    "    \"Retail\": [\n",
    "        'Duty Free Shop',\n",
    "        'Restaurant',\n",
    "        'F&B',\n",
    "        'QSR',\n",
    "        'CVS',\n",
    "        'Electronics',\n",
    "        'Telco',\n",
    "        'Real-Estate Agency',\n",
    "        'Shopping mall',\n",
    "        'Luxury',\n",
    "        'Restaurant',\n",
    "        'Cosmetics',\n",
    "        'Bookstore',\n",
    "        'Sports Entertainment',\n",
    "        'Fashion',\n",
    "        'Car Dealership',\n",
    "        'QSR',\n",
    "        'Gas Station',\n",
    "        'Travel Agency',\n",
    "        'Specialty store',\n",
    "        'Hyper market',\n",
    "        'grocery',\n",
    "        'F&B',\n",
    "        'Shopping Mall',\n",
    "        'Pharmacy'\n",
    "    ],\n",
    "\n",
    "    \"Hotel & Accommodation\": [\n",
    "        \"Resort\",\n",
    "        \"Casino Resort\",\n",
    "        \"Cruise\",\n",
    "        \"Hotel\",\n",
    "        \"Dormitory\",\n",
    "    ],\n",
    "    \"Hospital & Health Care\": [\n",
    "        \"General Hospital\",\n",
    "        \"Fitness\",\n",
    "        \"Clinic\",\n",
    "        \"Hospital\",\n",
    "        \"LTC\",\n",
    "    ]\n",
    "    ,\n",
    "    \"Residential (Home)\": [\n",
    "        \"Villa\",\n",
    "        \"Single-Family Home\",\n",
    "        \"Apartment\",\n",
    "        \"Townhouse\",\n",
    "        \"Officetel\"\n",
    "    ],\n",
    "    \"Corporate / Office\": [\n",
    "        'Mining',\n",
    "        'Distribution Center',\n",
    "        'Manufacturing',\n",
    "        'Investment',\n",
    "        'Engineering',\n",
    "        'Consulting',\n",
    "        'Insurance',\n",
    "        'Telecommunication',\n",
    "        'Construction',\n",
    "        'Developer',\n",
    "        'Property',\n",
    "        'Advertising',\n",
    "        'Energy',\n",
    "        'Aerospace',\n",
    "        'Network',\n",
    "        'Cabling',\n",
    "        'Law Firm',\n",
    "        'Airline',\n",
    "        'Banking',\n",
    "        'Logistics',\n",
    "        'Pharmaceutical',\n",
    "        'Finance',\n",
    "        'Entertainment',\n",
    "        'Agriculture',\n",
    "        'IT',\n",
    "        'Software',\n",
    "        'Holdings',\n",
    "        'Healthcare',\n",
    "        'Broadcasting',\n",
    "        'Media'\n",
    "    ],\n",
    "    \"Transportation\": [\n",
    "        \"Airport\",\n",
    "        \"Airfield\",\n",
    "        \"Helipad\",\n",
    "        \"Sea Passenger Terminal\",\n",
    "        \"Port\",\n",
    "        \"Railway\",\n",
    "        \"Metro Station\",\n",
    "        \"Bus Terminal\",\n",
    "        \"Air Transport\",\n",
    "        \"Road\",\n",
    "        \"Railway\",\n",
    "        \"Metro\",\n",
    "        \"Sea\"\n",
    "    ],\n",
    "    \"Education\": [\n",
    "        \"Higher Education\",\n",
    "        \"College\",\n",
    "        \"University\",\n",
    "        \"Institute\",\n",
    "        \"Academy\",\n",
    "        \"K12 Kindergarten & Schools\",\n",
    "        \"HigherEd\"\n",
    "    ],\n",
    "    \"Public Facility\": [\n",
    "        \"Sports\",\n",
    "        \"Religious Facility\",\n",
    "        \"Outdoor Advertisement\",\n",
    "        \"Exhibition\",\n",
    "        \"Convention Center\",\n",
    "        \"Museum\",\n",
    "        \"Gallery\",\n",
    "        \"Cinema\",\n",
    "        \"Theater\",\n",
    "        \"Culture\",\n",
    "    ],\n",
    "    \"Government Department\": [\n",
    "        \"Police\",\n",
    "        \"Fire station\",\n",
    "        \"General Government Office\",\n",
    "        \"Military\",\n",
    "        \"Welfare Facilities\",\n",
    "    ],\n",
    "    \"Factory\": [\n",
    "        \"Manufacturing Factory\",\n",
    "        \"Pharmaceutical Factory\",\n",
    "        \"Chemical Factory\",\n",
    "        \"Plant\"\n",
    "    ],\n",
    "    \"Power Plant / Renewable Energy\": [\n",
    "        \"Power Plant\",\n",
    "        \"Renewable Energy\",\n",
    "        \"Energy Storage\",\n",
    "        \"Saving\",\n",
    "    ],\n",
    "    \"Special Purpose\": [\n",
    "        \"Botanical Garden\",\n",
    "        \"Green House\",\n",
    "        \"Telecom Base Station\",\n",
    "        \"Data\", \n",
    "        \"Call\",\n",
    "        \"Mixed-use\",\n",
    "        \"Multi Complex\",\n",
    "    ],\n",
    "    \"Others\": [\n",
    "        \"Others\",\n",
    "        \"Other\",\n",
    "        \"Other Stores\"\n",
    "    ]\n",
    "}\n",
    "\n",
    "with open('dictionary/business_area.pickle', 'wb') as r:\n",
    "    # business_area = pickle.load(r)\n",
    "    pickle.dump(business_area, r)"
   ]
  },
  {
   "cell_type": "code",
   "execution_count": null,
   "id": "ee421d24-596d-4cd6-b105-154f8d555e47",
   "metadata": {},
   "outputs": [],
   "source": [
    "# bant_submit\n",
    "filter1 = {\n",
    "    'AS': ['corporate /office residential (home)'],\n",
    "    'ID': [\"corporate / office retail education special purpose\"],\n",
    "    'IT': ['hotel & accommodation hospital & health care' ],\n",
    "    'Solution': ['hotel & accommodation corporate / office special purpose retail residential (home)'],\n",
    "}"
   ]
  },
  {
   "cell_type": "code",
   "execution_count": null,
   "id": "25ea2a13-26ee-4e30-a857-483b18d7c1af",
   "metadata": {},
   "outputs": [],
   "source": [
    "# cat 3\n",
    "filter2 = {\n",
    "    'accessories': ['retail'],\n",
    "    'air_to_water_heat_pumps': ['residential (home)'],\n",
    "    'all': ['corporate / office'],\n",
    "    'all_in_one': ['corporate / office'],\n",
    "    'chiller': ['factory'],\n",
    "    'cinebeam_projector': ['corporate / office'],\n",
    "    'clinical_review': ['hotel & accommodation'],\n",
    "    'curvable oled': ['corporate / office'],\n",
    "    'curved_led': ['retail'],\n",
    "    'diganostic': ['hotel & accommodation'],\n",
    "    'flat': ['retail'],\n",
    "    'gram': ['corporate / office'],\n",
    "    'high_brightness_signage': ['retail'],\n",
    "    'hotel_tv': ['hotel & accommodation'],\n",
    "    'indoor_led': ['corporate / office'],\n",
    "    'interactive': ['education'],\n",
    "    'ips': ['factory'],\n",
    "    'magnit': ['corporate / office'],\n",
    "    'miraclass_led': ['retail'],\n",
    "    'multi_split': ['residential (home)'],\n",
    "    'oled_monitor': ['special purpose'],\n",
    "    'one:quick': ['corporate / office'],\n",
    "    'outdoor_led': ['retail'],\n",
    "    'probeam_projector': ['education'],\n",
    "    'signage_care_solution': ['corporate / office'],\n",
    "    'single_split': ['residential (home)'],\n",
    "    'special': ['retail'],\n",
    "    'special_tv': ['hospital & health care'],\n",
    "    'standard': ['retail'],\n",
    "    'supersign_software': ['corporate / office'],\n",
    "    'surgical': ['hotel & accommodation'],\n",
    "    'thin_client': ['corporate / office'],\n",
    "    'transparent_led_film': ['retail'],\n",
    "    'transparent_oled': ['special purpose'],\n",
    "    'uhd4k': ['residential (home)'],\n",
    "    'ultrafine': ['corporate / office'],\n",
    "    'ultrawide': ['corporate / office'],\n",
    "    'ventilation_solution(erv)': ['corporate / office'],\n",
    "    'video_wall': ['corporate / office'],\n",
    "    'virtual_production': ['corporate / office'],\n",
    "    'vrf_system': ['corporate / office'],\n",
    "    'water_heater': ['corporate / office'],\n",
    "    'webos': ['retail'],\n",
    "    'x_ray': ['hotel & accommodation'],\n",
    "    'zero_clients': ['corporate / office']\n",
    "}\n"
   ]
  },
  {
   "cell_type": "code",
   "execution_count": 51,
   "id": "a6b3d374-1cd5-4c8f-942d-0e3f09e6c7cf",
   "metadata": {},
   "outputs": [],
   "source": [
    "filter3 = {\n",
    "    '0.00': ['hotel & accommodation'],\n",
    "    '0.25': ['hospital & health care'],\n",
    "    '0.50': ['hotel & accommodation corporate / office retail '],\n",
    "    '0.75': ['corporate / office'],\n",
    "    '1.00': ['corporate / office retail']\n",
    "}"
   ]
  },
  {
   "cell_type": "code",
   "execution_count": 48,
   "id": "74d813a3-5095-46c6-8e84-3fd1b22ef05f",
   "metadata": {},
   "outputs": [],
   "source": [
    "pkl_manager.save(\"business\",\"filter1\",filter1)\n",
    "pkl_manager.save(\"business\",\"filter2\",filter2)"
   ]
  },
  {
   "cell_type": "markdown",
   "id": "64fbf48e-240a-4fa4-8f72-4f133b28f595",
   "metadata": {},
   "source": [
    "**Title - Seniority Level**"
   ]
  },
  {
   "cell_type": "code",
   "execution_count": 68,
   "id": "00aaa76a-e5ce-4645-bff1-7cd160eb2fc4",
   "metadata": {},
   "outputs": [],
   "source": [
    "raw_df['title'] = raw_df['seniority_level']"
   ]
  },
  {
   "cell_type": "markdown",
   "id": "b770b401-151a-4e22-be81-92464a2df172",
   "metadata": {},
   "source": [
    "**Timeline  - New Expented Timeline**"
   ]
  },
  {
   "cell_type": "code",
   "execution_count": 96,
   "id": "aad88e0b-aefa-42b2-b118-7ff26ee358fd",
   "metadata": {},
   "outputs": [],
   "source": [
    "timeline_order_dict = {\n",
    "    'Less than 3 Months': 8,\n",
    "    '3 months ~ 6 months': 7, \n",
    "    '6 months ~ 9 months': 6,\n",
    "    '9 months ~ 1 year': 5, \n",
    "    'more than a year': 4,\n",
    "    'Budget Issue': 3,\n",
    "    'No Response': 2,\n",
    "    'Follow up': 1,\n",
    "    'Not Interest':0,\n",
    "    'Unknown':0,\n",
    "    'Space': 0\n",
    "}"
   ]
  },
  {
   "cell_type": "code",
   "execution_count": 100,
   "id": "00cbd930-99ef-4f9e-bb79-dd8f9f420aae",
   "metadata": {},
   "outputs": [],
   "source": [
    "pkl_manager.save(\"budget_ratio\",\"timeline_order_dict\",timeline_order_dict)"
   ]
  },
  {
   "cell_type": "code",
   "execution_count": 70,
   "id": "aae19a94-03bf-44b5-82dd-7d7fb2e64d7a",
   "metadata": {},
   "outputs": [],
   "source": [
    "raw_df['timeline'] = raw_df['new_expected_timeline'].map(timeline_order_dict)"
   ]
  },
  {
   "cell_type": "markdown",
   "id": "23ee1b23-d800-4309-8f5c-67c536e88144",
   "metadata": {},
   "source": [
    "**Needs - New Inquiry Type2: Needs**"
   ]
  },
  {
   "cell_type": "code",
   "execution_count": 101,
   "id": "3ea9528a-d735-4956-a4b5-1138e211706b",
   "metadata": {},
   "outputs": [],
   "source": [
    "needs_order_dict = {\n",
    "    'Usage or Technical Consultation': 3,\n",
    "    'Quotation or Purchase Consultation': 2, \n",
    "    'Other':1, \n",
    "    'Request a Demo': 0,\n",
    "    'Request for Distributorship': 0, \n",
    "    'OEM/ODM Request': 0\n",
    "}"
   ]
  },
  {
   "cell_type": "code",
   "execution_count": 102,
   "id": "14f8f888-0d60-4722-8fb8-9bc5b0a102ef",
   "metadata": {},
   "outputs": [],
   "source": [
    "pkl_manager.save(\"budget_ratio\",\"needs_order_dict\",needs_order_dict)"
   ]
  },
  {
   "cell_type": "code",
   "execution_count": 72,
   "id": "a2348cc1-3b57-4d5c-aeef-4373c63100f6",
   "metadata": {},
   "outputs": [],
   "source": [
    "raw_df['needs'] = raw_df['new_inquiry_type'].map(needs_order_dict)"
   ]
  },
  {
   "cell_type": "markdown",
   "id": "001e0adc-76f1-4a82-a702-2bdb208b4a75",
   "metadata": {},
   "source": [
    "**Budget - ?**"
   ]
  },
  {
   "cell_type": "code",
   "execution_count": 74,
   "id": "76a6159e-ae4c-405e-a3b9-d279b6eb8900",
   "metadata": {},
   "outputs": [],
   "source": [
    "raw_df['budget']=np.NaN"
   ]
  },
  {
   "cell_type": "markdown",
   "id": "41cb3991-e971-4b85-b21b-9ba4bdb563c0",
   "metadata": {},
   "source": [
    "**rate**"
   ]
  },
  {
   "cell_type": "code",
   "execution_count": 75,
   "id": "77ca4f45-09d1-4f21-bc9e-894828080834",
   "metadata": {},
   "outputs": [],
   "source": [
    "from sklearn.preprocessing import MinMaxScaler\n",
    "import numpy as np\n",
    "\n",
    "mMscaler = MinMaxScaler()"
   ]
  },
  {
   "cell_type": "code",
   "execution_count": 77,
   "id": "a9b6c875-6236-4a14-a109-7f0655a92c68",
   "metadata": {},
   "outputs": [],
   "source": [
    "mMscaler = MinMaxScaler()\n",
    "\n",
    "bant_df = raw_df[['title', 'timeline', 'needs']]\n",
    "scaled_df = mMscaler.fit_transform(bant_df[['title', 'timeline', 'needs']])\n",
    "raw_df.drop(['title', 'timeline', 'needs'], axis=1, inplace=True)\n",
    "scaled_df = pd.DataFrame(scaled_df, columns=bant_df.columns)\n",
    "raw_df = pd.concat([raw_df, scaled_df], axis=1)\n",
    "raw_df['budget'] = raw_df['bant_submit'] - (raw_df['title']*0.25+ raw_df['timeline']*0.25+raw_df['needs']*0.25)\n",
    "\n",
    "raw_df.drop(['title', 'timeline', 'needs'], axis=1, inplace=True)\n",
    "\n",
    "return raw_df"
   ]
  },
  {
   "cell_type": "code",
   "execution_count": null,
   "id": "f2677b3d-2159-4d61-a900-db226b093f19",
   "metadata": {},
   "outputs": [],
   "source": []
  }
 ],
 "metadata": {
  "kernelspec": {
   "display_name": "Python 3 (ipykernel)",
   "language": "python",
   "name": "python3"
  },
  "language_info": {
   "codemirror_mode": {
    "name": "ipython",
    "version": 3
   },
   "file_extension": ".py",
   "mimetype": "text/x-python",
   "name": "python",
   "nbconvert_exporter": "python",
   "pygments_lexer": "ipython3",
   "version": "3.10.4"
  }
 },
 "nbformat": 4,
 "nbformat_minor": 5
}

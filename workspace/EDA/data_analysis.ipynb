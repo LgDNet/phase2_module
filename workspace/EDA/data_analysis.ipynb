{
 "cells": [
  {
   "cell_type": "markdown",
   "id": "01cb2225-64f6-4e0c-9e5b-f20dcf6e4e73",
   "metadata": {},
   "source": [
    "### 0. Import"
   ]
  },
  {
   "cell_type": "markdown",
   "id": "f358d3b4-86cf-407f-a5c2-a59484e75356",
   "metadata": {
    "jp-MarkdownHeadingCollapsed": true
   },
   "source": [
    "##### Setting Route"
   ]
  },
  {
   "cell_type": "code",
   "execution_count": 1,
   "id": "2a462080-1b0c-4c8e-98e2-c78d64fa8320",
   "metadata": {},
   "outputs": [
    {
     "data": {
      "text/plain": [
       "'/Users/kangjiwon/Desktop/LG Aimers/phase2_module/workspace/EDA'"
      ]
     },
     "execution_count": 1,
     "metadata": {},
     "output_type": "execute_result"
    }
   ],
   "source": [
    "pwd"
   ]
  },
  {
   "cell_type": "code",
   "execution_count": 2,
   "id": "f6d2289a-9b88-4d38-9b4f-9825539d142e",
   "metadata": {},
   "outputs": [
    {
     "name": "stdout",
     "output_type": "stream",
     "text": [
      "/Users/kangjiwon/Desktop/LG Aimers\n"
     ]
    },
    {
     "name": "stderr",
     "output_type": "stream",
     "text": [
      "/Library/Frameworks/Python.framework/Versions/3.10/lib/python3.10/site-packages/IPython/core/magics/osm.py:417: UserWarning: using dhist requires you to install the `pickleshare` library.\n",
      "  self.shell.db['dhist'] = compress_dhist(dhist)[-100:]\n"
     ]
    }
   ],
   "source": [
    "cd ../../.."
   ]
  },
  {
   "cell_type": "markdown",
   "id": "77d06c54-4dc1-402c-880e-c0e514157ffd",
   "metadata": {
    "jp-MarkdownHeadingCollapsed": true
   },
   "source": [
    "##### Setting Module"
   ]
  },
  {
   "cell_type": "code",
   "execution_count": 3,
   "id": "ad29bb1c-ee5b-4b45-b453-f05c32920e65",
   "metadata": {},
   "outputs": [],
   "source": [
    "# ! pip install associations"
   ]
  },
  {
   "cell_type": "code",
   "execution_count": 4,
   "id": "94d8055d-3915-4795-ad01-864ed34df780",
   "metadata": {},
   "outputs": [],
   "source": [
    "# pip install --upgrade pip"
   ]
  },
  {
   "cell_type": "code",
   "execution_count": 5,
   "id": "8f01b376-1e00-4681-b349-749c31712c06",
   "metadata": {},
   "outputs": [],
   "source": [
    "import pandas as pd\n",
    "import numpy as np\n",
    "import re\n",
    "import warnings\n",
    "import matplotlib.pyplot as plt\n",
    "import seaborn as sns\n",
    "import pickle\n",
    "import pandas as pd\n",
    "import numpy as np\n",
    "import re, pickle\n",
    "import warnings"
   ]
  },
  {
   "cell_type": "code",
   "execution_count": 6,
   "id": "9f60ab35-3425-49f0-92f3-bfb4e896b215",
   "metadata": {},
   "outputs": [],
   "source": [
    "from matplotlib import rc\n",
    "from tqdm import tqdm\n",
    "# from scipy.stats import chi2_contingency\n",
    "from scipy.stats.contingency import association\n",
    "from sklearn.metrics import precision_recall_curve\n",
    "\n",
    "from euqipment import Enquipment"
   ]
  },
  {
   "cell_type": "code",
   "execution_count": 7,
   "id": "12e68256-3461-40fa-a39c-566896d158ee",
   "metadata": {},
   "outputs": [],
   "source": [
    "df = pd.read_csv('phase2_module/data/train.csv')\n",
    "eq = Enquipment(df)"
   ]
  },
  {
   "cell_type": "code",
   "execution_count": 8,
   "id": "53fb25dc-b62d-4b0f-b11d-693ed30b680e",
   "metadata": {},
   "outputs": [],
   "source": [
    "from phase2_module.src.utils.dataset import Data\n",
    "from phase2_module.src.models.classification.models import Model\n",
    "from phase2_module.src.base import BasePiepline\n",
    "# from phase2_module.src.hyper_parameters.params_optimization import xgboost_opt, set_params_optimization_data\n",
    "from phase2_module.src.utils.set_seed import seed_everything\n",
    "from phase2_module.src.utils.top_score_instance import check_the_score\n",
    "\n",
    "from phase2_module.src.utils.manage_pkl_files import PickleManager as pkl_manager\n",
    "from phase2_module.src import preprocess\n",
    "from sklearn.preprocessing import OneHotEncoder\n",
    "from phase2_module.src.encoder.encoders import Encode\n",
    "seed_everything()  # NOTE: default 42\n",
    "_model = Model()"
   ]
  },
  {
   "cell_type": "code",
   "execution_count": 9,
   "id": "6129bc95-a50b-4c78-bf2b-273569c9e005",
   "metadata": {},
   "outputs": [],
   "source": [
    "pkls = pkl_manager.map(pkl_manager.loads, pkl_manager.metadata_directory)"
   ]
  },
  {
   "cell_type": "code",
   "execution_count": 10,
   "id": "3ada3d84-7d5e-47d5-8851-283384874c24",
   "metadata": {},
   "outputs": [],
   "source": [
    "def set_up(mode= None):\n",
    "    pd.set_option('display.max_columns', mode)\n",
    "    pd.set_option('display.max_rows', 20000)\n",
    "set_up()"
   ]
  },
  {
   "cell_type": "code",
   "execution_count": 11,
   "id": "5c5d5b6e-22e6-49ae-a23f-66be45529f6d",
   "metadata": {},
   "outputs": [],
   "source": [
    "warnings.filterwarnings('ignore')\n",
    "%matplotlib inline\n",
    "\n",
    "rc('font', family='AppleGothic')\n",
    "plt.rcParams['axes.unicode_minus'] = False\n",
    "\n",
    "pd.set_option('float_format', '{:.2f}'.format)\n",
    "\n",
    "# pd.set_option('display.max_columns', None)\n",
    "pd.set_option('display.max_rows', 120)"
   ]
  },
  {
   "cell_type": "markdown",
   "id": "4b896622-a19f-44c2-9eb3-589b09753ef8",
   "metadata": {
    "jp-MarkdownHeadingCollapsed": true
   },
   "source": [
    "##### Dataframe Load"
   ]
  },
  {
   "cell_type": "code",
   "execution_count": 12,
   "id": "ea3ca954-8bf4-4dc8-8ba4-0a4eb72fbbd9",
   "metadata": {},
   "outputs": [],
   "source": [
    "raw_df = eq.raw_df()"
   ]
  },
  {
   "cell_type": "code",
   "execution_count": 13,
   "id": "0360b3b2-7fa3-4a84-854e-92d1322c14b2",
   "metadata": {},
   "outputs": [],
   "source": [
    "# 동일한 column 제거\n",
    "raw_df.drop('customer_country.1', axis=1, inplace=True)\n",
    "# df_test.drop('customer_country.1', axis=1, inplace=True)"
   ]
  },
  {
   "cell_type": "code",
   "execution_count": 14,
   "id": "f551e82a-c2dd-4044-9cc0-99fa842d14f7",
   "metadata": {},
   "outputs": [],
   "source": [
    "basic = preprocess.Basic\n",
    "\n",
    "runtime_instance = {\n",
    "    \"Train\": raw_df,\n",
    "    \"Instances\":[\n",
    "        {\"instance\": basic, \"method\": ['drop_duplicated'], \"params\": False},\n",
    "    ]\n",
    "}\n",
    "raw_df = preprocess.runner('Train',**runtime_instance)"
   ]
  },
  {
   "cell_type": "markdown",
   "id": "1927204c-5328-4a9d-9a99-841aca0b859f",
   "metadata": {},
   "source": [
    "### 1. Data Analysis"
   ]
  },
  {
   "cell_type": "markdown",
   "id": "a081bfe9-63a0-4fb1-bef4-75f52ee23b62",
   "metadata": {},
   "source": [
    "#### **1.1 \bColumns Analysis**"
   ]
  },
  {
   "cell_type": "markdown",
   "id": "9c3fa753-ca3c-412e-b1ba-32bbd5d20157",
   "metadata": {
    "jp-MarkdownHeadingCollapsed": true
   },
   "source": [
    "##### **1.1.1 Column Description**"
   ]
  },
  {
   "cell_type": "markdown",
   "id": "08965966-f570-49d4-820a-6545fc779f7f",
   "metadata": {},
   "source": [
    "| Column Name           | Description                                                                                   |\n",
    "|-----------------------|-----------------------------------------------------------------------------------------------|\n",
    "| bant_submit           | MQL 구성 요소 중 Budget(예산), Title(고객의 직책/직급), Needs(요구사항), Timeline(희망 납기일)에 대한 값의 비율 |\n",
    "| customer_country      | 고객의 국적                                                                                    |\n",
    "| business_unit         | MQL 요청 상품에 대응되는 사업부                                                               |\n",
    "| com_reg_ver_win_rate  | Vertical Level 1, business unit, region을 기준으로 oppty 비율을 계산                           |\n",
    "| customer_idx          | 고객의 회사명                                                                                 |\n",
    "| customer_type         | 고객 유형                                                                                    |\n",
    "| enterprise            | Global 기업인지, Small/Medium 규모의 기업인지                                                |\n",
    "| historical_existing_cnt | 이전에 Converted(영업 전환) 되었던 횟수                                                    |\n",
    "| id_strategic_ver      | 특정 사업부(Business Unit), 특정 사업 영역(Vertical Level1)에 대해 가중치를 부여           |\n",
    "| it_strategic_ver      | 특정 사업부(Business Unit), 특정 사업 영역(Vertical Level1)에 대해 가중치를 부여           |\n",
    "| idit_strategic_ver    | Id_strategic_ver이나 it_strategic_ver 값 중 하나라도 1의 값을 가지면 1 값으로 표현             |\n",
    "| customer_job          | 고객의 직업군                                                                                 |\n",
    "| lead_desc_length      | 고객이 작성한 Lead Descriptoin 텍스트 총 길이                                                |\n",
    "| inquiry_type          | 고객의 문의 유형                                                                              |\n",
    "| product_category      | 요청 제품 카테고리                                                                            |\n",
    "| product_subcategory   | 요청 제품 하위 카테고리                                                                       |\n",
    "| product_modelname     | 요청 제품 모델명                                                                              |\n",
    "| customer_country.1    | 담당 자사 법인명 기반의 지역 정보(대륙)                                                      |\n",
    "| customer_position      | 고객의 회사 직책                                                                             |\n",
    "| response_corporate     | 담당 자사 법인명                                                                             |\n",
    "| expected_timeline      | 고객의 요청한 처리 일정                                                                      |\n",
    "| ver_cus               | 특정 Vertical Level 1(사업영역)이면서 Customer_type(고객 유형)이 소비자(End-user)인 경우에 대한 가중치 |\n",
    "| ver_pro               | 특정 Vertical Level 1(사업영역)이면서 특정 Product Category(제품 유형)인 경우에 대한 가중치           |\n",
    "| ver_win_rate_x        | 전체 Lead 중에서 Vertical을 기준으로 Vertical 수 비율과 Vertical 별 Lead 수 대비 영업 전환 성공 비율 값을 곱한 값 |\n",
    "| ver_win_ratio_per_bu  | 특정 Vertical Level1의 Business Unit 별 샘플 수 대비 영업 전환된 샘플 수의 비율을 계산       |\n",
    "| business_area         | 고객의 사업 영역                                                                              |\n",
    "| business_subarea      | 고객의 세부 사업 영역                                                                         |\n",
    "| lead_owner            | 영업 담당자 이름                                                                              |\n",
    "| is_converted          | 영업 성공 여부. True일 시 성공.                                                               |\n"
   ]
  },
  {
   "cell_type": "markdown",
   "id": "f3769353-5e9e-46fd-9a28-8c47ef813be1",
   "metadata": {
    "jp-MarkdownHeadingCollapsed": true
   },
   "source": [
    "##### **1.1.2 Column Information**"
   ]
  },
  {
   "cell_type": "code",
   "execution_count": 15,
   "id": "dec99577-3dea-4d58-8e9d-985525e7cf9d",
   "metadata": {},
   "outputs": [],
   "source": [
    "null_cols = raw_df.columns[raw_df.isnull().any()]"
   ]
  },
  {
   "cell_type": "code",
   "execution_count": 16,
   "id": "57ccb90a-3083-4199-8675-d01d367fb1c4",
   "metadata": {},
   "outputs": [],
   "source": [
    "not_null_cols = set(raw_df.columns).difference(set(null_cols))"
   ]
  },
  {
   "cell_type": "markdown",
   "id": "1d76df3f-db43-42fe-8e66-5d1c9be75bdd",
   "metadata": {
    "jp-MarkdownHeadingCollapsed": true
   },
   "source": [
    "##### **1.1.3 Columns correlation**"
   ]
  },
  {
   "cell_type": "code",
   "execution_count": 17,
   "id": "da0dca44-0533-4735-8cc6-b4429f91d9a9",
   "metadata": {},
   "outputs": [],
   "source": [
    "# 크래머의 V 계수 계산 함수\n",
    "def cramers_v(x, y):\n",
    "    confusion_matrix = pd.crosstab(x, y)\n",
    "    chi2, _, _, _ = chi2_contingency(confusion_matrix)\n",
    "    n = confusion_matrix.sum().sum()\n",
    "    phi2 = chi2 / n\n",
    "    r, k = confusion_matrix.shape\n",
    "    phi2corr = max(0, phi2 - ((k-1)*(r-1))/(n-1))\n",
    "    rcorr = r - ((r-1)**2)/(n-1)\n",
    "    kcorr = k - ((k-1)**2)/(n-1)\n",
    "    return np.sqrt(phi2corr / min((kcorr-1), (rcorr-1)))"
   ]
  },
  {
   "cell_type": "code",
   "execution_count": 18,
   "id": "d4751868-1e8e-4a56-bb8a-f41b50c55064",
   "metadata": {},
   "outputs": [],
   "source": [
    "encoder = OneHotEncoder()\n",
    "encoded_data = encoder.fit_transform(raw_df)\n",
    "encoded_df = pd.DataFrame(encoded_data.toarray(), columns=encoder.get_feature_names_out(raw_df.columns))"
   ]
  },
  {
   "cell_type": "code",
   "execution_count": null,
   "id": "25f1d4f0-5074-4ab0-ab46-a1184c333639",
   "metadata": {},
   "outputs": [],
   "source": []
  },
  {
   "cell_type": "code",
   "execution_count": 19,
   "id": "d54c223b-ff41-4e83-ba37-173fbc16506e",
   "metadata": {
    "scrolled": true
   },
   "outputs": [
    {
     "ename": "KeyboardInterrupt",
     "evalue": "",
     "output_type": "error",
     "traceback": [
      "\u001b[0;31m---------------------------------------------------------------------------\u001b[0m",
      "\u001b[0;31mKeyboardInterrupt\u001b[0m                         Traceback (most recent call last)",
      "Cell \u001b[0;32mIn[19], line 1\u001b[0m\n\u001b[0;32m----> 1\u001b[0m hitmap \u001b[38;5;241m=\u001b[39m \u001b[43mencoded_df\u001b[49m\u001b[38;5;241;43m.\u001b[39;49m\u001b[43mcorr\u001b[49m\u001b[43m(\u001b[49m\u001b[43m)\u001b[49m\n\u001b[1;32m      2\u001b[0m sns\u001b[38;5;241m.\u001b[39mheatmap(correlation_matrix, annot\u001b[38;5;241m=\u001b[39m\u001b[38;5;28;01mTrue\u001b[39;00m, cmap\u001b[38;5;241m=\u001b[39m\u001b[38;5;124m\"\u001b[39m\u001b[38;5;124mcoolwarm\u001b[39m\u001b[38;5;124m\"\u001b[39m)\n\u001b[1;32m      3\u001b[0m plt\u001b[38;5;241m.\u001b[39mshow()\n",
      "File \u001b[0;32m/Library/Frameworks/Python.framework/Versions/3.10/lib/python3.10/site-packages/pandas/core/frame.py:10054\u001b[0m, in \u001b[0;36mDataFrame.corr\u001b[0;34m(self, method, min_periods, numeric_only)\u001b[0m\n\u001b[1;32m  10052\u001b[0m cols \u001b[38;5;241m=\u001b[39m data\u001b[38;5;241m.\u001b[39mcolumns\n\u001b[1;32m  10053\u001b[0m idx \u001b[38;5;241m=\u001b[39m cols\u001b[38;5;241m.\u001b[39mcopy()\n\u001b[0;32m> 10054\u001b[0m mat \u001b[38;5;241m=\u001b[39m \u001b[43mdata\u001b[49m\u001b[38;5;241;43m.\u001b[39;49m\u001b[43mto_numpy\u001b[49m\u001b[43m(\u001b[49m\u001b[43mdtype\u001b[49m\u001b[38;5;241;43m=\u001b[39;49m\u001b[38;5;28;43mfloat\u001b[39;49m\u001b[43m,\u001b[49m\u001b[43m \u001b[49m\u001b[43mna_value\u001b[49m\u001b[38;5;241;43m=\u001b[39;49m\u001b[43mnp\u001b[49m\u001b[38;5;241;43m.\u001b[39;49m\u001b[43mnan\u001b[49m\u001b[43m,\u001b[49m\u001b[43m \u001b[49m\u001b[43mcopy\u001b[49m\u001b[38;5;241;43m=\u001b[39;49m\u001b[38;5;28;43;01mFalse\u001b[39;49;00m\u001b[43m)\u001b[49m\n\u001b[1;32m  10056\u001b[0m \u001b[38;5;28;01mif\u001b[39;00m method \u001b[38;5;241m==\u001b[39m \u001b[38;5;124m\"\u001b[39m\u001b[38;5;124mpearson\u001b[39m\u001b[38;5;124m\"\u001b[39m:\n\u001b[1;32m  10057\u001b[0m     correl \u001b[38;5;241m=\u001b[39m libalgos\u001b[38;5;241m.\u001b[39mnancorr(mat, minp\u001b[38;5;241m=\u001b[39mmin_periods)\n",
      "File \u001b[0;32m/Library/Frameworks/Python.framework/Versions/3.10/lib/python3.10/site-packages/pandas/core/frame.py:1838\u001b[0m, in \u001b[0;36mDataFrame.to_numpy\u001b[0;34m(self, dtype, copy, na_value)\u001b[0m\n\u001b[1;32m   1836\u001b[0m \u001b[38;5;28;01mif\u001b[39;00m dtype \u001b[38;5;129;01mis\u001b[39;00m \u001b[38;5;129;01mnot\u001b[39;00m \u001b[38;5;28;01mNone\u001b[39;00m:\n\u001b[1;32m   1837\u001b[0m     dtype \u001b[38;5;241m=\u001b[39m np\u001b[38;5;241m.\u001b[39mdtype(dtype)\n\u001b[0;32m-> 1838\u001b[0m result \u001b[38;5;241m=\u001b[39m \u001b[38;5;28;43mself\u001b[39;49m\u001b[38;5;241;43m.\u001b[39;49m\u001b[43m_mgr\u001b[49m\u001b[38;5;241;43m.\u001b[39;49m\u001b[43mas_array\u001b[49m\u001b[43m(\u001b[49m\u001b[43mdtype\u001b[49m\u001b[38;5;241;43m=\u001b[39;49m\u001b[43mdtype\u001b[49m\u001b[43m,\u001b[49m\u001b[43m \u001b[49m\u001b[43mcopy\u001b[49m\u001b[38;5;241;43m=\u001b[39;49m\u001b[43mcopy\u001b[49m\u001b[43m,\u001b[49m\u001b[43m \u001b[49m\u001b[43mna_value\u001b[49m\u001b[38;5;241;43m=\u001b[39;49m\u001b[43mna_value\u001b[49m\u001b[43m)\u001b[49m\n\u001b[1;32m   1839\u001b[0m \u001b[38;5;28;01mif\u001b[39;00m result\u001b[38;5;241m.\u001b[39mdtype \u001b[38;5;129;01mis\u001b[39;00m \u001b[38;5;129;01mnot\u001b[39;00m dtype:\n\u001b[1;32m   1840\u001b[0m     result \u001b[38;5;241m=\u001b[39m np\u001b[38;5;241m.\u001b[39marray(result, dtype\u001b[38;5;241m=\u001b[39mdtype, copy\u001b[38;5;241m=\u001b[39m\u001b[38;5;28;01mFalse\u001b[39;00m)\n",
      "File \u001b[0;32m/Library/Frameworks/Python.framework/Versions/3.10/lib/python3.10/site-packages/pandas/core/internals/managers.py:1727\u001b[0m, in \u001b[0;36mBlockManager.as_array\u001b[0;34m(self, dtype, copy, na_value)\u001b[0m\n\u001b[1;32m   1724\u001b[0m         arr \u001b[38;5;241m=\u001b[39m arr\u001b[38;5;241m.\u001b[39mastype(dtype, copy\u001b[38;5;241m=\u001b[39m\u001b[38;5;28;01mFalse\u001b[39;00m)\n\u001b[1;32m   1726\u001b[0m \u001b[38;5;28;01mif\u001b[39;00m copy:\n\u001b[0;32m-> 1727\u001b[0m     arr \u001b[38;5;241m=\u001b[39m \u001b[43marr\u001b[49m\u001b[38;5;241;43m.\u001b[39;49m\u001b[43mcopy\u001b[49m\u001b[43m(\u001b[49m\u001b[43m)\u001b[49m\n\u001b[1;32m   1728\u001b[0m \u001b[38;5;28;01melif\u001b[39;00m using_copy_on_write():\n\u001b[1;32m   1729\u001b[0m     arr \u001b[38;5;241m=\u001b[39m arr\u001b[38;5;241m.\u001b[39mview()\n",
      "\u001b[0;31mKeyboardInterrupt\u001b[0m: "
     ]
    }
   ],
   "source": [
    "hitmap = encoded_df.corr()\n",
    "sns.heatmap(correlation_matrix, annot=True, cmap=\"coolwarm\")\n",
    "plt.show()"
   ]
  },
  {
   "cell_type": "code",
   "execution_count": null,
   "id": "7f4bc777-e7d0-4394-a30b-e3e5b08119bf",
   "metadata": {
    "scrolled": true
   },
   "outputs": [],
   "source": [
    "# OneHotEncoder 객체 생성\n",
    "encoder = OneHotEncoder()\n",
    "\n",
    "# 데이터를 원핫인코딩\n",
    "encoded_data = encoder.fit_transform(business_df)\n",
    "\n",
    "# 인코딩된 데이터를 데이터프레임으로 변환\n",
    "encoded_df = pd.DataFrame(encoded_data.toarray(), columns=encoder.get_feature_names_out(business_df.columns))\n",
    "\n",
    "print(\"Encoded DataFrame:\")\n",
    "print(encoded_df)\n"
   ]
  },
  {
   "cell_type": "code",
   "execution_count": null,
   "id": "ee8d374d-eef2-46b9-9f6d-6ea3b2a88593",
   "metadata": {},
   "outputs": [],
   "source": [
    "business_array = encoded_data.toarray().astype(int)\n",
    "association(business_array, method=\"cramer\")"
   ]
  },
  {
   "cell_type": "code",
   "execution_count": null,
   "id": "3c0121fe-f7c2-4c7f-b016-b0a4a0007b38",
   "metadata": {},
   "outputs": [],
   "source": [
    "# correlation_matrix = cramers_v(business_df)\n",
    "\n"
   ]
  },
  {
   "cell_type": "markdown",
   "id": "b6adb2dd-0be3-4c5d-ac10-c4b85c762bf5",
   "metadata": {},
   "source": [
    "#### **1.2 Missing Value**"
   ]
  },
  {
   "cell_type": "markdown",
   "id": "2e4a56cd-fa98-401a-98fa-c45d5c94e659",
   "metadata": {
    "jp-MarkdownHeadingCollapsed": true
   },
   "source": [
    "##### **1.2.1  Customer Type**"
   ]
  },
  {
   "cell_type": "code",
   "execution_count": 17,
   "id": "085993b0-0427-4b29-8dbf-f82ceda06a63",
   "metadata": {},
   "outputs": [],
   "source": [
    "customer_cols = ['customer_job','customer_position','customer_type']\n",
    "customer = preprocess.Customer\n",
    "customer2 = preprocess.Customer2"
   ]
  },
  {
   "cell_type": "code",
   "execution_count": 18,
   "id": "be5674ba-1c8a-48e9-ba62-f0109e33b12f",
   "metadata": {
    "scrolled": true
   },
   "outputs": [],
   "source": [
    "runtime_instance = {\n",
    "    \"Train\": raw_df,\n",
    "    \"Instances\":[\n",
    "        {\"instance\": customer, \"method\": [\"apply\"], \"params\": pkls.get(\"customer\")},\n",
    "        {\"instance\": customer2, \"method\": ['seniority_level', 'job_function', 'customer_type'], \"params\": pkls.get(\"customer2\")},\n",
    "    ]\n",
    "}\n",
    "raw_df = preprocess.runner('Train',**runtime_instance)"
   ]
  },
  {
   "cell_type": "code",
   "execution_count": 19,
   "id": "0cffca4b-39b7-4c7e-8a4a-c3bc4a519164",
   "metadata": {},
   "outputs": [],
   "source": [
    "customer_cols = ['customer_job','customer_position','customer_type']\n",
    "null_cols = eq.missing_columns(null_cols, customer_cols)"
   ]
  },
  {
   "cell_type": "code",
   "execution_count": 20,
   "id": "097b51a4-393e-462b-b2bb-6167832c1ad6",
   "metadata": {},
   "outputs": [],
   "source": [
    "raw_df.drop(customer_cols, axis=1, inplace=True)"
   ]
  },
  {
   "cell_type": "markdown",
   "id": "36d73acc-3908-45f1-9c4d-7b22f729f6c6",
   "metadata": {
    "jp-MarkdownHeadingCollapsed": true
   },
   "source": [
    "##### **1.2.2 Country Type**"
   ]
  },
  {
   "cell_type": "code",
   "execution_count": 21,
   "id": "61fa8a75-dcae-451f-af47-464c7c8535c7",
   "metadata": {},
   "outputs": [],
   "source": [
    "country_cols = ['customer_country','response_corporate']\n",
    "country = preprocess.Country"
   ]
  },
  {
   "cell_type": "code",
   "execution_count": 22,
   "id": "7b429475-e65f-4691-8790-24b725a22973",
   "metadata": {},
   "outputs": [],
   "source": [
    "runtime_instance = {\n",
    "    \"Train\": raw_df,\n",
    "    \"Instances\":[\n",
    "        {\"instance\": country, \"method\": ['apply'], \"params\": pkls.get(\"country\")},\n",
    "    ]\n",
    "}\n",
    "raw_df = preprocess.runner('Train',**runtime_instance)"
   ]
  },
  {
   "cell_type": "code",
   "execution_count": 23,
   "id": "966ea792-24cc-4556-8e35-f27a03ac07e9",
   "metadata": {},
   "outputs": [],
   "source": [
    "country_cols = ['customer_country','response_corporate']\n",
    "null_cols = eq.missing_columns(null_cols, country_cols)"
   ]
  },
  {
   "cell_type": "code",
   "execution_count": 24,
   "id": "aebf779b-1418-4304-991c-ea3b76a7f738",
   "metadata": {},
   "outputs": [],
   "source": [
    "raw_df.drop(country_cols, axis=1, inplace=True)"
   ]
  },
  {
   "cell_type": "markdown",
   "id": "8d544445-16f3-4f13-862b-68e2c41a09b4",
   "metadata": {
    "jp-MarkdownHeadingCollapsed": true
   },
   "source": [
    "##### **1.2.3 Product Type**"
   ]
  },
  {
   "cell_type": "code",
   "execution_count": 25,
   "id": "e607e5ac-91b7-468e-a8bb-6724dca8cb96",
   "metadata": {},
   "outputs": [],
   "source": [
    "product_cols = ['product_category','product_subcategory','product_modelname']\n",
    "product_category = preprocess.ProductCategory"
   ]
  },
  {
   "cell_type": "code",
   "execution_count": 26,
   "id": "f246fa9b-9b29-4901-8203-44e524b3ec94",
   "metadata": {},
   "outputs": [],
   "source": [
    "runtime_instance = {\n",
    "    \"Train\": raw_df,\n",
    "    \"Instances\":[\n",
    "        {\"instance\": product_category, \"method\": [\"product_categories\", 'fill_odds'], \"params\": {**pkls.get(\"product_category\"), **pkls.get(\"product_subcategory\")}},\n",
    "    ]\n",
    "}\n",
    "raw_df = preprocess.runner('Train',**runtime_instance)"
   ]
  },
  {
   "cell_type": "code",
   "execution_count": 27,
   "id": "8bd3fcae-aa52-4495-af08-dce22f036578",
   "metadata": {},
   "outputs": [],
   "source": [
    "product_cols = ['product_category','product_subcategory','product_modelname']\n",
    "null_cols = eq.missing_columns(null_cols, product_cols)"
   ]
  },
  {
   "cell_type": "code",
   "execution_count": 28,
   "id": "3c07a1eb-6e48-4656-8f7e-7f207c8bcd26",
   "metadata": {},
   "outputs": [],
   "source": [
    "raw_df.drop(product_cols, axis=1, inplace=True)"
   ]
  },
  {
   "cell_type": "markdown",
   "id": "8afd9820-67e0-413f-b35e-b37fbcf58327",
   "metadata": {
    "jp-MarkdownHeadingCollapsed": true
   },
   "source": [
    "##### **1.1.4 Inquiry Type**"
   ]
  },
  {
   "cell_type": "code",
   "execution_count": 29,
   "id": "78bea4ba-309a-449a-b38f-e3fa83acddc1",
   "metadata": {},
   "outputs": [],
   "source": [
    "inquiry_cols = ['inquiry_type','expected_timeline']"
   ]
  },
  {
   "cell_type": "code",
   "execution_count": 30,
   "id": "05843a67-2d4a-4a30-ac90-ed23769a71bf",
   "metadata": {},
   "outputs": [],
   "source": [
    "inquiry = preprocess.Inquiry"
   ]
  },
  {
   "cell_type": "code",
   "execution_count": 31,
   "id": "1f2232fc-d254-41f9-9c1c-65d59cd805d8",
   "metadata": {},
   "outputs": [],
   "source": [
    "runtime_instance = {\n",
    "    \"Train\": raw_df,\n",
    "    \"Instances\":[\n",
    "        {\"instance\": inquiry, \"method\": [\"apply\"], \"params\": False},\n",
    "    ]\n",
    "}\n",
    "raw_df = preprocess.runner('Train',**runtime_instance)"
   ]
  },
  {
   "cell_type": "code",
   "execution_count": 32,
   "id": "d22152bf-1cc8-48f0-bf3c-64654c257608",
   "metadata": {},
   "outputs": [],
   "source": [
    "inquiry_cols = ['inquiry_type','expected_timeline']\n",
    "null_cols = eq.missing_columns(null_cols, inquiry_cols)"
   ]
  },
  {
   "cell_type": "code",
   "execution_count": 33,
   "id": "6d09c74f-7c05-467e-971e-62ab4cb2075c",
   "metadata": {},
   "outputs": [],
   "source": [
    "raw_df.drop(inquiry_cols, axis=1, inplace=True)"
   ]
  },
  {
   "cell_type": "markdown",
   "id": "326242b2-4901-450e-8275-a1a78a85fcd0",
   "metadata": {},
   "source": [
    "-------"
   ]
  },
  {
   "cell_type": "markdown",
   "id": "9316f76d-d980-43d9-8b3a-7e1fa6200563",
   "metadata": {
    "jupyter": {
     "source_hidden": true
    }
   },
   "source": [
    "--------"
   ]
  },
  {
   "cell_type": "markdown",
   "id": "6fa0bff0-662b-4d7c-a493-d1081e7f6c1a",
   "metadata": {
    "jp-MarkdownHeadingCollapsed": true
   },
   "source": [
    "##### **1.1.5 History Type**"
   ]
  },
  {
   "cell_type": "code",
   "execution_count": 41,
   "id": "a035d496-3d24-45fc-8e54-48225295cf50",
   "metadata": {},
   "outputs": [],
   "source": [
    "history_cols = ['historical_existing_cnt']"
   ]
  },
  {
   "cell_type": "code",
   "execution_count": 42,
   "id": "18f266a3-87cc-49eb-9ed6-ec8396a8af6e",
   "metadata": {},
   "outputs": [],
   "source": [
    "relatived_cols = ['customer_idx', 'lead_owner', 'lead_desc_length', 'customer_type2', 'lead_desc_length','new_inquiry_type','new_expected_timeline']"
   ]
  },
  {
   "cell_type": "code",
   "execution_count": 43,
   "id": "08f93f03-20b1-4a71-bac8-5353f64f2d79",
   "metadata": {},
   "outputs": [],
   "source": [
    "raw_df['historical_existing_cnt'].fillna(0, inplace=True)\n",
    "raw_df['historical_existing_cnt'].loc[raw_df['historical_existing_cnt']!=0]=1"
   ]
  },
  {
   "cell_type": "code",
   "execution_count": 44,
   "id": "a11cf455-31b0-4b38-b3ba-70d9869758da",
   "metadata": {},
   "outputs": [],
   "source": [
    "# customer_idx에 따른 historical_existing_cnt의 mean\n",
    "historical_dict = raw_df.groupby('new_customer_idx')['historical_existing_cnt'].mean().sort_values(ascending=False).to_dict()\n",
    "raw_df['historical_existing_mean'] = raw_df['new_customer_idx'].map(historical_dict)"
   ]
  },
  {
   "cell_type": "code",
   "execution_count": 45,
   "id": "f48e243b-5e03-467f-9b36-5f1f22734edf",
   "metadata": {},
   "outputs": [
    {
     "data": {
      "text/plain": [
       "lead_owner  historical_existing_mean\n",
       "175         0.93                        1983\n",
       "23          0.93                         335\n",
       "115         0.93                         322\n",
       "174         0.06                         300\n",
       "            0.93                         232\n",
       "                                        ... \n",
       "1080        0.06                           1\n",
       "            0.06                           1\n",
       "            0.07                           1\n",
       "            0.08                           1\n",
       "            0.10                           1\n",
       "Name: count, Length: 13396, dtype: int64"
      ]
     },
     "execution_count": 45,
     "metadata": {},
     "output_type": "execute_result"
    }
   ],
   "source": [
    "raw_df['lead_owner'].value_counts().sort_values(ascending=False)\n",
    "raw_df.groupby('lead_owner')['historical_existing_mean'].value_counts().sort_values(ascending=False)"
   ]
  },
  {
   "cell_type": "markdown",
   "id": "74669251-18ac-4752-8fb6-093478c91c94",
   "metadata": {
    "jp-MarkdownHeadingCollapsed": true
   },
   "source": [
    "##### **1.1.6 Business Type**"
   ]
  },
  {
   "cell_type": "code",
   "execution_count": 46,
   "id": "37d95c68-eed2-4c06-984c-da6b372765bb",
   "metadata": {},
   "outputs": [],
   "source": [
    "business = preprocess.Business"
   ]
  },
  {
   "cell_type": "code",
   "execution_count": 47,
   "id": "f7ea5eb0-a5cd-4173-9083-eaefaf1cde55",
   "metadata": {},
   "outputs": [],
   "source": [
    "runtime_instance = {\n",
    "    \"Train\": raw_df,\n",
    "    \"Instances\":[\n",
    "        {\"instance\": business, \"method\": [\"apply\"], \"params\": pkls.get(\"business\")},\n",
    "    ]\n",
    "}\n",
    "raw_df = preprocess.runner('Train',**runtime_instance)"
   ]
  },
  {
   "cell_type": "markdown",
   "id": "9b794af2-f32c-47d5-8366-0d34513e3436",
   "metadata": {},
   "source": [
    "#### **1.3 Categorization**"
   ]
  },
  {
   "cell_type": "code",
   "execution_count": 34,
   "id": "a71c1ee0-48e9-451e-81f1-500dce458bae",
   "metadata": {},
   "outputs": [],
   "source": [
    "categorization = preprocess.Categorization"
   ]
  },
  {
   "cell_type": "markdown",
   "id": "454d6a14-8533-4ee0-9f5c-b28c228dd46e",
   "metadata": {
    "jp-MarkdownHeadingCollapsed": true
   },
   "source": [
    "##### **1.3.1 Cusomter_idx**"
   ]
  },
  {
   "cell_type": "code",
   "execution_count": 35,
   "id": "d5f0b632-4ce4-492c-ae8b-20485447d97d",
   "metadata": {},
   "outputs": [],
   "source": [
    "relatived_cols = ['is_converted', 'enterprise', 'business_area', 'lead_owner', 'country', 'continent', 'new_inquiry_type', 'customer_type2']"
   ]
  },
  {
   "cell_type": "code",
   "execution_count": 36,
   "id": "06f4e163-7acb-4cc9-a962-cba791ee0423",
   "metadata": {},
   "outputs": [],
   "source": [
    "# raw_df['tmp_customer_idx'] = raw_df['customer_idx'].astype(str).str[:3]\n",
    "# raw_df[['category_1','tmp_customer_idx']].value_counts().sort_index(ascending=False)\n",
    "# len(raw_df['customer_idx'].astype(str).str[:2].value_counts().sort_values()) # Public Score : 0.41614906832298143\n",
    "# len(raw_df['customer_idx'].value_counts().sort_values()) # Public Score : 0.41614906832298143"
   ]
  },
  {
   "cell_type": "markdown",
   "id": "fa3c21a8-6594-4f48-bdf2-248e7cfdddc0",
   "metadata": {},
   "source": [
    "-> 다른 Column과 관련되어서 name되지 않음, 단순히 숫자로 범주화 진행"
   ]
  },
  {
   "cell_type": "code",
   "execution_count": 37,
   "id": "9f4e3bce-ed38-4b01-9dfa-15a990fe84a6",
   "metadata": {},
   "outputs": [],
   "source": [
    "cat_customer_cols = ['customer_idx']"
   ]
  },
  {
   "cell_type": "code",
   "execution_count": 38,
   "id": "27a218b5-1ff9-4696-86ab-5456b11f711f",
   "metadata": {
    "scrolled": true
   },
   "outputs": [],
   "source": [
    "runtime_instance = {\n",
    "    \"Train\": raw_df,\n",
    "    \"Instances\":[\n",
    "        {\"instance\": categorization, \"method\": ['cat_customer_idx'], \"params\": False},\n",
    "    ]\n",
    "}\n",
    "raw_df = preprocess.runner('Train',**runtime_instance)"
   ]
  },
  {
   "cell_type": "code",
   "execution_count": 39,
   "id": "eed8dd62-bfa1-47f5-bb4d-ddfde6d17cb2",
   "metadata": {},
   "outputs": [],
   "source": [
    "raw_df.drop(cat_customer_cols, axis=1, inplace=True)"
   ]
  },
  {
   "cell_type": "markdown",
   "id": "87b28493-259d-4da9-9aa7-b197225dc8a7",
   "metadata": {
    "jp-MarkdownHeadingCollapsed": true
   },
   "source": [
    "##### **1.3.3 Enterprise**"
   ]
  },
  {
   "cell_type": "code",
   "execution_count": 40,
   "id": "2fb0ac3d-d8d4-4c73-8e92-700070c8e1f2",
   "metadata": {},
   "outputs": [],
   "source": [
    "runtime_instance = {\n",
    "    \"Train\": raw_df,\n",
    "    \"Instances\":[\n",
    "        {\"instance\": categorization, \"method\": ['customer_idx_merge_enterprise'], \"params\": False},\n",
    "    ]\n",
    "}\n",
    "raw_df = preprocess.runner('Train',**runtime_instance)"
   ]
  },
  {
   "cell_type": "markdown",
   "id": "9fb65fbb-00d1-4c95-b758-8ced5a3706ca",
   "metadata": {},
   "source": [
    "##### **1.3.2 Lead_owner**"
   ]
  },
  {
   "cell_type": "markdown",
   "id": "d6e946d8-f252-4b21-a73d-2a1c6b4079d0",
   "metadata": {},
   "source": [
    "##### **1.3.3 new inquiry type**"
   ]
  },
  {
   "cell_type": "markdown",
   "id": "5eed0173-d0cb-43a4-90a9-14b64b3ea6b4",
   "metadata": {},
   "source": [
    "#### **1.4 Derived Value**"
   ]
  },
  {
   "cell_type": "markdown",
   "id": "2b470b6f-409b-4148-aa07-d455d6f198b1",
   "metadata": {
    "jp-MarkdownHeadingCollapsed": true
   },
   "source": [
    "##### **1.4.1 New_Bant_Submit**"
   ]
  },
  {
   "cell_type": "code",
   "execution_count": 48,
   "id": "cfd6e05b-1e73-4429-9294-84a83ca8463a",
   "metadata": {},
   "outputs": [],
   "source": [
    "budget = preprocess.Budget"
   ]
  },
  {
   "cell_type": "code",
   "execution_count": 49,
   "id": "238803ae-646e-4f2a-ac93-6ef9737c366b",
   "metadata": {},
   "outputs": [],
   "source": [
    "runtime_instance = {\n",
    "    \"Train\": raw_df,\n",
    "    \"Instances\":[\n",
    "        {\"instance\": budget, \"method\": ['apply'], \"params\": pkls.get(\"budget_ratio\")}, \n",
    "    ]\n",
    "}\n",
    "raw_df = preprocess.runner('Train',**runtime_instance)"
   ]
  },
  {
   "cell_type": "markdown",
   "id": "0d8325e2-d57b-4d1e-95bf-4b6f25f08dd4",
   "metadata": {
    "jp-MarkdownHeadingCollapsed": true
   },
   "source": [
    "#### **1.5 Dementionality Reduction**"
   ]
  },
  {
   "cell_type": "code",
   "execution_count": 434,
   "id": "b0499eee-364a-4105-8629-8096cef75a3b",
   "metadata": {},
   "outputs": [],
   "source": [
    "from sklearn.preprocessing import RobustScaler, StandardScaler\n",
    "from sklearn.preprocessing import LabelEncoder\n",
    "from sklearn import decomposition\n",
    "\n",
    "X_scaled = StandardScaler().fit_transform(X)\n",
    "\n",
    "pca = decomposition.PCA(n_components=13)\n",
    "pca_X = pca.fit_transform(X_scaled)\n",
    "\n",
    "# 주성분으로 이루어진 데이터 프레임 구성\n",
    "PAC_df = pd.DataFrame(data=pca_X)"
   ]
  },
  {
   "cell_type": "code",
   "execution_count": null,
   "id": "29307b25-3162-4fa3-bdeb-b32647695863",
   "metadata": {},
   "outputs": [],
   "source": []
  },
  {
   "cell_type": "code",
   "execution_count": 435,
   "id": "10e297d5-d172-4c32-86ff-407dede5ab9e",
   "metadata": {},
   "outputs": [],
   "source": [
    "import numpy as np\n",
    "np.set_printoptions(precision=10, suppress=True)"
   ]
  },
  {
   "cell_type": "code",
   "execution_count": 436,
   "id": "9969b0e4-e2c5-4e3d-8fa9-585574c60b15",
   "metadata": {},
   "outputs": [
    {
     "data": {
      "text/plain": [
       "array([0.1832867355, 0.101363386 , 0.088389455 , 0.0853946228,\n",
       "       0.0777309572, 0.0770999322, 0.0742884259, 0.0703961381,\n",
       "       0.0660020023, 0.0633528243, 0.0565128713, 0.0294426035,\n",
       "       0.0267400461])"
      ]
     },
     "execution_count": 436,
     "metadata": {},
     "output_type": "execute_result"
    }
   ],
   "source": [
    "pca.explained_variance_ratio_"
   ]
  },
  {
   "cell_type": "code",
   "execution_count": 432,
   "id": "7430af2f-1688-46f2-9b94-f180de4bb4df",
   "metadata": {},
   "outputs": [
    {
     "data": {
      "text/plain": [
       "0.9438173504238992"
      ]
     },
     "execution_count": 432,
     "metadata": {},
     "output_type": "execute_result"
    }
   ],
   "source": [
    "sum(pca.explained_variance_ratio_)"
   ]
  },
  {
   "cell_type": "code",
   "execution_count": 424,
   "id": "9b12f905-6e81-43a8-a51f-82129ce2e001",
   "metadata": {
    "collapsed": true,
    "jupyter": {
     "outputs_hidden": true,
     "source_hidden": true
    }
   },
   "outputs": [
    {
     "data": {
      "image/png": "[encoded data removed]",
      "text/plain": [
       "<Figure size 640x480 with 1 Axes>"
      ]
     },
     "metadata": {},
     "output_type": "display_data"
    }
   ],
   "source": [
    "# Scree plot 통해 확인\n",
    "PC_values = np.arange(pca.n_components_)\n",
    "plt.plot(PC_values, pca.explained_variance_ratio_, 'o-', linewidth=2, color='blue')\n",
    "plt.title('Scree Plot')\n",
    "plt.xlabel('Principal Component')\n",
    "plt.ylabel('Variance Explained')\n",
    "plt.show()"
   ]
  },
  {
   "cell_type": "code",
   "execution_count": null,
   "id": "d54bffe4-0b48-41cb-bdfe-8a0272f9c74b",
   "metadata": {},
   "outputs": [],
   "source": []
  }
 ],
 "metadata": {
  "kernelspec": {
   "display_name": "Python 3 (ipykernel)",
   "language": "python",
   "name": "python3"
  },
  "language_info": {
   "codemirror_mode": {
    "name": "ipython",
    "version": 3
   },
   "file_extension": ".py",
   "mimetype": "text/x-python",
   "name": "python",
   "nbconvert_exporter": "python",
   "pygments_lexer": "ipython3",
   "version": "3.10.4"
  }
 },
 "nbformat": 4,
 "nbformat_minor": 5
}

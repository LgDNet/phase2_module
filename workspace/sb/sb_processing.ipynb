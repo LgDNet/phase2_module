{
 "cells": [
  {
   "cell_type": "markdown",
   "metadata": {},
   "source": [
    "# Personal preprocessing\n",
    "* product_category\n",
    "* product_subcategory \n",
    "* product_modelname "
   ]
  },
  {
   "cell_type": "code",
   "execution_count": 1,
   "metadata": {},
   "outputs": [],
   "source": [
    "import pandas as pd\n",
    "import seaborn as sns\n",
    "import numpy as np\n",
    "import matplotlib.pyplot as plt\n",
    "\n",
    "def set_up(mode= None):\n",
    "    pd.set_option('display.max_rows', mode)\n",
    "# pd.options.display.max_rows = 60\n",
    "set_up()"
   ]
  },
  {
   "cell_type": "code",
   "execution_count": 26,
   "metadata": {},
   "outputs": [
    {
     "data": {
      "text/plain": [
       "(59299, 5271)"
      ]
     },
     "execution_count": 26,
     "metadata": {},
     "output_type": "execute_result"
    }
   ],
   "source": [
    "df_train = pd.read_csv(\"../train.csv\") # 학습용 데이터\n",
    "df_test = pd.read_csv(\"../submission.csv\") # 테스트 데이터(제출파일의 데이터)\n",
    "\n",
    "# 데이터 계수 파악\n",
    "len(df_train), len(df_test)"
   ]
  },
  {
   "cell_type": "code",
   "execution_count": 27,
   "metadata": {},
   "outputs": [
    {
     "data": {
      "text/plain": [
       "Index(['id', 'bant_submit', 'customer_country', 'business_unit',\n",
       "       'com_reg_ver_win_rate', 'customer_idx', 'customer_type', 'enterprise',\n",
       "       'historical_existing_cnt', 'id_strategic_ver', 'it_strategic_ver',\n",
       "       'idit_strategic_ver', 'customer_job', 'lead_desc_length',\n",
       "       'inquiry_type', 'product_category', 'product_subcategory',\n",
       "       'product_modelname', 'customer_country.1', 'customer_position',\n",
       "       'response_corporate', 'expected_timeline', 'ver_cus', 'ver_pro',\n",
       "       'ver_win_rate_x', 'ver_win_ratio_per_bu', 'business_area',\n",
       "       'business_subarea', 'lead_owner', 'is_converted'],\n",
       "      dtype='object')"
      ]
     },
     "execution_count": 27,
     "metadata": {},
     "output_type": "execute_result"
    }
   ],
   "source": [
    "df_test.columns"
   ]
  },
  {
   "cell_type": "markdown",
   "metadata": {},
   "source": [
    "## 신규 Columns 추가\n",
    "---\n",
    "* 밴 다이어그램을 통한 분류화\n",
    "* 사람의 관심도를 표현하기 위해서 `customer_interest`로 명명.\n"
   ]
  },
  {
   "cell_type": "code",
   "execution_count": 28,
   "metadata": {},
   "outputs": [],
   "source": [
    "def label_rows(row):\n",
    "    if row['product_modelname'] is np.nan and row['product_subcategory'] is np.nan and row['product_category'] is np.nan:\n",
    "        return 8\n",
    "    elif row['product_modelname'] is np.nan and row['product_subcategory'] is np.nan:\n",
    "        return 7\n",
    "    elif row['product_modelname'] is np.nan and row['product_category'] is np.nan:\n",
    "        return 6\n",
    "    elif row['product_subcategory'] is np.nan and row['product_category'] is np.nan:\n",
    "        return 5\n",
    "    elif row['product_modelname'] is np.nan:\n",
    "        return 4\n",
    "    elif row['product_subcategory'] is np.nan:\n",
    "        return 3\n",
    "    elif row['product_category'] is np.nan:\n",
    "        return 2\n",
    "    else:\n",
    "        return 1\n",
    "\n",
    "df_train['customer_interest'] = df_train.apply(lambda row: label_rows(row), axis=1)\n",
    "df_train[['product_modelname', 'product_subcategory', 'product_category']] = df_train[['product_modelname', 'product_subcategory', 'product_category']].fillna('Unknown') # 그 후 널값 채우기"
   ]
  },
  {
   "cell_type": "markdown",
   "metadata": {
    "jp-MarkdownHeadingCollapsed": true,
    "tags": []
   },
   "source": [
    "## 결과"
   ]
  },
  {
   "cell_type": "code",
   "execution_count": 29,
   "metadata": {},
   "outputs": [
    {
     "data": {
      "text/plain": [
       "customer_interest\n",
       "1    0.147267\n",
       "2    0.087719\n",
       "3    0.102041\n",
       "4    0.145729\n",
       "5    0.005242\n",
       "6    0.117021\n",
       "7    0.076323\n",
       "8    0.064555\n",
       "Name: is_converted, dtype: float64"
      ]
     },
     "execution_count": 29,
     "metadata": {},
     "output_type": "execute_result"
    }
   ],
   "source": [
    "df_train.groupby('customer_interest')['is_converted'].mean()"
   ]
  },
  {
   "cell_type": "code",
   "execution_count": 30,
   "metadata": {},
   "outputs": [
    {
     "data": {
      "image/png": "[encoded data removed]",
      "text/plain": [
       "<Figure size 720x432 with 1 Axes>"
      ]
     },
     "metadata": {
      "needs_background": "light"
     },
     "output_type": "display_data"
    }
   ],
   "source": [
    "label_converted_count = df_train.groupby('customer_interest')['is_converted'].mean().reset_index()\n",
    "\n",
    "# 막대그래프 그리기\n",
    "plt.figure(figsize=(10, 6))\n",
    "sns.barplot(x='customer_interest', y='is_converted', data=label_converted_count)\n",
    "plt.xlabel('customer_interest')\n",
    "plt.ylabel('Count of is_converted')\n",
    "plt.title('Count of is_converted by Label')\n",
    "plt.show()"
   ]
  },
  {
   "cell_type": "markdown",
   "metadata": {},
   "source": [
    "## product_category 정리\n",
    "* LG BTB 마케팅의 입력 양식을 참고\n",
    "* 종류"
   ]
  },
  {
   "cell_type": "code",
   "execution_count": 31,
   "metadata": {
    "editable": true,
    "scrolled": true,
    "slideshow": {
     "slide_type": ""
    },
    "tags": []
   },
   "outputs": [],
   "source": [
    "df_train['product_category'] = df_train['product_category'].str.lower().str.strip()"
   ]
  },
  {
   "cell_type": "code",
   "execution_count": 32,
   "metadata": {},
   "outputs": [],
   "source": [
    "# washing machine 추가\n",
    "mask = df_train['product_category'] == 'commercial tv,projector'\n",
    "copy_df = df_train[mask].copy()\n",
    "copy_df['product_category'] = 'projector'\n",
    "# 원본 데이터 프레임에 데이터 추가 \n",
    "df_train = pd.concat([df_train, copy_df])\n",
    "\n",
    "# dryer 추가\n",
    "mask = df_train['product_category'] == 'commercial tv,projector'\n",
    "copy_df = df_train[mask].copy()\n",
    "copy_df['product_category'] = 'commercial tv'\n",
    "df_train = pd.concat([df_train, copy_df])\n",
    "\n",
    "# 원본데이터 삭제.\n",
    "df_train = df_train[df_train['product_category'] != 'commercial tv,projector']"
   ]
  },
  {
   "cell_type": "code",
   "execution_count": 33,
   "metadata": {},
   "outputs": [],
   "source": [
    "# washing machine 추가\n",
    "mask = df_train['product_category'] == 'washing machine,dryer'\n",
    "copy_df = df_train[mask].copy()\n",
    "copy_df['product_category'] = 'washing machine'\n",
    "# 원본 데이터 프레임에 데이터 추가 \n",
    "df_train = pd.concat([df_train, copy_df])\n",
    "\n",
    "# dryer 추가\n",
    "mask = df_train['product_category'] == 'washing machine,dryer'\n",
    "copy_df = df_train[mask].copy()\n",
    "copy_df['product_category'] = 'dryer'\n",
    "df_train = pd.concat([df_train, copy_df])\n",
    "\n",
    "# 원본데이터 삭제.\n",
    "df_train = df_train[df_train['product_category'] != 'washing machine,dryer']"
   ]
  },
  {
   "cell_type": "code",
   "execution_count": 35,
   "metadata": {
    "editable": true,
    "scrolled": true,
    "slideshow": {
     "slide_type": ""
    },
    "tags": []
   },
   "outputs": [],
   "source": [
    "replacement_dict = {\n",
    "    'interactive signage': 'interactive digital board',    'education createboard': 'interactive digital board',\n",
    "    '互動式顯示屏': 'interactive digital board',    'multi inverter': 'multi-split',\n",
    "    'multi split' : 'multi-split',    'video wall': 'video wall signage',\n",
    "    'videowall_rmk': 'video wall signage',    '43us660h0sd.awz': 'hotel tv',   'residential air conditioner': 'rac',\n",
    "    'aire acondicionado residencial': 'rac',    'ar condicionado residencial' : 'rac',\n",
    "    'all lg vrf systems': 'vrf',    'ur640': 'ur640s',    'idb': 'interactive digital board',\n",
    "    'id': 'interactive digital board',    'others': 'etc.',\n",
    "    'other': 'etc.',    'lainnya': 'etc.',\n",
    "    'otros': 'etc.',    'sales inquiry': 'etc.',    'commercial tv,tv': 'commercial tv',\n",
    "    'monitor signage,commercial tv': 'commercial tv',    'onequick series': 'one:quick',\n",
    "    'lg one:quick': 'one:quick',    'led 顯示屏': 'led signage',\n",
    "    '32lq621cbsb.awz': 'smart tv signage',    'monitor signage,commercial tv,monior/monitor tv': 'monitor signage,monior/monitor tv',\n",
    "    'monior/monitor tv,tv': 'monitor signage,monior/monitor tv',    'monitor signage,tv': 'monitor signage,monior/monitor tv',\n",
    "    'monior/monitor tv,pc': 'monitor signage,monior/monitor tv',    'monitor signage,pc': 'monitor signage,monior/monitor tv',\n",
    "    'isıtma': 'heating',    'calefacción': 'heating',    'ogrzewanie (pompy ciepła)' : 'heating',\n",
    "    'standalone': 'commercial tv',    'system ac': 'single-split',  \n",
    "    'điều hòa trung tâm multi': 'single-split',\n",
    "    'sac' : 'single-split',    'fhd series': 'standard signage',\n",
    "    'tv signage': 'standard signage',    'oled 顯示屏': 'oled signage',\n",
    "    'מזגנים למקום מגורים': 'rac',    'htv': 'commercial tv',\n",
    "    'led': 'led signage',   \n",
    "    'vrf,multi-split': 'multi-split',   \n",
    "    'soğutucu': 'single-split',    '標準顯示屏': 'led signage',    'monitor signage,monior/monitor tv' : 'monitor',\n",
    "    'teto ou cassete inverter' : 'single-split',    'one quick:flex' : 'one:quick',\n",
    "    'تكييف وتبريد' : 'single-split',    'comercial tv' : 'commercial tv',    'تكييفات' : 'single-split',    'مبرد (تشيلر)' : 'single-split',\n",
    "    'חימום' : 'heating',    'ฯลฯ' : 'etc.',    'vb.' : 'etc.',    'videwall' : 'video wall signage',    'videowall signage' : 'video wall signage',\n",
    "    'hospitality' : 'hotel tv',    'signage' : 'etc.',    'aquecimento' : 'heating',    'laec015' : 'one:quick',    'climatiseur résidentiel' : 'single-split',\n",
    "    'khác' : 'etc.',    '醫院電視' : 'hospital tv',    '酒店電視' : 'hotel tv',    'เครื่องปรับอากาศเผื่อที่อยู่อาศัย' : 'single-split',\n",
    "    'điều hòa gia dụng' : 'single-split',    'ac rumah' : 'single-split',    'điều hòa cục bộ' : 'single-split',\n",
    "    'آخر' : 'etc.',    'bu50nst' : 'projector',    'window facing display' : 'outdoor_led',    '軟體' : 'software solution',\n",
    "    'حلول التدفئة' : 'heating',    '高亮度顯示屏' : 'curvable_oled',    '特別顯示屏' : 'special signage',\n",
    "    'פיצול מרובה' : 'multi-split',    'אחר' : 'etc.',    'split tunggal' : 'single-split',\n",
    "    'radiology displays' : 'medical display',    'inne' : 'inne'\n",
    "}\n",
    "\n",
    "df_train['product_category'] = df_train['product_category'].replace(replacement_dict).str.replace('solar,', '')"
   ]
  },
  {
   "cell_type": "code",
   "execution_count": 36,
   "metadata": {},
   "outputs": [
    {
     "data": {
      "text/plain": [
       "unknown                                                 19374\n",
       "interactive digital board                                8080\n",
       "vrf                                                      5767\n",
       "multi-split                                              3946\n",
       "single-split                                             3745\n",
       "video wall signage                                       2154\n",
       "others                                                   2092\n",
       "led signage                                              1923\n",
       "hospitality_tv                                           1484\n",
       "one:quick                                                1471\n",
       "oled signage                                             1356\n",
       "standard signage                                         1170\n",
       "chiller                                                  1087\n",
       "medical display                                          1010\n",
       "monitor                                                   863\n",
       "heating                                                   769\n",
       "high brightness signage                                   702\n",
       "ventilation                                               420\n",
       "control                                                   263\n",
       "ess                                                       207\n",
       "software solution                                         192\n",
       "special signage                                           175\n",
       "webos                                                     144\n",
       "pc                                                        117\n",
       "commercial tv                                             105\n",
       "projector                                                  94\n",
       "commercial display                                         74\n",
       "multi v                                                    66\n",
       "signage care solution                                      56\n",
       "technical support                                          50\n",
       "cloud device                                               46\n",
       "laptop                                                     41\n",
       "a thermodynamic water heater                               37\n",
       "virtual production                                         30\n",
       "tv                                                         25\n",
       "ledallinone                                                23\n",
       "digital signage                                            22\n",
       "services                                                   20\n",
       "ultrawide monitor                                          14\n",
       "washer                                                      9\n",
       "dryer                                                       9\n",
       "robot                                                       8\n",
       "allinone_rmk                                                7\n",
       "leadallin                                                   6\n",
       "outdoor_led                                                 5\n",
       "lg customer care program                                    4\n",
       "error                                                       4\n",
       "solar                                                       3\n",
       "refrigerator                                                3\n",
       "etc.                                                        3\n",
       "on or several reversible ac                                 2\n",
       "transparent oled                                            2\n",
       "ahu                                                         2\n",
       "aio                                                         2\n",
       "pro:centric                                                 2\n",
       "not specified                                               1\n",
       "tr3                                                         1\n",
       "inne                                                        1\n",
       "pantalla led outdoor                                        1\n",
       "refrigerator,built-in/cooking                               1\n",
       "ems,audio/video                                             1\n",
       "a definir                                                   1\n",
       "systèmes de débit à réfrigérant variable (drv)              1\n",
       "indoor led                                                  1\n",
       "retaildigital                                               1\n",
       "mobile,audio/video                                          1\n",
       "curvable_oled                                               1\n",
       "led cinema                                                  1\n",
       "led 70m2                                                    1\n",
       "lg led bloc                                                 1\n",
       "cac                                                         1\n",
       "unitario                                                    1\n",
       "taa lcd lfd displays                                        1\n",
       "built-in/cooking                                            1\n",
       "water care                                                  1\n",
       "vacuum cleaner                                              1\n",
       "pendingin                                                   1\n",
       "meeting & screen sharedirect view leddirect view led        1\n",
       "collaboration displays                                      1\n",
       "led aio 136                                                 1\n",
       "parts                                                       1\n",
       "Name: mapped, dtype: int64"
      ]
     },
     "execution_count": 36,
     "metadata": {},
     "output_type": "execute_result"
    }
   ],
   "source": [
    "# 필터 안에 순서가 매우 중요.\n",
    "filter1 = {\n",
    "    'interactive' : 'interactive digital board',\n",
    "    'vrf' : 'vrf','multi-split' : 'multi-split', 'single' : 'single-split', 'air conditioner' : 'single-split',\n",
    "    'video wall' : 'video wall signage', 'chiller' : 'chiller',    'hotel tv' : 'hospitality_tv', 'pro:centric' : 'hospitality_tv',\n",
    "    'hospital tv' : 'hospitality_tv',    'smart tv signage' : 'hospitality_tv',    'smart' : 'hospitality_tv',    'standard' : 'standard signage',\n",
    "    'outros' : 'heating', 'brightness' : 'high brightness signage',\n",
    "    'one:quick' : 'one:quick',    \n",
    "    'one quick' : 'one:quick',    \n",
    "    'medical' : 'medical display',    \n",
    "    'system ac' : 'single-split',\n",
    "    'commercial tv' : 'commercial tv',    \n",
    "    'multi v' : 'multi v',    'monitor' : 'monitor',    'projector' : 'projector',\n",
    "    'centric' : 'pro:centric',    'cloud' : 'cloud device',    'ess' : 'ess',    'energy' : 'ess',    'robot' : 'robot',\n",
    "    'pc' : 'pc',    'tv' : 'tv',    'air' : 'single-split',    'ur640s' : 'standard signage',    'autre' : 'etc.',\n",
    "    '.bwz' : 'hospitality_tv',    'laec' : 'ledallinone',    'vm5' : 'video wall signage',    'vl5' : 'video wall signage',\n",
    "    'svh7' : 'video wall signage',    '28mq780' : 'ultrawide monitor',    'gsc' : 'outdoor_led',    'out_door' : 'outdoor_led',\n",
    "    'care solution' : 'signage care solution',\n",
    "    'system ac' : 'single-split', 'rac' : 'single-split',\n",
    "    'magnit' : 'led signage',    '49xf' : 'high brightness signage',    'stretch' : 'high brightness signage',    ' pol' : 'hospitality_tv',\n",
    "    'us660' : 'hospitality_tv',    'hoteleria' : 'hospitality_tv',    'single' : 'single-split',    'lsca' : 'indoor led',    '55tc3d' : 'interactive digital board',\n",
    "    'uh' : 'standard signage',    'washing' : 'washer',    '110' : 'standard signage', 'etc' : 'others',\n",
    "}\n",
    "\n",
    "df_train['mapped'] = df_train['product_category'].apply(lambda x: next((v for k, v in filter1.items() if k in x), x))\n",
    "df_train['mapped'].value_counts()"
   ]
  },
  {
   "cell_type": "markdown",
   "metadata": {},
   "source": [
    "* interactive signage = interactive digitalborad\n",
    "* rac가 안보이니깐 일단 패스\n",
    "* accessories : 일일히 분해 필요.\n",
    "* technical support\t: 기술적 지원...? 그리고 services 비슷한 국가에서 행동,"
   ]
  },
  {
   "cell_type": "markdown",
   "metadata": {},
   "source": [
    "## 같은 Category의 경우 대체"
   ]
  },
  {
   "cell_type": "code",
   "execution_count": 37,
   "metadata": {},
   "outputs": [
    {
     "data": {
      "text/plain": [
       "unknown                         19374\n",
       "interactive digital board        8080\n",
       "vrf                              5767\n",
       "multi-split                      3946\n",
       "single-split                     3745\n",
       "video wall signage               2154\n",
       "others                           2150\n",
       "led signage                      1923\n",
       "hospitality_tv                   1484\n",
       "one:quick                        1471\n",
       "oled signage                     1356\n",
       "standard signage                 1170\n",
       "chiller                          1087\n",
       "medical display                  1010\n",
       "monitor                           863\n",
       "heating                           769\n",
       "high brightness signage           702\n",
       "ventilation                       420\n",
       "control                           263\n",
       "ess                               207\n",
       "software solution                 192\n",
       "special signage                   175\n",
       "webos                             144\n",
       "pc                                117\n",
       "commercial tv                     105\n",
       "projector                          94\n",
       "commercial display                 74\n",
       "multi v                            66\n",
       "signage care solution              56\n",
       "technical support                  50\n",
       "cloud device                       46\n",
       "laptop                             41\n",
       "a thermodynamic water heater       37\n",
       "virtual production                 30\n",
       "tv                                 25\n",
       "ledallinone                        23\n",
       "digital signage                    22\n",
       "services                           20\n",
       "ultrawide monitor                  14\n",
       "dryer                               9\n",
       "washer                              9\n",
       "robot                               8\n",
       "allinone_rmk                        7\n",
       "leadallin                           6\n",
       "Name: product_category, dtype: int64"
      ]
     },
     "execution_count": 37,
     "metadata": {},
     "output_type": "execute_result"
    }
   ],
   "source": [
    "category_counts = df_train['mapped'].value_counts()\n",
    "categories_to_replace = category_counts[category_counts < 6].index.tolist() # 6개 미만 index 찾기\n",
    "# 데이터 변환\n",
    "df_train['product_category'] = df_train['mapped'].apply(lambda x: 'others' if x in categories_to_replace else x)\n",
    "df_train['product_category'].value_counts()"
   ]
  },
  {
   "cell_type": "code",
   "execution_count": 38,
   "metadata": {},
   "outputs": [],
   "source": [
    "cate_num_dict = {\n",
    "    0 : 'commercial_display',    1 : 'hvac',    2 : 'it_products',    3 : 'commercial_laundry',    4 : 'robot',  5: 'others', -1 : 'non_serviced',\n",
    "}\n",
    "\n",
    "\n",
    "cate_dict  = {\n",
    "    'interactive digital board' : 0, 'vrf' : 1, 'multi-split' : 1, 'hospitality_tv' : 0,\n",
    "    'video wall signage': 0, 'led signage' : 0, 'single-split' : 1,\n",
    "    'oled signage' : 0, 'chiller' : 1, 'standard signage' : 0,\n",
    "    'medical display' : 2,    'one:quick' : 0,    'heating' : 1,    'high brightness signage' : 0,\n",
    "    'ventilation' : 0,    'control' : -1,    'aircare' : -1,    'software solution' : 0,\n",
    "    'special signage' : 0, 'webos' : 0,    'pc' : 2, 'projector' : 2, 'commercial display' : 0, 'outros' : 1,\n",
    "    'signage care solution' : 0,    'multi v' : 1, 'cloud device' : 2,\n",
    "    'medical displays' : 2,    'laptop' : 2,    'a thermodynamic water heater' : 1,\n",
    "    'monitor' : 2,    'virtual production' :  0,    'ogrzewanie (pompy ciepła)' : 1,\n",
    "    'commercial tv' : 0,    'digital signage' : 0,    'ess': 1,    'ledallinone' : 0,    'ultrawide monitor' : 2,    'tv' : 0,\n",
    "    'washing machine' : 3,    'dryer' : 3,    'aircare' : -1,    'robots' : 4,    'error' : -1,\n",
    "    '' : -1,    'signage' : 0,    'transparent oled' : 0,    'ultra stretch' : 0,\n",
    "    'outdoor_led' : 0,    'lcd signage' : 0,    'curvable_oled' : 0,    'indoor led' : 0,\n",
    "    'others' : 5,\n",
    "}\n",
    "\n",
    "subcate_dict = {\n",
    "    'interactive digital board' : 'digital_signage','standard signage' : 'digital_signage', 'one:quick' : 'digital_signage',     'special signage' : 'digital_signage',\n",
    "    'multi-split' : 'commercial_solutions', 'a thermodynamic water heater' : 'residential_solutions', 'heating': 'residential_solutions',  \n",
    "    'video wall signage' : 'digital_signage','high brightness signage' : 'digital_signage',\n",
    "    'led signage' : 'led_signage', 'indoor led' : 'led_signage',     'ledallinone' : 'led_signage', 'virtual production' : 'led_signage',\n",
    "    'vrf' : 'commercial_solutions',  'single-split' : 'commercial_solutions', 'multi v' : 'commercial_solutions', \n",
    "    'ventilation' : 'commercial_solutions', 'chiller' : 'commercial_solutions',\n",
    "    'oled signage' : 'oled_signage',\n",
    "    'medical display' : 'medical_display',   \n",
    "    'control' : 'non_serviced',\n",
    "    'software solution' : 'software', \n",
    "    'hospitality_tv' : 'commercial_tv', \n",
    "    'webos' : 'software',    'projector' : 'projector',\n",
    "    'outros' : 'residential_solutions',  \n",
    "    'signage care solution' : 'software',\n",
    "    'cloud device' : 'cloud_device',\n",
    "    'medical displays' : 'medical displays',\n",
    "    'laptop' : 'laptop',\n",
    "\n",
    "    'monitor' : 'monitor',\n",
    "    'commercial tv' : 'commercial_tv', 'tv' : 'commercial_tv',\n",
    "    'digital signage' : 'digital_signage',\n",
    "    'ess' : 'ess',\n",
    "    'ultrawide monitor' : 'monitor',\n",
    "    'washing machine' : 'washer',\n",
    "    'dryer' : 'dryer',  \n",
    "    'transparent oled' : 'oled_signage',\n",
    "    'ultra stretch' : 'digital_signage',   \n",
    "    'outdoor_led' : 'led_signage',\n",
    "    'lcd_signage' : 'digital_signage',   \n",
    "    'curvable_oled' : 'oled_sigange',  \n",
    "\n",
    "}\n",
    "\n",
    "subsubcate_dict = {\n",
    "    'interactive digital board' : 'interactive',    'video wall signage' : 'video_wall',\n",
    "    'single split' : 'single_split',    'chiller' : 'chiller',\n",
    "    'standard signage' : 'standard',    'one:quick' : 'one:quick',\n",
    "    'ventilation' : 'ventilation_solution(erv)',    'control' : 'non_serviced',\n",
    "    'software solution' : 'supersign_software',    'special signage' : 'special',\n",
    "    'hospitality_tv' : 'hospitality_tv',\n",
    "    'webos' : 'webos',\n",
    "    'signage care solution' : 'signage_care_solution',  \n",
    "    'virtual production' : 'virtual_production',    'multi v' : 'vrf_system',\n",
    "    'vrf' : 'vrf_system',    'outros' : 'air_to_water_heat_pumps',\n",
    "    'laptop' : 'gram',    'ogrzewanie (pompy ciepła)' : 'air_to_water_heat_pumps',\n",
    "    'ledallinone' : 'all_in_one',    'ultrawide monitor' : 'ultrawide',\n",
    "    'heating': 'air_to_water_heat_pumps',    'a thermodynamic water heater' : 'water_heater',\n",
    "    'transparent oled' : 'transparent_oled',    'ultra stretch' : 'ultra stretch',\n",
    "    'outdoor_led' : 'outdoor_led',    'lcd_signage' : 'lcd_signage',\n",
    "    'curvable_oled' : 'curvable_oled',    'high brightness signage' : 'high_brightness_signage',\n",
    "    'indoor led' : 'indoor_led', 'multi-split' : 'multi_split', 'monitor' : 'monitor'\n",
    "}\n",
    "\n",
    "df_train['category_1'] = df_train['product_category'].map(cate_dict)\n",
    "df_train['category_1'] = df_train['category_1'].map(cate_num_dict)\n",
    "df_train['category_2'] = df_train['product_category'].map(subcate_dict)\n",
    "df_train['category_3'] = df_train['product_category'].map(subsubcate_dict)\n",
    "#df_train = df_train.drop('product_category', axis=1)"
   ]
  },
  {
   "cell_type": "code",
   "execution_count": 39,
   "metadata": {},
   "outputs": [
    {
     "data": {
      "text/plain": [
       "(6, 15, 22)"
      ]
     },
     "execution_count": 39,
     "metadata": {},
     "output_type": "execute_result"
    }
   ],
   "source": [
    "len(df_train['category_1'].value_counts()),len(df_train['category_2'].value_counts()),len(df_train['category_3'].value_counts())"
   ]
  },
  {
   "cell_type": "code",
   "execution_count": 44,
   "metadata": {},
   "outputs": [],
   "source": [
    "df_train['cate_is_nan'] = df_train[['category_1', 'category_2', 'category_3']].isna().any(axis=1)"
   ]
  },
  {
   "cell_type": "markdown",
   "metadata": {},
   "source": [
    "## 중간 확인\n",
    "* 실행 안시켜도 됨.\n"
   ]
  },
  {
   "cell_type": "code",
   "execution_count": 46,
   "metadata": {},
   "outputs": [
    {
     "data": {
      "text/plain": [
       "True     30357\n",
       "False    28954\n",
       "Name: cate_is_nan, dtype: int64"
      ]
     },
     "execution_count": 46,
     "metadata": {},
     "output_type": "execute_result"
    }
   ],
   "source": [
    " df_train['cate_is_nan'].value_counts()"
   ]
  },
  {
   "cell_type": "markdown",
   "metadata": {},
   "source": [
    "* 1 : 3가지 정보 다 있는 경우\n",
    "    * "
   ]
  },
  {
   "cell_type": "code",
   "execution_count": 51,
   "metadata": {},
   "outputs": [
    {
     "data": {
      "text/plain": [
       "2481"
      ]
     },
     "execution_count": 51,
     "metadata": {},
     "output_type": "execute_result"
    }
   ],
   "source": [
    "cond = (df_train['customer_interest'] == 1) & (df_train['cate_is_nan'] == True)\n",
    "data = df_train[['product_category','product_subcategory', 'product_modelname', 'category_1', 'category_2', 'category_3']]\n",
    "len(data[cond])"
   ]
  },
  {
   "cell_type": "code",
   "execution_count": 53,
   "metadata": {},
   "outputs": [
    {
     "data": {
      "text/plain": [
       "commercial_display    19606\n",
       "NaN                   19474\n",
       "hvac                  15624\n",
       "it_products            2185\n",
       "others                 2150\n",
       "non_serviced            263\n",
       "commercial_laundry        9\n",
       "Name: category_1, dtype: int64"
      ]
     },
     "execution_count": 53,
     "metadata": {},
     "output_type": "execute_result"
    }
   ],
   "source": [
    "data['category_1'].value_counts(dropna=False)"
   ]
  },
  {
   "cell_type": "code",
   "execution_count": null,
   "metadata": {},
   "outputs": [],
   "source": []
  }
 ],
 "metadata": {
  "kernelspec": {
   "display_name": "Python 3 (ipykernel)",
   "language": "python",
   "name": "python3"
  },
  "language_info": {
   "codemirror_mode": {
    "name": "ipython",
    "version": 3
   },
   "file_extension": ".py",
   "mimetype": "text/x-python",
   "name": "python",
   "nbconvert_exporter": "python",
   "pygments_lexer": "ipython3",
   "version": "3.9.7"
  }
 },
 "nbformat": 4,
 "nbformat_minor": 4
}

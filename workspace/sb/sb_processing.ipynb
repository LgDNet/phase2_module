{
 "cells": [
  {
   "cell_type": "markdown",
   "metadata": {},
   "source": [
    "# Personal preprocessing\n",
    "* product_category\n",
    "* product_subcategory \n",
    "* product_modelname "
   ]
  },
  {
   "cell_type": "code",
   "execution_count": 1,
   "metadata": {},
   "outputs": [
    {
     "data": {
      "text/plain": [
       "'c:\\\\Users\\\\승범 pc\\\\Desktop\\\\공부\\\\딥러닝\\\\엘지에이머스'"
      ]
     },
     "execution_count": 1,
     "metadata": {},
     "output_type": "execute_result"
    }
   ],
   "source": [
    "pwd"
   ]
  },
  {
   "cell_type": "code",
   "execution_count": 2,
   "metadata": {},
   "outputs": [
    {
     "name": "stdout",
     "output_type": "stream",
     "text": [
      "c:\\Users\\승범 pc\\Desktop\\공부\\딥러닝\\엘지에이머스\\phase2_module\n"
     ]
    }
   ],
   "source": [
    "cd phase2_module/"
   ]
  },
  {
   "cell_type": "code",
   "execution_count": 3,
   "metadata": {},
   "outputs": [],
   "source": [
    "import pandas as pd\n",
    "import seaborn as sns\n",
    "import numpy as np\n",
    "import matplotlib.pyplot as plt\n",
    "\n",
    "def set_up(mode= None):\n",
    "    pd.set_option('display.max_rows', mode)\n",
    "# pd.options.display.max_rows = 60\n",
    "set_up()"
   ]
  },
  {
   "cell_type": "code",
   "execution_count": 4,
   "metadata": {},
   "outputs": [
    {
     "data": {
      "text/plain": [
       "(59299, 5271)"
      ]
     },
     "execution_count": 4,
     "metadata": {},
     "output_type": "execute_result"
    }
   ],
   "source": [
    "df_train = pd.read_csv(\"data/train.csv\") # 학습용 데이터\n",
    "df_test = pd.read_csv(\"data/test.csv\") # 테스트 데이터(제출파일의 데이터)\n",
    "\n",
    "# 데이터 계수 파악\n",
    "len(df_train), len(df_test)"
   ]
  },
  {
   "cell_type": "markdown",
   "metadata": {},
   "source": [
    "## 신규 Columns 추가\n",
    "---\n",
    "* 밴 다이어그램을 통한 분류화\n",
    "* 사람의 관심도를 표현하기 위해서 `customer_interest`로 명명.\n"
   ]
  },
  {
   "cell_type": "code",
   "execution_count": 5,
   "metadata": {},
   "outputs": [],
   "source": [
    "def label_rows(row):\n",
    "    if row['product_modelname'] is np.nan and row['product_subcategory'] is np.nan and row['product_category'] is np.nan:\n",
    "        return 8\n",
    "    elif row['product_modelname'] is np.nan and row['product_subcategory'] is np.nan:\n",
    "        return 7\n",
    "    elif row['product_modelname'] is np.nan and row['product_category'] is np.nan:\n",
    "        return 6\n",
    "    elif row['product_subcategory'] is np.nan and row['product_category'] is np.nan:\n",
    "        return 5\n",
    "    elif row['product_modelname'] is np.nan:\n",
    "        return 4\n",
    "    elif row['product_subcategory'] is np.nan:\n",
    "        return 3\n",
    "    elif row['product_category'] is np.nan:\n",
    "        return 2\n",
    "    else:\n",
    "        return 1\n",
    "\n",
    "df_train['customer_interest'] = df_train.apply(lambda row: label_rows(row), axis=1)\n",
    "df_train[['product_modelname', 'product_subcategory', 'product_category']] = df_train[['product_modelname', 'product_subcategory', 'product_category']].fillna('Unknown') # 그 후 널값 채우기"
   ]
  },
  {
   "cell_type": "markdown",
   "metadata": {
    "jp-MarkdownHeadingCollapsed": true,
    "tags": []
   },
   "source": [
    "## 결과"
   ]
  },
  {
   "cell_type": "code",
   "execution_count": 6,
   "metadata": {},
   "outputs": [
    {
     "data": {
      "text/plain": [
       "customer_interest\n",
       "1    0.147267\n",
       "2    0.087719\n",
       "3    0.102041\n",
       "4    0.145729\n",
       "5    0.005242\n",
       "6    0.117021\n",
       "7    0.076323\n",
       "8    0.064555\n",
       "Name: is_converted, dtype: float64"
      ]
     },
     "execution_count": 6,
     "metadata": {},
     "output_type": "execute_result"
    }
   ],
   "source": [
    "df_train.groupby('customer_interest')['is_converted'].mean()"
   ]
  },
  {
   "cell_type": "code",
   "execution_count": 7,
   "metadata": {},
   "outputs": [
    {
     "data": {
      "image/png": "[encoded data removed]",
      "text/plain": [
       "<Figure size 1000x600 with 1 Axes>"
      ]
     },
     "metadata": {},
     "output_type": "display_data"
    }
   ],
   "source": [
    "label_converted_count = df_train.groupby('customer_interest')['is_converted'].mean().reset_index()\n",
    "\n",
    "# 막대그래프 그리기\n",
    "plt.figure(figsize=(10, 6))\n",
    "sns.barplot(x='customer_interest', y='is_converted', data=label_converted_count)\n",
    "plt.xlabel('customer_interest')\n",
    "plt.ylabel('Count of is_converted')\n",
    "plt.title('Count of is_converted by Label')\n",
    "plt.show()"
   ]
  },
  {
   "cell_type": "markdown",
   "metadata": {},
   "source": [
    "## product_category 정리\n",
    "* LG BTB 마케팅의 입력 양식을 참고\n",
    "* 종류"
   ]
  },
  {
   "cell_type": "code",
   "execution_count": 8,
   "metadata": {
    "editable": true,
    "scrolled": true,
    "slideshow": {
     "slide_type": ""
    },
    "tags": []
   },
   "outputs": [],
   "source": [
    "df_train['product_category'] = df_train['product_category'].str.lower().str.strip()\n",
    "df_train['product_subcategory'] = df_train['product_subcategory'].str.lower().str.strip()\n",
    "df_train['product_modelname'] = df_train['product_modelname'].str.lower().str.strip()"
   ]
  },
  {
   "cell_type": "code",
   "execution_count": 9,
   "metadata": {},
   "outputs": [],
   "source": [
    "# washing machine 추가\n",
    "mask = df_train['product_category'] == 'commercial tv,projector'\n",
    "copy_df = df_train[mask].copy()\n",
    "copy_df['product_category'] = 'projector'\n",
    "# 원본 데이터 프레임에 데이터 추가 \n",
    "df_train = pd.concat([df_train, copy_df])\n",
    "\n",
    "# dryer 추가\n",
    "mask = df_train['product_category'] == 'commercial tv,projector'\n",
    "copy_df = df_train[mask].copy()\n",
    "copy_df['product_category'] = 'commercial tv'\n",
    "df_train = pd.concat([df_train, copy_df])\n",
    "\n",
    "# 원본데이터 삭제.\n",
    "df_train = df_train[df_train['product_category'] != 'commercial tv,projector']"
   ]
  },
  {
   "cell_type": "code",
   "execution_count": 10,
   "metadata": {},
   "outputs": [],
   "source": [
    "# washing machine 추가\n",
    "mask = df_train['product_category'] == 'washing machine,dryer'\n",
    "copy_df = df_train[mask].copy()\n",
    "copy_df['product_category'] = 'washing machine'\n",
    "# 원본 데이터 프레임에 데이터 추가 \n",
    "df_train = pd.concat([df_train, copy_df])\n",
    "\n",
    "# dryer 추가\n",
    "mask = df_train['product_category'] == 'washing machine,dryer'\n",
    "copy_df = df_train[mask].copy()\n",
    "copy_df['product_category'] = 'dryer'\n",
    "df_train = pd.concat([df_train, copy_df])\n",
    "\n",
    "# 원본데이터 삭제.\n",
    "df_train = df_train[df_train['product_category'] != 'washing machine,dryer']"
   ]
  },
  {
   "cell_type": "code",
   "execution_count": 11,
   "metadata": {
    "editable": true,
    "scrolled": true,
    "slideshow": {
     "slide_type": ""
    },
    "tags": []
   },
   "outputs": [],
   "source": [
    "replacement_dict = {\n",
    "    'interactive signage': 'interactive digital board',    'education createboard': 'interactive digital board',\n",
    "    '互動式顯示屏': 'interactive digital board',    'multi inverter': 'multi-split',\n",
    "    'multi split' : 'multi-split',    'video wall': 'video wall signage',\n",
    "    'videowall_rmk': 'video wall signage',    '43us660h0sd.awz': 'hotel tv',   'residential air conditioner': 'rac',\n",
    "    'aire acondicionado residencial': 'rac',    'ar condicionado residencial' : 'rac',\n",
    "    'all lg vrf systems': 'vrf',    'ur640': 'ur640s',    'idb': 'interactive digital board',\n",
    "    'id': 'interactive digital board',    'others': 'etc.',\n",
    "    'other': 'etc.',    'lainnya': 'etc.',\n",
    "    'otros': 'etc.',    'sales inquiry': 'etc.',    'commercial tv,tv': 'commercial tv',\n",
    "    'monitor signage,commercial tv': 'commercial tv',    'onequick series': 'one:quick',\n",
    "    'lg one:quick': 'one:quick',    'led 顯示屏': 'led signage',\n",
    "    '32lq621cbsb.awz': 'smart tv signage',    'monitor signage,commercial tv,monior/monitor tv': 'monitor signage,monior/monitor tv',\n",
    "    'monior/monitor tv,tv': 'monitor signage,monior/monitor tv',    'monitor signage,tv': 'monitor signage,monior/monitor tv',\n",
    "    'monior/monitor tv,pc': 'monitor signage,monior/monitor tv',    'monitor signage,pc': 'monitor signage,monior/monitor tv',\n",
    "    'isıtma': 'heating',    'calefacción': 'heating',    'ogrzewanie (pompy ciepła)' : 'heating',\n",
    "    'standalone': 'commercial tv',    'system ac': 'single-split',  \n",
    "    'điều hòa trung tâm multi': 'single-split',\n",
    "    'sac' : 'single-split',    'fhd series': 'standard signage',\n",
    "    'tv signage': 'standard signage',    'oled 顯示屏': 'oled signage',\n",
    "    'מזגנים למקום מגורים': 'rac',    'htv': 'commercial tv',\n",
    "    'led': 'led signage',   \n",
    "    'vrf,multi-split': 'multi-split',   \n",
    "    'soğutucu': 'single-split',    '標準顯示屏': 'led signage',    'monitor signage,monior/monitor tv' : 'monitor',\n",
    "    'teto ou cassete inverter' : 'single-split',    'one quick:flex' : 'one:quick',\n",
    "    'تكييف وتبريد' : 'single-split',    'comercial tv' : 'commercial tv',    'تكييفات' : 'single-split',    'مبرد (تشيلر)' : 'single-split',\n",
    "    'חימום' : 'heating',    'ฯลฯ' : 'etc.',    'vb.' : 'etc.',    'videwall' : 'video wall signage',    'videowall signage' : 'video wall signage',\n",
    "    'hospitality' : 'hotel tv',    'signage' : 'etc.',    'aquecimento' : 'heating',    'laec015' : 'one:quick',    'climatiseur résidentiel' : 'single-split',\n",
    "    'khác' : 'etc.',    '醫院電視' : 'hospital tv',    '酒店電視' : 'hotel tv',    'เครื่องปรับอากาศเผื่อที่อยู่อาศัย' : 'single-split',\n",
    "    'điều hòa gia dụng' : 'single-split',    'ac rumah' : 'single-split',    'điều hòa cục bộ' : 'single-split',\n",
    "    'آخر' : 'etc.',    'bu50nst' : 'projector',    'window facing display' : 'outdoor_led',    '軟體' : 'software solution',\n",
    "    'حلول التدفئة' : 'heating',    '高亮度顯示屏' : 'curvable_oled',    '特別顯示屏' : 'special signage',\n",
    "    'פיצול מרובה' : 'multi-split',    'אחר' : 'etc.',    'split tunggal' : 'single-split',\n",
    "    'radiology displays' : 'medical display',    'inne' : 'inne', 'leadallin':'others'\n",
    "}\n",
    "\n",
    "# 필터 안에 순서가 매우 중요.\n",
    "filter1 = {\n",
    "    'interactive' : 'interactive digital board',\n",
    "    'vrf' : 'vrf','multi-split' : 'multi-split', 'single' : 'single-split', 'air conditioner' : 'single-split',\n",
    "    'video wall' : 'video wall signage', 'chiller' : 'chiller',    'hotel tv' : 'hospitality_tv', 'pro:centric' : 'hospitality_tv',\n",
    "    'hospital tv' : 'hospitality_tv',    'smart tv signage' : 'hospitality_tv',    'smart' : 'hospitality_tv',    'standard' : 'standard signage',\n",
    "    'outros' : 'heating', 'brightness' : 'high brightness signage',\n",
    "    'one:quick' : 'one:quick',    \n",
    "    'one quick' : 'one:quick',    \n",
    "    'medical' : 'medical display',    \n",
    "    'system ac' : 'single-split',\n",
    "    'commercial tv' : 'commercial tv',    \n",
    "    'multi v' : 'multi v',    'monitor' : 'monitor',    'projector' : 'projector',\n",
    "    'centric' : 'pro:centric',    'cloud' : 'cloud device',    'ess' : 'ess',    'energy' : 'ess',    'robot' : 'robot',\n",
    "    'pc' : 'pc',    'tv' : 'tv',    'air' : 'single-split',    'ur640s' : 'standard signage',    'autre' : 'etc.',\n",
    "    '.bwz' : 'hospitality_tv',    'laec' : 'ledallinone',    'vm5' : 'video wall signage',    'vl5' : 'video wall signage',\n",
    "    'svh7' : 'video wall signage',    '28mq780' : 'ultrawide monitor',    'gsc' : 'outdoor_led',    'out_door' : 'outdoor_led',\n",
    "    'care solution' : 'signage care solution',\n",
    "    'system ac' : 'single-split', 'rac' : 'single-split','allinone_rmk' : 'others',\n",
    "    'magnit' : 'magnit display',    '49xf' : 'high brightness signage',    'stretch' : 'high brightness signage',    ' pol' : 'hospitality_tv',\n",
    "    'us660' : 'hospitality_tv',    'hoteleria' : 'hospitality_tv',    'single' : 'single-split',    'lsca' : 'indoor led',    'tc3d' : 'interactive digital board',\n",
    "    'uh' : 'standard signage',    'washing' : 'washer',    '110' : 'standard signage', 'etc' : 'others', 'accessories':'others',\n",
    "    }\n"
   ]
  },
  {
   "cell_type": "code",
   "execution_count": 12,
   "metadata": {},
   "outputs": [],
   "source": [
    "cate_num_dict = {\n",
    "    0 : 'commercial_display',    1 : 'hvac',    2 : 'it_products',    3 : 'commercial_laundry',   4 : 'robot',  5: 'others', -1 : 'non_serviced',\n",
    "}\n",
    "\n",
    "\n",
    "cate_dict  = {\n",
    "    'interactive digital board' : 0, 'vrf' : 1, 'multi-split' : 1, 'hospitality_tv' : 0,\n",
    "    'video wall signage': 0, 'led signage' : 0, 'single-split' : 1,\n",
    "    'oled signage' : 0, 'chiller' : 1, 'standard signage' : 0,\n",
    "    'medical display' : 2,    'one:quick' : 0,    'heating' : 1,    'high brightness signage' : 0,\n",
    "    'ventilation' : 0,    'control' : -1,    'aircare' : -1,    'software solution' : 0,\n",
    "    'special signage' : 0, 'webos' : 0,    'pc' : 2, 'projector' : 2, 'commercial display' : 0, 'outros' : 1,\n",
    "    'signage care solution' : 0,    'multi v' : 1, 'cloud device' : 2,\n",
    "    'laptop' : 2,    'a thermodynamic water heater' : 1,\n",
    "    'monitor' : 2,    'virtual production' :  0,    'ogrzewanie (pompy ciepła)' : 1,\n",
    "    'commercial tv' : 0,    'digital signage' : 0,    'ess': 1,    'ledallinone' : 0,    'ultrawide monitor' : 2,    'tv' : 0,\n",
    "    'washing machine' : 3,    'dryer' : 3,    'aircare' : -1,    'robots' : 4, 'robot': 4, 'error' : -1,\n",
    "    '' : -1,    'signage' : 0,    'transparent oled' : 0,    'ultra stretch' : 0, 'washer' : 3,\n",
    "    'outdoor_led' : 0,    'lcd signage' : 0,    'curvable_oled' : 0,    'indoor led' : 0, 'technical support':-1, 'services' :-1, \n",
    "    'magnit display' : 0,\n",
    "    'others' : 5,\n",
    "}\n",
    "\n",
    "subcate_dict = {\n",
    "    'interactive digital board' : 'digital_signage','standard signage' : 'digital_signage', 'one:quick' : 'digital_signage',     'special signage' : 'digital_signage',\n",
    "    'multi-split' : 'commercial_solutions', 'a thermodynamic water heater' : 'residential_solutions', 'heating': 'residential_solutions',  \n",
    "    'video wall signage' : 'digital_signage','high brightness signage' : 'digital_signage',\n",
    "    'led signage' : 'led_signage', 'indoor led' : 'led_signage',     'ledallinone' : 'led_signage', 'virtual production' : 'led_signage',\n",
    "    'vrf' : 'commercial_solutions',  'single-split' : 'commercial_solutions', 'multi v' : 'commercial_solutions', \n",
    "    'ventilation' : 'commercial_solutions', 'chiller' : 'commercial_solutions',\n",
    "    'oled signage' : 'oled_signage',\n",
    "    'medical display' : 'medical_display',   \n",
    "    'control' : 'non_serviced',\n",
    "    'software solution' : 'software', \n",
    "    'hospitality_tv' : 'commercial_tv', \n",
    "    'webos' : 'software',    'projector' : 'projector',\n",
    "    'outros' : 'residential_solutions',  \n",
    "    'signage care solution' : 'software',\n",
    "    'cloud device' : 'cloud_device',\n",
    "    'laptop' : 'laptop',\n",
    "    'washer' : 'washer',\n",
    "    'monitor' : 'monitor',\n",
    "    'commercial tv' : 'commercial_tv', 'tv' : 'commercial_tv',\n",
    "    'digital signage' : 'digital_signage',\n",
    "    'ess' : 'ess',\n",
    "    'ultrawide monitor' : 'monitor',\n",
    "    'washing machine' : 'washer',\n",
    "    'dryer' : 'dryer',  \n",
    "    'transparent oled' : 'oled_signage',\n",
    "    'ultra stretch' : 'digital_signage',   \n",
    "    'outdoor_led' : 'led_signage',\n",
    "    'lcd_signage' : 'digital_signage',   \n",
    "    'curvable_oled' : 'oled_sigange',  \n",
    "    'pc' : 'laptop',\n",
    "    'others' : 'others',\n",
    "    'robot' : 'robot',\n",
    "    'technical support' : 'technical support',\n",
    "    'services' : 'services',\n",
    "    'magnit display': 'led_signage'\n",
    "}\n",
    "\n",
    "subsubcate_dict = {\n",
    "    'interactive digital board' : 'interactive',    'video wall signage' : 'video_wall',\n",
    "    'led signage' : 'all', 'oled signage' : 'all',\n",
    "    'single-split' : 'single_split',    'chiller' : 'chiller',\n",
    "    'standard signage' : 'standard',    'one:quick' : 'one:quick',\n",
    "    'ventilation' : 'ventilation_solution(erv)',    'control' : 'non_serviced',\n",
    "    'software solution' : 'supersign_software',    'special signage' : 'special', 'projector' : 'all',\n",
    "    'hospitality_tv' : 'hospitality_tv', 'tv': 'all',\n",
    "    'webos' : 'webos','medical display' :'all',\n",
    "    'signage care solution' : 'signage_care_solution',  \n",
    "    'virtual production' : 'virtual_production',    'multi v' : 'vrf_system',\n",
    "    'vrf' : 'vrf_system',    'outros' : 'air_to_water_heat_pumps',\n",
    "    'laptop' : 'gram',    'ogrzewanie (pompy ciepła)' : 'air_to_water_heat_pumps',\n",
    "    'ledallinone' : 'all_in_one',    'ultrawide monitor' : 'ultrawide',\n",
    "    'heating': 'air_to_water_heat_pumps',    'a thermodynamic water heater' : 'water_heater',\n",
    "    'transparent oled' : 'transparent_oled',    'ultra stretch' : 'ultra_stretch',\n",
    "    'outdoor_led' : 'outdoor_led',    'lcd_signage' : 'lcd_signage',\n",
    "    'curvable_oled' : 'curvable_oled',    'high brightness signage' : 'high_brightness_signage',\n",
    "    'indoor led' : 'indoor_led', 'multi-split' : 'multi_split', 'monitor' : 'all', 'pc' : 'gram', 'others' : 'others', 'robot': 'robot', 'services': 'services',\n",
    "    'technical support' : 'technical support', 'magnit display' : 'indoor_led', 'cloud device' : 'all',\n",
    "}"
   ]
  },
  {
   "cell_type": "markdown",
   "metadata": {},
   "source": [
    "* interactive signage = interactive digitalborad\n",
    "* rac가 안보이니깐 일단 패스\n",
    "* accessories : 일일히 분해 필요.\n",
    "* technical support\t: 기술적 지원...? 그리고 services 비슷한 국가에서 행동,"
   ]
  },
  {
   "cell_type": "markdown",
   "metadata": {},
   "source": [
    "## 같은 Category의 경우 대체"
   ]
  },
  {
   "cell_type": "code",
   "execution_count": 13,
   "metadata": {},
   "outputs": [],
   "source": [
    "data = df_train[['product_category','product_subcategory', 'product_modelname','customer_interest']].copy()\n",
    "\n",
    "data[\"product_category\"] = data[\"product_category\"].replace(replacement_dict).str.replace(\"solar,\", \"\")\n",
    "\n",
    "data[\"mapped\"] = data[\"product_category\"].apply(\n",
    "lambda x: next((v for k, v in filter1.items() if k in x), x)\n",
    ")\n",
    "category_counts = data[\"mapped\"].value_counts()\n",
    "categories_to_replace = category_counts[category_counts < 6].index.tolist()  # 6개 미만 index 찾기\n",
    "data['mapped'] = data['mapped'].apply(lambda x: 'others' if x in categories_to_replace else x)\n",
    "data[\"category_1\"] = data[\"mapped\"].map(cate_dict)\n",
    "data[\"category_1\"] = data[\"category_1\"].map(cate_num_dict)\n",
    "data[\"category_2\"] = data[\"mapped\"].map(subcate_dict)\n",
    "data[\"category_3\"] = data[\"mapped\"].map(subsubcate_dict)\n",
    "\n",
    "# 8번 진행.\n",
    "cond8 = (data['customer_interest'] == 8)\n",
    "data.loc[cond8, ['category_1','category_2', 'category_3']] = data.loc[cond8, ['category_1', 'category_2', 'category_3']].fillna('Unknown')\n",
    "data[\"cate_is_nan_all\"] = (data[[\"category_1\", \"category_2\", \"category_3\"]].isna().any(axis=1)) | (data[[\"category_1\", \"category_2\", \"category_3\"]].apply(lambda row: 'all' in row.values, axis=1))\n",
    "# 7번 진행.\n",
    "cond7 = (data['customer_interest'] == 7)\n",
    "data.loc[cond7, ['category_1','category_2', 'category_3']] = data.loc[cond7, ['category_1', 'category_2', 'category_3']].fillna('all')\n",
    "data[\"cate_is_nan_all\"] = (data[[\"category_1\", \"category_2\", \"category_3\"]].isna().any(axis=1)) | (data[[\"category_1\", \"category_2\", \"category_3\"]].apply(lambda row: 'all' in row.values, axis=1))\n",
    "       "
   ]
  },
  {
   "cell_type": "code",
   "execution_count": 14,
   "metadata": {},
   "outputs": [
    {
     "data": {
      "text/plain": [
       "(8, 22, 28)"
      ]
     },
     "execution_count": 14,
     "metadata": {},
     "output_type": "execute_result"
    }
   ],
   "source": [
    "len(data['category_1'].value_counts()),len(data['category_2'].value_counts()),len(data['category_3'].value_counts())"
   ]
  },
  {
   "cell_type": "markdown",
   "metadata": {},
   "source": [
    "## 중간 전처리 "
   ]
  },
  {
   "cell_type": "markdown",
   "metadata": {},
   "source": [
    "* 1 : 3가지 정보 다 있는 경우\n",
    "* 2 : product_category만 없음.\n",
    "* 3 : product_subcategory 만 없음.\n",
    "* 4 : product_modelname만 없음.\n",
    "* 5 : product_modelname만 있음.\n",
    "* 6 : product_subcategory만 있음.\n",
    "* 7 : product_category만 있음.\n",
    "    * 완료\n",
    "    * 큰 범주니깐 모든게 가능하므로 all로 하기\n",
    "* 8 : 모두 없음. -> 모두 언노운 처리."
   ]
  },
  {
   "cell_type": "code",
   "execution_count": 50,
   "metadata": {},
   "outputs": [],
   "source": [
    "six_replace_dict = {\n",
    "    'category' : 'others',\n",
    "    '其他' : 'others',\n",
    "    'จอภาพเพื่อการวินิจฉัย' : 'diagnositc monitors',\n",
    "    'channel partner done fts details in system' :'others'\n",
    "}\n",
    "\n",
    "six_contain_dict = {\n",
    "    'set top box' : 'commercial_tv accessories',\n",
    "    'all monitors'\n",
    "    'all monitors' : 'all monitors',\n",
    "    'smart cam' : 'commercial_tv accessories',\n",
    "    'floor stand' : 'digital accessories',\n",
    "    'ops player' : 'digital accessories',\n",
    "    'webos box' : 'digital accessories',\n",
    "    'curvature calibrator' : 'oled accessories',\n",
    "    'all medical display' : 'all medical display',\n",
    "    'diagnostic' : 'diagnostic monitors',\n",
    "    'diagnostico': 'diagnostic monitors',\n",
    "    'clinical' : 'clinical review monitor',\n",
    "    'x-ray' : 'x_ray',\n",
    "    'probeam' : 'probeam projector',\n",
    "    'uhd signage' : 'standard_tv',\n",
    "    'zero client' : 'zero clients',\n",
    "    'cloud' : 'cloud devices',\n",
    "    'all projectors' : 'all projectors',\n",
    "    'transparent led' : 'transparent led',\n",
    "    'transparent' : 'transparent',\n",
    "    'indoor' : 'indoor led',\n",
    "    'outdoor' : 'outdoor led',\n",
    "    'stadium' : 'outdoor led',\n",
    "    'centric' : 'hospitality_tv',\n",
    "    'hospitality' : 'hospitality_tv',\n",
    "    'smart tv' : 'hospitality_tv',\n",
    "    'standard signage' : 'standard_tv',\n",
    "    'flat oled' : 'flat oled signage',\n",
    "    'wallpaper oled' : 'flat oled signage',\n",
    "    'curvable oled' : 'curvable oled signage',\n",
    "    'curvable ' : 'curvable oled signage',\n",
    "    'cinema' : 'miraclass led',\n",
    "    'miraclass' : 'miraclass led',\n",
    "    'all-in-one' : 'indoor led',\n",
    "    'compact' : 'indoor led',\n",
    "    'oled pro monitor' : 'oled display',\n",
    "    'oled pro' : 'oled display',\n",
    "    'brightness' : 'high brightness',\n",
    "    'window facing' : 'high brightness',\n",
    "    'thin client' : 'thin client',\n",
    "    'ultrafine display' : 'oled display',\n",
    "    'ultrafine monitor' : 'ultrafine',\n",
    "    'interactive' : 'interactive board',\n",
    "    'createboard' : 'interactive board',\n",
    "    'touch' : 'interactive board',\n",
    "    'open frame' : 'high brightness',\n",
    "    'ultra slim' : 'indoor led',\n",
    "    'ultra-slim' : 'indoor led',\n",
    "    'virtual production' : 'indoor led',\n",
    "    'curve' : 'curve led',\n",
    "    'curved' : 'curve led',\n",
    "    'uhd tv' : 'standard_tv',\n",
    "    'dxd' : 'x_ray',\n",
    "    'premium' : 'outdoor led',\n",
    "    'led bloc' : 'indoor led',\n",
    "    'video wall' : 'video_wall',\n",
    "    'video-wall' : 'video_wall',\n",
    "    'webos' : 'webos',\n",
    "    'ultra light' : 'outdoor led',\n",
    "    'ultra-light' : 'outdoor led',\n",
    "    'cinebeam' : 'cinebeam_projector',\n",
    "    'digital floor' : 'indoor led',\n",
    "    'flexible led' : 'indoor led',\n",
    "    'versatile' : 'outdoor led',\n",
    "    'eye-level' : 'outdoor led',\n",
    "    'eye level' : 'outdoor led',\n",
    "    'chirurgicaux' : 'surgical monitor',\n",
    "    'ergonomic' : 'ergonomic monitors',\n",
    "    'digital signage' : 'digital_signage',\n",
    "    'surgical' : 'surgical monitor',\n",
    "    'fine-pitch' : 'indoor led',\n",
    "    'fine pitch' : 'indoor led',\n",
    "    'magnit' : 'indoor led',\n",
    "    'one:quick' : 'one_quick',\n",
    "    'onequick' : 'one_quick',\n",
    "    'one-quick' : 'one_quick',\n",
    "    'uhd 4k monitor' : 'uhd 4k monitors',\n",
    "    'ips monitor' : 'ips monitors',\n",
    "    'cms' : 'cms',\n",
    "    'supersign' :'cms',\n",
    "    'laptop' : 'laptops',\n",
    "    'other' : 'others',\n",
    "    'etc' : 'others',\n",
    "    'essential' : 'standard_tv',\n",
    "    'floor' : 'indoor led',\n",
    "    '透明' : 'transparent',\n",
    "    'ทางคลินิก' : 'clinical review monitor',\n",
    "    'all monitors' : 'all monitors',\n",
    "    'lu640h' : 'standard_tv',\n",
    "    'lt340c' : 'standard_tv',\n",
    "    'se3ke' : 'standard_tv',\n",
    "    'uh7f' : 'standard_tv',\n",
    "    'sh7dd': 'standard_tv',\n",
    "    'ut640' : 'standard_tv',\n",
    "    'sm3g' : 'standard_tv',\n",
    "    'sm5ke' : 'standard_tv',\n",
    "    'uh5f-h' : 'indoor led',\n",
    "    'tr3bf' : 'interactive board',\n",
    "    'tr3dj' : 'interactive board',\n",
    "    'ul3g ' :'interactive board',\n",
    "    'tc3d' : 'interactive board',\n",
    "    'tr3bg' : 'interactive board',\n",
    "    'ta3e' : 'interactive board',\n",
    "    'vl5f' : 'video_wall',\n",
    "    'uh5f' : 'video_wall',\n",
    "    'svh7f' : 'video_wall',\n",
    "    'lv35a' : 'video_wall',\n",
    "    'ut660h' : 'hospitality_tv',\n",
    "    'lt660h' : 'hospitality_tv',\n",
    "    'hotel' : 'hospitality_tv',\n",
    "    'us660h' : 'hospitality_tv',\n",
    "    'lt340h' : 'hospitality_tv',\n",
    "    'us662h' : 'hospitality_tv',\n",
    "    'ut672m' : 'hospitality_tv',\n",
    "    'ultra stretch' : 'ultra_stretch',\n",
    "    'medical' : 'all medical display',\n",
    "    'monitor' : 'all monitors',\n",
    "}\n",
    "\n",
    "six_cate_dict = {\n",
    "    'all monitors': ['it_products', 'monitor', 'all'],\n",
    "    'commercial_tv accessories' : ['commercial_display','commercial_tv','accessories'],\n",
    "    'digital accessories' : ['commercial_display','digital_signage','accessories'],\n",
    "    'oled accessories' : ['commercial_display','oled_signage','curvable oled'],\n",
    "    'monitors for graphics applications & video editing' : ['it_products', 'monitor', 'all'],\n",
    "    'all medical display' : ['it_products', 'medical_display', 'all'],\n",
    "    'all monitors' : ['it_products', 'monitors', 'all'],\n",
    "    'digital_signage' : ['commercial_display','digital_signage','all'],\n",
    "    'diagnostic monitors' : ['it_products', 'medical_display', 'diganostic'],\n",
    "    'ergonomic monitors' : ['it_products', 'monitor', 'all'],\n",
    "    'monitors with usb-c connection' : ['it_products', 'monitor', 'all'],\n",
    "    'ips monitors' : ['it_products', 'monitor', 'ips'],\n",
    "    'ultrawide™ monitors' : ['it_products', 'monitor', 'ultrawide'],\n",
    "    'ultrafine' : ['it_products', 'monitor', 'ultrafine'],\n",
    "    'uhd 4k monitors' : ['it_products', 'monitor', 'uhd4k'],\n",
    "    'other' : ['others', 'others', 'others'],\n",
    "    'others' : ['others', 'others', 'others'],\n",
    "    'clinical review monitor' : ['it_products', 'medical_display', 'clinical_review'],\n",
    "    'surgical monitor' : ['it_products', 'medical_display', 'surgical'],\n",
    "    'laptops' : ['it_products', 'laptop', 'gram'],\n",
    "    'probeam projector' : ['it_products', 'projector', 'probeam_projector'],\n",
    "    'all projectors' : ['it_products', 'projector', 'all'],\n",
    "    'zero clients' : ['it_products', 'cloud_device', 'zero_clients'],\n",
    "    'cloud devices' : ['it_products', 'cloud_device', 'all'], \n",
    "    'transparent led' : ['commercial_display', 'led_signage', 'transparent_led_film'],\n",
    "    'transparent' : ['commercial_display', 'oled_sigange', 'transparent_oled'],\n",
    "    'hospitality_tv' : ['commercial_display','commercial_tv','hospitality_tv'],\n",
    "    'outdoor led' : ['commercial_display','led_signage','outdoor_led'],\n",
    "    'miraclass led' : ['commercial_display','led_signage','miraclass_led'],\n",
    "    'indoor led' :  ['commercial_display','led_signage','indoor_led'],\n",
    "    'oled display': ['commercial_display', 'oled_signage', 'oled_monitor'],\n",
    "    'magnit display' : ['commercial_display', 'led_signage', 'indoor_led'],\n",
    "    'high brightness' : ['commercial_display','digital_signage','high_brightness_signage'],\n",
    "    'thin client' : ['it_products','cloud_device','thin_client'],\n",
    "    'curvable oled signage' : ['commercial_display','oled_signage','curvable oled'],\n",
    "    'curve led' : ['commercial_display','led_signage','curved_led'],\n",
    "    'video_wall' : ['commercial_display','digital_signage','video_wall'],\n",
    "    'interactive board' : ['commercial_display', 'digital_signage', 'interactive'],\n",
    "    'cinebeam_projector' : ['it_products', 'projector', 'cinebeam_projector'],\n",
    "    'standard_tv': ['commercial_display', 'digital_signage', 'standard'],\n",
    "    'one_quick' : ['commercial_display', 'digital_signage', 'one:quick'],\n",
    "    'webos' : ['commercial_display', 'software', 'webos'],\n",
    "    'ultra_stretch' : ['commercial_display', 'digital_signage', 'ultra_stretch'],\n",
    "    'cms' : ['commercial_display', 'software', 'supersign_software'],\n",
    "    'x_ray': ['it_products', 'medical_display', 'x_ray'],\n",
    "    'flat oled signage' : ['commercial_display', 'oled_signage', 'flat'],\n",
    "    'thin_client' : ['it_products', 'cloud_device', 'thin_clients'],\n",
    "}\n",
    "def get_subcategory_dict(dictionary):\n",
    "    cate1_dict, cate2_dict, cate3_dict = {},{},{}\n",
    "    # mapping\n",
    "    for key, value in dictionary.items():\n",
    "        cate1_dict[key] = value[0]\n",
    "        cate2_dict[key] = value[1]\n",
    "        cate3_dict[key] = value[2]\n",
    "    return(cate1_dict, cate2_dict, cate3_dict)"
   ]
  },
  {
   "cell_type": "code",
   "execution_count": 51,
   "metadata": {},
   "outputs": [
    {
     "data": {
      "text/plain": [
       "False    56110\n",
       "True      3201\n",
       "Name: cate_is_nan_all, dtype: int64"
      ]
     },
     "execution_count": 51,
     "metadata": {},
     "output_type": "execute_result"
    }
   ],
   "source": [
    "cond4 = (((data['customer_interest'] == 1) | (data['customer_interest'] ==2) | (data['customer_interest'] == 4) | (data['customer_interest'] == 6)) & data['cate_is_nan_all'] == True)\n",
    "data.loc[cond4, \"mapped\"] = data.loc[cond4, \"product_subcategory\"].replace(six_replace_dict)\n",
    "data.loc[cond4, \"mapped\"] = data.loc[cond4, \"mapped\"].apply(\n",
    "    lambda x: next((v for k, v in six_contain_dict.items() if k in x), x)\n",
    ")\n",
    "sub_cate_dict, sub_subcate_dict, sub_subsubcate_dict = get_subcategory_dict(six_cate_dict)\n",
    "data.loc[cond4, \"category_1\"] = data.loc[cond4, \"mapped\"].map(sub_cate_dict)\n",
    "data.loc[cond4, \"category_2\"] = data.loc[cond4, \"mapped\"].map(sub_subcate_dict)\n",
    "data.loc[cond4, \"category_3\"] = data.loc[cond4, \"mapped\"].map(sub_subsubcate_dict)\n",
    "data[\"cate_is_nan_all\"] = (data[[\"category_1\", \"category_2\", \"category_3\"]].isna().any(axis=1)) | (data[[\"category_1\", \"category_2\", \"category_3\"]].apply(lambda row: 'all' in row.values, axis=1))\n",
    "data[\"cate_is_nan_all\"].value_counts()"
   ]
  },
  {
   "cell_type": "code",
   "execution_count": 52,
   "metadata": {},
   "outputs": [],
   "source": [
    "cond3 = (((data['customer_interest'] == 1) | (data['customer_interest'] == 2)| (data['customer_interest'] == 3) | (data['customer_interest'] == 5))& data[\"cate_is_nan_all\"])"
   ]
  },
  {
   "cell_type": "code",
   "execution_count": 53,
   "metadata": {},
   "outputs": [],
   "source": [
    "model_contain_dict = {\n",
    "    'un880' : 'ultrafine',\n",
    "    'bp95e' : 'ultrafine',\n",
    "    '28mq' : 'ips monitors',\n",
    "    '27bq' : 'ips monitors',\n",
    "    'all medical display' : 'all medical displays', \n",
    "    'surgical' : 'surgical monitor',\n",
    "    'diagnostic' : 'diagnostic monitors',\n",
    "    'x-ray' : 'x_ray',\n",
    "    'clinical' : 'clinical review monitor',\n",
    "    'ltak' : 'transparent led',\n",
    "    'lat' : 'transparent led',\n",
    "    '21hq513d' : 'diagnostic monitors',\n",
    "    '31hn713d' : 'diagnostic monitors',\n",
    "    '34wq' : 'ultrawide™ monitors',\n",
    "    'wn780' : 'ultrawide™ monitors',\n",
    "    '65ep5g' : 'oled display',\n",
    "    'lsa' : 'indoor led',\n",
    "    'laec' : 'indoor led',\n",
    "    'laeb' : 'indoor led',\n",
    "    'laa0' : 'indoor led',\n",
    "    'lscb' : 'indoor led',\n",
    "    'lsca' : 'indoor led',\n",
    "    'las0' : 'indoor led',\n",
    "    'lsb' : 'indoor led',\n",
    "    'lad033f' : 'miraclass led',    \n",
    "    'ef5' : 'curve led',\n",
    "    'gsca0' : 'outdoor led',\n",
    "    'eg5' : 'flat oled signage',\n",
    "    'ev5e' : 'flat oled signage',\n",
    "    'ej5' : 'flat oled signage',\n",
    "    'gscc' : 'outdoor led',\n",
    "    'gscd' : 'outdoor led',\n",
    "    'lbs' : 'outdoor led',\n",
    "    'sc-00da' : 'one_quick',\n",
    "    '55ct' : 'one_quick',\n",
    "    '43ht' : 'one_quick',\n",
    "    'ct5wj': 'one_quick',\n",
    "    'st-43hf' : 'digital accessories',\n",
    "    'lbs1' : 'outdoor led',\n",
    "    'stb' : 'commercial_tv accessories',\n",
    "    'lu640h' : 'standard_tv',\n",
    "    'lt340c' : 'standard_tv',\n",
    "    'se3ke' : 'standard_tv',\n",
    "    'uh7f' : 'standard_tv',\n",
    "    'sh7dd': 'standard_tv',\n",
    "    'ut640' : 'standard_tv',\n",
    "    'sm3g' : 'standard_tv',\n",
    "    'sm5ke' : 'standard_tv',\n",
    "    'uh5f-h' : 'indoor led',\n",
    "    'lfcg' : 'indoor led',\n",
    "    'lwbc' : 'indoor led',\n",
    "    'tr3bf' : 'interactive board',\n",
    "    'tr3dj' : 'interactive board',\n",
    "    'ul3g ' :'interactive board',\n",
    "    'tc3d' : 'interactive board',\n",
    "    'tr3bg' : 'interactive board',\n",
    "    'ta3e' : 'interactive board',\n",
    "    'vl5f' : 'video_wall',\n",
    "    'uh5f' : 'video_wall',\n",
    "    'svh7f' : 'video_wall',\n",
    "    'lv35a' : 'video_wall',\n",
    "    'ut660h' : 'hospitality_tv',\n",
    "    'lt660h' : 'hospitality_tv',\n",
    "    'hotel' : 'hospitality_tv',\n",
    "    'us660h' : 'hospitality_tv',\n",
    "    'lt340h' : 'hospitality_tv',\n",
    "    'us662h' : 'hospitality_tv',\n",
    "    'ut672m' : 'hospitality_tv',\n",
    "    'gmbd035' : 'outdoor led',\n",
    "    'architect' : 'others',\n",
    "    'ew5' : 'transparent',\n",
    "    'um5j' : 'standard_tv',\n",
    "    'lac0' : 'curve led',\n",
    "    'ops' : 'ops player',\n",
    "    'wp4' : 'webos box',\n",
    "    'qp88d' : 'ips monitors',\n",
    "    'cms' : 'cms',\n",
    "    '24cn670' : 'thin_client',\n",
    "    'ur series' : 'standard_tv',\n",
    "    'ur640' : 'standard_tv',\n",
    "    'un880' : 'ultrafine',\n",
    "    'uq850' : 'ultrafine',\n",
    "    'bp95' : 'ultrafine',\n",
    "    'hk312' : 'clinical',\n",
    "    'verticalbrochure' : 'others',\n",
    "    'ai/machine learning | antennas, transmitters and towers | audience measurement | cameras and lenses' : 'others',\n",
    "}\n"
   ]
  },
  {
   "cell_type": "code",
   "execution_count": 54,
   "metadata": {},
   "outputs": [],
   "source": [
    "cond3 = (((data['customer_interest'] == 1) | (data['customer_interest'] == 2)| (data['customer_interest'] == 3) | (data['customer_interest'] == 5))& data['cate_is_nan_all'] == True)\n",
    "data.loc[cond3, \"mapped\"] = data.loc[cond3, \"product_modelname\"].apply(\n",
    "    lambda x: next((v for k, v in model_contain_dict.items() if k in x), x)\n",
    ")\n",
    "data.loc[cond3, \"category_1\"] = data.loc[cond3, \"mapped\"].map(sub_cate_dict)\n",
    "data.loc[cond3, \"category_2\"] = data.loc[cond3, \"mapped\"].map(sub_subcate_dict)\n",
    "data.loc[cond3, \"category_3\"] = data.loc[cond3, \"mapped\"].map(sub_subsubcate_dict)"
   ]
  },
  {
   "cell_type": "code",
   "execution_count": 55,
   "metadata": {},
   "outputs": [],
   "source": [
    "data[\"cate_is_nan\"] = (data[[\"category_1\", \"category_2\", \"category_3\"]].isna().any(axis=1))"
   ]
  },
  {
   "cell_type": "code",
   "execution_count": 56,
   "metadata": {},
   "outputs": [],
   "source": [
    "cond1 = data[\"cate_is_nan\"] == True\n",
    "data[\"mapped\"] = data[\"product_category\"].apply(\n",
    "    lambda x: next((v for k, v in filter1.items() if k in x), x)\n",
    ")\n",
    "data.loc[cond1,[\"category_1\"]] = data.loc[cond1,\"mapped\"].map(cate_dict)\n",
    "data.loc[cond1,[\"category_1\"]]= data.loc[cond1,\"category_1\"].map(cate_num_dict)\n",
    "data.loc[cond1,[\"category_2\"]] = data.loc[cond1,\"mapped\"].map(subcate_dict)\n",
    "data.loc[cond1,[\"category_3\"]] = data.loc[cond1,\"mapped\"].map(subsubcate_dict)"
   ]
  },
  {
   "cell_type": "code",
   "execution_count": 57,
   "metadata": {},
   "outputs": [],
   "source": [
    "data[\"cate_is_nan\"] = (data[[\"category_1\", \"category_2\", \"category_3\"]].isna().any(axis=1))\n",
    "cond1 = data[\"cate_is_nan\"] == True"
   ]
  },
  {
   "cell_type": "code",
   "execution_count": 58,
   "metadata": {},
   "outputs": [],
   "source": [
    "data.loc[cond1, \"mapped\"] = data.loc[cond1, \"product_subcategory\"].replace(six_replace_dict)\n",
    "data.loc[cond1, \"mapped\"] = data.loc[cond1, \"mapped\"].apply(\n",
    "            lambda x: next((v for k, v in six_contain_dict.items() if k in x), x)\n",
    "        )\n",
    "sub_cate_dict, sub_subcate_dict, sub_subsubcate_dict = get_subcategory_dict(six_cate_dict)\n",
    "data.loc[cond1, \"category_1\"] = data.loc[cond1, \"mapped\"].map(sub_cate_dict)\n",
    "data.loc[cond1, \"category_2\"] = data.loc[cond1, \"mapped\"].map(sub_subcate_dict)\n",
    "data.loc[cond1, \"category_3\"] = data.loc[cond1, \"mapped\"].map(sub_subsubcate_dict)\n",
    "data[\"cate_is_nan\"] = (data[[\"category_1\", \"category_2\", \"category_3\"]].isna().any(axis=1))"
   ]
  },
  {
   "cell_type": "code",
   "execution_count": 59,
   "metadata": {},
   "outputs": [
    {
     "data": {
      "text/html": [
       "<div>\n",
       "<style scoped>\n",
       "    .dataframe tbody tr th:only-of-type {\n",
       "        vertical-align: middle;\n",
       "    }\n",
       "\n",
       "    .dataframe tbody tr th {\n",
       "        vertical-align: top;\n",
       "    }\n",
       "\n",
       "    .dataframe thead th {\n",
       "        text-align: right;\n",
       "    }\n",
       "</style>\n",
       "<table border=\"1\" class=\"dataframe\">\n",
       "  <thead>\n",
       "    <tr style=\"text-align: right;\">\n",
       "      <th></th>\n",
       "      <th>product_category</th>\n",
       "      <th>product_subcategory</th>\n",
       "      <th>product_modelname</th>\n",
       "      <th>category_1</th>\n",
       "      <th>category_2</th>\n",
       "      <th>category_3</th>\n",
       "    </tr>\n",
       "  </thead>\n",
       "  <tbody>\n",
       "  </tbody>\n",
       "</table>\n",
       "</div>"
      ],
      "text/plain": [
       "Empty DataFrame\n",
       "Columns: [product_category, product_subcategory, product_modelname, category_1, category_2, category_3]\n",
       "Index: []"
      ]
     },
     "execution_count": 59,
     "metadata": {},
     "output_type": "execute_result"
    }
   ],
   "source": [
    "data[data['cate_is_nan']][['product_category','product_subcategory', 'product_modelname', 'category_1', 'category_2', 'category_3']]"
   ]
  },
  {
   "cell_type": "code",
   "execution_count": 60,
   "metadata": {},
   "outputs": [],
   "source": [
    "from src.utils.manage_pkl_files import PickleManager as pkl_manager\n",
    "path1 = 'product_category'\n",
    "pkl_manager.save(path1, 'replacement_dict', replacement_dict)\n",
    "pkl_manager.save(path1, 'subcate_dict', subcate_dict)\n",
    "pkl_manager.save(path1, 'filter1', filter1)\n",
    "pkl_manager.save(path1, 'cate_dict', cate_dict)\n",
    "pkl_manager.save(path1, 'cate_num_dict', cate_num_dict)\n",
    "pkl_manager.save(path1, 'subsubcate_dict', subsubcate_dict)\n",
    "\n",
    "path2 = 'product_subcategory'\n",
    "pkl_manager.save(path2, 'six_replace_dict', six_replace_dict)\n",
    "pkl_manager.save(path2, 'six_contain_dict', six_contain_dict)\n",
    "pkl_manager.save(path2, 'six_cate_dict', six_cate_dict)\n",
    "pkl_manager.save(path2, 'model_contain_dict', model_contain_dict)\n"
   ]
  },
  {
   "cell_type": "code",
   "execution_count": null,
   "metadata": {},
   "outputs": [],
   "source": []
  },
  {
   "cell_type": "code",
   "execution_count": null,
   "metadata": {},
   "outputs": [],
   "source": []
  },
  {
   "cell_type": "code",
   "execution_count": null,
   "metadata": {},
   "outputs": [],
   "source": []
  }
 ],
 "metadata": {
  "kernelspec": {
   "display_name": "Python 3 (ipykernel)",
   "language": "python",
   "name": "python3"
  },
  "language_info": {
   "codemirror_mode": {
    "name": "ipython",
    "version": 3
   },
   "file_extension": ".py",
   "mimetype": "text/x-python",
   "name": "python",
   "nbconvert_exporter": "python",
   "pygments_lexer": "ipython3",
   "version": "3.11.8"
  }
 },
 "nbformat": 4,
 "nbformat_minor": 4
}

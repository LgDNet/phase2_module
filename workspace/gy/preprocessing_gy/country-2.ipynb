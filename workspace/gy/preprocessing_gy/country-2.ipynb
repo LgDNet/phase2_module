{
 "cells": [
  {
   "cell_type": "code",
   "execution_count": 201,
   "id": "7807a037-5686-4977-a9f8-97d6eda4e8d6",
   "metadata": {},
   "outputs": [],
   "source": [
    "import pandas as pd\n",
    "import pickle\n",
    "import re\n",
    "def set_up(mode= None):\n",
    "    pd.set_option('display.max_rows', mode)"
   ]
  },
  {
   "cell_type": "code",
   "execution_count": 202,
   "id": "075a4a1f-6c1f-4f48-8018-bfe28d001ba3",
   "metadata": {},
   "outputs": [],
   "source": [
    "set_up(60)"
   ]
  },
  {
   "cell_type": "code",
   "execution_count": 203,
   "id": "3bc61f40-2f22-4c36-a068-0435f3e7c3d5",
   "metadata": {},
   "outputs": [],
   "source": [
    "df = pd.read_csv(\"train.csv\")"
   ]
  },
  {
   "cell_type": "code",
   "execution_count": 204,
   "id": "1d6a5a5f-5fef-4ef9-aa7a-93812a910650",
   "metadata": {},
   "outputs": [],
   "source": [
    "gy = ['customer_country', 'response_corporate', 'lead_owner', 'customer_idx']"
   ]
  },
  {
   "cell_type": "code",
   "execution_count": 205,
   "id": "f46926ff-45d3-4743-968f-985148eac25a",
   "metadata": {},
   "outputs": [],
   "source": [
    "df  = df[gy]"
   ]
  },
  {
   "cell_type": "code",
   "execution_count": 206,
   "id": "3b9eaf32-f8d9-4eb4-9bad-6de41e94b064",
   "metadata": {},
   "outputs": [],
   "source": [
    "with open('response_corporate.pickle','rb') as f:\n",
    "    countrys = pickle.load(f)"
   ]
  },
  {
   "cell_type": "code",
   "execution_count": 207,
   "id": "d80a38bf-11f7-4e82-b892-bd83aae2e3f8",
   "metadata": {},
   "outputs": [],
   "source": [
    "df['response_corporate2'] = df['response_corporate'].map(countrys)"
   ]
  },
  {
   "cell_type": "code",
   "execution_count": 208,
   "id": "340d0ecf-3971-4f9b-a2ec-a192e6bc785f",
   "metadata": {},
   "outputs": [],
   "source": [
    "df['customer_country'] = df['customer_country'].str.lower().str.strip()\n",
    "df['response_corporate2'] = df['response_corporate2'].str.lower().str.strip()"
   ]
  },
  {
   "cell_type": "code",
   "execution_count": 209,
   "id": "40fddade-670f-4b54-95f6-ea7b7640933f",
   "metadata": {},
   "outputs": [],
   "source": [
    "# 정규표현식으로 나라만 거르기\n",
    "df.loc[:,\"country\"] = df[\"customer_country\"].str.extract(r'/([^/]+)$')[0]\n",
    "df['country'] = df['country'].str.strip()"
   ]
  },
  {
   "cell_type": "code",
   "execution_count": 210,
   "id": "aa9aea18-9869-4065-a7ba-c2162b30481f",
   "metadata": {
    "scrolled": true
   },
   "outputs": [],
   "source": [
    "# country를 기준으로 채움\n",
    "country_val = df['country'].values\n",
    "country_unique = df['response_corporate2'].unique()\n",
    "\n",
    "for idx, country in enumerate(country_val):\n",
    "    if country not in country_unique: # 전처리 된 컬럼의 요소가 정해진 나라 범주에 없으면\n",
    "        df.loc[idx,'country'] = df.loc[idx,'response_corporate2'] # 해당 나라 범주로 채움"
   ]
  },
  {
   "cell_type": "code",
   "execution_count": 211,
   "id": "e9e7fd4d-7d6c-49b1-a7aa-3cef764436c0",
   "metadata": {},
   "outputs": [],
   "source": [
    "with open('country_continent.pickle','rb') as f:\n",
    "    continent = pickle.load(f)"
   ]
  },
  {
   "cell_type": "code",
   "execution_count": 212,
   "id": "e1bd0e87-0c6a-4f4a-8a6a-082c78dde285",
   "metadata": {},
   "outputs": [],
   "source": [
    "df['continent'] = df['country'].map(continent)"
   ]
  },
  {
   "cell_type": "code",
   "execution_count": 215,
   "id": "365e1916-07ec-4fb9-adac-b13906173202",
   "metadata": {
    "scrolled": true
   },
   "outputs": [
    {
     "data": {
      "text/plain": [
       "country\n",
       "india                           16947\n",
       "brazil                           9315\n",
       "united states                    5928\n",
       "mexico                           2759\n",
       "philippines                      2659\n",
       "u.a.e                            2431\n",
       "colombia                         2076\n",
       "united kingdom                   1673\n",
       "saudi arabia                     1481\n",
       "chile                            1337\n",
       "panama                           1267\n",
       "italy                            1172\n",
       "peru                             1138\n",
       "germany                          1064\n",
       "poland                            846\n",
       "egypt                             710\n",
       "vietnam                           615\n",
       "spain                             585\n",
       "turkey                            547\n",
       "argentina                         507\n",
       "china                             451\n",
       "australia                         378\n",
       "singapore                         373\n",
       "hungary                           360\n",
       "france                            324\n",
       "canada                            288\n",
       "indonesia                         282\n",
       "jordan                            263\n",
       "the republic of south africa      262\n",
       "thailand                          188\n",
       "kenya                             161\n",
       "korea                             133\n",
       "portugal                          125\n",
       "malaysia                          113\n",
       "netherlands                       100\n",
       "israel                             95\n",
       "greece                             52\n",
       "taiwan                             50\n",
       "japan                              43\n",
       "morocco                            34\n",
       "algeria                            33\n",
       "sweden                             33\n",
       "romania                            31\n",
       "russia                             17\n",
       "iran                               14\n",
       "north europe                       12\n",
       "austria                            11\n",
       "latvia                              7\n",
       "czech republic                      7\n",
       "ukraine                             2\n",
       "Name: count, dtype: int64"
      ]
     },
     "execution_count": 215,
     "metadata": {},
     "output_type": "execute_result"
    }
   ],
   "source": [
    "df['country'].value_counts()"
   ]
  },
  {
   "cell_type": "code",
   "execution_count": null,
   "id": "3ab65fff-969a-4a85-aa61-0141e227802e",
   "metadata": {},
   "outputs": [],
   "source": []
  }
 ],
 "metadata": {
  "kernelspec": {
   "display_name": "Python 3 (ipykernel)",
   "language": "python",
   "name": "python3"
  },
  "language_info": {
   "codemirror_mode": {
    "name": "ipython",
    "version": 3
   },
   "file_extension": ".py",
   "mimetype": "text/x-python",
   "name": "python",
   "nbconvert_exporter": "python",
   "pygments_lexer": "ipython3",
   "version": "3.11.5"
  }
 },
 "nbformat": 4,
 "nbformat_minor": 5
}

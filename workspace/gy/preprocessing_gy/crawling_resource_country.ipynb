{
 "cells": [
  {
   "cell_type": "code",
   "execution_count": 71,
   "id": "8922e1c3-b12e-4340-9a2e-8931e9146f14",
   "metadata": {},
   "outputs": [],
   "source": [
    "import requests\n",
    "from bs4 import BeautifulSoup\n",
    "import pickle"
   ]
  },
  {
   "cell_type": "code",
   "execution_count": 72,
   "id": "1efd0bf4-d939-4ffa-9afb-280b518df694",
   "metadata": {},
   "outputs": [],
   "source": [
    "req = requests.get(\"https://www.lge.co.kr/company/info/overseas\")"
   ]
  },
  {
   "cell_type": "code",
   "execution_count": 73,
   "id": "2e109293-4f28-4dc2-abd3-e31d190806ec",
   "metadata": {},
   "outputs": [],
   "source": [
    "soup = BeautifulSoup(req.text,'html.parser')"
   ]
  },
  {
   "cell_type": "code",
   "execution_count": 74,
   "id": "600ca6fe-3887-4089-8091-5fc2b7bce714",
   "metadata": {},
   "outputs": [],
   "source": [
    "result = {}\n",
    "real = {}\n",
    "cont = {}\n",
    "continents = soup.select(\".tooltip-wrap\")[1:]\n",
    "for continent in continents:\n",
    "    toolbox = continent.select(\".tooltip-box\")[0]\n",
    "    continent_name = toolbox.select(\".tit\")[0].get_text()\n",
    "    country_list = toolbox.select(\".country-list\")[0]\n",
    "    country_list = country_list.find_all('li')\n",
    "\n",
    "    result[continent_name] = []\n",
    "    new_dic = {}\n",
    "    \n",
    "    for country in country_list:\n",
    "        country_name = country.select('.country')[0].get_text()\n",
    "        country_business = country.select('a')[0].get_text()\n",
    "        business_list = country_business.split(',')\n",
    "        business_list = list(map(lambda x: x.strip(), business_list))\n",
    "        new_dic[country_name] = business_list#.lower()\n",
    "        cont[country_name.lower()] = continent_name.lower()\n",
    "        #pandas mapping을 위하여\n",
    "        for name in business_list:\n",
    "            real[name] = country_name\n",
    "    result[continent_name].append(new_dic)"
   ]
  },
  {
   "cell_type": "markdown",
   "id": "9c7e3ccd-d00a-4aa6-8e9f-858bee4a2522",
   "metadata": {},
   "source": [
    "### country_continent에 없는 나라 추가"
   ]
  },
  {
   "cell_type": "code",
   "execution_count": 75,
   "id": "616efb4b-27cc-418e-8f44-d18728da0e70",
   "metadata": {},
   "outputs": [],
   "source": [
    "new_continent ={\"Saudi Arabia\": 'middle east & africa',\n",
    "\"Vietnam\": 'asia & pacific',\n",
    "\"Brazil\": 'latin america',\n",
    "\"Argentina\": 'latin america',\n",
    "\"Sweden \": 'europe',\n",
    "\"Kenya\": 'middle east & africa',\n",
    "\"Israel\": 'middle east & africa',\n",
    "\"Iran \": 'middle east & africa',\n",
    "\"Portugal\": 'europe',\n",
    "\"Latvia\": 'russia & cis',\n",
    "\"Korea\": 'asia & pacific',\n",
    "\"North Europe\": 'europe'}"
   ]
  },
  {
   "cell_type": "code",
   "execution_count": 76,
   "id": "5b7e715a-ab24-44a6-a5a8-818b2fdb10a2",
   "metadata": {},
   "outputs": [],
   "source": [
    "for i,j in new_continent.items():\n",
    "    i = i.strip()\n",
    "    cont[i.lower()] = j "
   ]
  },
  {
   "cell_type": "code",
   "execution_count": 77,
   "id": "15eeaa2c-df84-4bab-ab27-fdc4520d14d3",
   "metadata": {},
   "outputs": [],
   "source": [
    "with open(\"country_continent.pickle\", \"wb\") as f:\n",
    "    pickle.dump(cont, f)"
   ]
  },
  {
   "cell_type": "markdown",
   "id": "8f7fcf87-26bd-4be8-8f56-a7080f4e69a8",
   "metadata": {},
   "source": [
    "### response_corporate에 없는 나라 추가"
   ]
  },
  {
   "cell_type": "code",
   "execution_count": 68,
   "id": "566a3957-ef0f-4380-9c02-8bbe81d51cc2",
   "metadata": {},
   "outputs": [],
   "source": [
    "new_area ={\"LGESJ\": \"Saudi Arabia\",\n",
    "\"LGEVH\": \"Vietnam\",\n",
    "\"LGESP\": \"Brazil\",\n",
    "\"LGEAR\": \"Argentina\",\n",
    "\"LGESW\": \"Sweden \",\n",
    "\"LGEEF\": \"Kenya\",\n",
    "\"LGEYK\": \"Israel\",\n",
    "\"LGEIR\": \"Iran \",\n",
    "\"LGEBT\": \"Portugal\",\n",
    "\"LGELA\": \"Latvia\",\n",
    "\"LGEKR\": \"Korea\",\n",
    "\"LGEEB\": \"North Europe\"}"
   ]
  },
  {
   "cell_type": "code",
   "execution_count": 69,
   "id": "75e43b9a-c345-4cb3-8277-cdda21d69970",
   "metadata": {},
   "outputs": [],
   "source": [
    "for i,j in new_area.items():\n",
    "    real[i] = j "
   ]
  },
  {
   "cell_type": "code",
   "execution_count": 70,
   "id": "af4fbd81-dac2-43a6-b832-d73f193557ca",
   "metadata": {},
   "outputs": [],
   "source": [
    "import pickle\n",
    "with open('response_corporate.pickle','wb') as f:\n",
    "    pickle.dump(real, f)\n",
    "    # res = pickle.load(f)"
   ]
  },
  {
   "cell_type": "code",
   "execution_count": null,
   "id": "1707fd0d-1ac8-4a64-836d-19418d2b550e",
   "metadata": {},
   "outputs": [],
   "source": []
  }
 ],
 "metadata": {
  "kernelspec": {
   "display_name": "Python 3 (ipykernel)",
   "language": "python",
   "name": "python3"
  },
  "language_info": {
   "codemirror_mode": {
    "name": "ipython",
    "version": 3
   },
   "file_extension": ".py",
   "mimetype": "text/x-python",
   "name": "python",
   "nbconvert_exporter": "python",
   "pygments_lexer": "ipython3",
   "version": "3.11.5"
  }
 },
 "nbformat": 4,
 "nbformat_minor": 5
}

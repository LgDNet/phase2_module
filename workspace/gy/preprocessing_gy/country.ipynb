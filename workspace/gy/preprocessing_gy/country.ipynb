{
 "cells": [
  {
   "cell_type": "markdown",
   "id": "7b587170-429c-4fed-bb67-f964fdfe875d",
   "metadata": {},
   "source": [
    "# Country preprocessing\n",
    "Goal: 대륙 | 나라 | 도시 피쳐 생성 (기준: 해당 요청 고객?의 회사 지역?)\n",
    "\n",
    "---\n",
    "### 나라 피쳐\n",
    "1. response_corporate 나라 매핑\n",
    "   - LGEKR -> 'Korea'\n",
    "#### 방안 1.\n",
    "2-1. customer_country의 뒤 / 까지를 나라로 하자.\n",
    "\n",
    "2-2. cusomer_country의 nan값을 response_corporate의 값으로 채우자.\n",
    "#### 방안 2.\n",
    "2-3. response_corporate 그 자체를 사용"
   ]
  },
  {
   "cell_type": "markdown",
   "id": "17a49104-ff65-486e-85a8-f5088676ad34",
   "metadata": {},
   "source": [
    "### 1. 나라 피쳐"
   ]
  },
  {
   "cell_type": "code",
   "execution_count": 3,
   "id": "55746e80-2c6a-4667-9865-a0d0a9f8523a",
   "metadata": {},
   "outputs": [
    {
     "name": "stdout",
     "output_type": "stream",
     "text": [
      "/Users/goodyoung/Desktop/GIt/LG_Aimers/phase2_module/preprocessing_gy\n"
     ]
    },
    {
     "name": "stderr",
     "output_type": "stream",
     "text": [
      "/Users/goodyoung/Desktop/GIt/LG_Aimers/.env/lib/python3.11/site-packages/IPython/core/magics/osm.py:417: UserWarning: using dhist requires you to install the `pickleshare` library.\n",
      "  self.shell.db['dhist'] = compress_dhist(dhist)[-100:]\n"
     ]
    }
   ],
   "source": [
    "%cd preprocessing_gy"
   ]
  },
  {
   "cell_type": "code",
   "execution_count": 13,
   "id": "53688de3-7838-4dbf-a540-3958d0344763",
   "metadata": {},
   "outputs": [],
   "source": [
    "import pandas as pd\n",
    "import pickle\n",
    "import re\n",
    "def set_up(mode= None):\n",
    "    pd.set_option('display.max_rows', mode)"
   ]
  },
  {
   "cell_type": "code",
   "execution_count": 14,
   "id": "7b23bf4d-d166-46fa-8b4c-fe2794bf90ba",
   "metadata": {},
   "outputs": [],
   "source": [
    "df = pd.read_csv(\"train.csv\")"
   ]
  },
  {
   "cell_type": "code",
   "execution_count": 15,
   "id": "f612d64e-c69c-4ebd-b14b-a2279a4f92c0",
   "metadata": {},
   "outputs": [],
   "source": [
    "gy = ['customer_country', 'response_corporate', 'lead_owner', 'customer_idx']"
   ]
  },
  {
   "cell_type": "code",
   "execution_count": 16,
   "id": "042128c1-7802-4c02-b8bb-2b93631f9815",
   "metadata": {},
   "outputs": [],
   "source": [
    "df  = df[gy]"
   ]
  },
  {
   "cell_type": "code",
   "execution_count": 17,
   "id": "407ed4b5-c370-442c-9aaf-096b3b5b5900",
   "metadata": {},
   "outputs": [],
   "source": [
    "with open('response_corporate.pkl','rb') as f:\n",
    "    res = pickle.load(f)"
   ]
  },
  {
   "cell_type": "code",
   "execution_count": 18,
   "id": "66a8ad2e-5a69-416a-81a2-375a50bc0ee8",
   "metadata": {},
   "outputs": [],
   "source": [
    "df['response_corporate2'] = df['response_corporate'].map(res)"
   ]
  },
  {
   "cell_type": "code",
   "execution_count": 19,
   "id": "98a19bea-23a2-49ea-9702-717bca75fb80",
   "metadata": {},
   "outputs": [],
   "source": [
    "df['customer_country'] = df['customer_country'].str.lower().str.strip()\n",
    "df['response_corporate2'] = df['response_corporate2'].str.lower().str.strip()"
   ]
  },
  {
   "cell_type": "markdown",
   "id": "3f079d27-b9c7-4aa2-81fa-6f188f233270",
   "metadata": {},
   "source": [
    "### 2-1."
   ]
  },
  {
   "cell_type": "code",
   "execution_count": 20,
   "id": "edf96aa2-f76f-4e42-bf0a-09f46b3a5c60",
   "metadata": {},
   "outputs": [],
   "source": [
    "# 정규표현식으로 나라만 거르기\n",
    "df.loc[:,\"country\"] = df[\"customer_country\"].str.extract(r'/([^/]+)$')[0]\n",
    "df['country'] = df['country'].str.strip()"
   ]
  },
  {
   "cell_type": "code",
   "execution_count": 21,
   "id": "cfedf392-f1d4-4e2b-85dd-bc3a56edf4dc",
   "metadata": {},
   "outputs": [],
   "source": [
    "#숫자 포함 -> none으로 변경 및 결측치 채우기\n",
    "df['country'] = df['country'].apply(lambda x: 'none' if re.search(r'\\d', str(x)) else x)\n",
    "df['country'].fillna('none',axis = 0, inplace = True)"
   ]
  },
  {
   "cell_type": "code",
   "execution_count": 22,
   "id": "46d0b9f6-8799-4daa-bb68-4e4f020c4a48",
   "metadata": {
    "jupyter": {
     "source_hidden": true
    }
   },
   "outputs": [],
   "source": [
    "# 비교 할 때 사용한 코드\n",
    "# df['test2'] = df['customer_country'].str.split('/').str[-1]\n",
    "# df['test2'] = df['test2'].apply(lambda x: 'none' if re.search(r'\\d', str(x)) else x)\n",
    "# v = df['test1'].value_counts()\n",
    "# n = df['test2'].value_counts()\n",
    "# print(len(v),len(n))\n",
    "# 두개의 검증 코드\n",
    "# v_, n_ = list(v.index), list(n.index)\n",
    "# for i in n_:\n",
    "#     if i not in v_:\n",
    "#         print('n_',i)\n",
    "#     else:\n",
    "#         v_.remove(i)\n",
    "# for j in v_:\n",
    "#     print('v_',j)\n",
    "# 지금까지로는 정규표현식이 더 많이 압축이 되고, 압축된 데이터도 더 일반화적이라서 정규 표현식을 사용하도록 함"
   ]
  },
  {
   "cell_type": "code",
   "execution_count": 23,
   "id": "7d72a40a-9f41-47ca-b7fe-53afc2926d18",
   "metadata": {},
   "outputs": [],
   "source": [
    "area = {'anguilla':'united kingdom',\n",
    "'br':'none',\n",
    "'a':'none',\n",
    "'nd':'none',\n",
    "'ny':'none',\n",
    "'rj':'none',\n",
    "'us':'united states',\n",
    "'ca':'none',\n",
    "'kerela':'india',\n",
    "'pune':'india',\n",
    "'colombia - cartagena':'colombia',\n",
    "'country':'none'}\n",
    "# none 값"
   ]
  },
  {
   "cell_type": "code",
   "execution_count": 24,
   "id": "47a0dc07-a1fa-484e-bd50-1e01194a33b1",
   "metadata": {},
   "outputs": [],
   "source": [
    "for i,j in area.items():\n",
    "    idx = df[df['country']==i].index\n",
    "    if len(idx):\n",
    "        df.loc[idx,'country'] = j"
   ]
  },
  {
   "cell_type": "markdown",
   "id": "6c4b0456-82e2-4446-ba1e-2561b985528a",
   "metadata": {},
   "source": [
    "### 2-2."
   ]
  },
  {
   "cell_type": "code",
   "execution_count": 26,
   "id": "f4a8b33a-594f-499e-8c1c-27aace386ec5",
   "metadata": {},
   "outputs": [],
   "source": [
    "# none 결측치 채우기\n",
    "cond = df['country'] =='none'\n",
    "df.loc[cond,'country'] = df[cond]['response_corporate2']"
   ]
  },
  {
   "cell_type": "code",
   "execution_count": 27,
   "id": "93832b97-d42e-4eac-b194-0c28a4791eb4",
   "metadata": {},
   "outputs": [
    {
     "data": {
      "text/plain": [
       "country\n",
       "india                 16931\n",
       "brazil                 9315\n",
       "united states          5918\n",
       "mexico                 2759\n",
       "philippines            2654\n",
       "                      ...  \n",
       "swaziland                 1\n",
       "lucknow                   1\n",
       "gurgaon                   1\n",
       "ohio united states        1\n",
       "chennai                   1\n",
       "Name: count, Length: 195, dtype: int64"
      ]
     },
     "execution_count": 27,
     "metadata": {},
     "output_type": "execute_result"
    }
   ],
   "source": [
    "df['country'].value_counts()"
   ]
  },
  {
   "cell_type": "markdown",
   "id": "59344354-d8ea-4b16-9b61-a2ad9135a3cf",
   "metadata": {},
   "source": [
    "---\n",
    "### 도시 피쳐\n",
    "#### 방안 1.\n",
    "3-1. customer_country의 맨 뒤에서 / 앞자리를 도시로 하자.\n",
    "#### 방안 2.\n",
    "3-2. 나라 피쳐로 나온 것 에서 customer_country에서 그 값을 제외 시키면 도시가 나올 것 이다."
   ]
  },
  {
   "cell_type": "markdown",
   "id": "60725032-cdb4-4440-ae3e-1f93083f581e",
   "metadata": {},
   "source": [
    "### 3-1."
   ]
  },
  {
   "cell_type": "code",
   "execution_count": 28,
   "id": "5986ff47-a87c-4e51-a330-e6664c9999d2",
   "metadata": {},
   "outputs": [],
   "source": [
    "df['city'] = df['customer_country'].str.split('/').str[-2]"
   ]
  },
  {
   "cell_type": "code",
   "execution_count": 29,
   "id": "f70ef2a1-68af-482f-a3e3-3e6f06e4868b",
   "metadata": {
    "scrolled": true
   },
   "outputs": [
    {
     "data": {
      "text/plain": [
       "city\n",
       "                       15155\n",
       "são paulo               1553\n",
       "mumbai                   709\n",
       "lima                     625\n",
       "hyderabad                581\n",
       "                       ...  \n",
       "thrithallore               1\n",
       "khanna                     1\n",
       "hagonoy                    1\n",
       "antique philippines        1\n",
       "pisco                      1\n",
       "Name: count, Length: 10260, dtype: int64"
      ]
     },
     "execution_count": 29,
     "metadata": {},
     "output_type": "execute_result"
    }
   ],
   "source": [
    "df['city'].value_counts()"
   ]
  },
  {
   "cell_type": "code",
   "execution_count": 30,
   "id": "3adc98b6-f9c3-448d-a645-01e6c76664c9",
   "metadata": {},
   "outputs": [],
   "source": [
    "cond = df['city'] ==''\n",
    "df.loc[cond,'city'] = 'others'"
   ]
  },
  {
   "cell_type": "code",
   "execution_count": 31,
   "id": "78a0b570-ef67-4cdb-bd16-e33eb5670ebd",
   "metadata": {},
   "outputs": [],
   "source": [
    "df['city'].fillna('others',axis = 0, inplace = True)"
   ]
  },
  {
   "cell_type": "code",
   "execution_count": 32,
   "id": "f7ab179d-33d2-42dc-a2db-3e7c7a8cc163",
   "metadata": {
    "scrolled": true
   },
   "outputs": [
    {
     "data": {
      "text/plain": [
       "city\n",
       "others                 17340\n",
       "são paulo               1553\n",
       "mumbai                   709\n",
       "lima                     625\n",
       "hyderabad                581\n",
       "                       ...  \n",
       "thrithallore               1\n",
       "khanna                     1\n",
       "hagonoy                    1\n",
       "antique philippines        1\n",
       "pisco                      1\n",
       "Name: count, Length: 10259, dtype: int64"
      ]
     },
     "execution_count": 32,
     "metadata": {},
     "output_type": "execute_result"
    }
   ],
   "source": [
    "df['city'].value_counts()"
   ]
  },
  {
   "cell_type": "code",
   "execution_count": null,
   "id": "4d9d9343-8337-45a4-92ad-9ab5d7447c77",
   "metadata": {},
   "outputs": [],
   "source": []
  },
  {
   "cell_type": "markdown",
   "id": "dadd4321-7065-4f3c-82ac-3229b49dedb4",
   "metadata": {},
   "source": [
    "---\n",
    "### 대륙 피쳐\n",
    "4-1. 나라 피쳐로부터 대륙 매핑.\n",
    "\n",
    "    - train은 최대한 채우고 test데이터에서 없는 값들은 other?로 처리?"
   ]
  },
  {
   "cell_type": "code",
   "execution_count": 33,
   "id": "ed51e4c3-443d-4638-889b-c1485a9f22f4",
   "metadata": {},
   "outputs": [
    {
     "data": {
      "text/plain": [
       "0        philippines\n",
       "1        philippines\n",
       "2              india\n",
       "3              india\n",
       "4              india\n",
       "            ...     \n",
       "59294         poland\n",
       "59295       colombia\n",
       "59296           peru\n",
       "59297           peru\n",
       "59298         france\n",
       "Name: country, Length: 59299, dtype: object"
      ]
     },
     "execution_count": 33,
     "metadata": {},
     "output_type": "execute_result"
    }
   ],
   "source": [
    "df['country']"
   ]
  },
  {
   "cell_type": "code",
   "execution_count": 34,
   "id": "6d11a9cd-315e-4a27-a000-3a7e2f870b73",
   "metadata": {},
   "outputs": [],
   "source": [
    "with open('country_continent.pkl','rb') as f:\n",
    "    cont = pickle.load(f)"
   ]
  },
  {
   "cell_type": "code",
   "execution_count": 35,
   "id": "38f842b6-6cf6-4c4b-9f15-6e04b8c3abd8",
   "metadata": {},
   "outputs": [],
   "source": [
    "for i,j in enumerate(df['country']):\n",
    "    if j in cont.keys():\n",
    "        df.loc[i,'continent'] = cont[j]\n",
    "    else:\n",
    "        df.loc[i,'continent'] = 'other'"
   ]
  },
  {
   "cell_type": "code",
   "execution_count": 36,
   "id": "61687b34-73af-426a-87e7-efdbde30068f",
   "metadata": {},
   "outputs": [
    {
     "data": {
      "text/plain": [
       "continent\n",
       "asia & pacific          21526\n",
       "latin america           14626\n",
       "north america            8965\n",
       "europe                   6019\n",
       "middle east & africa     4564\n",
       "other                    3569\n",
       "russia & cis               30\n",
       "Name: count, dtype: int64"
      ]
     },
     "execution_count": 36,
     "metadata": {},
     "output_type": "execute_result"
    }
   ],
   "source": [
    "df['continent'].value_counts()"
   ]
  },
  {
   "cell_type": "code",
   "execution_count": 37,
   "id": "04d30acd-5520-4462-93d0-a4d32fd64e6c",
   "metadata": {},
   "outputs": [
    {
     "data": {
      "text/html": [
       "<div>\n",
       "<style scoped>\n",
       "    .dataframe tbody tr th:only-of-type {\n",
       "        vertical-align: middle;\n",
       "    }\n",
       "\n",
       "    .dataframe tbody tr th {\n",
       "        vertical-align: top;\n",
       "    }\n",
       "\n",
       "    .dataframe thead th {\n",
       "        text-align: right;\n",
       "    }\n",
       "</style>\n",
       "<table border=\"1\" class=\"dataframe\">\n",
       "  <thead>\n",
       "    <tr style=\"text-align: right;\">\n",
       "      <th></th>\n",
       "      <th>customer_country</th>\n",
       "      <th>response_corporate</th>\n",
       "      <th>lead_owner</th>\n",
       "      <th>customer_idx</th>\n",
       "      <th>response_corporate2</th>\n",
       "      <th>country</th>\n",
       "      <th>city</th>\n",
       "      <th>continent</th>\n",
       "    </tr>\n",
       "  </thead>\n",
       "  <tbody>\n",
       "    <tr>\n",
       "      <th>0</th>\n",
       "      <td>/quezon city/philippines</td>\n",
       "      <td>LGEPH</td>\n",
       "      <td>0</td>\n",
       "      <td>32160</td>\n",
       "      <td>philippines</td>\n",
       "      <td>philippines</td>\n",
       "      <td>quezon city</td>\n",
       "      <td>asia &amp; pacific</td>\n",
       "    </tr>\n",
       "    <tr>\n",
       "      <th>1</th>\n",
       "      <td>/ph-00/philippines</td>\n",
       "      <td>LGEPH</td>\n",
       "      <td>1</td>\n",
       "      <td>23122</td>\n",
       "      <td>philippines</td>\n",
       "      <td>philippines</td>\n",
       "      <td>ph-00</td>\n",
       "      <td>asia &amp; pacific</td>\n",
       "    </tr>\n",
       "    <tr>\n",
       "      <th>2</th>\n",
       "      <td>/kolkata /india</td>\n",
       "      <td>LGEIL</td>\n",
       "      <td>2</td>\n",
       "      <td>1755</td>\n",
       "      <td>india</td>\n",
       "      <td>india</td>\n",
       "      <td>kolkata</td>\n",
       "      <td>asia &amp; pacific</td>\n",
       "    </tr>\n",
       "    <tr>\n",
       "      <th>3</th>\n",
       "      <td>/bhubaneswar/india</td>\n",
       "      <td>LGEIL</td>\n",
       "      <td>3</td>\n",
       "      <td>4919</td>\n",
       "      <td>india</td>\n",
       "      <td>india</td>\n",
       "      <td>bhubaneswar</td>\n",
       "      <td>asia &amp; pacific</td>\n",
       "    </tr>\n",
       "    <tr>\n",
       "      <th>4</th>\n",
       "      <td>/hyderabad/india</td>\n",
       "      <td>LGEIL</td>\n",
       "      <td>4</td>\n",
       "      <td>17126</td>\n",
       "      <td>india</td>\n",
       "      <td>india</td>\n",
       "      <td>hyderabad</td>\n",
       "      <td>asia &amp; pacific</td>\n",
       "    </tr>\n",
       "    <tr>\n",
       "      <th>...</th>\n",
       "      <td>...</td>\n",
       "      <td>...</td>\n",
       "      <td>...</td>\n",
       "      <td>...</td>\n",
       "      <td>...</td>\n",
       "      <td>...</td>\n",
       "      <td>...</td>\n",
       "      <td>...</td>\n",
       "    </tr>\n",
       "    <tr>\n",
       "      <th>59294</th>\n",
       "      <td>/sląskie/poland</td>\n",
       "      <td>LGEPL</td>\n",
       "      <td>694</td>\n",
       "      <td>33747</td>\n",
       "      <td>poland</td>\n",
       "      <td>poland</td>\n",
       "      <td>sląskie</td>\n",
       "      <td>europe</td>\n",
       "    </tr>\n",
       "    <tr>\n",
       "      <th>59295</th>\n",
       "      <td>/bogotá dc /colombia</td>\n",
       "      <td>LGECB</td>\n",
       "      <td>39</td>\n",
       "      <td>35420</td>\n",
       "      <td>colombia</td>\n",
       "      <td>colombia</td>\n",
       "      <td>bogotá dc</td>\n",
       "      <td>latin america</td>\n",
       "    </tr>\n",
       "    <tr>\n",
       "      <th>59296</th>\n",
       "      <td>/pisco/peru</td>\n",
       "      <td>LGEPR</td>\n",
       "      <td>125</td>\n",
       "      <td>19249</td>\n",
       "      <td>peru</td>\n",
       "      <td>peru</td>\n",
       "      <td>pisco</td>\n",
       "      <td>latin america</td>\n",
       "    </tr>\n",
       "    <tr>\n",
       "      <th>59297</th>\n",
       "      <td>/santa cruz bolivia/peru</td>\n",
       "      <td>LGEPR</td>\n",
       "      <td>134</td>\n",
       "      <td>40327</td>\n",
       "      <td>peru</td>\n",
       "      <td>peru</td>\n",
       "      <td>santa cruz bolivia</td>\n",
       "      <td>latin america</td>\n",
       "    </tr>\n",
       "    <tr>\n",
       "      <th>59298</th>\n",
       "      <td>/paris/france</td>\n",
       "      <td>LGEKR</td>\n",
       "      <td>441</td>\n",
       "      <td>30268</td>\n",
       "      <td>korea</td>\n",
       "      <td>france</td>\n",
       "      <td>paris</td>\n",
       "      <td>europe</td>\n",
       "    </tr>\n",
       "  </tbody>\n",
       "</table>\n",
       "<p>59299 rows × 8 columns</p>\n",
       "</div>"
      ],
      "text/plain": [
       "               customer_country response_corporate  lead_owner  customer_idx  \\\n",
       "0      /quezon city/philippines              LGEPH           0         32160   \n",
       "1            /ph-00/philippines              LGEPH           1         23122   \n",
       "2               /kolkata /india              LGEIL           2          1755   \n",
       "3            /bhubaneswar/india              LGEIL           3          4919   \n",
       "4              /hyderabad/india              LGEIL           4         17126   \n",
       "...                         ...                ...         ...           ...   \n",
       "59294           /sląskie/poland              LGEPL         694         33747   \n",
       "59295      /bogotá dc /colombia              LGECB          39         35420   \n",
       "59296               /pisco/peru              LGEPR         125         19249   \n",
       "59297  /santa cruz bolivia/peru              LGEPR         134         40327   \n",
       "59298             /paris/france              LGEKR         441         30268   \n",
       "\n",
       "      response_corporate2      country                city       continent  \n",
       "0             philippines  philippines         quezon city  asia & pacific  \n",
       "1             philippines  philippines               ph-00  asia & pacific  \n",
       "2                   india        india            kolkata   asia & pacific  \n",
       "3                   india        india         bhubaneswar  asia & pacific  \n",
       "4                   india        india           hyderabad  asia & pacific  \n",
       "...                   ...          ...                 ...             ...  \n",
       "59294              poland       poland             sląskie          europe  \n",
       "59295            colombia     colombia          bogotá dc    latin america  \n",
       "59296                peru         peru               pisco   latin america  \n",
       "59297                peru         peru  santa cruz bolivia   latin america  \n",
       "59298               korea       france               paris          europe  \n",
       "\n",
       "[59299 rows x 8 columns]"
      ]
     },
     "execution_count": 37,
     "metadata": {},
     "output_type": "execute_result"
    }
   ],
   "source": [
    "df"
   ]
  },
  {
   "cell_type": "code",
   "execution_count": 40,
   "id": "d699f9eb-b42f-44fb-9e61-00eb7c1669d3",
   "metadata": {},
   "outputs": [],
   "source": [
    "df = pd.read_csv(\"train.csv\")"
   ]
  },
  {
   "cell_type": "code",
   "execution_count": 43,
   "id": "ef03edea-d1c9-4aba-8964-e3f7bd95d4c3",
   "metadata": {},
   "outputs": [
    {
     "data": {
      "text/html": [
       "<div>\n",
       "<style scoped>\n",
       "    .dataframe tbody tr th:only-of-type {\n",
       "        vertical-align: middle;\n",
       "    }\n",
       "\n",
       "    .dataframe tbody tr th {\n",
       "        vertical-align: top;\n",
       "    }\n",
       "\n",
       "    .dataframe thead th {\n",
       "        text-align: right;\n",
       "    }\n",
       "</style>\n",
       "<table border=\"1\" class=\"dataframe\">\n",
       "  <thead>\n",
       "    <tr style=\"text-align: right;\">\n",
       "      <th></th>\n",
       "      <th>bant_submit</th>\n",
       "      <th>customer_country</th>\n",
       "      <th>business_unit</th>\n",
       "      <th>com_reg_ver_win_rate</th>\n",
       "      <th>customer_idx</th>\n",
       "      <th>customer_type</th>\n",
       "      <th>enterprise</th>\n",
       "      <th>historical_existing_cnt</th>\n",
       "      <th>id_strategic_ver</th>\n",
       "      <th>it_strategic_ver</th>\n",
       "      <th>...</th>\n",
       "      <th>response_corporate</th>\n",
       "      <th>expected_timeline</th>\n",
       "      <th>ver_cus</th>\n",
       "      <th>ver_pro</th>\n",
       "      <th>ver_win_rate_x</th>\n",
       "      <th>ver_win_ratio_per_bu</th>\n",
       "      <th>business_area</th>\n",
       "      <th>business_subarea</th>\n",
       "      <th>lead_owner</th>\n",
       "      <th>is_converted</th>\n",
       "    </tr>\n",
       "  </thead>\n",
       "  <tbody>\n",
       "    <tr>\n",
       "      <th>320</th>\n",
       "      <td>1.00</td>\n",
       "      <td>/East London/South Africa</td>\n",
       "      <td>AS</td>\n",
       "      <td>0.040816</td>\n",
       "      <td>30958</td>\n",
       "      <td>End-Customer</td>\n",
       "      <td>SMB</td>\n",
       "      <td>NaN</td>\n",
       "      <td>NaN</td>\n",
       "      <td>NaN</td>\n",
       "      <td>...</td>\n",
       "      <td>LGESA</td>\n",
       "      <td>more than a year</td>\n",
       "      <td>1</td>\n",
       "      <td>0</td>\n",
       "      <td>0.003079</td>\n",
       "      <td>0.026846</td>\n",
       "      <td>corporate / office</td>\n",
       "      <td>IT/Software</td>\n",
       "      <td>26</td>\n",
       "      <td>False</td>\n",
       "    </tr>\n",
       "    <tr>\n",
       "      <th>322</th>\n",
       "      <td>1.00</td>\n",
       "      <td>/East London/South Africa</td>\n",
       "      <td>AS</td>\n",
       "      <td>0.040816</td>\n",
       "      <td>30958</td>\n",
       "      <td>End Customer</td>\n",
       "      <td>SMB</td>\n",
       "      <td>NaN</td>\n",
       "      <td>NaN</td>\n",
       "      <td>NaN</td>\n",
       "      <td>...</td>\n",
       "      <td>LGESA</td>\n",
       "      <td>more than a year</td>\n",
       "      <td>1</td>\n",
       "      <td>0</td>\n",
       "      <td>0.003079</td>\n",
       "      <td>0.026846</td>\n",
       "      <td>corporate / office</td>\n",
       "      <td>IT/Software</td>\n",
       "      <td>26</td>\n",
       "      <td>False</td>\n",
       "    </tr>\n",
       "    <tr>\n",
       "      <th>344</th>\n",
       "      <td>1.00</td>\n",
       "      <td>/Medellin /Colombia</td>\n",
       "      <td>AS</td>\n",
       "      <td>0.003937</td>\n",
       "      <td>39065</td>\n",
       "      <td>NaN</td>\n",
       "      <td>SMB</td>\n",
       "      <td>0.0</td>\n",
       "      <td>NaN</td>\n",
       "      <td>NaN</td>\n",
       "      <td>...</td>\n",
       "      <td>LGECB</td>\n",
       "      <td>9 months ~ 1 year</td>\n",
       "      <td>0</td>\n",
       "      <td>0</td>\n",
       "      <td>0.003079</td>\n",
       "      <td>0.026846</td>\n",
       "      <td>corporate / office</td>\n",
       "      <td>NaN</td>\n",
       "      <td>41</td>\n",
       "      <td>False</td>\n",
       "    </tr>\n",
       "    <tr>\n",
       "      <th>1253</th>\n",
       "      <td>1.00</td>\n",
       "      <td>/Brisbane/Australia</td>\n",
       "      <td>ID</td>\n",
       "      <td>0.084337</td>\n",
       "      <td>14526</td>\n",
       "      <td>NaN</td>\n",
       "      <td>Enterprise</td>\n",
       "      <td>NaN</td>\n",
       "      <td>1.0</td>\n",
       "      <td>NaN</td>\n",
       "      <td>...</td>\n",
       "      <td>LGEAP</td>\n",
       "      <td>less than 3 months</td>\n",
       "      <td>0</td>\n",
       "      <td>1</td>\n",
       "      <td>0.003079</td>\n",
       "      <td>0.064566</td>\n",
       "      <td>corporate / office</td>\n",
       "      <td>NaN</td>\n",
       "      <td>306</td>\n",
       "      <td>False</td>\n",
       "    </tr>\n",
       "    <tr>\n",
       "      <th>1314</th>\n",
       "      <td>1.00</td>\n",
       "      <td>//Ghana</td>\n",
       "      <td>ID</td>\n",
       "      <td>0.075000</td>\n",
       "      <td>4705</td>\n",
       "      <td>Specifier / Influencer</td>\n",
       "      <td>SMB</td>\n",
       "      <td>NaN</td>\n",
       "      <td>1.0</td>\n",
       "      <td>NaN</td>\n",
       "      <td>...</td>\n",
       "      <td>LGEAF</td>\n",
       "      <td>less than 3 months</td>\n",
       "      <td>0</td>\n",
       "      <td>1</td>\n",
       "      <td>0.003079</td>\n",
       "      <td>0.064566</td>\n",
       "      <td>corporate / office</td>\n",
       "      <td>Telecommunication</td>\n",
       "      <td>170</td>\n",
       "      <td>False</td>\n",
       "    </tr>\n",
       "    <tr>\n",
       "      <th>...</th>\n",
       "      <td>...</td>\n",
       "      <td>...</td>\n",
       "      <td>...</td>\n",
       "      <td>...</td>\n",
       "      <td>...</td>\n",
       "      <td>...</td>\n",
       "      <td>...</td>\n",
       "      <td>...</td>\n",
       "      <td>...</td>\n",
       "      <td>...</td>\n",
       "      <td>...</td>\n",
       "      <td>...</td>\n",
       "      <td>...</td>\n",
       "      <td>...</td>\n",
       "      <td>...</td>\n",
       "      <td>...</td>\n",
       "      <td>...</td>\n",
       "      <td>...</td>\n",
       "      <td>...</td>\n",
       "      <td>...</td>\n",
       "      <td>...</td>\n",
       "    </tr>\n",
       "    <tr>\n",
       "      <th>59134</th>\n",
       "      <td>0.75</td>\n",
       "      <td>//Mexico</td>\n",
       "      <td>ID</td>\n",
       "      <td>0.042254</td>\n",
       "      <td>33676</td>\n",
       "      <td>NaN</td>\n",
       "      <td>SMB</td>\n",
       "      <td>NaN</td>\n",
       "      <td>NaN</td>\n",
       "      <td>NaN</td>\n",
       "      <td>...</td>\n",
       "      <td>LGEMS</td>\n",
       "      <td>less than 3 months</td>\n",
       "      <td>0</td>\n",
       "      <td>0</td>\n",
       "      <td>0.000026</td>\n",
       "      <td>0.031579</td>\n",
       "      <td>public facility</td>\n",
       "      <td>NaN</td>\n",
       "      <td>214</td>\n",
       "      <td>True</td>\n",
       "    </tr>\n",
       "    <tr>\n",
       "      <th>59262</th>\n",
       "      <td>1.00</td>\n",
       "      <td>/rio de janeiro /Brazil</td>\n",
       "      <td>AS</td>\n",
       "      <td>0.040000</td>\n",
       "      <td>13618</td>\n",
       "      <td>Specifier/ Influencer</td>\n",
       "      <td>Enterprise</td>\n",
       "      <td>NaN</td>\n",
       "      <td>NaN</td>\n",
       "      <td>NaN</td>\n",
       "      <td>...</td>\n",
       "      <td>LGESP</td>\n",
       "      <td>more than a year</td>\n",
       "      <td>0</td>\n",
       "      <td>0</td>\n",
       "      <td>0.000026</td>\n",
       "      <td>0.028777</td>\n",
       "      <td>public facility</td>\n",
       "      <td>Museum / Gallery</td>\n",
       "      <td>97</td>\n",
       "      <td>False</td>\n",
       "    </tr>\n",
       "    <tr>\n",
       "      <th>59275</th>\n",
       "      <td>1.00</td>\n",
       "      <td>/Temuco/Chile</td>\n",
       "      <td>AS</td>\n",
       "      <td>0.040000</td>\n",
       "      <td>22100</td>\n",
       "      <td>Specifier/ Influencer</td>\n",
       "      <td>Enterprise</td>\n",
       "      <td>0.0</td>\n",
       "      <td>NaN</td>\n",
       "      <td>NaN</td>\n",
       "      <td>...</td>\n",
       "      <td>LGECL</td>\n",
       "      <td>less than 3 months</td>\n",
       "      <td>0</td>\n",
       "      <td>0</td>\n",
       "      <td>0.000026</td>\n",
       "      <td>0.028777</td>\n",
       "      <td>public facility</td>\n",
       "      <td>Others</td>\n",
       "      <td>100</td>\n",
       "      <td>False</td>\n",
       "    </tr>\n",
       "    <tr>\n",
       "      <th>59290</th>\n",
       "      <td>0.75</td>\n",
       "      <td>/Dolnośląskie/Poland</td>\n",
       "      <td>AS</td>\n",
       "      <td>NaN</td>\n",
       "      <td>6739</td>\n",
       "      <td>Specifier/ Influencer</td>\n",
       "      <td>SMB</td>\n",
       "      <td>NaN</td>\n",
       "      <td>NaN</td>\n",
       "      <td>NaN</td>\n",
       "      <td>...</td>\n",
       "      <td>LGEPL</td>\n",
       "      <td>less than 3 months</td>\n",
       "      <td>0</td>\n",
       "      <td>0</td>\n",
       "      <td>0.000026</td>\n",
       "      <td>0.028777</td>\n",
       "      <td>public facility</td>\n",
       "      <td>Others</td>\n",
       "      <td>694</td>\n",
       "      <td>False</td>\n",
       "    </tr>\n",
       "    <tr>\n",
       "      <th>59294</th>\n",
       "      <td>1.00</td>\n",
       "      <td>/Sląskie/Poland</td>\n",
       "      <td>AS</td>\n",
       "      <td>NaN</td>\n",
       "      <td>33747</td>\n",
       "      <td>End Customer</td>\n",
       "      <td>SMB</td>\n",
       "      <td>NaN</td>\n",
       "      <td>NaN</td>\n",
       "      <td>NaN</td>\n",
       "      <td>...</td>\n",
       "      <td>LGEPL</td>\n",
       "      <td>3 months ~ 6 months</td>\n",
       "      <td>0</td>\n",
       "      <td>0</td>\n",
       "      <td>0.000026</td>\n",
       "      <td>0.028777</td>\n",
       "      <td>public facility</td>\n",
       "      <td>Others</td>\n",
       "      <td>694</td>\n",
       "      <td>False</td>\n",
       "    </tr>\n",
       "  </tbody>\n",
       "</table>\n",
       "<p>3519 rows × 29 columns</p>\n",
       "</div>"
      ],
      "text/plain": [
       "       bant_submit           customer_country business_unit  \\\n",
       "320           1.00  /East London/South Africa            AS   \n",
       "322           1.00  /East London/South Africa            AS   \n",
       "344           1.00        /Medellin /Colombia            AS   \n",
       "1253          1.00        /Brisbane/Australia            ID   \n",
       "1314          1.00                    //Ghana            ID   \n",
       "...            ...                        ...           ...   \n",
       "59134         0.75                   //Mexico            ID   \n",
       "59262         1.00    /rio de janeiro /Brazil            AS   \n",
       "59275         1.00              /Temuco/Chile            AS   \n",
       "59290         0.75       /Dolnośląskie/Poland            AS   \n",
       "59294         1.00            /Sląskie/Poland            AS   \n",
       "\n",
       "       com_reg_ver_win_rate  customer_idx           customer_type  enterprise  \\\n",
       "320                0.040816         30958            End-Customer         SMB   \n",
       "322                0.040816         30958            End Customer         SMB   \n",
       "344                0.003937         39065                     NaN         SMB   \n",
       "1253               0.084337         14526                     NaN  Enterprise   \n",
       "1314               0.075000          4705  Specifier / Influencer         SMB   \n",
       "...                     ...           ...                     ...         ...   \n",
       "59134              0.042254         33676                     NaN         SMB   \n",
       "59262              0.040000         13618   Specifier/ Influencer  Enterprise   \n",
       "59275              0.040000         22100   Specifier/ Influencer  Enterprise   \n",
       "59290                   NaN          6739   Specifier/ Influencer         SMB   \n",
       "59294                   NaN         33747            End Customer         SMB   \n",
       "\n",
       "       historical_existing_cnt  id_strategic_ver  it_strategic_ver  ...  \\\n",
       "320                        NaN               NaN               NaN  ...   \n",
       "322                        NaN               NaN               NaN  ...   \n",
       "344                        0.0               NaN               NaN  ...   \n",
       "1253                       NaN               1.0               NaN  ...   \n",
       "1314                       NaN               1.0               NaN  ...   \n",
       "...                        ...               ...               ...  ...   \n",
       "59134                      NaN               NaN               NaN  ...   \n",
       "59262                      NaN               NaN               NaN  ...   \n",
       "59275                      0.0               NaN               NaN  ...   \n",
       "59290                      NaN               NaN               NaN  ...   \n",
       "59294                      NaN               NaN               NaN  ...   \n",
       "\n",
       "       response_corporate    expected_timeline  ver_cus ver_pro  \\\n",
       "320                 LGESA     more than a year        1       0   \n",
       "322                 LGESA     more than a year        1       0   \n",
       "344                 LGECB    9 months ~ 1 year        0       0   \n",
       "1253                LGEAP   less than 3 months        0       1   \n",
       "1314                LGEAF   less than 3 months        0       1   \n",
       "...                   ...                  ...      ...     ...   \n",
       "59134               LGEMS   less than 3 months        0       0   \n",
       "59262               LGESP     more than a year        0       0   \n",
       "59275               LGECL   less than 3 months        0       0   \n",
       "59290               LGEPL   less than 3 months        0       0   \n",
       "59294               LGEPL  3 months ~ 6 months        0       0   \n",
       "\n",
       "      ver_win_rate_x ver_win_ratio_per_bu       business_area  \\\n",
       "320         0.003079             0.026846  corporate / office   \n",
       "322         0.003079             0.026846  corporate / office   \n",
       "344         0.003079             0.026846  corporate / office   \n",
       "1253        0.003079             0.064566  corporate / office   \n",
       "1314        0.003079             0.064566  corporate / office   \n",
       "...              ...                  ...                 ...   \n",
       "59134       0.000026             0.031579     public facility   \n",
       "59262       0.000026             0.028777     public facility   \n",
       "59275       0.000026             0.028777     public facility   \n",
       "59290       0.000026             0.028777     public facility   \n",
       "59294       0.000026             0.028777     public facility   \n",
       "\n",
       "        business_subarea lead_owner is_converted  \n",
       "320          IT/Software         26        False  \n",
       "322          IT/Software         26        False  \n",
       "344                  NaN         41        False  \n",
       "1253                 NaN        306        False  \n",
       "1314   Telecommunication        170        False  \n",
       "...                  ...        ...          ...  \n",
       "59134                NaN        214         True  \n",
       "59262   Museum / Gallery         97        False  \n",
       "59275             Others        100        False  \n",
       "59290             Others        694        False  \n",
       "59294             Others        694        False  \n",
       "\n",
       "[3519 rows x 29 columns]"
      ]
     },
     "execution_count": 43,
     "metadata": {},
     "output_type": "execute_result"
    }
   ],
   "source": [
    "df[df.duplicated()]"
   ]
  },
  {
   "cell_type": "code",
   "execution_count": null,
   "id": "789844df-7d12-46d6-9f34-fc0128de5eb5",
   "metadata": {},
   "outputs": [],
   "source": []
  },
  {
   "cell_type": "code",
   "execution_count": 49,
   "id": "2caf0c79-430d-447c-a56d-dc25c63a69ec",
   "metadata": {},
   "outputs": [],
   "source": [
    "df = pd.read_csv(\"submission.csv\")"
   ]
  },
  {
   "cell_type": "code",
   "execution_count": null,
   "id": "1b94beed-c1de-4186-8b19-d332ac0161f7",
   "metadata": {},
   "outputs": [],
   "source": []
  }
 ],
 "metadata": {
  "kernelspec": {
   "display_name": "Python 3 (ipykernel)",
   "language": "python",
   "name": "python3"
  },
  "language_info": {
   "codemirror_mode": {
    "name": "ipython",
    "version": 3
   },
   "file_extension": ".py",
   "mimetype": "text/x-python",
   "name": "python",
   "nbconvert_exporter": "python",
   "pygments_lexer": "ipython3",
   "version": "3.11.5"
  }
 },
 "nbformat": 4,
 "nbformat_minor": 5
}

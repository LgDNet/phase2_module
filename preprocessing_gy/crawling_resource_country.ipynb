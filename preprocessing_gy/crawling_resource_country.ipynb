{
 "cells": [
  {
   "cell_type": "code",
   "execution_count": 1,
   "id": "8922e1c3-b12e-4340-9a2e-8931e9146f14",
   "metadata": {},
   "outputs": [],
   "source": [
    "import requests\n",
    "from bs4 import BeautifulSoup\n",
    "import pickle"
   ]
  },
  {
   "cell_type": "code",
   "execution_count": 2,
   "id": "1efd0bf4-d939-4ffa-9afb-280b518df694",
   "metadata": {},
   "outputs": [],
   "source": [
    "req = requests.get(\"https://www.lge.co.kr/company/info/overseas\")"
   ]
  },
  {
   "cell_type": "code",
   "execution_count": 3,
   "id": "2e109293-4f28-4dc2-abd3-e31d190806ec",
   "metadata": {},
   "outputs": [],
   "source": [
    "soup = BeautifulSoup(req.text,'html.parser')"
   ]
  },
  {
   "cell_type": "code",
   "execution_count": 15,
   "id": "600ca6fe-3887-4089-8091-5fc2b7bce714",
   "metadata": {},
   "outputs": [],
   "source": [
    "result = {}\n",
    "real = {}\n",
    "cont = {}\n",
    "continents = soup.select(\".tooltip-wrap\")[1:]\n",
    "for continent in continents:\n",
    "    toolbox = continent.select(\".tooltip-box\")[0]\n",
    "    continent_name = toolbox.select(\".tit\")[0].get_text()\n",
    "    country_list = toolbox.select(\".country-list\")[0]\n",
    "    country_list = country_list.find_all('li')\n",
    "\n",
    "    result[continent_name] = []\n",
    "    new_dic = {}\n",
    "    \n",
    "    for country in country_list:\n",
    "        country_name = country.select('.country')[0].get_text()\n",
    "        country_business = country.select('a')[0].get_text()\n",
    "        business_list = country_business.split(',')\n",
    "        business_list = list(map(lambda x: x.strip(), business_list))\n",
    "        new_dic[country_name] = business_list#.lower()\n",
    "        cont[country_name.lower()] = continent_name.lower()\n",
    "        #pandas mapping을 위하여\n",
    "        for name in business_list:\n",
    "            real[name] = country_name\n",
    "    result[continent_name].append(new_dic)"
   ]
  },
  {
   "cell_type": "code",
   "execution_count": 16,
   "id": "fe110d10-5933-4b54-be8c-be18810d368e",
   "metadata": {},
   "outputs": [],
   "source": [
    "with open(\"country_continent.pkl\", \"wb\") as f:\n",
    "    pickle.dump(cont, f)"
   ]
  },
  {
   "cell_type": "code",
   "execution_count": 102,
   "id": "15eeaa2c-df84-4bab-ab27-fdc4520d14d3",
   "metadata": {},
   "outputs": [],
   "source": [
    "# with open(\"response_corporate.pkl\", \"wb\") as f:\n",
    "#     pickle.dump(real, f)"
   ]
  },
  {
   "cell_type": "markdown",
   "id": "8f7fcf87-26bd-4be8-8f56-a7080f4e69a8",
   "metadata": {},
   "source": [
    "### response_corporate에 없는 나라 추가"
   ]
  },
  {
   "cell_type": "code",
   "execution_count": null,
   "id": "2034c012-f1a6-4682-8dfb-775502fd3b29",
   "metadata": {},
   "outputs": [],
   "source": [
    "# LGESJ: 사우디 아라비아\n",
    "# LGESP: 브라질 상파울루\n",
    "# LGEEF: 케냐\n",
    "\n",
    "# LGEAR: 아르헨티나\n",
    "# LGEYK:\n",
    "# LGESW: 북유럽\n",
    "\n",
    "# LGEVH: 베트남\n",
    "# LGELA:\n",
    "# LGEIR: 이란\n",
    "# LGEBT:\n",
    "\n",
    "# LGEVH: 베트남"
   ]
  },
  {
   "cell_type": "code",
   "execution_count": 23,
   "id": "566a3957-ef0f-4380-9c02-8bbe81d51cc2",
   "metadata": {},
   "outputs": [],
   "source": [
    "new_area ={\"LGESJ\": \"Saudi Arabia\",\n",
    "\"LGEVH\": \"Vietnam\",\n",
    "\"LGESP\": \"Brazil\",\n",
    "\"LGEAR\": \"Argentina\",\n",
    "\"LGESW\": \"Sweden \",\n",
    "\"LGEEF\": \"Kenya\",\n",
    "\"LGEYK\": \"Israel\",\n",
    "\"LGEIR\": \"Iran \",\n",
    "\"LGEBT\": \"Portugal\",\n",
    "\"LGELA\": \"Latvia\",\n",
    "\"LGEKR\": \"Korea\",\n",
    "\"LGEEB\": \"North Europe\"}"
   ]
  },
  {
   "cell_type": "code",
   "execution_count": 28,
   "id": "75e43b9a-c345-4cb3-8277-cdda21d69970",
   "metadata": {},
   "outputs": [],
   "source": [
    "for i,j in new_area.items():\n",
    "    res[i] = j "
   ]
  },
  {
   "cell_type": "code",
   "execution_count": 29,
   "id": "af4fbd81-dac2-43a6-b832-d73f193557ca",
   "metadata": {},
   "outputs": [],
   "source": [
    "import pickle\n",
    "with open('response_corporate.pkl','wb') as f:\n",
    "    pickle.dump(res, f)\n",
    "    # res = pickle.load(f)"
   ]
  }
 ],
 "metadata": {
  "kernelspec": {
   "display_name": "Python 3 (ipykernel)",
   "language": "python",
   "name": "python3"
  },
  "language_info": {
   "codemirror_mode": {
    "name": "ipython",
    "version": 3
   },
   "file_extension": ".py",
   "mimetype": "text/x-python",
   "name": "python",
   "nbconvert_exporter": "python",
   "pygments_lexer": "ipython3",
   "version": "3.11.5"
  }
 },
 "nbformat": 4,
 "nbformat_minor": 5
}

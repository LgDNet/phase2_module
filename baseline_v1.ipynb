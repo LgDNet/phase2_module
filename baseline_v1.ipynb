{
 "cells": [
  {
   "cell_type": "code",
   "execution_count": 82,
   "id": "6139489f",
   "metadata": {},
   "outputs": [],
   "source": [
    "# %rm -rf phase2_module"
   ]
  },
  {
   "cell_type": "code",
   "execution_count": 14,
   "id": "db275d8b",
   "metadata": {
    "scrolled": true
   },
   "outputs": [],
   "source": [
    "# !git clone https://github.com/LgDNet/phase2_module.git"
   ]
  },
  {
   "cell_type": "code",
   "execution_count": 15,
   "id": "dd12e740",
   "metadata": {},
   "outputs": [],
   "source": [
    "# !cd phase2_module && make copy"
   ]
  },
  {
   "cell_type": "code",
   "execution_count": 18,
   "id": "d1148052",
   "metadata": {},
   "outputs": [],
   "source": [
    "from phase2_module.data.load import Data\n",
    "from phase2_module.src.models.classification.models import Model\n",
    "from phase2_module.src.base import BasePiepline\n",
    "# from phase2_module.src.hyper_parameters.params_optimization import xgboost_opt, set_params_optimization_data\n",
    "from phase2_module.src.utils.set_seed import seed_everything\n",
    "from phase2_module.src.utils.top_score_instance import check_the_score\n",
    "seed_everything()  # NOTE: default 42\n",
    "_model = Model()"
   ]
  },
  {
   "cell_type": "code",
   "execution_count": 19,
   "id": "7a70301f",
   "metadata": {},
   "outputs": [],
   "source": [
    "import pandas as pd\n",
    "import numpy as np\n",
    "import re, pickle\n",
    "import warnings\n",
    "from tqdm import tqdm\n",
    "warnings.filterwarnings(action='ignore')"
   ]
  },
  {
   "cell_type": "code",
   "execution_count": 20,
   "id": "2e18ea97",
   "metadata": {},
   "outputs": [],
   "source": [
    "from sklearn.metrics import f1_score"
   ]
  },
  {
   "cell_type": "markdown",
   "id": "cd7808f8",
   "metadata": {},
   "source": [
    "# Preprocessing"
   ]
  },
  {
   "cell_type": "code",
   "execution_count": 72,
   "id": "a5297cfb",
   "metadata": {},
   "outputs": [],
   "source": [
    "class Basic:\n",
    "    def __init__(self):\n",
    "        pass\n",
    "    \n",
    "    def drop_columns(self,df):\n",
    "        pass\n",
    "    \n",
    "    def drop_duplicated(self,df):\n",
    "        df = df.drop_duplicates()\n",
    "        df.reset_index(drop = True, inplace= True)\n",
    "        return df\n",
    "    \n",
    "    def _all(self,df, module_list):\n",
    "        if not module_list:\n",
    "            raise ValueError(\"Not used modules\")\n",
    "        \n",
    "        if not isinstance(module_list, list):\n",
    "            module_list = [module_list]\n",
    "        \n",
    "        for module in module_list:\n",
    "            method = getattr(self, module)\n",
    "\n",
    "            df = method(df)\n",
    "            \n",
    "        return df"
   ]
  },
  {
   "cell_type": "code",
   "execution_count": 73,
   "id": "18cdc7d8",
   "metadata": {},
   "outputs": [],
   "source": [
    "class Inquiry:\n",
    "    def __init__(self):\n",
    "        self.inquiry_type = {}\n",
    "\n",
    "        consulation = {\n",
    "            \"Quotation\": \"Quotation or Purchase Consultation\",  # 견적 또는 구매 상담\n",
    "            \"Sales\": \"Quotation or Purchase Consultation\",\n",
    "            \"Product\": \"Quotation or Purchase Consultation\",\n",
    "            \"Purchase\": \"Quotation or Purchase Consultation\",\n",
    "            \"Event\": \"Quotation or Purchase Consultation\",\n",
    "            \"Partner\": \"Quotation or Purchase Consultation\",\n",
    "        }\n",
    "\n",
    "        demo = {\n",
    "            \"Demo\": \"Request a Demo\",  # 데모 요청하기\n",
    "        }\n",
    "\n",
    "        oem_odm = {\n",
    "            \"Oem\": \"OEM/ODM Request\",\n",
    "            \"Odm\": \"OEM/ODM Request\",\n",
    "        }\n",
    "\n",
    "        technic = {\n",
    "            \"Usage\": \"Usage or Technical Consultation\",  # 사용 또는 기술 상담\n",
    "            \"Technical\": \"Usage or Technical Consultation\",\n",
    "            \"Trainings\": \"Usage or Technical Consultation\",\n",
    "            \"Services\": \"Usage or Technical Consultation\",\n",
    "            \"Suggestions\": \"Usage or Technical Consultation\",\n",
    "        }\n",
    "\n",
    "\n",
    "        distributorship = {\n",
    "            \"Distributorship\": \"Request for Distributorship\",  # 대리점에 요청\n",
    "        }\n",
    "\n",
    "\n",
    "        others = {\n",
    "            \"Other\": \"Other\",\n",
    "            \"Etc\": \"Other\",\n",
    "        }\n",
    "\n",
    "        self.inquiry_category = [consulation, demo, oem_odm, technic, distributorship, others]\n",
    "\n",
    "        for category in self.inquiry_category:\n",
    "            self.inquiry_type.update(category)\n",
    "            \n",
    "        self.start_patterns = [re.compile(f\"(?i)^{i}\") for i in self.inquiry_type.keys()]\n",
    "        self.exists_patterns = [re.compile(f\"(?i){i}\") for i in self.inquiry_type.keys()]\n",
    "        \n",
    "        self.expected_timeline_dict = {\n",
    "            \"Follow\": \"Follow up\",\n",
    "            \"Already\": \"Follow up\",\n",
    "            \"Respond\": \"No Response\",\n",
    "            \"Response\": \"No Response\",\n",
    "            \"Required\": \"No Response\",\n",
    "            \"Requirement\": \"No Response\",\n",
    "            \"Budget\": \"Budget Issue\",\n",
    "            \"Interest\": \"Not Interest\",\n",
    "        }\n",
    "        self.expected_timeline_exists_patterns = [re.compile(f\"(?i){i}\") for i in self.expected_timeline_dict.keys()]\n",
    "        \n",
    "        self.categories = ['Less than 3 Months', '3 months ~ 6 months', 'more than a year', '9 months ~ 1 year', '6 months ~ 9 months', 'Follow up', '3 Months ~ 6 Months', 'No Response', 'Budget Issue', 'Not Interest', \"Space\"]\n",
    "        \n",
    "        \n",
    "    def fill(self,df):\n",
    "        df[\"inquiry_type\"].fillna(\"-\", inplace=True)\n",
    "        return df\n",
    "        \n",
    "\n",
    "    def new_inquiry_type(self, old_inquiry_type):\n",
    "        for pattern in self.start_patterns:\n",
    "            find = pattern.search(old_inquiry_type.strip())\n",
    "            if find:\n",
    "                return self.inquiry_type.get(find.group().capitalize())\n",
    "        return \"Other\"\n",
    "\n",
    "\n",
    "    def retry_unknown_value_mapping(self, new_inquiry_type, old_inquiry_type):\n",
    "        if new_inquiry_type == \"Other\":\n",
    "            for pattern in self.exists_patterns:\n",
    "                find = pattern.search(old_inquiry_type.strip())\n",
    "                if find:\n",
    "                    return self.inquiry_type.get(find.group().capitalize())\n",
    "            return \"-\"\n",
    "\n",
    "        return new_inquiry_type\n",
    "    \n",
    "    def convert_timeline_in_tilda(self, timeline):\n",
    "        if \"~\" in timeline:\n",
    "            timeline = timeline.replace(\"_\", \" \")\n",
    "            split_timeline = timeline.split(\"~\")\n",
    "            return split_timeline[0].strip() + \" ~ \" + split_timeline[1].strip()\n",
    "        return timeline\n",
    "\n",
    "    def less_value_categorial(self,timeline):\n",
    "        find = None\n",
    "        numeric_value = None\n",
    "        scope = {\n",
    "            \"3\": \"Less than 3 Months\",\n",
    "            \"6\": \"3 Months ~ 6 Months\",\n",
    "            \"9\": \"6 Months ~ 9 Months\",\n",
    "        }\n",
    "\n",
    "        numeric_pattern = re.compile(\"\\d\")  # NOTE: less 다음에 오는 숫자 데이터 추출\n",
    "        if \"less\" in timeline:\n",
    "            less_index = timeline.index(\"less\")\n",
    "            find = re.search(r'\\d{1,2}', timeline[less_index:])\n",
    "        if find:\n",
    "            numeric_value = find.group()\n",
    "\n",
    "            for k,v in scope.items():\n",
    "                if int(numeric_value) <= int(k):\n",
    "                    return v\n",
    "        return timeline\n",
    "\n",
    "    def more_value_categorial(self,timeline):\n",
    "        find = None\n",
    "        numeric_value = None\n",
    "        scope = {\n",
    "            \"9\": \"More than a year\",\n",
    "            \"6\": \"6 Months ~ 9 Months\",\n",
    "            \"3\": \"3 Months ~ 6 Months\",\n",
    "            \"0\": \"Less than 3 Months\",\n",
    "        }\n",
    "\n",
    "        numeric_pattern = re.compile(\"\\d\")  # NOTE: less 문구의 숫자 데이터 추출\n",
    "        if \"more\" in timeline:\n",
    "            more_index = timeline.index(\"more\")\n",
    "            find = re.search(r'\\d{1,2}', timeline[more_index:])\n",
    "\n",
    "\n",
    "        if find:\n",
    "            numeric_value = find.group()\n",
    "\n",
    "            for k,v in scope.items():\n",
    "                if int(numeric_value) >= int(k):\n",
    "                    return v\n",
    "        return timeline.replace(\"_\", \" \")\n",
    "    \n",
    "    def timeline_retry_unknown_value_mapping(self, new_expected_timeline):\n",
    "        for pattern in self.expected_timeline_exists_patterns:\n",
    "            find = pattern.search(new_expected_timeline.strip())\n",
    "            if find:\n",
    "                return self.expected_timeline_dict.get(find.group().capitalize())\n",
    "\n",
    "        return new_expected_timeline\n",
    "    \n",
    "\n",
    "    def _all(self,df, module_list = None):\n",
    "        df = self.fill(df)\n",
    "        df[\"new_inquiry_type\"] = df[\"inquiry_type\"].apply(self.new_inquiry_type)\n",
    "        df[\"new_inquiry_type\"] = df.apply(lambda row: self.retry_unknown_value_mapping(row[\"new_inquiry_type\"], row[\"inquiry_type\"]), axis=1)\n",
    "\n",
    "        df.loc[df[\"new_inquiry_type\"] == \"-\", \"new_inquiry_type\"] = \"Other\"\n",
    "        df[\"expected_timeline\"].fillna(\"Space\", inplace=True)\n",
    "\n",
    "        df[\"new_expected_timeline\"] = df[\"expected_timeline\"].apply(self.convert_timeline_in_tilda)\n",
    "\n",
    "        df[\"new_expected_timeline\"] = df[\"new_expected_timeline\"].apply(self.less_value_categorial)\n",
    "        df[\"new_expected_timeline\"] = df[\"new_expected_timeline\"].apply(self.more_value_categorial)\n",
    "\n",
    "        df[\"new_expected_timeline\"] = df[\"new_expected_timeline\"].apply(self.timeline_retry_unknown_value_mapping)\n",
    "\n",
    "\n",
    "        df[\"new_expected_timeline\"] = df['new_expected_timeline'].where(df['new_expected_timeline'].isin(self.categories), 'Unknown')\n",
    "        \n",
    "        return df"
   ]
  },
  {
   "cell_type": "code",
   "execution_count": 74,
   "id": "4fbeffc4",
   "metadata": {},
   "outputs": [],
   "source": [
    "class Country:\n",
    "    def __init__(self, pkl):\n",
    "        self.area = {'anguilla':'united kingdom',\n",
    "                'br':'none',\n",
    "                'a':'none',\n",
    "                'nd':'none',\n",
    "                'ny':'none',\n",
    "                'rj':'none',\n",
    "                'us':'united states',\n",
    "                'ca':'none',\n",
    "                'kerela':'india',\n",
    "                'pune':'india',\n",
    "                'colombia - cartagena':'colombia',\n",
    "                'country':'none'}\n",
    "        self.pkl = pkl\n",
    "        \n",
    "    def country(self,df):\n",
    "        \"\"\" 나라 컬럼 생성\"\"\"\n",
    "        \n",
    "        # 담당 자사 법인 맵핑\n",
    "        df['response_corporate2'] = df['response_corporate'].map(self.pkl)\n",
    "\n",
    "        df['customer_country'] = df['customer_country'].str.lower().str.strip()\n",
    "        df['response_corporate2'] = df['response_corporate2'].str.lower().str.strip()\n",
    "\n",
    "        # 정규표현식으로 나라만 거르기\n",
    "        df.loc[:,\"country\"] = df[\"customer_country\"].str.extract(r'/([^/]+)$')[0]\n",
    "        df['country'] = df['country'].str.strip()\n",
    "\n",
    "        # 숫자 포함 -> none으로 변경 및 결측치 채우기\n",
    "        df['country'] = df['country'].apply(lambda x: 'none' if re.search(r'\\d', str(x)) else x)\n",
    "        df['country'].fillna('none',axis = 0, inplace = True)\n",
    "\n",
    "        # 이상한 수치 채우기\n",
    "        for i,j in self.area.items():\n",
    "            idx = df[df['country']==i].index\n",
    "            if len(idx):\n",
    "                df.loc[idx,'country'] = j\n",
    "        # none 결측치 채우기\n",
    "        cond = df['country'] =='none'\n",
    "        df.loc[cond,'country'] = df[cond]['response_corporate2']\n",
    "        return df\n",
    "\n",
    "    def city(self, df):\n",
    "        # 도시만 뽑기\n",
    "        df['city'] = df['customer_country'].str.split('/').str[-2]\n",
    "        df['city'] = df['city'].str.strip()\n",
    "\n",
    "        # others 처리\n",
    "        cond = df['city'] ==''\n",
    "        df.loc[cond,'city'] = 'others'\n",
    "\n",
    "        # 결측치 채우기\n",
    "        df['city'].fillna('others',axis = 0, inplace = True)\n",
    "\n",
    "#         df.drop(['response_corporate2','response_corporate','customer_country'], axis = 1, inplace = True)\n",
    "        return df\n",
    "\n",
    "    def _all(self,df, module_list):\n",
    "        if not module_list:\n",
    "            raise ValueError(\"Not used modules\")\n",
    "        \n",
    "        if not isinstance(module_list, list):\n",
    "            module_list = [module_list]\n",
    "        \n",
    "        for module in module_list:\n",
    "            method = getattr(self, module)\n",
    "\n",
    "            df = method(df)\n",
    "            \n",
    "        return df"
   ]
  },
  {
   "cell_type": "code",
   "execution_count": 75,
   "id": "de40e78a",
   "metadata": {},
   "outputs": [],
   "source": [
    "class ProductCategory:\n",
    "    def __init__(self):\n",
    "        pass\n",
    "    \n",
    "    def label_rows(self,df):\n",
    "        if df['product_modelname'] is np.nan and df['product_subcategory'] is np.nan and df['product_category'] is np.nan:\n",
    "            return 8\n",
    "        elif df['product_modelname'] is np.nan and df['product_subcategory'] is np.nan:\n",
    "            return 7\n",
    "        elif df['product_modelname'] is np.nan and df['product_category'] is np.nan:\n",
    "            return 6\n",
    "        elif df['product_subcategory'] is np.nan and df['product_category'] is np.nan:\n",
    "            return 5\n",
    "        elif df['product_modelname'] is np.nan:\n",
    "            return 4\n",
    "        elif df['product_subcategory'] is np.nan:\n",
    "            return 3\n",
    "        elif df['product_category'] is np.nan:\n",
    "            return 2\n",
    "        else:\n",
    "            return 1\n",
    "        \n",
    "    def _all(self,df, module_list: list):\n",
    "        df['customer_interest'] = df.apply(lambda row: self.label_rows(row), axis=1)\n",
    "        return df"
   ]
  },
  {
   "cell_type": "markdown",
   "id": "f710021d",
   "metadata": {},
   "source": [
    "# Main"
   ]
  },
  {
   "cell_type": "code",
   "execution_count": 76,
   "id": "8103f4d8",
   "metadata": {},
   "outputs": [],
   "source": [
    "with open('./phase2_module/preprocessing_gy/response_corporate.pkl','rb') as f:\n",
    "    res = pickle.load(f)"
   ]
  },
  {
   "cell_type": "code",
   "execution_count": 77,
   "id": "eca1ac33",
   "metadata": {},
   "outputs": [],
   "source": [
    "runtime_instance = {\n",
    "    \"Train\": Data.train,\n",
    "    \"Test\": Data.submission,\n",
    "    \"Instances\":[    \n",
    "        {\"instance\": Basic, \"method\": ['drop_duplicated'], \"params\": False},\n",
    "        {\"instance\": Country, \"method\": ['country','city'], \"params\": res},\n",
    "        {\"instance\": Inquiry, \"method\": [\"_all\"], \"params\": False},\n",
    "        {\"instance\": ProductCategory, \"method\": [\"_all\"], \"params\": False},\n",
    "]\n",
    "}\n",
    "\n",
    "def main(data,**kwargs):\n",
    "    df = kwargs.get(data)\n",
    "    for value in kwargs[\"Instances\"]:\n",
    "        instance = value.get(\"instance\")\n",
    "        if param := value[\"params\"]:\n",
    "            instance = instance(param)\n",
    "        else:\n",
    "            instance = instance()\n",
    "\n",
    "        df = instance._all(df, value.get(\"method\"))\n",
    "    return df"
   ]
  },
  {
   "cell_type": "code",
   "execution_count": 78,
   "id": "a63d30a5",
   "metadata": {
    "scrolled": true
   },
   "outputs": [],
   "source": [
    "df_train = main('Train',**runtime_instance)\n",
    "df_test = main('Test',**runtime_instance)"
   ]
  },
  {
   "cell_type": "markdown",
   "id": "e08c93b6",
   "metadata": {},
   "source": [
    "# Modeling"
   ]
  },
  {
   "cell_type": "code",
   "execution_count": 63,
   "id": "40b192eb",
   "metadata": {},
   "outputs": [],
   "source": [
    "from sklearn.preprocessing import LabelEncoder\n",
    "\n",
    "def label_encoding(series: pd.Series) -> pd.Series:\n",
    "    \"\"\"범주형 데이터를 시리즈 형태로 받아 숫자형 데이터로 변환합니다.\"\"\"\n",
    "\n",
    "    my_dict = {}\n",
    "\n",
    "    # 모든 요소를 문자열로 변환\n",
    "    series = series.astype(str)\n",
    "\n",
    "    for idx, value in enumerate(sorted(series.unique())):\n",
    "        my_dict[value] = idx\n",
    "    series = series.map(my_dict)\n",
    "\n",
    "    return series\n",
    "\n",
    "\n",
    "# 레이블 인코딩할 칼럼들\n",
    "label_columns = [\n",
    "    \"customer_country\",\n",
    "    \"business_subarea\",\n",
    "    \"business_area\",\n",
    "    \"business_unit\",\n",
    "    \"customer_type\",\n",
    "    \"enterprise\",\n",
    "    \"customer_job\",\n",
    "    \"inquiry_type\",\n",
    "    \"product_category\",\n",
    "    \"product_subcategory\",\n",
    "    \"product_modelname\",\n",
    "    \"customer_position\",\n",
    "    \"response_corporate\",\n",
    "    \"expected_timeline\",\n",
    "    \"country\",\n",
    "    \"city\",\n",
    "    \"new_inquiry_type\",\n",
    "    \"new_expected_timeline\"\n",
    "]\n",
    "\n",
    "\n",
    "\n",
    "\n",
    "df_all = pd.concat([df_train[label_columns], df_test[label_columns]])\n",
    "\n",
    "for col in label_columns:\n",
    "    df_all[col] = label_encoding(df_all[col])\n",
    "\n",
    "for col in label_columns:\n",
    "    df_train[col] = df_all.iloc[: len(df_train)][col]\n",
    "    df_test[col] = df_all.iloc[len(df_train) :][col]\n",
    "\n",
    "drop_columns=['com_reg_ver_win_rate', 'id_strategic_ver', 'idit_strategic_ver', 'it_strategic_ver', 'ver_cus', 'ver_pro', 'ver_win_rate_x','customer_country.1', 'ver_win_ratio_per_bu']\n",
    "drop_new = ['inquiry_type','expected_timeline']#,,'customer_country']\n",
    "for i in drop_new:\n",
    "    drop_columns.append(i)\n",
    "\n",
    "\n",
    "df_train = df_train.drop(columns=drop_columns)\n",
    "df_test=df_test.drop(columns=drop_columns)\n",
    "df_train = df_train.fillna(0)\n",
    "df_test = df_test.fillna(0)"
   ]
  },
  {
   "cell_type": "code",
   "execution_count": 64,
   "id": "591e52a4",
   "metadata": {},
   "outputs": [],
   "source": [
    "df_train = df_train[['customer_idx','lead_owner','response_corporate','lead_desc_length','customer_country','customer_type','business_area','product_category','business_unit',\"new_inquiry_type\",\"new_expected_timeline\",'customer_interest','is_converted']]\n",
    "df_test = df_test[['id','customer_idx','lead_owner','response_corporate','lead_desc_length','customer_country','customer_type','business_area','product_category','business_unit',\"new_inquiry_type\",\"new_expected_timeline\",'customer_interest','is_converted']]"
   ]
  },
  {
   "cell_type": "code",
   "execution_count": 65,
   "id": "4eccb5b0",
   "metadata": {},
   "outputs": [],
   "source": [
    "model = _model.xgboost"
   ]
  },
  {
   "cell_type": "code",
   "execution_count": 66,
   "id": "c14a6274",
   "metadata": {},
   "outputs": [],
   "source": [
    "X = df_train.drop([\"is_converted\"],axis = 1)\n",
    "Y = df_train['is_converted']"
   ]
  },
  {
   "cell_type": "code",
   "execution_count": 80,
   "id": "574176fe",
   "metadata": {},
   "outputs": [],
   "source": [
    "from sklearn.metrics import precision_score, recall_score, f1_score, roc_auc_score"
   ]
  },
  {
   "cell_type": "code",
   "execution_count": 81,
   "id": "32fae0f3",
   "metadata": {},
   "outputs": [
    {
     "name": "stderr",
     "output_type": "stream",
     "text": [
      "1it [00:00,  2.36it/s]"
     ]
    },
    {
     "name": "stdout",
     "output_type": "stream",
     "text": [
      "[SC] 0.8131997642899235 0.8926261319534282 0.7467532467532467\n"
     ]
    },
    {
     "name": "stderr",
     "output_type": "stream",
     "text": [
      "2it [00:00,  2.69it/s]"
     ]
    },
    {
     "name": "stdout",
     "output_type": "stream",
     "text": [
      "[SC] 0.7908927501497902 0.8859060402684564 0.7142857142857143\n"
     ]
    },
    {
     "name": "stderr",
     "output_type": "stream",
     "text": [
      "3it [00:01,  3.04it/s]"
     ]
    },
    {
     "name": "stdout",
     "output_type": "stream",
     "text": [
      "[SC] 0.8038392321535692 0.901749663526245 0.7251082251082251\n"
     ]
    },
    {
     "name": "stderr",
     "output_type": "stream",
     "text": [
      "4it [00:01,  3.22it/s]"
     ]
    },
    {
     "name": "stdout",
     "output_type": "stream",
     "text": [
      "[SC] 0.8035820895522389 0.8961384820239681 0.7283549783549783\n"
     ]
    },
    {
     "name": "stderr",
     "output_type": "stream",
     "text": [
      "5it [00:01,  3.09it/s]"
     ]
    },
    {
     "name": "stdout",
     "output_type": "stream",
     "text": [
      "[SC] 0.8123883263847529 0.9033112582781457 0.7380952380952381\n",
      "----[K-Fold Train Score]-----\n",
      "f1 score : 0.9605 / STD: (+/- 0.0017)\n",
      "precision score : 0.9406 / STD: (+/- 0.0026)\n",
      "recall score : 0.9827 / STD: (+/- 0.0013)\n",
      "----[K-Fold Validation Score]-----\n",
      "f1 score : 0.8945 / STD: (+/- 0.0043)\n",
      "precision score : 0.8614 / STD: (+/- 0.0056)\n",
      "recall score : 0.9360 / STD: (+/- 0.0034)\n"
     ]
    },
    {
     "name": "stderr",
     "output_type": "stream",
     "text": [
      "\n"
     ]
    }
   ],
   "source": [
    "from sklearn.model_selection import StratifiedKFold\n",
    "stratkfold = StratifiedKFold(n_splits=5, shuffle=True, random_state=42)\n",
    "result = {\"f1\":[], \"precision\":[], \"recall\":[]}\n",
    "train_result = {\"f1\":[], \"precision\":[], \"recall\":[]}\n",
    "\n",
    "# k-fold\n",
    "for train_idx, test_idx in tqdm(stratkfold.split(X,Y)):\n",
    "    x_train, x_test = X.iloc[train_idx], X.iloc[test_idx]\n",
    "    y_train, y_test = Y[train_idx], Y[test_idx]\n",
    "\n",
    "    # 모델 훈련\n",
    "    model.fit(x_train, y_train)\n",
    "    \n",
    "    train_pred = model.predict(x_train)\n",
    "    predict = model.predict(x_test)\n",
    "    \n",
    "    score_result = check_the_score(train_pred, y_train)\n",
    "    for name, score in score_result.items():\n",
    "        train_result[name].append(score)\n",
    "        \n",
    "    score_result = check_the_score(predict, y_test)\n",
    "    for name, score in score_result.items():\n",
    "        result[name].append(score)\n",
    "        \n",
    "print('----[K-Fold Train Score]-----')\n",
    "for name, score_list in train_result.items():\n",
    "    print(f'{name} score : {np.mean(score_list):.4f} / STD: (+/- {np.std(score_list):.4f})')\n",
    "    \n",
    "print('----[K-Fold Validation Score]-----')\n",
    "for name, score_list in result.items():\n",
    "    print(f'{name} score : {np.mean(score_list):.4f} / STD: (+/- {np.std(score_list):.4f})')"
   ]
  },
  {
   "cell_type": "code",
   "execution_count": null,
   "id": "3fa68789",
   "metadata": {},
   "outputs": [],
   "source": [
    "[[10810    79]\n",
    " [  252   718]]\n",
    "[SC] 0.8126768534238824\n",
    "----[K-Fold Train Score]-----\n",
    "f1 score : 0.9604 / STD: (+/- 0.0024)\n",
    "precision score : 0.9400 / STD: (+/- 0.0035)\n",
    "recall score : 0.9832 / STD: (+/- 0.0012)\n",
    "----[K-Fold Validation Score]-----\n",
    "f1 score : 0.8944 / STD: (+/- 0.0035)\n",
    "precision score : 0.8600 / STD: (+/- 0.0053)\n",
    "recall score : 0.9381 / STD: (+/- 0.0026)\n"
   ]
  },
  {
   "cell_type": "code",
   "execution_count": null,
   "id": "56fb1062",
   "metadata": {},
   "outputs": [],
   "source": []
  },
  {
   "cell_type": "code",
   "execution_count": null,
   "id": "14d6b195",
   "metadata": {},
   "outputs": [],
   "source": []
  },
  {
   "cell_type": "code",
   "execution_count": null,
   "id": "9d5688b3",
   "metadata": {},
   "outputs": [],
   "source": []
  },
  {
   "cell_type": "code",
   "execution_count": 41,
   "id": "93d7019c",
   "metadata": {},
   "outputs": [],
   "source": [
    "s = df_test.drop(['id','is_converted'],axis = 1)"
   ]
  },
  {
   "cell_type": "code",
   "execution_count": 42,
   "id": "05379c6c",
   "metadata": {},
   "outputs": [],
   "source": [
    "pred = model.predict(s)"
   ]
  },
  {
   "cell_type": "code",
   "execution_count": 46,
   "id": "c8b3c4ab",
   "metadata": {},
   "outputs": [],
   "source": [
    "df_test['is_converted'] = pred"
   ]
  },
  {
   "cell_type": "code",
   "execution_count": 371,
   "id": "789017b4",
   "metadata": {},
   "outputs": [],
   "source": [
    "df_test.to_csv(\"submission.csv\",index = False)"
   ]
  },
  {
   "cell_type": "code",
   "execution_count": 47,
   "id": "dfe75075",
   "metadata": {},
   "outputs": [
    {
     "data": {
      "text/plain": [
       "is_converted\n",
       "0    4921\n",
       "1     350\n",
       "Name: count, dtype: int64"
      ]
     },
     "execution_count": 47,
     "metadata": {},
     "output_type": "execute_result"
    }
   ],
   "source": [
    "df_test['is_converted'].value_counts()"
   ]
  },
  {
   "cell_type": "code",
   "execution_count": 48,
   "id": "019b6801",
   "metadata": {},
   "outputs": [
    {
     "data": {
      "text/plain": [
       "0       0\n",
       "1       1\n",
       "2       0\n",
       "3       0\n",
       "4       0\n",
       "       ..\n",
       "5266    0\n",
       "5267    1\n",
       "5268    0\n",
       "5269    0\n",
       "5270    0\n",
       "Name: is_converted, Length: 5271, dtype: int64"
      ]
     },
     "execution_count": 48,
     "metadata": {},
     "output_type": "execute_result"
    }
   ],
   "source": [
    "df_test['is_converted']"
   ]
  },
  {
   "cell_type": "code",
   "execution_count": null,
   "id": "44d4a223",
   "metadata": {},
   "outputs": [],
   "source": []
  },
  {
   "cell_type": "code",
   "execution_count": null,
   "id": "c18ed9c8",
   "metadata": {},
   "outputs": [],
   "source": []
  }
 ],
 "metadata": {
  "kernelspec": {
   "display_name": "Python 3 (ipykernel)",
   "language": "python",
   "name": "python3"
  },
  "language_info": {
   "codemirror_mode": {
    "name": "ipython",
    "version": 3
   },
   "file_extension": ".py",
   "mimetype": "text/x-python",
   "name": "python",
   "nbconvert_exporter": "python",
   "pygments_lexer": "ipython3",
   "version": "3.11.5"
  }
 },
 "nbformat": 4,
 "nbformat_minor": 5
}

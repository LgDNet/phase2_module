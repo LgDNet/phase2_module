{
 "cells": [
  {
   "cell_type": "code",
   "execution_count": 117,
   "id": "db275d8b",
   "metadata": {
    "collapsed": true,
    "jupyter": {
     "outputs_hidden": true
    }
   },
   "outputs": [
    {
     "name": "stdout",
     "output_type": "stream",
     "text": [
      "Cloning into 'phase2_module'...\n",
      "remote: Enumerating objects: 115, done.\u001b[K\n",
      "remote: Counting objects: 100% (115/115), done.\u001b[K\n",
      "remote: Compressing objects: 100% (76/76), done.\u001b[K\n",
      "remote: Total 115 (delta 44), reused 96 (delta 28), pack-reused 0\u001b[K\n",
      "Receiving objects: 100% (115/115), 1.10 MiB | 5.05 MiB/s, done.\n",
      "Resolving deltas: 100% (44/44), done.\n",
      "sh ./scripts/copy_data\n"
     ]
    }
   ],
   "source": [
    "# %rm -rf phase2_module\n",
    "# !git clone https://github.com/LgDNet/phase2_module.git\n",
    "# !cd phase2_module && make copy"
   ]
  },
  {
   "cell_type": "code",
   "execution_count": 85,
   "id": "d1148052",
   "metadata": {},
   "outputs": [],
   "source": [
    "from phase2_module.data.load import Data\n",
    "from phase2_module.src.models.classification.models import Model\n",
    "from phase2_module.src.base import BasePiepline\n",
    "# from phase2_module.src.hyper_parameters.params_optimization import xgboost_opt, set_params_optimization_data\n",
    "from phase2_module.src.utils.set_seed import seed_everything\n",
    "from phase2_module.src.utils.top_score_instance import check_the_score\n",
    "seed_everything()  # NOTE: default 42\n",
    "_model = Model()"
   ]
  },
  {
   "cell_type": "code",
   "execution_count": 86,
   "id": "7a70301f",
   "metadata": {},
   "outputs": [],
   "source": [
    "import pandas as pd\n",
    "import numpy as np\n",
    "import re, pickle\n",
    "import warnings\n",
    "from tqdm import tqdm\n",
    "warnings.filterwarnings(action='ignore')"
   ]
  },
  {
   "cell_type": "markdown",
   "id": "cd7808f8",
   "metadata": {},
   "source": [
    "# Preprocessing"
   ]
  },
  {
   "cell_type": "code",
   "execution_count": 87,
   "id": "a5297cfb",
   "metadata": {},
   "outputs": [],
   "source": [
    "class Basic:\n",
    "    def __init__(self):\n",
    "        pass\n",
    "    \n",
    "    def drop_columns(self,df):\n",
    "        pass\n",
    "    \n",
    "    def drop_duplicated(self,df):\n",
    "        df = df.drop_duplicates()\n",
    "        df.reset_index(drop = True, inplace= True)\n",
    "        return df\n",
    "    \n",
    "    def _all(self,df, module_list):\n",
    "        if not module_list:\n",
    "            raise ValueError(\"Not used modules\")\n",
    "        \n",
    "        if not isinstance(module_list, list):\n",
    "            module_list = [module_list]\n",
    "        \n",
    "        for module in module_list:\n",
    "            method = getattr(self, module)\n",
    "\n",
    "            df = method(df)\n",
    "            \n",
    "        return df"
   ]
  },
  {
   "cell_type": "code",
   "execution_count": 88,
   "id": "18cdc7d8",
   "metadata": {},
   "outputs": [],
   "source": [
    "class Inquiry:\n",
    "    def __init__(self):\n",
    "        self.inquiry_type = {}\n",
    "\n",
    "        consulation = {\n",
    "            \"Quotation\": \"Quotation or Purchase Consultation\",  # 견적 또는 구매 상담\n",
    "            \"Sales\": \"Quotation or Purchase Consultation\",\n",
    "            \"Product\": \"Quotation or Purchase Consultation\",\n",
    "            \"Purchase\": \"Quotation or Purchase Consultation\",\n",
    "            \"Event\": \"Quotation or Purchase Consultation\",\n",
    "            \"Partner\": \"Quotation or Purchase Consultation\",\n",
    "        }\n",
    "\n",
    "        demo = {\n",
    "            \"Demo\": \"Request a Demo\",  # 데모 요청하기\n",
    "        }\n",
    "\n",
    "        oem_odm = {\n",
    "            \"Oem\": \"OEM/ODM Request\",\n",
    "            \"Odm\": \"OEM/ODM Request\",\n",
    "        }\n",
    "\n",
    "        technic = {\n",
    "            \"Usage\": \"Usage or Technical Consultation\",  # 사용 또는 기술 상담\n",
    "            \"Technical\": \"Usage or Technical Consultation\",\n",
    "            \"Trainings\": \"Usage or Technical Consultation\",\n",
    "            \"Services\": \"Usage or Technical Consultation\",\n",
    "            \"Suggestions\": \"Usage or Technical Consultation\",\n",
    "        }\n",
    "\n",
    "\n",
    "        distributorship = {\n",
    "            \"Distributorship\": \"Request for Distributorship\",  # 대리점에 요청\n",
    "        }\n",
    "\n",
    "\n",
    "        others = {\n",
    "            \"Other\": \"Other\",\n",
    "            \"Etc\": \"Other\",\n",
    "        }\n",
    "\n",
    "        self.inquiry_category = [consulation, demo, oem_odm, technic, distributorship, others]\n",
    "\n",
    "        for category in self.inquiry_category:\n",
    "            self.inquiry_type.update(category)\n",
    "            \n",
    "        self.start_patterns = [re.compile(f\"(?i)^{i}\") for i in self.inquiry_type.keys()]\n",
    "        self.exists_patterns = [re.compile(f\"(?i){i}\") for i in self.inquiry_type.keys()]\n",
    "        \n",
    "        self.expected_timeline_dict = {\n",
    "            \"Follow\": \"Follow up\",\n",
    "            \"Already\": \"Follow up\",\n",
    "            \"Respond\": \"No Response\",\n",
    "            \"Response\": \"No Response\",\n",
    "            \"Required\": \"No Response\",\n",
    "            \"Requirement\": \"No Response\",\n",
    "            \"Budget\": \"Budget Issue\",\n",
    "            \"Interest\": \"Not Interest\",\n",
    "        }\n",
    "        self.expected_timeline_exists_patterns = [re.compile(f\"(?i){i}\") for i in self.expected_timeline_dict.keys()]\n",
    "        \n",
    "        self.categories = ['Less than 3 Months', '3 months ~ 6 months', 'more than a year', '9 months ~ 1 year', '6 months ~ 9 months', 'Follow up', '3 Months ~ 6 Months', 'No Response', 'Budget Issue', 'Not Interest', \"Space\"]\n",
    "        \n",
    "        \n",
    "    def fill(self,df):\n",
    "        df[\"inquiry_type\"].fillna(\"-\", inplace=True)\n",
    "        return df\n",
    "        \n",
    "\n",
    "    def new_inquiry_type(self, old_inquiry_type):\n",
    "        for pattern in self.start_patterns:\n",
    "            find = pattern.search(old_inquiry_type.strip())\n",
    "            if find:\n",
    "                return self.inquiry_type.get(find.group().capitalize())\n",
    "        return \"Other\"\n",
    "\n",
    "\n",
    "    def retry_unknown_value_mapping(self, new_inquiry_type, old_inquiry_type):\n",
    "        if new_inquiry_type == \"Other\":\n",
    "            for pattern in self.exists_patterns:\n",
    "                find = pattern.search(old_inquiry_type.strip())\n",
    "                if find:\n",
    "                    return self.inquiry_type.get(find.group().capitalize())\n",
    "            return \"-\"\n",
    "\n",
    "        return new_inquiry_type\n",
    "    \n",
    "    def convert_timeline_in_tilda(self, timeline):\n",
    "        if \"~\" in timeline:\n",
    "            timeline = timeline.replace(\"_\", \" \")\n",
    "            split_timeline = timeline.split(\"~\")\n",
    "            return split_timeline[0].strip() + \" ~ \" + split_timeline[1].strip()\n",
    "        return timeline\n",
    "\n",
    "    def less_value_categorial(self,timeline):\n",
    "        find = None\n",
    "        numeric_value = None\n",
    "        scope = {\n",
    "            \"3\": \"Less than 3 Months\",\n",
    "            \"6\": \"3 Months ~ 6 Months\",\n",
    "            \"9\": \"6 Months ~ 9 Months\",\n",
    "        }\n",
    "\n",
    "        numeric_pattern = re.compile(\"\\d\")  # NOTE: less 다음에 오는 숫자 데이터 추출\n",
    "        if \"less\" in timeline:\n",
    "            less_index = timeline.index(\"less\")\n",
    "            find = re.search(r'\\d{1,2}', timeline[less_index:])\n",
    "        if find:\n",
    "            numeric_value = find.group()\n",
    "\n",
    "            for k,v in scope.items():\n",
    "                if int(numeric_value) <= int(k):\n",
    "                    return v\n",
    "        return timeline\n",
    "\n",
    "    def more_value_categorial(self,timeline):\n",
    "        find = None\n",
    "        numeric_value = None\n",
    "        scope = {\n",
    "            \"9\": \"More than a year\",\n",
    "            \"6\": \"6 Months ~ 9 Months\",\n",
    "            \"3\": \"3 Months ~ 6 Months\",\n",
    "            \"0\": \"Less than 3 Months\",\n",
    "        }\n",
    "\n",
    "        numeric_pattern = re.compile(\"\\d\")  # NOTE: less 문구의 숫자 데이터 추출\n",
    "        if \"more\" in timeline:\n",
    "            more_index = timeline.index(\"more\")\n",
    "            find = re.search(r'\\d{1,2}', timeline[more_index:])\n",
    "\n",
    "\n",
    "        if find:\n",
    "            numeric_value = find.group()\n",
    "\n",
    "            for k,v in scope.items():\n",
    "                if int(numeric_value) >= int(k):\n",
    "                    return v\n",
    "        return timeline.replace(\"_\", \" \")\n",
    "    \n",
    "    def timeline_retry_unknown_value_mapping(self, new_expected_timeline):\n",
    "        for pattern in self.expected_timeline_exists_patterns:\n",
    "            find = pattern.search(new_expected_timeline.strip())\n",
    "            if find:\n",
    "                return self.expected_timeline_dict.get(find.group().capitalize())\n",
    "\n",
    "        return new_expected_timeline\n",
    "    \n",
    "\n",
    "    def _all(self,df, module_list = None):\n",
    "        df = self.fill(df)\n",
    "        df[\"new_inquiry_type\"] = df[\"inquiry_type\"].apply(self.new_inquiry_type)\n",
    "        df[\"new_inquiry_type\"] = df.apply(lambda row: self.retry_unknown_value_mapping(row[\"new_inquiry_type\"], row[\"inquiry_type\"]), axis=1)\n",
    "\n",
    "        df.loc[df[\"new_inquiry_type\"] == \"-\", \"new_inquiry_type\"] = \"Other\"\n",
    "        df[\"expected_timeline\"].fillna(\"Space\", inplace=True)\n",
    "\n",
    "        df[\"new_expected_timeline\"] = df[\"expected_timeline\"].apply(self.convert_timeline_in_tilda)\n",
    "\n",
    "        df[\"new_expected_timeline\"] = df[\"new_expected_timeline\"].apply(self.less_value_categorial)\n",
    "        df[\"new_expected_timeline\"] = df[\"new_expected_timeline\"].apply(self.more_value_categorial)\n",
    "\n",
    "        df[\"new_expected_timeline\"] = df[\"new_expected_timeline\"].apply(self.timeline_retry_unknown_value_mapping)\n",
    "\n",
    "\n",
    "        df[\"new_expected_timeline\"] = df['new_expected_timeline'].where(df['new_expected_timeline'].isin(self.categories), 'Unknown')\n",
    "        \n",
    "        return df"
   ]
  },
  {
   "cell_type": "code",
   "execution_count": 89,
   "id": "4fbeffc4",
   "metadata": {},
   "outputs": [],
   "source": [
    "class Country:\n",
    "    def __init__(self, pkl):\n",
    "        self.area = {'anguilla':'united kingdom',\n",
    "                'br':'none',\n",
    "                'a':'none',\n",
    "                'nd':'none',\n",
    "                'ny':'none',\n",
    "                'rj':'none',\n",
    "                'us':'united states',\n",
    "                'ca':'none',\n",
    "                'kerela':'india',\n",
    "                'pune':'india',\n",
    "                'colombia - cartagena':'colombia',\n",
    "                'country':'none'}\n",
    "        self.pkl = pkl\n",
    "        \n",
    "    def country(self,df):\n",
    "        \"\"\" 나라 컬럼 생성\"\"\"\n",
    "        \n",
    "        # 담당 자사 법인 맵핑\n",
    "        df['response_corporate2'] = df['response_corporate'].map(self.pkl)\n",
    "\n",
    "        df['customer_country'] = df['customer_country'].str.lower().str.strip()\n",
    "        df['response_corporate2'] = df['response_corporate2'].str.lower().str.strip()\n",
    "\n",
    "        # 정규표현식으로 나라만 거르기\n",
    "        df.loc[:,\"country\"] = df[\"customer_country\"].str.extract(r'/([^/]+)$')[0]\n",
    "        df['country'] = df['country'].str.strip()\n",
    "\n",
    "        # 숫자 포함 -> none으로 변경 및 결측치 채우기\n",
    "        df['country'] = df['country'].apply(lambda x: 'none' if re.search(r'\\d', str(x)) else x)\n",
    "        df['country'].fillna('none',axis = 0, inplace = True)\n",
    "\n",
    "        # 이상한 수치 채우기\n",
    "        for i,j in self.area.items():\n",
    "            idx = df[df['country']==i].index\n",
    "            if len(idx):\n",
    "                df.loc[idx,'country'] = j\n",
    "        # none 결측치 채우기\n",
    "        cond = df['country'] =='none'\n",
    "        df.loc[cond,'country'] = df[cond]['response_corporate2']\n",
    "        return df\n",
    "\n",
    "    def city(self, df):\n",
    "        # 도시만 뽑기\n",
    "        df['city'] = df['customer_country'].str.split('/').str[-2]\n",
    "        df['city'] = df['city'].str.strip()\n",
    "\n",
    "        # others 처리\n",
    "        cond = df['city'] ==''\n",
    "        df.loc[cond,'city'] = 'others'\n",
    "\n",
    "        # 결측치 채우기\n",
    "        df['city'].fillna('others',axis = 0, inplace = True)\n",
    "\n",
    "        return df\n",
    "\n",
    "    def _all(self,df, module_list):\n",
    "        if not module_list:\n",
    "            raise ValueError(\"Not used modules\")\n",
    "        \n",
    "        if not isinstance(module_list, list):\n",
    "            module_list = [module_list]\n",
    "        \n",
    "        for module in module_list:\n",
    "            method = getattr(self, module)\n",
    "\n",
    "            df = method(df)\n",
    "            \n",
    "        return df"
   ]
  },
  {
   "cell_type": "code",
   "execution_count": 90,
   "id": "de40e78a",
   "metadata": {},
   "outputs": [],
   "source": [
    "class ProductCategory:\n",
    "    def __init__(self):\n",
    "        pass\n",
    "    \n",
    "    def label_rows(self,df):\n",
    "        if df['product_modelname'] is np.nan and df['product_subcategory'] is np.nan and df['product_category'] is np.nan:\n",
    "            return 8\n",
    "        elif df['product_modelname'] is np.nan and df['product_subcategory'] is np.nan:\n",
    "            return 7\n",
    "        elif df['product_modelname'] is np.nan and df['product_category'] is np.nan:\n",
    "            return 6\n",
    "        elif df['product_subcategory'] is np.nan and df['product_category'] is np.nan:\n",
    "            return 5\n",
    "        elif df['product_modelname'] is np.nan:\n",
    "            return 4\n",
    "        elif df['product_subcategory'] is np.nan:\n",
    "            return 3\n",
    "        elif df['product_category'] is np.nan:\n",
    "            return 2\n",
    "        else:\n",
    "            return 1\n",
    "        \n",
    "    def _all(self,df, module_list: list):\n",
    "        df['customer_interest'] = df.apply(lambda row: self.label_rows(row), axis=1)\n",
    "        return df"
   ]
  },
  {
   "cell_type": "markdown",
   "id": "f710021d",
   "metadata": {},
   "source": [
    "# Main"
   ]
  },
  {
   "cell_type": "markdown",
   "id": "79c633ed",
   "metadata": {},
   "source": [
    "## preprocessing"
   ]
  },
  {
   "cell_type": "code",
   "execution_count": 91,
   "id": "8103f4d8",
   "metadata": {},
   "outputs": [],
   "source": [
    "with open('./phase2_module/preprocessing_gy/response_corporate.pkl','rb') as f:\n",
    "    res = pickle.load(f)"
   ]
  },
  {
   "cell_type": "code",
   "execution_count": 92,
   "id": "eca1ac33",
   "metadata": {},
   "outputs": [],
   "source": [
    "runtime_instance = {\n",
    "    \"Train\": Data.train,\n",
    "    \"Test\": Data.test,\n",
    "    \"Instances\":[    \n",
    "        {\"instance\": Basic, \"method\": ['drop_duplicated'], \"params\": False},\n",
    "        {\"instance\": Country, \"method\": ['country','city'], \"params\": res},\n",
    "        {\"instance\": Inquiry, \"method\": [\"_all\"], \"params\": False},\n",
    "        {\"instance\": ProductCategory, \"method\": [\"_all\"], \"params\": False},\n",
    "]\n",
    "}\n",
    "\n",
    "def main(data,**kwargs):\n",
    "    df = kwargs.get(data)\n",
    "    for value in kwargs[\"Instances\"]:\n",
    "        instance = value.get(\"instance\")\n",
    "        if param := value[\"params\"]:\n",
    "            instance = instance(param)\n",
    "        else:\n",
    "            instance = instance()\n",
    "\n",
    "        df = instance._all(df, value.get(\"method\"))\n",
    "    return df"
   ]
  },
  {
   "cell_type": "code",
   "execution_count": 93,
   "id": "a63d30a5",
   "metadata": {
    "scrolled": true
   },
   "outputs": [],
   "source": [
    "df_train = main('Train',**runtime_instance)\n",
    "df_test = main('Test',**runtime_instance)"
   ]
  },
  {
   "cell_type": "markdown",
   "id": "40dfb840",
   "metadata": {},
   "source": [
    "## encoding"
   ]
  },
  {
   "cell_type": "code",
   "execution_count": 94,
   "id": "435d7aef",
   "metadata": {},
   "outputs": [],
   "source": [
    "from sklearn.preprocessing import LabelEncoder\n",
    "class Encode:\n",
    "    def __init__(self):\n",
    "        pass\n",
    "    def label_encoder(self,df,columns):\n",
    "        if not encoding_zip['label']:\n",
    "            for col in columns: # train\n",
    "                encoder = LabelEncoder()\n",
    "                df.loc[:,col] = encoder.fit_transform(df[col])\n",
    "                # 인코더 저장\n",
    "                encoding_zip['label'].append(encoder)\n",
    "        else: # test\n",
    "            for idx, col in enumerate(columns):\n",
    "                encoder = encoding_zip['label'][idx]\n",
    "                # 변환\n",
    "                df.loc[:,col] = encoder.transform(df[col])\n",
    "        return df"
   ]
  },
  {
   "cell_type": "code",
   "execution_count": 95,
   "id": "d752b5e9",
   "metadata": {},
   "outputs": [],
   "source": [
    "encode = Encode()\n",
    "encoding_zip = {\"label\":[], \"onehot\":[]}"
   ]
  },
  {
   "cell_type": "code",
   "execution_count": 96,
   "id": "71a2bd3a",
   "metadata": {},
   "outputs": [],
   "source": [
    "# \"customer_country\", \"country\", \"city\"\n",
    "label_encode_columns = [\"business_subarea\", \"business_area\", \"business_unit\",\n",
    "                        \"customer_type\", \"enterprise\", \"customer_job\", \"inquiry_type\", \"product_category\",\n",
    "                        \"product_subcategory\", \"product_modelname\", \"customer_position\", \"response_corporate\",\n",
    "                        \"expected_timeline\", \"new_inquiry_type\", \"new_expected_timeline\"\n",
    "                        ]\n",
    "label_encode_columns = [\"new_inquiry_type\", \"new_expected_timeline\"]"
   ]
  },
  {
   "cell_type": "code",
   "execution_count": 97,
   "id": "8f5fd6e5",
   "metadata": {},
   "outputs": [],
   "source": [
    "df_trian = encode.label_encoder(df_train,label_encode_columns)\n",
    "df_test = encode.label_encoder(df_test,label_encode_columns)"
   ]
  },
  {
   "cell_type": "markdown",
   "id": "e08c93b6",
   "metadata": {},
   "source": [
    "# Modeling"
   ]
  },
  {
   "cell_type": "markdown",
   "id": "a699e575",
   "metadata": {},
   "source": [
    "## drop column\n",
    "모델링 전이 column을 drop하면서 다루기가 쉽다고 판단하였음"
   ]
  },
  {
   "cell_type": "code",
   "execution_count": 98,
   "id": "40b192eb",
   "metadata": {},
   "outputs": [],
   "source": [
    "drop_columns=['com_reg_ver_win_rate', 'id_strategic_ver',\n",
    "              'idit_strategic_ver', 'it_strategic_ver',\n",
    "              'ver_cus', 'ver_pro', 'ver_win_rate_x',\n",
    "              'customer_country.1', 'ver_win_ratio_per_bu'] # 기존 뺄 컬럼\n",
    "drop_new = ['inquiry_type','expected_timeline']#,,'customer_country'] # 추가할 컬럼\n",
    "for i in drop_new:\n",
    "    drop_columns.append(i)\n",
    "\n",
    "\n",
    "df_train = df_train.drop(columns=drop_columns)\n",
    "df_test=df_test.drop(columns=drop_columns)\n",
    "\n",
    "# 나머지 결측치 채우기\n",
    "df_train = df_train.fillna(0)\n",
    "df_test = df_test.fillna(0)"
   ]
  },
  {
   "cell_type": "code",
   "execution_count": 15,
   "id": "591e52a4",
   "metadata": {},
   "outputs": [],
   "source": [
    "df_train = df_train[['customer_idx','lead_owner','response_corporate','lead_desc_length','customer_country','customer_type','business_area','product_category','business_unit',\"new_inquiry_type\",\"new_expected_timeline\",'customer_interest','is_converted']]\n",
    "df_test = df_test[['id','customer_idx','lead_owner','response_corporate','lead_desc_length','customer_country','customer_type','business_area','product_category','business_unit',\"new_inquiry_type\",\"new_expected_timeline\",'customer_interest','is_converted']]"
   ]
  },
  {
   "cell_type": "markdown",
   "id": "e899ee73",
   "metadata": {},
   "source": [
    "## train"
   ]
  },
  {
   "cell_type": "code",
   "execution_count": 16,
   "id": "4eccb5b0",
   "metadata": {},
   "outputs": [],
   "source": [
    "model = _model.xgboost"
   ]
  },
  {
   "cell_type": "code",
   "execution_count": 17,
   "id": "c14a6274",
   "metadata": {},
   "outputs": [],
   "source": [
    "X = df_train.drop([\"is_converted\"],axis = 1)\n",
    "Y = df_train['is_converted']"
   ]
  },
  {
   "cell_type": "code",
   "execution_count": 18,
   "id": "574176fe",
   "metadata": {},
   "outputs": [],
   "source": [
    "from sklearn.metrics import precision_score, recall_score, f1_score, roc_auc_score"
   ]
  },
  {
   "cell_type": "code",
   "execution_count": 19,
   "id": "32fae0f3",
   "metadata": {},
   "outputs": [
    {
     "name": "stderr",
     "output_type": "stream",
     "text": [
      "5it [00:01,  2.57it/s]"
     ]
    },
    {
     "name": "stdout",
     "output_type": "stream",
     "text": [
      "----[K-Fold Train Score]-----\n",
      "f1 score : 0.9272 / STD: (+/- 0.0031)\n",
      "precision score : 0.8832 / STD: (+/- 0.0052)\n",
      "recall score : 0.9759 / STD: (+/- 0.0025)\n",
      "----[K-Fold Validation Score]-----\n",
      "f1 score : 0.8048 / STD: (+/- 0.0080)\n",
      "precision score : 0.7305 / STD: (+/- 0.0111)\n",
      "recall score : 0.8959 / STD: (+/- 0.0063)\n"
     ]
    },
    {
     "name": "stderr",
     "output_type": "stream",
     "text": [
      "\n"
     ]
    }
   ],
   "source": [
    "from sklearn.model_selection import StratifiedKFold\n",
    "stratkfold = StratifiedKFold(n_splits=5, shuffle=True, random_state=42)\n",
    "result = {\"f1\":[], \"precision\":[], \"recall\":[]}\n",
    "train_result = {\"f1\":[], \"precision\":[], \"recall\":[]}\n",
    "\n",
    "# k-fold\n",
    "for train_idx, test_idx in tqdm(stratkfold.split(X,Y)):\n",
    "    x_train, x_test = X.iloc[train_idx], X.iloc[test_idx]\n",
    "    y_train, y_test = Y[train_idx], Y[test_idx]\n",
    "\n",
    "    # 모델 훈련\n",
    "    model.fit(x_train, y_train)\n",
    "    \n",
    "    train_pred = model.predict(x_train)\n",
    "    predict = model.predict(x_test)\n",
    "    \n",
    "    score_result = check_the_score(train_pred, y_train)\n",
    "    for name, score in score_result.items():\n",
    "        train_result[name].append(score)\n",
    "        \n",
    "    score_result = check_the_score(predict, y_test)\n",
    "    for name, score in score_result.items():\n",
    "        result[name].append(score)\n",
    "        \n",
    "print('----[K-Fold Train Score]-----')\n",
    "for name, score_list in train_result.items():\n",
    "    print(f'{name} score : {np.mean(score_list):.4f} / STD: (+/- {np.std(score_list):.4f})')\n",
    "    \n",
    "print('----[K-Fold Validation Score]-----')\n",
    "for name, score_list in result.items():\n",
    "    print(f'{name} score : {np.mean(score_list):.4f} / STD: (+/- {np.std(score_list):.4f})')"
   ]
  },
  {
   "cell_type": "markdown",
   "id": "e9c7d756",
   "metadata": {},
   "source": [
    "## test & submission"
   ]
  },
  {
   "cell_type": "code",
   "execution_count": 41,
   "id": "93d7019c",
   "metadata": {},
   "outputs": [],
   "source": [
    "s = df_test.drop(['id','is_converted'],axis = 1)"
   ]
  },
  {
   "cell_type": "code",
   "execution_count": 42,
   "id": "05379c6c",
   "metadata": {},
   "outputs": [],
   "source": [
    "pred = model.predict(s)"
   ]
  },
  {
   "cell_type": "code",
   "execution_count": 46,
   "id": "c8b3c4ab",
   "metadata": {},
   "outputs": [],
   "source": [
    "df_test['is_converted'] = pred"
   ]
  },
  {
   "cell_type": "code",
   "execution_count": 371,
   "id": "789017b4",
   "metadata": {},
   "outputs": [],
   "source": [
    "df_test.to_csv(\"submission.csv\",index = False)"
   ]
  },
  {
   "cell_type": "code",
   "execution_count": null,
   "id": "44d4a223",
   "metadata": {},
   "outputs": [],
   "source": []
  },
  {
   "cell_type": "code",
   "execution_count": null,
   "id": "c18ed9c8",
   "metadata": {},
   "outputs": [],
   "source": []
  }
 ],
 "metadata": {
  "kernelspec": {
   "display_name": "Python 3 (ipykernel)",
   "language": "python",
   "name": "python3"
  },
  "language_info": {
   "codemirror_mode": {
    "name": "ipython",
    "version": 3
   },
   "file_extension": ".py",
   "mimetype": "text/x-python",
   "name": "python",
   "nbconvert_exporter": "python",
   "pygments_lexer": "ipython3",
   "version": "3.11.5"
  }
 },
 "nbformat": 4,
 "nbformat_minor": 5
}
